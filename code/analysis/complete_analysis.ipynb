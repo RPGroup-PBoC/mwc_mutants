{
 "cells": [
  {
   "cell_type": "markdown",
   "metadata": {},
   "source": [
    "# Bayesian Parameter Estimation and Complete Analysis"
   ]
  },
  {
   "cell_type": "code",
   "execution_count": 141,
   "metadata": {},
   "outputs": [
    {
     "data": {
      "text/plain": [
       "ThemeRegistry.enable('pboc')"
      ]
     },
     "execution_count": 141,
     "metadata": {},
     "output_type": "execute_result"
    }
   ],
   "source": [
    "import sys\n",
    "import numpy as np\n",
    "import pandas as pd\n",
    "import pystan\n",
    "import altair as alt\n",
    "sys.path.insert(0, '../../')\n",
    "import mut.bayes\n",
    "import mut.stats\n",
    "import mut.thermo\n",
    "import mut.viz\n",
    "alt.themes.register('pboc', mut.viz.altair_config)\n",
    "alt.themes.enable('pboc')"
   ]
  },
  {
   "cell_type": "markdown",
   "metadata": {},
   "source": [
    "This notebook serves as a guide for the complete analysis of all collected data so far. Unless otherwise specified, parameters are taken as delta functions at their reported literature values. \n",
    "\n",
    "---"
   ]
  },
  {
   "cell_type": "markdown",
   "metadata": {},
   "source": [
    "##  Loading and cleaning of data\n",
    "Below, we load the total compiled data and split it into the three classes. We also trim the data to fitwithin realistic bounds accounting for some degree of homoscedastic error (i.e. fold-change between -0.2 and 1.2, assuming that measurement noise may bring us out of the physically restricted range of $\\in [0, 1]$."
   ]
  },
  {
   "cell_type": "code",
   "execution_count": 232,
   "metadata": {},
   "outputs": [],
   "source": [
    "# Load the data and restrict to physically reasonable bounds\n",
    "full_data = pd.read_csv('../../data/csv/compiled_data.csv')\n",
    "data = full_data[(full_data['fold_change'] >= -0.2) & \n",
    "                 (full_data['fold_change'] <= 1.2) & \n",
    "                 (full_data['operator']=='O2')]\n",
    "\n",
    "# Split the data into the appropriate classes\n",
    "DNA_data = data[data['class']=='DNA'].copy()\n",
    "IND_data = data[data['class']=='IND'].copy()\n",
    "DBL_data = data[data['class']=='DBL'].copy()\n",
    "WT_data = data[data['class']=='WT'].copy()\n",
    "\n",
    "# Compute the mean and standard deviations for each for simple plotting\n",
    "summarized_data = pd.DataFrame(data.groupby(['mutant', 'class', 'IPTGuM', \n",
    "                                  'repressors']).apply(mut.stats.compute_mean_sem)).reset_index()\n",
    "DNA_summ = summarized_data[summarized_data['class']=='DNA'].copy()\n",
    "IND_summ = summarized_data[summarized_data['class']=='IND'].copy()\n",
    "DBL_summ = summarized_data[summarized_data['class']=='DBL'].copy()\n",
    "WT_summ = summarized_data[summarized_data['class']=='WT'].copy()\n",
    "\n",
    "# Assign the experimental constants. \n",
    "constants = {'ep_AI':4.5, 'O2':-13.9, 'Nns':4.6E6, 'n_sites':2, 'ka':139, 'ki':0.53, 'RBS1027':260}"
   ]
  },
  {
   "cell_type": "markdown",
   "metadata": {},
   "source": [
    "# Part I: Naïve Model for DNA Binding Mutations - No Epistasis"
   ]
  },
  {
   "cell_type": "code",
   "execution_count": 233,
   "metadata": {},
   "outputs": [
    {
     "data": {
      "application/vnd.vegalite.v2+json": {
       "$schema": "https://vega.github.io/schema/vega-lite/v2.4.3.json",
       "config": {
        "axis": {
         "domain": false,
         "gridColor": "#ffffff",
         "gridOpacity": 0.75,
         "gridWidth": 1,
         "labelFont": "Lucida Sans Unicode",
         "tickColor": "#ffffff",
         "titleFont": "Lucida Sans Unicode",
         "titleFontWeight": "normal"
        },
        "legend": {
         "labelFont": "Lucida Sans Unicode",
         "titleFont": "Lucida Sans Unicode",
         "titleFontWeight": "normal"
        },
        "text": {
         "font": "Lucida Sans Unicode",
         "fontWeight": "normal"
        },
        "view": {
         "fill": "#E3DCD1"
        }
       },
       "hconcat": [
        {
         "layer": [
          {
           "data": {
            "values": [
             {
              "IPTGuM": 0,
              "class": "DNA",
              "mean": 0.8059885207312331,
              "mutant": "Q21A",
              "repressors": 60,
              "sem": 0.028259635121705
             },
             {
              "IPTGuM": 0,
              "class": "DNA",
              "mean": 0.6233115295016866,
              "mutant": "Q21A",
              "repressors": 124,
              "sem": 0.021349138160183634
             },
             {
              "IPTGuM": 0,
              "class": "DNA",
              "mean": 0.29004052955561327,
              "mutant": "Q21A",
              "repressors": 260,
              "sem": 0.021501034511915772
             },
             {
              "IPTGuM": 0,
              "class": "DNA",
              "mean": 0.11748931910504468,
              "mutant": "Q21A",
              "repressors": 1220,
              "sem": 0.01708808335890752
             },
             {
              "IPTGuM": 0,
              "class": "DNA",
              "mean": 0.008263119956909103,
              "mutant": "Q21M",
              "repressors": 60,
              "sem": 0.007373154573830163
             },
             {
              "IPTGuM": 0,
              "class": "DNA",
              "mean": 0.013616017886763986,
              "mutant": "Q21M",
              "repressors": 124,
              "sem": 0.005725555062700254
             },
             {
              "IPTGuM": 0,
              "class": "DNA",
              "mean": 0.00805969918693178,
              "mutant": "Q21M",
              "repressors": 260,
              "sem": 0.00417829901976761
             },
             {
              "IPTGuM": 0,
              "class": "DNA",
              "mean": 0.7879965017037772,
              "mutant": "Y20I",
              "repressors": 60,
              "sem": 0.017301634669149826
             },
             {
              "IPTGuM": 0,
              "class": "DNA",
              "mean": 0.764723663663446,
              "mutant": "Y20I",
              "repressors": 124,
              "sem": 0.04695629516088123
             },
             {
              "IPTGuM": 0,
              "class": "DNA",
              "mean": 0.5081181438267064,
              "mutant": "Y20I",
              "repressors": 260,
              "sem": 0.06247072510620809
             },
             {
              "IPTGuM": 0,
              "class": "DNA",
              "mean": 0.16284216442213886,
              "mutant": "Y20I",
              "repressors": 1220,
              "sem": 0.009394672594963094
             }
            ]
           },
           "encoding": {
            "color": {
             "field": "mutant",
             "type": "nominal"
            },
            "x": {
             "axis": {
              "title": "repressors per cell"
             },
             "field": "repressors",
             "scale": {
              "type": "log"
             },
             "type": "quantitative"
            },
            "y": {
             "axis": {
              "title": "fold-change"
             },
             "field": "mean",
             "scale": {
              "type": "log"
             },
             "type": "quantitative"
            }
           },
           "height": 300,
           "mark": "point",
           "selection": {
            "selector088": {
             "bind": "scales",
             "encodings": [
              "x",
              "y"
             ],
             "mark": {
              "fill": "#333",
              "fillOpacity": 0.125,
              "stroke": "white"
             },
             "on": "[mousedown, window:mouseup] > window:mousemove!",
             "resolve": "global",
             "translate": "[mousedown, window:mouseup] > window:mousemove!",
             "type": "interval",
             "zoom": "wheel!"
            }
           },
           "width": 300
          },
          {
           "data": {
            "values": [
             {
              "IPTGuM": 0,
              "class": "DNA",
              "mean": 0.8059885207312331,
              "mutant": "Q21A",
              "repressors": 60,
              "sem": 0.028259635121705
             },
             {
              "IPTGuM": 0,
              "class": "DNA",
              "mean": 0.6233115295016866,
              "mutant": "Q21A",
              "repressors": 124,
              "sem": 0.021349138160183634
             },
             {
              "IPTGuM": 0,
              "class": "DNA",
              "mean": 0.29004052955561327,
              "mutant": "Q21A",
              "repressors": 260,
              "sem": 0.021501034511915772
             },
             {
              "IPTGuM": 0,
              "class": "DNA",
              "mean": 0.11748931910504468,
              "mutant": "Q21A",
              "repressors": 1220,
              "sem": 0.01708808335890752
             },
             {
              "IPTGuM": 0,
              "class": "DNA",
              "mean": 0.008263119956909103,
              "mutant": "Q21M",
              "repressors": 60,
              "sem": 0.007373154573830163
             },
             {
              "IPTGuM": 0,
              "class": "DNA",
              "mean": 0.013616017886763986,
              "mutant": "Q21M",
              "repressors": 124,
              "sem": 0.005725555062700254
             },
             {
              "IPTGuM": 0,
              "class": "DNA",
              "mean": 0.00805969918693178,
              "mutant": "Q21M",
              "repressors": 260,
              "sem": 0.00417829901976761
             },
             {
              "IPTGuM": 0,
              "class": "DNA",
              "mean": 0.7879965017037772,
              "mutant": "Y20I",
              "repressors": 60,
              "sem": 0.017301634669149826
             },
             {
              "IPTGuM": 0,
              "class": "DNA",
              "mean": 0.764723663663446,
              "mutant": "Y20I",
              "repressors": 124,
              "sem": 0.04695629516088123
             },
             {
              "IPTGuM": 0,
              "class": "DNA",
              "mean": 0.5081181438267064,
              "mutant": "Y20I",
              "repressors": 260,
              "sem": 0.06247072510620809
             },
             {
              "IPTGuM": 0,
              "class": "DNA",
              "mean": 0.16284216442213886,
              "mutant": "Y20I",
              "repressors": 1220,
              "sem": 0.009394672594963094
             }
            ]
           },
           "encoding": {
            "color": {
             "field": "mutant",
             "type": "nominal"
            },
            "x": {
             "axis": {
              "title": "repressors per cell"
             },
             "field": "repressors",
             "scale": {
              "type": "log"
             },
             "type": "quantitative"
            },
            "y": {
             "field": "ymin",
             "type": "quantitative"
            },
            "y2": {
             "field": "ymax",
             "type": "quantitative"
            }
           },
           "height": 300,
           "mark": "rule",
           "transform": [
            {
             "as": "ymin",
             "calculate": "datum.mean - datum.sem"
            },
            {
             "as": "ymax",
             "calculate": "datum.mean + datum.sem"
            }
           ],
           "width": 300
          }
         ]
        },
        {
         "layer": [
          {
           "data": {
            "values": [
             {
              "IPTGuM": 0.1,
              "class": "DNA",
              "mean": 0.27615617355586064,
              "mutant": "Q21A",
              "repressors": 260,
              "sem": 0.0319152605935058
             },
             {
              "IPTGuM": 5,
              "class": "DNA",
              "mean": 0.4075398673029194,
              "mutant": "Q21A",
              "repressors": 260,
              "sem": 0.03455478396929079
             },
             {
              "IPTGuM": 10,
              "class": "DNA",
              "mean": 0.4891620321894136,
              "mutant": "Q21A",
              "repressors": 260,
              "sem": 0.040993870720052575
             },
             {
              "IPTGuM": 25,
              "class": "DNA",
              "mean": 0.7514638655818596,
              "mutant": "Q21A",
              "repressors": 260,
              "sem": 0.04838785957372424
             },
             {
              "IPTGuM": 50,
              "class": "DNA",
              "mean": 0.884438775413514,
              "mutant": "Q21A",
              "repressors": 260,
              "sem": 0.01631561324288036
             },
             {
              "IPTGuM": 75,
              "class": "DNA",
              "mean": 0.9730653247118922,
              "mutant": "Q21A",
              "repressors": 260,
              "sem": 0.03489800326115167
             },
             {
              "IPTGuM": 100,
              "class": "DNA",
              "mean": 0.948628671207226,
              "mutant": "Q21A",
              "repressors": 260,
              "sem": 0.01786369929444513
             },
             {
              "IPTGuM": 250,
              "class": "DNA",
              "mean": 1.0008515625147227,
              "mutant": "Q21A",
              "repressors": 260,
              "sem": 0.022725844776512055
             },
             {
              "IPTGuM": 500,
              "class": "DNA",
              "mean": 0.9762252566689505,
              "mutant": "Q21A",
              "repressors": 260,
              "sem": 0.018968381898989087
             },
             {
              "IPTGuM": 1000,
              "class": "DNA",
              "mean": 0.9607040499237259,
              "mutant": "Q21A",
              "repressors": 260,
              "sem": 0.03170751420065908
             },
             {
              "IPTGuM": 5000,
              "class": "DNA",
              "mean": 0.9610764090131955,
              "mutant": "Q21A",
              "repressors": 260,
              "sem": 0.034576471265323525
             },
             {
              "IPTGuM": 0.1,
              "class": "DNA",
              "mean": 0.011806323317141234,
              "mutant": "Q21M",
              "repressors": 260,
              "sem": 0.007504249076164513
             },
             {
              "IPTGuM": 5,
              "class": "DNA",
              "mean": 0.00886520911544844,
              "mutant": "Q21M",
              "repressors": 260,
              "sem": 0.003981152706300325
             },
             {
              "IPTGuM": 10,
              "class": "DNA",
              "mean": 0.009330889149894947,
              "mutant": "Q21M",
              "repressors": 260,
              "sem": 0.012799643168698962
             },
             {
              "IPTGuM": 25,
              "class": "DNA",
              "mean": 0.09375521272429298,
              "mutant": "Q21M",
              "repressors": 260,
              "sem": 0.019631265356041757
             },
             {
              "IPTGuM": 50,
              "class": "DNA",
              "mean": 0.18532762509993925,
              "mutant": "Q21M",
              "repressors": 260,
              "sem": 0.026038918112822978
             },
             {
              "IPTGuM": 75,
              "class": "DNA",
              "mean": 0.2554449219346789,
              "mutant": "Q21M",
              "repressors": 260,
              "sem": 0.022243571492963733
             },
             {
              "IPTGuM": 100,
              "class": "DNA",
              "mean": 0.32762987358404805,
              "mutant": "Q21M",
              "repressors": 260,
              "sem": 0.02599076429211846
             },
             {
              "IPTGuM": 250,
              "class": "DNA",
              "mean": 0.4513000851408146,
              "mutant": "Q21M",
              "repressors": 260,
              "sem": 0.062257003597993806
             },
             {
              "IPTGuM": 500,
              "class": "DNA",
              "mean": 0.6445724533745043,
              "mutant": "Q21M",
              "repressors": 260,
              "sem": 0.04342201445707803
             },
             {
              "IPTGuM": 1000,
              "class": "DNA",
              "mean": 0.6924927831796021,
              "mutant": "Q21M",
              "repressors": 260,
              "sem": 0.0413630564652278
             },
             {
              "IPTGuM": 5000,
              "class": "DNA",
              "mean": 0.6747885462334224,
              "mutant": "Q21M",
              "repressors": 260,
              "sem": 0.01996666517419883
             },
             {
              "IPTGuM": 0.1,
              "class": "DNA",
              "mean": 0.4139219115126983,
              "mutant": "Y20I",
              "repressors": 260,
              "sem": 0.047779074022976264
             },
             {
              "IPTGuM": 5,
              "class": "DNA",
              "mean": 0.7168365584500875,
              "mutant": "Y20I",
              "repressors": 260,
              "sem": 0.08597707047006675
             },
             {
              "IPTGuM": 10,
              "class": "DNA",
              "mean": 0.7963499905500634,
              "mutant": "Y20I",
              "repressors": 260,
              "sem": 0.05618032852945115
             },
             {
              "IPTGuM": 25,
              "class": "DNA",
              "mean": 0.9047528808206989,
              "mutant": "Y20I",
              "repressors": 260,
              "sem": 0.02114401024699153
             },
             {
              "IPTGuM": 50,
              "class": "DNA",
              "mean": 0.9464538217787389,
              "mutant": "Y20I",
              "repressors": 260,
              "sem": 0.02693543639284507
             },
             {
              "IPTGuM": 75,
              "class": "DNA",
              "mean": 1.0206954970430926,
              "mutant": "Y20I",
              "repressors": 260,
              "sem": 0.03276944184267837
             },
             {
              "IPTGuM": 100,
              "class": "DNA",
              "mean": 0.9776275953100022,
              "mutant": "Y20I",
              "repressors": 260,
              "sem": 0.018840955744009444
             },
             {
              "IPTGuM": 250,
              "class": "DNA",
              "mean": 1.0156512284030692,
              "mutant": "Y20I",
              "repressors": 260,
              "sem": 0.017269541340343728
             },
             {
              "IPTGuM": 500,
              "class": "DNA",
              "mean": 0.9589320557221477,
              "mutant": "Y20I",
              "repressors": 260,
              "sem": 0.029658971344008685
             },
             {
              "IPTGuM": 1000,
              "class": "DNA",
              "mean": 0.9765203282853497,
              "mutant": "Y20I",
              "repressors": 260,
              "sem": 0.016142974677791605
             },
             {
              "IPTGuM": 5000,
              "class": "DNA",
              "mean": 1.0232697565539615,
              "mutant": "Y20I",
              "repressors": 260,
              "sem": 0.0121142129777707
             }
            ]
           },
           "encoding": {
            "color": {
             "field": "mutant",
             "type": "nominal"
            },
            "shape": {
             "field": "repressors",
             "type": "nominal"
            },
            "x": {
             "axis": {
              "title": "IPTG [µM]"
             },
             "field": "IPTGuM",
             "scale": {
              "type": "log"
             },
             "type": "quantitative"
            },
            "y": {
             "axis": {
              "title": "fold-change"
             },
             "field": "mean",
             "type": "quantitative"
            }
           },
           "height": 300,
           "mark": "point",
           "selection": {
            "selector089": {
             "bind": "scales",
             "encodings": [
              "x",
              "y"
             ],
             "mark": {
              "fill": "#333",
              "fillOpacity": 0.125,
              "stroke": "white"
             },
             "on": "[mousedown, window:mouseup] > window:mousemove!",
             "resolve": "global",
             "translate": "[mousedown, window:mouseup] > window:mousemove!",
             "type": "interval",
             "zoom": "wheel!"
            }
           },
           "width": 300
          },
          {
           "data": {
            "values": [
             {
              "IPTGuM": 0.1,
              "class": "DNA",
              "mean": 0.27615617355586064,
              "mutant": "Q21A",
              "repressors": 260,
              "sem": 0.0319152605935058
             },
             {
              "IPTGuM": 5,
              "class": "DNA",
              "mean": 0.4075398673029194,
              "mutant": "Q21A",
              "repressors": 260,
              "sem": 0.03455478396929079
             },
             {
              "IPTGuM": 10,
              "class": "DNA",
              "mean": 0.4891620321894136,
              "mutant": "Q21A",
              "repressors": 260,
              "sem": 0.040993870720052575
             },
             {
              "IPTGuM": 25,
              "class": "DNA",
              "mean": 0.7514638655818596,
              "mutant": "Q21A",
              "repressors": 260,
              "sem": 0.04838785957372424
             },
             {
              "IPTGuM": 50,
              "class": "DNA",
              "mean": 0.884438775413514,
              "mutant": "Q21A",
              "repressors": 260,
              "sem": 0.01631561324288036
             },
             {
              "IPTGuM": 75,
              "class": "DNA",
              "mean": 0.9730653247118922,
              "mutant": "Q21A",
              "repressors": 260,
              "sem": 0.03489800326115167
             },
             {
              "IPTGuM": 100,
              "class": "DNA",
              "mean": 0.948628671207226,
              "mutant": "Q21A",
              "repressors": 260,
              "sem": 0.01786369929444513
             },
             {
              "IPTGuM": 250,
              "class": "DNA",
              "mean": 1.0008515625147227,
              "mutant": "Q21A",
              "repressors": 260,
              "sem": 0.022725844776512055
             },
             {
              "IPTGuM": 500,
              "class": "DNA",
              "mean": 0.9762252566689505,
              "mutant": "Q21A",
              "repressors": 260,
              "sem": 0.018968381898989087
             },
             {
              "IPTGuM": 1000,
              "class": "DNA",
              "mean": 0.9607040499237259,
              "mutant": "Q21A",
              "repressors": 260,
              "sem": 0.03170751420065908
             },
             {
              "IPTGuM": 5000,
              "class": "DNA",
              "mean": 0.9610764090131955,
              "mutant": "Q21A",
              "repressors": 260,
              "sem": 0.034576471265323525
             },
             {
              "IPTGuM": 0.1,
              "class": "DNA",
              "mean": 0.011806323317141234,
              "mutant": "Q21M",
              "repressors": 260,
              "sem": 0.007504249076164513
             },
             {
              "IPTGuM": 5,
              "class": "DNA",
              "mean": 0.00886520911544844,
              "mutant": "Q21M",
              "repressors": 260,
              "sem": 0.003981152706300325
             },
             {
              "IPTGuM": 10,
              "class": "DNA",
              "mean": 0.009330889149894947,
              "mutant": "Q21M",
              "repressors": 260,
              "sem": 0.012799643168698962
             },
             {
              "IPTGuM": 25,
              "class": "DNA",
              "mean": 0.09375521272429298,
              "mutant": "Q21M",
              "repressors": 260,
              "sem": 0.019631265356041757
             },
             {
              "IPTGuM": 50,
              "class": "DNA",
              "mean": 0.18532762509993925,
              "mutant": "Q21M",
              "repressors": 260,
              "sem": 0.026038918112822978
             },
             {
              "IPTGuM": 75,
              "class": "DNA",
              "mean": 0.2554449219346789,
              "mutant": "Q21M",
              "repressors": 260,
              "sem": 0.022243571492963733
             },
             {
              "IPTGuM": 100,
              "class": "DNA",
              "mean": 0.32762987358404805,
              "mutant": "Q21M",
              "repressors": 260,
              "sem": 0.02599076429211846
             },
             {
              "IPTGuM": 250,
              "class": "DNA",
              "mean": 0.4513000851408146,
              "mutant": "Q21M",
              "repressors": 260,
              "sem": 0.062257003597993806
             },
             {
              "IPTGuM": 500,
              "class": "DNA",
              "mean": 0.6445724533745043,
              "mutant": "Q21M",
              "repressors": 260,
              "sem": 0.04342201445707803
             },
             {
              "IPTGuM": 1000,
              "class": "DNA",
              "mean": 0.6924927831796021,
              "mutant": "Q21M",
              "repressors": 260,
              "sem": 0.0413630564652278
             },
             {
              "IPTGuM": 5000,
              "class": "DNA",
              "mean": 0.6747885462334224,
              "mutant": "Q21M",
              "repressors": 260,
              "sem": 0.01996666517419883
             },
             {
              "IPTGuM": 0.1,
              "class": "DNA",
              "mean": 0.4139219115126983,
              "mutant": "Y20I",
              "repressors": 260,
              "sem": 0.047779074022976264
             },
             {
              "IPTGuM": 5,
              "class": "DNA",
              "mean": 0.7168365584500875,
              "mutant": "Y20I",
              "repressors": 260,
              "sem": 0.08597707047006675
             },
             {
              "IPTGuM": 10,
              "class": "DNA",
              "mean": 0.7963499905500634,
              "mutant": "Y20I",
              "repressors": 260,
              "sem": 0.05618032852945115
             },
             {
              "IPTGuM": 25,
              "class": "DNA",
              "mean": 0.9047528808206989,
              "mutant": "Y20I",
              "repressors": 260,
              "sem": 0.02114401024699153
             },
             {
              "IPTGuM": 50,
              "class": "DNA",
              "mean": 0.9464538217787389,
              "mutant": "Y20I",
              "repressors": 260,
              "sem": 0.02693543639284507
             },
             {
              "IPTGuM": 75,
              "class": "DNA",
              "mean": 1.0206954970430926,
              "mutant": "Y20I",
              "repressors": 260,
              "sem": 0.03276944184267837
             },
             {
              "IPTGuM": 100,
              "class": "DNA",
              "mean": 0.9776275953100022,
              "mutant": "Y20I",
              "repressors": 260,
              "sem": 0.018840955744009444
             },
             {
              "IPTGuM": 250,
              "class": "DNA",
              "mean": 1.0156512284030692,
              "mutant": "Y20I",
              "repressors": 260,
              "sem": 0.017269541340343728
             },
             {
              "IPTGuM": 500,
              "class": "DNA",
              "mean": 0.9589320557221477,
              "mutant": "Y20I",
              "repressors": 260,
              "sem": 0.029658971344008685
             },
             {
              "IPTGuM": 1000,
              "class": "DNA",
              "mean": 0.9765203282853497,
              "mutant": "Y20I",
              "repressors": 260,
              "sem": 0.016142974677791605
             },
             {
              "IPTGuM": 5000,
              "class": "DNA",
              "mean": 1.0232697565539615,
              "mutant": "Y20I",
              "repressors": 260,
              "sem": 0.0121142129777707
             }
            ]
           },
           "encoding": {
            "color": {
             "field": "mutant",
             "type": "nominal"
            },
            "x": {
             "field": "IPTGuM",
             "scale": {
              "type": "log"
             },
             "type": "quantitative"
            },
            "y": {
             "field": "ymin",
             "type": "quantitative"
            },
            "y2": {
             "field": "ymax",
             "type": "quantitative"
            }
           },
           "height": 300,
           "mark": "rule",
           "transform": [
            {
             "as": "ymin",
             "calculate": "datum.mean - datum.sem"
            },
            {
             "as": "ymax",
             "calculate": "datum.mean + datum.sem"
            }
           ],
           "width": 300
          }
         ]
        }
       ]
      },
      "image/png": "[encoded data removed]",
      "text/plain": [
       "<VegaLite 2 object>\n",
       "\n",
       "If you see this message, it means the renderer has not been properly enabled\n",
       "for the frontend that you are using. For more information, see\n",
       "https://altair-viz.github.io/user_guide/troubleshooting.html\n"
      ]
     },
     "execution_count": 233,
     "metadata": {},
     "output_type": "execute_result"
    }
   ],
   "source": [
    "# Set up the two base plots\n",
    "leak_base = alt.Chart(DNA_summ[(DNA_summ['IPTGuM']==0) & \n",
    "                               (DNA_summ['mean'] > 0)], width=300, height=300)\n",
    "ind_base = alt.Chart(DNA_summ[(DNA_summ['IPTGuM'] > 0) & (DNA_summ['repressors'] == constants['RBS1027'])], width=300, height=300)\n",
    "\n",
    "# Plot the leakiness data first. \n",
    "leak_points = leak_base.mark_point().encode(\n",
    "                x=alt.X('repressors:Q', scale=alt.Scale(type='log'), axis={'title':'repressors per cell'}),\n",
    "                y=alt.Y('mean:Q', scale=alt.Scale(type='log'), axis={'title':'fold-change'}),\n",
    "                color='mutant:N').interactive()\n",
    "\n",
    "leak_err = leak_base.mark_rule().encode(\n",
    "                x=alt.X('repressors:Q', scale=alt.Scale(type='log'), axis=alt.Axis(title='repressors per cell')),\n",
    "                y='ymin:Q', y2='ymax:Q',\n",
    "                color='mutant:N'\n",
    "            ).transform_calculate(\n",
    "                ymin='datum.mean - datum.sem',\n",
    "                ymax='datum.mean + datum.sem'\n",
    "            )\n",
    "\n",
    "ind_points = ind_base.mark_point().encode(\n",
    "                x=alt.X('IPTGuM:Q', scale=alt.Scale(type='log'), axis={'title':'IPTG [µM]'}),\n",
    "                y=alt.Y('mean:Q', axis={'title':'fold-change'}),\n",
    "                color='mutant:N',\n",
    "                shape='repressors:N').interactive()\n",
    "\n",
    "ind_err = ind_base.mark_rule().encode(\n",
    "                x=alt.X('IPTGuM:Q', scale=alt.Scale(type='log')),\n",
    "                y='ymin:Q', y2='ymax:Q',\n",
    "                color='mutant:N'\n",
    "            ).transform_calculate(\n",
    "                ymin='datum.mean - datum.sem',\n",
    "                ymax='datum.mean + datum.sem')\n",
    "\n",
    "(leak_points + leak_err) | (ind_points + ind_err)"
   ]
  },
  {
   "cell_type": "markdown",
   "metadata": {},
   "source": [
    "Now that we have a sense of how the data behaves, we can move forward with performing the analysis. I've written a stan model which fits the DNA binding energy in log scale. The stan model can be seen below:"
   ]
  },
  {
   "cell_type": "code",
   "execution_count": 187,
   "metadata": {},
   "outputs": [
    {
     "name": "stderr",
     "output_type": "stream",
     "text": [
      "INFO:pystan:COMPILING THE C++ CODE FOR MODEL anon_model_760d7f07cbd488c340a8441b127f9d4f NOW.\n"
     ]
    }
   ],
   "source": [
    "# Load the stan model code. \n",
    "ep_RA_model_code = mut.bayes.assemble_StanModelCode('../stan/DNA_binding_energy.stan', '../stan/functions.stan')\n",
    "ep_RA_model = pystan.StanModel(model_code=ep_RA_model_code)"
   ]
  },
  {
   "cell_type": "code",
   "execution_count": 234,
   "metadata": {},
   "outputs": [
    {
     "ename": "RuntimeError",
     "evalue": "Initialization failed.",
     "output_type": "error",
     "traceback": [
      "\u001b[0;31m---------------------------------------------------------------------------\u001b[0m",
      "\u001b[0;31mRemoteTraceback\u001b[0m                           Traceback (most recent call last)",
      "\u001b[0;31mRemoteTraceback\u001b[0m: \n\"\"\"\nTraceback (most recent call last):\n  File \"/anaconda3/lib/python3.6/multiprocessing/pool.py\", line 119, in worker\n    result = (True, func(*args, **kwds))\n  File \"/anaconda3/lib/python3.6/multiprocessing/pool.py\", line 44, in mapstar\n    return list(map(*args))\n  File \"stanfit4anon_model_760d7f07cbd488c340a8441b127f9d4f_4755612803566836178.pyx\", line 368, in stanfit4anon_model_760d7f07cbd488c340a8441b127f9d4f_4755612803566836178._call_sampler_star\n  File \"stanfit4anon_model_760d7f07cbd488c340a8441b127f9d4f_4755612803566836178.pyx\", line 401, in stanfit4anon_model_760d7f07cbd488c340a8441b127f9d4f_4755612803566836178._call_sampler\nRuntimeError: Initialization failed.\n\"\"\"",
      "\nThe above exception was the direct cause of the following exception:\n",
      "\u001b[0;31mRuntimeError\u001b[0m                              Traceback (most recent call last)",
      "\u001b[0;32m<ipython-input-234-a2e35770023d>\u001b[0m in \u001b[0;36m<module>\u001b[0;34m()\u001b[0m\n\u001b[1;32m     11\u001b[0m                 \u001b[0mR\u001b[0m\u001b[0;34m=\u001b[0m\u001b[0mleak_data\u001b[0m\u001b[0;34m[\u001b[0m\u001b[0;34m'repressors'\u001b[0m\u001b[0;34m]\u001b[0m\u001b[0;34m,\u001b[0m \u001b[0mNns\u001b[0m\u001b[0;34m=\u001b[0m\u001b[0mconstants\u001b[0m\u001b[0;34m[\u001b[0m\u001b[0;34m'Nns'\u001b[0m\u001b[0;34m]\u001b[0m\u001b[0;34m,\u001b[0m \u001b[0mep_ai\u001b[0m\u001b[0;34m=\u001b[0m\u001b[0mconstants\u001b[0m\u001b[0;34m[\u001b[0m\u001b[0;34m'ep_AI'\u001b[0m\u001b[0;34m]\u001b[0m\u001b[0;34m,\u001b[0m\u001b[0;34m\u001b[0m\u001b[0m\n\u001b[1;32m     12\u001b[0m                 n_sites=constants['n_sites'], fc=leak_data['fold_change'])\n\u001b[0;32m---> 13\u001b[0;31m \u001b[0mep_RA_samples\u001b[0m \u001b[0;34m=\u001b[0m \u001b[0mep_RA_model\u001b[0m\u001b[0;34m.\u001b[0m\u001b[0msampling\u001b[0m\u001b[0;34m(\u001b[0m\u001b[0mdata_dict\u001b[0m\u001b[0;34m,\u001b[0m \u001b[0miter\u001b[0m\u001b[0;34m=\u001b[0m\u001b[0;36m5000\u001b[0m\u001b[0;34m,\u001b[0m \u001b[0mchains\u001b[0m\u001b[0;34m=\u001b[0m\u001b[0;36m4\u001b[0m\u001b[0;34m)\u001b[0m\u001b[0;34m\u001b[0m\u001b[0m\n\u001b[0m",
      "\u001b[0;32m/anaconda3/lib/python3.6/site-packages/pystan/model.py\u001b[0m in \u001b[0;36msampling\u001b[0;34m(self, data, pars, chains, iter, warmup, thin, seed, init, sample_file, diagnostic_file, verbose, algorithm, control, n_jobs, **kwargs)\u001b[0m\n\u001b[1;32m    724\u001b[0m         \u001b[0mcall_sampler_args\u001b[0m \u001b[0;34m=\u001b[0m \u001b[0mizip\u001b[0m\u001b[0;34m(\u001b[0m\u001b[0mitertools\u001b[0m\u001b[0;34m.\u001b[0m\u001b[0mrepeat\u001b[0m\u001b[0;34m(\u001b[0m\u001b[0mdata\u001b[0m\u001b[0;34m)\u001b[0m\u001b[0;34m,\u001b[0m \u001b[0margs_list\u001b[0m\u001b[0;34m,\u001b[0m \u001b[0mitertools\u001b[0m\u001b[0;34m.\u001b[0m\u001b[0mrepeat\u001b[0m\u001b[0;34m(\u001b[0m\u001b[0mpars\u001b[0m\u001b[0;34m)\u001b[0m\u001b[0;34m)\u001b[0m\u001b[0;34m\u001b[0m\u001b[0m\n\u001b[1;32m    725\u001b[0m         \u001b[0mcall_sampler_star\u001b[0m \u001b[0;34m=\u001b[0m \u001b[0mself\u001b[0m\u001b[0;34m.\u001b[0m\u001b[0mmodule\u001b[0m\u001b[0;34m.\u001b[0m\u001b[0m_call_sampler_star\u001b[0m\u001b[0;34m\u001b[0m\u001b[0m\n\u001b[0;32m--> 726\u001b[0;31m         \u001b[0mret_and_samples\u001b[0m \u001b[0;34m=\u001b[0m \u001b[0m_map_parallel\u001b[0m\u001b[0;34m(\u001b[0m\u001b[0mcall_sampler_star\u001b[0m\u001b[0;34m,\u001b[0m \u001b[0mcall_sampler_args\u001b[0m\u001b[0;34m,\u001b[0m \u001b[0mn_jobs\u001b[0m\u001b[0;34m)\u001b[0m\u001b[0;34m\u001b[0m\u001b[0m\n\u001b[0m\u001b[1;32m    727\u001b[0m         \u001b[0msamples\u001b[0m \u001b[0;34m=\u001b[0m \u001b[0;34m[\u001b[0m\u001b[0msmpl\u001b[0m \u001b[0;32mfor\u001b[0m \u001b[0m_\u001b[0m\u001b[0;34m,\u001b[0m \u001b[0msmpl\u001b[0m \u001b[0;32min\u001b[0m \u001b[0mret_and_samples\u001b[0m\u001b[0;34m]\u001b[0m\u001b[0;34m\u001b[0m\u001b[0m\n\u001b[1;32m    728\u001b[0m \u001b[0;34m\u001b[0m\u001b[0m\n",
      "\u001b[0;32m/anaconda3/lib/python3.6/site-packages/pystan/model.py\u001b[0m in \u001b[0;36m_map_parallel\u001b[0;34m(function, args, n_jobs)\u001b[0m\n\u001b[1;32m     79\u001b[0m         \u001b[0;32mtry\u001b[0m\u001b[0;34m:\u001b[0m\u001b[0;34m\u001b[0m\u001b[0m\n\u001b[1;32m     80\u001b[0m             \u001b[0mpool\u001b[0m \u001b[0;34m=\u001b[0m \u001b[0mmultiprocessing\u001b[0m\u001b[0;34m.\u001b[0m\u001b[0mPool\u001b[0m\u001b[0;34m(\u001b[0m\u001b[0mprocesses\u001b[0m\u001b[0;34m=\u001b[0m\u001b[0mn_jobs\u001b[0m\u001b[0;34m)\u001b[0m\u001b[0;34m\u001b[0m\u001b[0m\n\u001b[0;32m---> 81\u001b[0;31m             \u001b[0mmap_result\u001b[0m \u001b[0;34m=\u001b[0m \u001b[0mpool\u001b[0m\u001b[0;34m.\u001b[0m\u001b[0mmap\u001b[0m\u001b[0;34m(\u001b[0m\u001b[0mfunction\u001b[0m\u001b[0;34m,\u001b[0m \u001b[0margs\u001b[0m\u001b[0;34m)\u001b[0m\u001b[0;34m\u001b[0m\u001b[0m\n\u001b[0m\u001b[1;32m     82\u001b[0m         \u001b[0;32mfinally\u001b[0m\u001b[0;34m:\u001b[0m\u001b[0;34m\u001b[0m\u001b[0m\n\u001b[1;32m     83\u001b[0m             \u001b[0mpool\u001b[0m\u001b[0;34m.\u001b[0m\u001b[0mclose\u001b[0m\u001b[0;34m(\u001b[0m\u001b[0;34m)\u001b[0m\u001b[0;34m\u001b[0m\u001b[0m\n",
      "\u001b[0;32m/anaconda3/lib/python3.6/multiprocessing/pool.py\u001b[0m in \u001b[0;36mmap\u001b[0;34m(self, func, iterable, chunksize)\u001b[0m\n\u001b[1;32m    264\u001b[0m         \u001b[0;32min\u001b[0m \u001b[0ma\u001b[0m \u001b[0mlist\u001b[0m \u001b[0mthat\u001b[0m \u001b[0;32mis\u001b[0m \u001b[0mreturned\u001b[0m\u001b[0;34m.\u001b[0m\u001b[0;34m\u001b[0m\u001b[0m\n\u001b[1;32m    265\u001b[0m         '''\n\u001b[0;32m--> 266\u001b[0;31m         \u001b[0;32mreturn\u001b[0m \u001b[0mself\u001b[0m\u001b[0;34m.\u001b[0m\u001b[0m_map_async\u001b[0m\u001b[0;34m(\u001b[0m\u001b[0mfunc\u001b[0m\u001b[0;34m,\u001b[0m \u001b[0miterable\u001b[0m\u001b[0;34m,\u001b[0m \u001b[0mmapstar\u001b[0m\u001b[0;34m,\u001b[0m \u001b[0mchunksize\u001b[0m\u001b[0;34m)\u001b[0m\u001b[0;34m.\u001b[0m\u001b[0mget\u001b[0m\u001b[0;34m(\u001b[0m\u001b[0;34m)\u001b[0m\u001b[0;34m\u001b[0m\u001b[0m\n\u001b[0m\u001b[1;32m    267\u001b[0m \u001b[0;34m\u001b[0m\u001b[0m\n\u001b[1;32m    268\u001b[0m     \u001b[0;32mdef\u001b[0m \u001b[0mstarmap\u001b[0m\u001b[0;34m(\u001b[0m\u001b[0mself\u001b[0m\u001b[0;34m,\u001b[0m \u001b[0mfunc\u001b[0m\u001b[0;34m,\u001b[0m \u001b[0miterable\u001b[0m\u001b[0;34m,\u001b[0m \u001b[0mchunksize\u001b[0m\u001b[0;34m=\u001b[0m\u001b[0;32mNone\u001b[0m\u001b[0;34m)\u001b[0m\u001b[0;34m:\u001b[0m\u001b[0;34m\u001b[0m\u001b[0m\n",
      "\u001b[0;32m/anaconda3/lib/python3.6/multiprocessing/pool.py\u001b[0m in \u001b[0;36mget\u001b[0;34m(self, timeout)\u001b[0m\n\u001b[1;32m    642\u001b[0m             \u001b[0;32mreturn\u001b[0m \u001b[0mself\u001b[0m\u001b[0;34m.\u001b[0m\u001b[0m_value\u001b[0m\u001b[0;34m\u001b[0m\u001b[0m\n\u001b[1;32m    643\u001b[0m         \u001b[0;32melse\u001b[0m\u001b[0;34m:\u001b[0m\u001b[0;34m\u001b[0m\u001b[0m\n\u001b[0;32m--> 644\u001b[0;31m             \u001b[0;32mraise\u001b[0m \u001b[0mself\u001b[0m\u001b[0;34m.\u001b[0m\u001b[0m_value\u001b[0m\u001b[0;34m\u001b[0m\u001b[0m\n\u001b[0m\u001b[1;32m    645\u001b[0m \u001b[0;34m\u001b[0m\u001b[0m\n\u001b[1;32m    646\u001b[0m     \u001b[0;32mdef\u001b[0m \u001b[0m_set\u001b[0m\u001b[0;34m(\u001b[0m\u001b[0mself\u001b[0m\u001b[0;34m,\u001b[0m \u001b[0mi\u001b[0m\u001b[0;34m,\u001b[0m \u001b[0mobj\u001b[0m\u001b[0;34m)\u001b[0m\u001b[0;34m:\u001b[0m\u001b[0;34m\u001b[0m\u001b[0m\n",
      "\u001b[0;31mRuntimeError\u001b[0m: Initialization failed."
     ]
    }
   ],
   "source": [
    "# Add mutant identifiers to DNA data\n",
    "\n",
    "DNA_idx = {m:i+1 for i, m in enumerate(DNA_data['mutant'].unique())}\n",
    "for m, i in DNA_idx.items():\n",
    "    DNA_data.loc[DNA_data['mutant']==m, 'idx'] = i\n",
    "DNA_data['idx'] = DNA_data['idx'].values.astype(int)\n",
    "leak_data = DNA_data[DNA_data['IPTGuM']==0]\n",
    "\n",
    "# Assemble the data dictionary and sample\n",
    "data_dict = dict(J=len(DNA_idx), N=len(leak_data), idx=leak_data['idx'],\n",
    "                R=leak_data['repressors'], Nns=constants['Nns'], ep_ai=constants['ep_AI'],\n",
    "                n_sites=constants['n_sites'], fc=leak_data['fold_change'])\n",
    "ep_RA_samples = ep_RA_model.sampling(data_dict, iter=5000, chains=4)"
   ]
  },
  {
   "cell_type": "code",
   "execution_count": 189,
   "metadata": {},
   "outputs": [],
   "source": [
    "# Convert the samples to a data frame. \n",
    "ep_RA_df = mut.bayes.chains_to_dataframe(ep_RA_samples)\n",
    "\n",
    "# Rename to the correct values\n",
    "new_names = {'ep_RA.{}'.format(i):'ep_RA.{}'.format(m) for m, i in DNA_idx.items()}\n",
    "ep_RA_df.rename(columns=new_names, inplace=True)\n",
    "ep_RA_stats = mut.stats.compute_statistics(ep_RA_df)"
   ]
  },
  {
   "cell_type": "markdown",
   "metadata": {},
   "source": [
    "**TODO: Write plotting function for MCMC samples**"
   ]
  },
  {
   "cell_type": "markdown",
   "metadata": {},
   "source": [
    "With the sampling converged and a large number of effective samples, we can compute and plot the credible regions for each.  "
   ]
  },
  {
   "cell_type": "code",
   "execution_count": 190,
   "metadata": {},
   "outputs": [],
   "source": [
    "# Find the most-likely values for ep_RA\n",
    "ep_RA_mode = ep_RA_df.iloc[np.argmax(ep_RA_df['logp'].values)]\n",
    "\n",
    "# Create a dataframe with the credible region and best fit values. \n",
    "rep_range = np.logspace(0, 4, 200)\n",
    "c_range = np.logspace(-2, 4, 200)\n",
    "leak_dfs = []\n",
    "ind_dfs = []\n",
    "for m, i in DNA_idx.items():\n",
    "    # Compute the best-fit value for leakiness.\n",
    "    best_fit = mut.thermo.SimpleRepression(rep_range, \n",
    "                                           ep_r=ep_RA_mode['ep_RA.{}'.format(m)],\n",
    "                                          ep_ai=constants['ep_AI'], n_ns=constants['Nns'], \n",
    "                                          effector_conc=0, n_sites=constants['n_sites'],\n",
    "                                          ka=constants['ka'], ki=constants['ki']).fold_change()\n",
    "    \n",
    "    # Compute the credible region for the leakiness.\n",
    "    cred_region = np.zeros([2, len(rep_range)])\n",
    "    for j, r in enumerate(rep_range):\n",
    "        arch = mut.thermo.SimpleRepression(r, ep_r=ep_RA_df['ep_RA.{}'.format(m)], \n",
    "                                         effector_conc=0, ka=constants['ka'], ki=constants['ki'],\n",
    "                                         ep_ai=constants['ep_AI'], n_sites=constants['n_sites']\n",
    "                                         ).fold_change()\n",
    "        cred_region[:, j] = mut.stats.compute_hpd(arch, 0.95)\n",
    "    \n",
    "    # Assemble the leakiness data frame\n",
    "    _df = pd.DataFrame(np.array([rep_range, best_fit, cred_region[0, :], cred_region[1, :]]).T,\n",
    "                       columns=['repressors', 'best_fit', 'hpd_min', 'hpd_max'])\n",
    "    _df['mutant'] = m\n",
    "    leak_dfs.append(_df)\n",
    "    \n",
    "    # Compute the induction curves\n",
    "    best_fit = mut.thermo.SimpleRepression(constants['RBS1027'], \n",
    "                                           ep_r=ep_RA_mode['ep_RA.{}'.format(m)],\n",
    "                                           ep_ai=constants['ep_AI'], n_ns=constants['Nns'], \n",
    "                                           effector_conc=c_range, n_sites=constants['n_sites'],\n",
    "                                           ka=constants['ka'], ki=constants['ki']).fold_change()\n",
    "    cred_region = np.zeros([2, len(c_range)])\n",
    "    for j, c in enumerate(c_range):\n",
    "        arch = mut.thermo.SimpleRepression(constants['RBS1027'], \n",
    "                                        ep_r=ep_RA_df['ep_RA.{}'.format(m)],\n",
    "                                        ep_ai=constants['ep_AI'], n_ns=constants['Nns'], \n",
    "                                        effector_conc=c, n_sites=constants['n_sites'],\n",
    "                                        ka=constants['ka'], ki=constants['ki']).fold_change()\n",
    "        cred_region[:, j] = mut.stats.compute_hpd(arch, 0.95)\n",
    "        \n",
    "    # Assemble the induction DataFrame.\n",
    "    _df = pd.DataFrame(np.array([c_range, best_fit, cred_region[0, :], cred_region[1, :]]).T,\n",
    "                      columns=['IPTGuM', 'best_fit', 'hpd_min', 'hpd_max'])\n",
    "    _df['mutant'] = m\n",
    "    ind_dfs.append(_df)\n",
    "    \n",
    "# Concatenate the two data frames\n",
    "leak_fit_df = pd.concat(leak_dfs)\n",
    "ind_fit_df = pd.concat(ind_dfs)"
   ]
  },
  {
   "cell_type": "code",
   "execution_count": 207,
   "metadata": {},
   "outputs": [
    {
     "data": {
      "application/vnd.vegalite.v2+json": {
       "$schema": "https://vega.github.io/schema/vega-lite/v2.4.3.json",
       "config": {
        "axis": {
         "domain": false,
         "gridColor": "#ffffff",
         "gridOpacity": 0.75,
         "gridWidth": 1,
         "labelFont": "Lucida Sans Unicode",
         "tickColor": "#ffffff",
         "titleFont": "Lucida Sans Unicode",
         "titleFontWeight": "normal"
        },
        "legend": {
         "labelFont": "Lucida Sans Unicode",
         "titleFont": "Lucida Sans Unicode",
         "titleFontWeight": "normal"
        },
        "text": {
         "font": "Lucida Sans Unicode",
         "fontWeight": "normal"
        },
        "view": {
         "fill": "#E3DCD1"
        }
       },
       "hconcat": [
        {
         "layer": [
          {
           "data": {
            "values": [
             {
              "best_fit": 0.6725628382338265,
              "hpd_max": 0.7511067967573793,
              "hpd_min": 0.6018518935170354,
              "mutant": "Q21M",
              "repressors": 1
             },
             {
              "best_fit": 0.6622900621280294,
              "hpd_max": 0.7423542218336936,
              "hpd_min": 0.5907107153143706,
              "mutant": "Q21M",
              "repressors": 1.0473708979594496
             },
             {
              "best_fit": 0.6518618224400908,
              "hpd_max": 0.7334031016153479,
              "hpd_min": 0.5794756098551203,
              "mutant": "Q21M",
              "repressors": 1.0969857978923836
             },
             {
              "best_fit": 0.641285978991314,
              "hpd_max": 0.7242565135662767,
              "hpd_min": 0.5681575601497614,
              "mutant": "Q21M",
              "repressors": 1.1489510001873091
             },
             {
              "best_fit": 0.630570935971634,
              "hpd_max": 0.7133169561670096,
              "hpd_min": 0.5551812170181802,
              "mutant": "Q21M",
              "repressors": 1.2033778407775895
             },
             {
              "best_fit": 0.619725622010508,
              "hpd_max": 0.7037595959736876,
              "hpd_min": 0.5437241524723355,
              "mutant": "Q21M",
              "repressors": 1.2603829296797275
             },
             {
              "best_fit": 0.6087594662678213,
              "hpd_max": 0.6940202885393714,
              "hpd_min": 0.5322206311091979,
              "mutant": "Q21M",
              "repressors": 1.3200884008314178
             },
             {
              "best_fit": 0.5976823706153362,
              "hpd_max": 0.6841045126340206,
              "hpd_min": 0.5206827549047028,
              "mutant": "Q21M",
              "repressors": 1.3826221737646558
             },
             {
              "best_fit": 0.5865046780289301,
              "hpd_max": 0.6740183318582964,
              "hpd_min": 0.509122771934842,
              "mutant": "Q21M",
              "repressors": 1.4481182276745337
             },
             {
              "best_fit": 0.5752371373618543,
              "hpd_max": 0.663768390935185,
              "hpd_min": 0.49755302463442824,
              "mutant": "Q21M",
              "repressors": 1.516716888470923
             },
             {
              "best_fit": 0.5638908647185434,
              "hpd_max": 0.6533619082200944,
              "hpd_min": 0.4859858972018294,
              "mutant": "Q21M",
              "repressors": 1.5885651294280527
             },
             {
              "best_fit": 0.5524773016961128,
              "hpd_max": 0.6428066643151139,
              "hpd_min": 0.47443376262464576,
              "mutant": "Q21M",
              "repressors": 1.6638168860761289
             },
             {
              "best_fit": 0.5410081708056362,
              "hpd_max": 0.632110986713048,
              "hpd_min": 0.46290892980720344,
              "mutant": "Q21M",
              "repressors": 1.7426333860096501
             },
             {
              "best_fit": 0.5294954284266032,
              "hpd_max": 0.6212837304402069,
              "hpd_min": 0.4514235912791483,
              "mutant": "Q21M",
              "repressors": 1.8251834943190435
             },
             {
              "best_fit": 0.5179512156847329,
              "hpd_max": 0.6103342547131309,
              "hpd_min": 0.4399897719554033,
              "mutant": "Q21M",
              "repressors": 1.9116440753857022
             },
             {
              "best_fit": 0.5063878076747157,
              "hpd_max": 0.59927239567275,
              "hpd_min": 0.42861927940149663,
              "mutant": "Q21M",
              "repressors": 2.0022003718155847
             },
             {
              "best_fit": 0.4948175614747753,
              "hpd_max": 0.5881084353090733,
              "hpd_min": 0.41732365603517657,
              "mutant": "Q21M",
              "repressors": 2.0970464013232326
             },
             {
              "best_fit": 0.483252863418569,
              "hpd_max": 0.5768530667395175,
              "hpd_min": 0.4061141336658224,
              "mutant": "Q21M",
              "repressors": 2.1963853724165463
             },
             {
              "best_fit": 0.47170607610146725,
              "hpd_max": 0.5655173560534327,
              "hpd_min": 0.3950015907381329,
              "mutant": "Q21M",
              "repressors": 2.3004301197729182
             },
             {
              "best_fit": 0.4601894856023871,
              "hpd_max": 0.5541127009833007,
              "hpd_min": 0.38399651260670903,
              "mutant": "Q21M",
              "repressors": 2.409403560239525
             },
             {
              "best_fit": 0.44871524939899465,
              "hpd_max": 0.5426507867084681,
              "hpd_min": 0.37310895512432835,
              "mutant": "Q21M",
              "repressors": 2.5235391704347663
             },
             {
              "best_fit": 0.4372953454433413,
              "hpd_max": 0.5311435391391697,
              "hpd_min": 0.36234851177989785,
              "mutant": "Q21M",
              "repressors": 2.643081486974105
             },
             {
              "best_fit": 0.4259415228470783,
              "hpd_max": 0.5196030760660673,
              "hpd_min": 0.3517242845732301,
              "mutant": "Q21M",
              "repressors": 2.768286630392066
             },
             {
              "best_fit": 0.4146652546007609,
              "hpd_max": 0.5059426634298081,
              "hpd_min": 0.33917575354726126,
              "mutant": "Q21M",
              "repressors": 2.899422853882877
             },
             {
              "best_fit": 0.40347769272094935,
              "hpd_max": 0.49437240156569767,
              "hpd_min": 0.32888053070972356,
              "mutant": "Q21M",
              "repressors": 3.036771118035458
             },
             {
              "best_fit": 0.39238962618256923,
              "hpd_max": 0.48280816430257334,
              "hpd_min": 0.31874707297183397,
              "mutant": "Q21M",
              "repressors": 3.180625692794119
             },
             {
              "best_fit": 0.3814114419531087,
              "hpd_max": 0.4712623122650235,
              "hpd_min": 0.3087821891355777,
              "mutant": "Q21M",
              "repressors": 3.3312947879346737
             },
             {
              "best_fit": 0.37055308940061804,
              "hpd_max": 0.4597471275412426,
              "hpd_min": 0.29899210862034514,
              "mutant": "Q21M",
              "repressors": 3.489101213406773
             },
             {
              "best_fit": 0.35982404830009534,
              "hpd_max": 0.4482747616343364,
              "hpd_min": 0.2893824766928409,
              "mutant": "Q21M",
              "repressors": 3.6543830709572562
             },
             {
              "best_fit": 0.3492333006136757,
              "hpd_max": 0.4368571845917191,
              "hpd_min": 0.27995835337439284,
              "mutant": "Q21M",
              "repressors": 3.827494478516312
             },
             {
              "best_fit": 0.33878930617008096,
              "hpd_max": 0.4255061357609205,
              "hpd_min": 0.27072421585226947,
              "mutant": "Q21M",
              "repressors": 4.008806328898466
             },
             {
              "best_fit": 0.32849998231900085,
              "hpd_max": 0.41423307659523745,
              "hpd_min": 0.2616839641932213,
              "mutant": "Q21M",
              "repressors": 4.19870708444391
             },
             {
              "best_fit": 0.31837268758735776,
              "hpd_max": 0.40304914590164054,
              "hpd_min": 0.25284093013376385,
              "mutant": "Q21M",
              "repressors": 4.39760360930272
             },
             {
              "best_fit": 0.3084142093176203,
              "hpd_max": 0.39196511788690364,
              "hpd_min": 0.24419788870277442,
              "mutant": "Q21M",
              "repressors": 4.605922041145106
             },
             {
              "best_fit": 0.2986307552241954,
              "hpd_max": 0.38099136331687994,
              "hpd_min": 0.2357570724177363,
              "mutant": "Q21M",
              "repressors": 4.82410870416537
             },
             {
              "best_fit": 0.2890279487631059,
              "hpd_max": 0.37013781405911494,
              "hpd_min": 0.22752018778629682,
              "mutant": "Q21M",
              "repressors": 5.052631065335681
             },
             {
              "best_fit": 0.27961082817316907,
              "hpd_max": 0.3594139312315105,
              "hpd_min": 0.21948843383948557,
              "mutant": "Q21M",
              "repressors": 5.291978735958442
             },
             {
              "best_fit": 0.2703838490141461,
              "hpd_max": 0.34882867713054727,
              "hpd_min": 0.21166252242168643,
              "mutant": "Q21M",
              "repressors": 5.542664520663106
             },
             {
              "best_fit": 0.261350889999108,
              "hpd_max": 0.3383904910625956,
              "hpd_min": 0.20404269996491564,
              "mutant": "Q21M",
              "repressors": 5.8052255160948985
             },
             {
              "best_fit": 0.25251526189474616,
              "hpd_max": 0.32810726915208566,
              "hpd_min": 0.19662877048076577,
              "mutant": "Q21M",
              "repressors": 6.080224261649424
             },
             {
              "best_fit": 0.24387971924458454,
              "hpd_max": 0.3179863481516502,
              "hpd_min": 0.1894201195121034,
              "mutant": "Q21M",
              "repressors": 6.368249944718588
             },
             {
              "best_fit": 0.23544647465598537,
              "hpd_max": 0.30803449323265064,
              "hpd_min": 0.18241573879784856,
              "mutant": "Q21M",
              "repressors": 6.669919663030122
             },
             {
              "best_fit": 0.22721721538234121,
              "hpd_max": 0.29825788969048156,
              "hpd_min": 0.17561425141748435,
              "mutant": "Q21M",
              "repressors": 6.985879746785248
             },
             {
              "best_fit": 0.21919312192668233,
              "hpd_max": 0.28866213845836425,
              "hpd_min": 0.16901393719692853,
              "mutant": "Q21M",
              "repressors": 7.316807143427196
             },
             {
              "best_fit": 0.21137488839181803,
              "hpd_max": 0.279252255286503,
              "hpd_min": 0.16261275817363932,
              "mutant": "Q21M",
              "repressors": 7.663410868007459
             },
             {
              "best_fit": 0.20376274430472677,
              "hpd_max": 0.2700326734109029,
              "hpd_min": 0.15640838393595566,
              "mutant": "Q21M",
              "repressors": 8.026433522257175
             },
             {
              "best_fit": 0.19635647764882605,
              "hpd_max": 0.2610072495081027,
              "hpd_min": 0.15039821666931955,
              "mutant": "Q21M",
              "repressors": 8.406652885618325
             },
             {
              "best_fit": 0.18915545884658988,
              "hpd_max": 0.25217927270874063,
              "hpd_min": 0.1445794157598946,
              "mutant": "Q21M",
              "repressors": 8.804883581643463
             },
             {
              "best_fit": 0.1821586654463017,
              "hpd_max": 0.24355147642428193,
              "hpd_min": 0.13894892182387764,
              "mutant": "Q21M",
              "repressors": 9.221978823334327
             },
             {
              "best_fit": 0.1753647072801227,
              "hpd_max": 0.23425638633323473,
              "hpd_min": 0.13263927703289977,
              "mutant": "Q21M",
              "repressors": 9.658832241158704
             },
             {
              "best_fit": 0.1687718518756922,
              "hpd_max": 0.2260564240643742,
              "hpd_min": 0.12740452374978573,
              "mutant": "Q21M",
              "repressors": 10.11637979766207
             },
             {
              "best_fit": 0.16237804991975693,
              "hpd_max": 0.21806175626020652,
              "hpd_min": 0.1223472240117017,
              "mutant": "Q21M",
              "repressors": 10.59560179277616
             },
             {
              "best_fit": 0.15618096058948053,
              "hpd_max": 0.21027300917690395,
              "hpd_min": 0.1174636492886186,
              "mutant": "Q21M",
              "repressors": 11.097524964120721
             },
             {
              "best_fit": 0.1501779765847437,
              "hpd_max": 0.20269034772263486,
              "hpd_min": 0.1127499634956902,
              "mutant": "Q21M",
              "repressors": 11.623224686798524
             },
             {
              "best_fit": 0.14436624871261455,
              "hpd_max": 0.19531349864137135,
              "hpd_min": 0.10820224157457455,
              "mutant": "Q21M",
              "repressors": 12.173827277396613
             },
             {
              "best_fit": 0.1387427098929461,
              "hpd_max": 0.1881417746110661,
              "hpd_min": 0.10381648702412362,
              "mutant": "Q21M",
              "repressors": 12.750512407130135
             },
             {
              "best_fit": 0.13330409847150307,
              "hpd_max": 0.18117409901178605,
              "hpd_min": 0.09958864836765918,
              "mutant": "Q21M",
              "repressors": 13.354515629298987
             },
             {
              "best_fit": 0.12804698074393006,
              "hpd_max": 0.1744090311330422,
              "hpd_min": 0.09551463455392245,
              "mutant": "Q21M",
              "repressors": 13.987131026472387
             },
             {
              "best_fit": 0.12296777261006105,
              "hpd_max": 0.16784479160479648,
              "hpd_min": 0.09159032929754939,
              "mutant": "Q21M",
              "repressors": 14.649713983072855
             },
             {
              "best_fit": 0.11806276029340397,
              "hpd_max": 0.1614792878530502,
              "hpd_min": 0.08781160437261286,
              "mutant": "Q21M",
              "repressors": 15.343684089300124
             },
             {
              "best_fit": 0.11332812007501063,
              "hpd_max": 0.15531013939817045,
              "hpd_min": 0.08417433187943554,
              "mutant": "Q21M",
              "repressors": 16.070528182616393
             },
             {
              "best_fit": 0.10875993700426967,
              "hpd_max": 0.1493347028318155,
              "hpd_min": 0.08067439551055479,
              "mutant": "Q21M",
              "repressors": 16.831803533309568
             },
             {
              "best_fit": 0.1043542225614073,
              "hpd_max": 0.1435500963261945,
              "hpd_min": 0.07730770084648221,
              "mutant": "Q21M",
              "repressors": 17.62914118095948
             },
             {
              "best_fit": 0.10010693125760656,
              "hpd_max": 0.13795322354713968,
              "hpd_min": 0.07407018471580373,
              "mutant": "Q21M",
              "repressors": 18.464249428955434
             },
             {
              "best_fit": 0.09601397616866228,
              "hpd_max": 0.1325407968598515,
              "hpd_min": 0.07095782365727783,
              "mutant": "Q21M",
              "repressors": 19.33891750455231
             },
             {
              "best_fit": 0.09207124340699188,
              "hpd_max": 0.12730935973299237,
              "hpd_min": 0.06796664152398305,
              "mutant": "Q21M",
              "repressors": 20.255019392306675
             },
             {
              "best_fit": 0.08827460554464202,
              "hpd_max": 0.12225530826287709,
              "hpd_min": 0.06509271627130352,
              "mutant": "Q21M",
              "repressors": 21.2145178491063
             },
             {
              "best_fit": 0.08461993400671927,
              "hpd_max": 0.11737491175471451,
              "hpd_min": 0.06233218597169647,
              "mutant": "Q21M",
              "repressors": 22.21946860939524
             },
             {
              "best_fit": 0.08110311046047092,
              "hpd_max": 0.11266433231208071,
              "hpd_min": 0.05968125409981868,
              "mutant": "Q21M",
              "repressors": 23.272024789604085
             },
             {
              "best_fit": 0.07772003723011219,
              "hpd_max": 0.10811964339898229,
              "hpd_min": 0.057136194131766425,
              "mutant": "Q21M",
              "repressors": 24.374441501222204
             },
             {
              "best_fit": 0.07446664677150525,
              "hpd_max": 0.10373684735095628,
              "hpd_min": 0.05469335350196466,
              "mutant": "Q21M",
              "repressors": 25.52908068239518
             },
             {
              "best_fit": 0.07133891024399953,
              "hpd_max": 0.09951189182261588,
              "hpd_min": 0.05234915696067854,
              "mutant": "Q21M",
              "repressors": 26.738416158399467
             },
             {
              "best_fit": 0.0683328452192237,
              "hpd_max": 0.09544068516890185,
              "hpd_min": 0.05010010937427151,
              "mutant": "Q21M",
              "repressors": 28.00503894183631
             },
             {
              "best_fit": 0.06544452256843541,
              "hpd_max": 0.09151911076604377,
              "hpd_min": 0.04794279800924293,
              "mutant": "Q21M",
              "repressors": 29.331662783900438
             },
             {
              "best_fit": 0.06267007257125724,
              "hpd_max": 0.08774304028590445,
              "hpd_min": 0.045873894339788356,
              "mutant": "Q21M",
              "repressors": 30.721129988617577
             },
             {
              "best_fit": 0.06000569028932433,
              "hpd_max": 0.08410834594402537,
              "hpd_min": 0.04389015541718136,
              "mutant": "Q21M",
              "repressors": 32.17641750250737
             },
             {
              "best_fit": 0.05744764024859829,
              "hpd_max": 0.08061091174735026,
              "hpd_min": 0.04198842483770547,
              "mutant": "Q21M",
              "repressors": 33.700643292719285
             },
             {
              "best_fit": 0.05499226047393012,
              "hpd_max": 0.07724664377235002,
              "hpd_min": 0.04016563334420825,
              "mutant": "Q21M",
              "repressors": 35.2970730273065
             },
             {
              "best_fit": 0.05263596591893247,
              "hpd_max": 0.07401147950815853,
              "hpd_min": 0.03841879909462842,
              "mutant": "Q21M",
              "repressors": 36.96912707195028
             },
             {
              "best_fit": 0.05037525133340518,
              "hpd_max": 0.07090139630242828,
              "hpd_min": 0.03674502762908934,
              "mutant": "Q21M",
              "repressors": 38.72038781812555
             },
             {
              "best_fit": 0.0482066936094943,
              "hpd_max": 0.06791241894999414,
              "hpd_min": 0.03514151156537893,
              "mutant": "Q21M",
              "repressors": 40.5546073584083
             },
             {
              "best_fit": 0.046126953646498534,
              "hpd_max": 0.06504062646616146,
              "hpd_min": 0.033605530050864474,
              "mutant": "Q21M",
              "repressors": 42.47571552536898
             },
             {
              "best_fit": 0.04413277777280834,
              "hpd_max": 0.06228215808757749,
              "hpd_min": 0.03213444799713756,
              "mutant": "Q21M",
              "repressors": 44.487828311275855
             },
             {
              "best_fit": 0.04222099876190844,
              "hpd_max": 0.05963321854427132,
              "hpd_min": 0.03072571512196257,
              "mutant": "Q21M",
              "repressors": 46.59525668664682
             },
             {
              "best_fit": 0.040388536477725105,
              "hpd_max": 0.05709008264661591,
              "hpd_min": 0.029376864821420733,
              "mutant": "Q21M",
              "repressors": 48.80251583654431
             },
             {
              "best_fit": 0.03863239818288675,
              "hpd_max": 0.054649099230740024,
              "hpd_min": 0.028085512893512948,
              "mutant": "Q21M",
              "repressors": 51.11433483440168
             },
             {
              "best_fit": 0.036949678541711356,
              "hpd_max": 0.052306694505350984,
              "hpd_min": 0.026849356132911412,
              "mutant": "Q21M",
              "repressors": 53.53566677410724
             },
             {
              "best_fit": 0.03533755934796134,
              "hpd_max": 0.05005937484207328,
              "hpd_min": 0.02566617081504049,
              "mutant": "Q21M",
              "repressors": 56.07169938205458
             },
             {
              "best_fit": 0.03379330900563525,
              "hpd_max": 0.0479037290503143,
              "hpd_min": 0.024533811086224457,
              "mutant": "Q21M",
              "repressors": 58.72786613189483
             },
             {
              "best_fit": 0.032314281789307904,
              "hpd_max": 0.045836430176375134,
              "hpd_min": 0.023450207275265568,
              "mutant": "Q21M",
              "repressors": 61.50985788580501
             },
             {
              "best_fit": 0.030897916908804838,
              "hpd_max": 0.043854236865076425,
              "hpd_min": 0.022413364140513006,
              "mutant": "Q21M",
              "repressors": 64.42363508721374
             },
             {
              "best_fit": 0.029541737401310553,
              "hpd_max": 0.04195399432059914,
              "hpd_min": 0.021421359065251944,
              "mutant": "Q21M",
              "repressors": 67.47544053110693
             },
             {
              "best_fit": 0.02824334887237284,
              "hpd_max": 0.04013263490157971,
              "hpd_min": 0.020472340213081287,
              "mutant": "Q21M",
              "repressors": 70.67181273927491
             },
             {
              "best_fit": 0.027000438105686714,
              "hpd_max": 0.03838717838377915,
              "hpd_min": 0.019564524653859678,
              "mutant": "Q21M",
              "repressors": 74.01959996915645
             },
             {
              "best_fit": 0.025810771560022313,
              "hpd_max": 0.03671473192188615,
              "hpd_min": 0.01869619646977839,
              "mutant": "Q21M",
              "repressors": 77.5259748862946
             },
             {
              "best_fit": 0.024672193770210675,
              "hpd_max": 0.035112489740241566,
              "hpd_min": 0.01786570485016751,
              "mutant": "Q21M",
              "repressors": 81.19844993184013
             },
             {
              "best_fit": 0.023582625667718335,
              "hpd_max": 0.033577732580500265,
              "hpd_min": 0.017071462182754134,
              "mutant": "Q21M",
              "repressors": 85.04489341802677
             },
             {
              "best_fit": 0.022540062835029375,
              "hpd_max": 0.03210782693249312,
              "hpd_min": 0.016311942148267068,
              "mutant": "Q21M",
              "repressors": 89.0735463861044
             },
             {
              "best_fit": 0.02154257370681409,
              "hpd_max": 0.03070022407283121,
              "hpd_min": 0.015585677824519013,
              "mutant": "Q21M",
              "repressors": 93.29304026284686
             },
             {
              "best_fit": 0.02058829772969329,
              "hpd_max": 0.029352458934113704,
              "hpd_min": 0.01489125980539092,
              "mutant": "Q21M",
              "repressors": 97.71241535346496
             },
             {
              "best_fit": 0.019675443491309678,
              "hpd_max": 0.028062148825972737,
              "hpd_min": 0.014227334339492428,
              "mutant": "Q21M",
              "repressors": 102.34114021054528
             },
             {
              "best_fit": 0.018802286828388692,
              "hpd_max": 0.026826992027617045,
              "hpd_min": 0.013592601492673608,
              "mutant": "Q21M",
              "repressors": 107.18913192051275
             },
             {
              "best_fit": 0.01796716892250996,
              "hpd_max": 0.025644766270027423,
              "hpd_min": 0.01298581333801336,
              "mutant": "Q21M",
              "repressors": 112.26677735108136
             },
             {
              "best_fit": 0.017168494391415254,
              "hpd_max": 0.024513327124515438,
              "hpd_min": 0.012405772176406926,
              "mutant": "Q21M",
              "repressors": 117.5849554052157
             },
             {
              "best_fit": 0.016404729382846896,
              "hpd_max": 0.02343060631298427,
              "hpd_min": 0.01185132879041529,
              "mutant": "Q21M",
              "repressors": 123.15506032928262
             },
             {
              "best_fit": 0.015674399677139378,
              "hpd_max": 0.022394609953928838,
              "hpd_min": 0.011321380733620639,
              "mutant": "Q21M",
              "repressors": 128.9890261253308
             },
             {
              "best_fit": 0.014976088804073804,
              "hpd_max": 0.021403416756981965,
              "hpd_min": 0.010814870657351316,
              "mutant": "Q21M",
              "repressors": 135.09935211980266
             },
             {
              "best_fit": 0.014308436178847556,
              "hpd_max": 0.020455176177655018,
              "hpd_min": 0.010330784676294995,
              "mutant": "Q21M",
              "repressors": 141.4991297434576
             },
             {
              "best_fit": 0.013670135261405744,
              "hpd_max": 0.019548106542832348,
              "hpd_min": 0.009868150774206507,
              "mutant": "Q21M",
              "repressors": 148.20207057988586
             },
             {
              "best_fit": 0.013059931742826115,
              "hpd_max": 0.018680493156560462,
              "hpd_min": 0.009426037250635916,
              "mutant": "Q21M",
              "repressors": 155.2225357427048
             },
             {
              "best_fit": 0.012476621761939961,
              "hpd_max": 0.017850686394721187,
              "hpd_min": 0.009003551209349462,
              "mutant": "Q21M",
              "repressors": 162.5755666443795
             },
             {
              "best_fit": 0.011919050154906791,
              "hpd_max": 0.017057099796291546,
              "hpd_min": 0.008599837088889435,
              "mutant": "Q21M",
              "repressors": 170.27691722258996
             },
             {
              "best_fit": 0.0113861087400369,
              "hpd_max": 0.016298208158070412,
              "hpd_min": 0.008214075235516876,
              "mutant": "Q21M",
              "repressors": 178.34308769319094
             },
             {
              "best_fit": 0.010876734639770957,
              "hpd_max": 0.015572545638989287,
              "hpd_min": 0.007845480518601,
              "mutant": "Q21M",
              "repressors": 186.79135990207828
             },
             {
              "best_fit": 0.010389908641376008,
              "hpd_max": 0.01487870387941918,
              "hpd_min": 0.0074933009883595076,
              "mutant": "Q21M",
              "repressors": 195.63983435170647
             },
             {
              "best_fit": 0.00992465359760196,
              "hpd_max": 0.014215330140236264,
              "hpd_min": 0.007156816575713536,
              "mutant": "Q21M",
              "repressors": 204.90746898158483
             },
             {
              "best_fit": 0.009480032868257264,
              "hpd_max": 0.013581125465810605,
              "hpd_min": 0.006835337833897195,
              "mutant": "Q21M",
              "repressors": 214.61411978584036
             },
             {
              "best_fit": 0.009055148803406472,
              "hpd_max": 0.012974842874533772,
              "hpd_min": 0.006528204721353878,
              "mutant": "Q21M",
              "repressors": 224.78058335487253
             },
             {
              "best_fit": 0.008649141268662792,
              "hpd_max": 0.012395285579998966,
              "hpd_min": 0.006234785425358044,
              "mutant": "Q21M",
              "repressors": 235.4286414322418
             },
             {
              "best_fit": 0.008261186212843248,
              "hpd_max": 0.011841305245488144,
              "hpd_min": 0.005954475225720472,
              "mutant": "Q21M",
              "repressors": 246.5811075822604
             },
             {
              "best_fit": 0.007890494278071676,
              "hpd_max": 0.011311800274003012,
              "hpd_min": 0.005686695397866424,
              "mutant": "Q21M",
              "repressors": 258.2618760682677
             },
             {
              "best_fit": 0.007536309452252684,
              "hpd_max": 0.010805714135696731,
              "hpd_min": 0.005430892154518095,
              "mutant": "Q21M",
              "repressors": 270.49597304631345
             },
             {
              "best_fit": 0.007197907763696648,
              "hpd_max": 0.010322033734218725,
              "hpd_min": 0.00518653562516434,
              "mutant": "Q21M",
              "repressors": 283.3096101839324
             },
             {
              "best_fit": 0.006874596017550479,
              "hpd_max": 0.009859787813173947,
              "hpd_min": 0.0049531188724612025,
              "mutant": "Q21M",
              "repressors": 296.73024081888695
             },
             {
              "best_fit": 0.0065657105735787095,
              "hpd_max": 0.00941804540361688,
              "hpd_min": 0.004730156944674833,
              "mutant": "Q21M",
              "repressors": 310.7866187782014
             },
             {
              "best_fit": 0.00627061616474468,
              "hpd_max": 0.008995914313248683,
              "hpd_min": 0.004517185963253897,
              "mutant": "Q21M",
              "repressors": 325.508859983506
             },
             {
              "best_fit": 0.005988704755959186,
              "hpd_max": 0.008592539657759605,
              "hpd_min": 0.004313762244600065,
              "mutant": "Q21M",
              "repressors": 340.9285069746811
             },
             {
              "best_fit": 0.005719394442293868,
              "hpd_max": 0.00820710243455687,
              "hpd_min": 0.004119461455092445,
              "mutant": "Q21M",
              "repressors": 357.07859649004627
             },
             {
              "best_fit": 0.0054621283858975744,
              "hpd_max": 0.007838818138938995,
              "hpd_min": 0.00393387779841421,
              "mutant": "Q21M",
              "repressors": 373.9937302478798
             },
             {
              "best_fit": 0.005216373790804049,
              "hpd_max": 0.007486935422617803,
              "hpd_min": 0.0037566232342262007,
              "mutant": "Q21M",
              "repressors": 391.71014908092604
             },
             {
              "best_fit": 0.004981620914779022,
              "hpd_max": 0.007150734794349475,
              "hpd_min": 0.00358732672723309,
              "mutant": "Q21M",
              "repressors": 410.26581058271944
             },
             {
              "best_fit": 0.004757382117321898,
              "hpd_max": 0.006829527362312502,
              "hpd_min": 0.003425633525691771,
              "mutant": "Q21M",
              "repressors": 429.70047043208393
             },
             {
              "best_fit": 0.004543190942911756,
              "hpd_max": 0.006522653617762802,
              "hpd_min": 0.0032712044684186795,
              "mutant": "Q21M",
              "repressors": 450.05576757004974
             },
             {
              "best_fit": 0.004338601238568325,
              "hpd_max": 0.0062294822594031445,
              "hpd_min": 0.0031237153193626743,
              "mutant": "Q21M",
              "repressors": 471.3753134116724
             },
             {
              "best_fit": 0.004143186304785027,
              "hpd_max": 0.00594940905782347,
              "hpd_min": 0.0029828561288219994,
              "mutant": "Q21M",
              "repressors": 493.7047852839004
             },
             {
              "best_fit": 0.003956538078883051,
              "hpd_max": 0.005681855759300423,
              "hpd_min": 0.0028483306203979783,
              "mutant": "Q21M",
              "repressors": 517.092024289676
             },
             {
              "best_fit": 0.003778266349831472,
              "hpd_max": 0.005426269028186436,
              "hpd_min": 0.0027198556027937305,
              "mutant": "Q21M",
              "repressors": 541.5871378079471
             },
             {
              "best_fit": 0.0036079980035786836,
              "hpd_max": 0.005182119427070596,
              "hpd_min": 0.0025971604055832756,
              "mutant": "Q21M",
              "repressors": 567.2426068491977
             },
             {
              "best_fit": 0.003445376297944131,
              "hpd_max": 0.00494890043385414,
              "hpd_min": 0.0024799863380947215,
              "mutant": "Q21M",
              "repressors": 594.1133984965034
             },
             {
              "best_fit": 0.0032900601661260214,
              "hpd_max": 0.004726127494851655,
              "hpd_min": 0.0023680861705703744,
              "mutant": "Q21M",
              "repressors": 622.2570836730231
             },
             {
              "best_fit": 0.003141723547890248,
              "hpd_max": 0.004513337113004679,
              "hpd_min": 0.002261223636786694,
              "mutant": "Q21M",
              "repressors": 651.7339604882427
             },
             {
              "best_fit": 0.0030000547475175156,
              "hpd_max": 0.004310085970276014,
              "hpd_min": 0.002159172957337581,
              "mutant": "Q21M",
              "repressors": 682.6071834272386
             },
             {
              "best_fit": 0.002864755817599388,
              "hpd_max": 0.004115950083280449,
              "hpd_min": 0.0020617183828055313,
              "mutant": "Q21M",
              "repressors": 714.9428986597577
             },
             {
              "best_fit": 0.002735541967789578,
              "hpd_max": 0.003930523991199993,
              "hpd_min": 0.001968653756066623,
              "mutant": "Q21M",
              "repressors": 748.8103857590023
             },
             {
              "best_fit": 0.0026121409976336152,
              "hpd_max": 0.003753419975028422,
              "hpd_min": 0.001879782092996789,
              "mutant": "Q21M",
              "repressors": 784.2822061337682
             },
             {
              "best_fit": 0.0024942927526182424,
              "hpd_max": 0.0035842673071907784,
              "hpd_min": 0.0017949151808685662,
              "mutant": "Q21M",
              "repressors": 821.434358491943
             },
             {
              "best_fit": 0.00238174860260098,
              "hpd_max": 0.00342271153058753,
              "hpd_min": 0.0017138731937491273,
              "mutant": "Q21M",
              "repressors": 860.34644166845
             },
             {
              "best_fit": 0.0022742709418002065,
              "hpd_max": 0.0032684137661203286,
              "hpd_min": 0.0016364843242319916,
              "mutant": "Q21M",
              "repressors": 901.1018251665018
             },
             {
              "best_fit": 0.0021716327095466907,
              "hpd_max": 0.0031210500477661506,
              "hpd_min": 0.001562584430856251,
              "mutant": "Q21M",
              "repressors": 943.7878277775382
             },
             {
              "best_fit": 0.0020736169310184324,
              "hpd_max": 0.002980310684278603,
              "hpd_min": 0.0014920167005883019,
              "mutant": "Q21M",
              "repressors": 988.4959046625586
             },
             {
              "best_fit": 0.0019800162772021083,
              "hpd_max": 0.002845899646609315,
              "hpd_min": 0.001424631325762071,
              "mutant": "Q21M",
              "repressors": 1035.3218432956626
             },
             {
              "best_fit": 0.0018906326433458997,
              "hpd_max": 0.0027175339801580123,
              "hpd_min": 0.0013602851948942855,
              "mutant": "Q21M",
              "repressors": 1084.3659686896108
             },
             {
              "best_fit": 0.0018052767451901754,
              "hpd_max": 0.0025949432409769786,
              "hpd_min": 0.0012988415968116411,
              "mutant": "Q21M",
              "repressors": 1135.7333583431052
             },
             {
              "best_fit": 0.0017237677322841343,
              "hpd_max": 0.002477868955073899,
              "hpd_min": 0.001240169937546551,
              "mutant": "Q21M",
              "repressors": 1189.5340673703195
             },
             {
              "best_fit": 0.0016459328177181618,
              "hpd_max": 0.002366064099976378,
              "hpd_min": 0.0011841454694776746,
              "mutant": "Q21M",
              "repressors": 1245.883364295008
             },
             {
              "best_fit": 0.00157160692362301,
              "hpd_max": 0.002259292607741337,
              "hpd_min": 0.0011306490322103718,
              "mutant": "Q21M",
              "repressors": 1304.9019780144029
             },
             {
              "best_fit": 0.0015006323418082345,
              "hpd_max": 0.0021573288886132165,
              "hpd_min": 0.001079566804710853,
              "mutant": "Q21M",
              "repressors": 1366.7163564620073
             },
             {
              "best_fit": 0.001432858408933239,
              "hpd_max": 0.0020599573745559174,
              "hpd_min": 0.0010307900682258553,
              "mutant": "Q21M",
              "repressors": 1431.4589375234787
             },
             {
              "best_fit": 0.0013681411956249436,
              "hpd_max": 0.0019669720819047876,
              "hpd_min": 0.0009842149795372868,
              "mutant": "Q21M",
              "repressors": 1499.2684327860457
             },
             {
              "best_fit": 0.001306343208976427,
              "hpd_max": 0.001878176192406589,
              "hpd_min": 0.0009397423541184317,
              "mutant": "Q21M",
              "repressors": 1570.2901247293776
             },
             {
              "best_fit": 0.001247333107880775,
              "hpd_max": 0.0017933816519369664,
              "hpd_min": 0.0008972774587748991,
              "mutant": "Q21M",
              "repressors": 1644.6761779946644
             },
             {
              "best_fit": 0.0011909854306739135,
              "hpd_max": 0.0017124087862066622,
              "hpd_min": 0.000856729813369679,
              "mutant": "Q21M",
              "repressors": 1722.5859653987875
             },
             {
              "best_fit": 0.0011371803345792558,
              "hpd_max": 0.0016350859327892648,
              "hpd_min": 0.0008180130012472797,
              "mutant": "Q21M",
              "repressors": 1804.1864093920717
             },
             {
              "best_fit": 0.0010858033464656242,
              "hpd_max": 0.0015612490888246998,
              "hpd_min": 0.0007810444879870937,
              "mutant": "Q21M",
              "repressors": 1889.6523396912096
             },
             {
              "best_fit": 0.0010367451244480638,
              "hpd_max": 0.001490741573773892,
              "hpd_min": 0.000745745448130799,
              "mutant": "Q21M",
              "repressors": 1979.1668678535573
             },
             {
              "best_fit": 0.0009899012298788124,
              "hpd_max": 0.0014234137066209142,
              "hpd_min": 0.0007120405995427657,
              "mutant": "Q21M",
              "repressors": 2072.921779595372
             },
             {
              "best_fit": 0.0009451719092929102,
              "hpd_max": 0.001359122496939594,
              "hpd_min": 0.0006798580450761687,
              "mutant": "Q21M",
              "repressors": 2171.117945694505
             },
             {
              "best_fit": 0.0009024618858896023,
              "hpd_max": 0.0012977313492617813,
              "hpd_min": 0.0006491291212307197,
              "mutant": "Q21M",
              "repressors": 2273.9657523579276
             },
             {
              "best_fit": 0.0008616801601468915,
              "hpd_max": 0.0012391097802043336,
              "hpd_min": 0.000619788253500709,
              "mutant": "Q21M",
              "repressors": 2381.6855519761584
             },
             {
              "best_fit": 0.0008227398191823222,
              "hpd_max": 0.0011831331478313685,
              "hpd_min": 0.000591772818124379,
              "mutant": "Q21M",
              "repressors": 2494.5081352303164
             },
             {
              "best_fit": 0.0007855578544882505,
              "hpd_max": 0.0011296823927472778,
              "hpd_min": 0.000565023009957502,
              "mutant": "Q21M",
              "repressors": 2612.675225563329
             },
             {
              "best_fit": 0.0007500549876846242,
              "hpd_max": 0.0010786437904346145,
              "hpd_min": 0.0005394817162055094,
              "mutant": "Q21M",
              "repressors": 2736.4399970746717
             },
             {
              "best_fit": 0.0007161555039465054,
              "hpd_max": 0.001029908714369012,
              "hpd_min": 0.0005150943957595188,
              "mutant": "Q21M",
              "repressors": 2866.0676169482504
             },
             {
              "best_fit": 0.0006837870927773404,
              "hpd_max": 0.0009833734094608982,
              "hpd_min": 0.0004918089638922223,
              "mutant": "Q21M",
              "repressors": 3001.835813575589
             },
             {
              "best_fit": 0.000652880695812282,
              "hpd_max": 0.0009389387753909095,
              "hpd_min": 0.00046957568207981685,
              "mutant": "Q21M",
              "repressors": 3144.0354715915
             },
             {
              "best_fit": 0.0006233703613486793,
              "hpd_max": 0.0008965101594224933,
              "hpd_min": 0.0004483470527259637,
              "mutant": "Q21M",
              "repressors": 3292.9712550971512
             },
             {
              "best_fit": 0.000595193105313241,
              "hpd_max": 0.0008559971582913487,
              "hpd_min": 0.0004280777185732153,
              "mutant": "Q21M",
              "repressors": 3448.96226040576
             },
             {
              "best_fit": 0.0005682887783873096,
              "hpd_max": 0.0008173134287869784,
              "hpd_min": 0.00040872436659642754,
              "mutant": "Q21M",
              "repressors": 3612.3426997094302
             },
             {
              "best_fit": 0.000542599939023163,
              "hpd_max": 0.0007803765066567571,
              "hpd_min": 0.0003902456361813809,
              "mutant": "Q21M",
              "repressors": 3783.462617131929
             },
             {
              "best_fit": 0.0005180717320953664,
              "hpd_max": 0.0007451076334776045,
              "hpd_min": 0.000372602031400232,
              "mutant": "Q21M",
              "repressors": 3962.6886387014783
             },
             {
              "best_fit": 0.0004946517729418187,
              "hpd_max": 0.0007114315911544844,
              "hpd_min": 0.00035575583720343567,
              "mutant": "Q21M",
              "repressors": 4150.404757850477
             },
             {
              "best_fit": 0.0004722900365594307,
              "hpd_max": 0.0006792765437186788,
              "hpd_min": 0.0003396710393555219,
              "mutant": "Q21M",
              "repressors": 4347.013158125026
             },
             {
              "best_fit": 0.00045093875172922033,
              "hpd_max": 0.0006485738861119929,
              "hpd_min": 0.0003243132479495065,
              "mutant": "Q21M",
              "repressors": 4552.935074866948
             },
             {
              "best_fit": 0.00043055229985510673,
              "hpd_max": 0.0006192580996558136,
              "hpd_min": 0.00030964962434183334,
              "mutant": "Q21M",
              "repressors": 4768.611697714469
             },
             {
              "best_fit": 0.00041108711830980784,
              "hpd_max": 0.0005912666139162653,
              "hpd_min": 0.0002956488113565645,
              "mutant": "Q21M",
              "repressors": 4994.50511585514
             },
             {
              "best_fit": 0.00039250160809000073,
              "hpd_max": 0.0005645396746885548,
              "hpd_min": 0.00028228086661407145,
              "mutant": "Q21M",
              "repressors": 5231.099308056264
             },
             {
              "best_fit": 0.00037475604559133454,
              "hpd_max": 0.0005390202178350541,
              "hpd_min": 0.0002695171988457591,
              "mutant": "Q21M",
              "repressors": 5478.901179593945
             },
             {
              "best_fit": 0.00035781249832196187,
              "hpd_max": 0.0005146537487226735,
              "hpd_min": 0.0002573305070623615,
              "mutant": "Q21M",
              "repressors": 5738.441648302392
             },
             {
              "best_fit": 0.0003416347443810165,
              "hpd_max": 0.0004913882270156778,
              "hpd_min": 0.00024569472244911206,
              "mutant": "Q21M",
              "repressors": 6010.276782070382
             },
             {
              "best_fit": 0.00032618819553592284,
              "hpd_max": 0.00046917395659031345,
              "hpd_min": 0.0002345849528666154,
              "mutant": "Q21M",
              "repressors": 6294.988990221887
             },
             {
              "best_fit": 0.00031143982373955107,
              "hpd_max": 0.00044796348034740726,
              "hpd_min": 0.0002239774298415313,
              "mutant": "Q21M",
              "repressors": 6593.188271333548
             },
             {
              "best_fit": 0.0002973580909351097,
              "hpd_max": 0.0004277114797085545,
              "hpd_min": 0.0002138494579362586,
              "mutant": "Q21M",
              "repressors": 6905.513520162331
             },
             {
              "best_fit": 0.0002839128820032257,
              "hpd_max": 0.00040837467859056913,
              "hpd_min": 0.00020417936639165296,
              "mutant": "Q21M",
              "repressors": 7232.633896483534
             },
             {
              "best_fit": 0.00027107544071197577,
              "hpd_max": 0.0003899117516615862,
              "hpd_min": 0.00019494646294146466,
              "mutant": "Q21M",
              "repressors": 7575.250258771913
             },
             {
              "best_fit": 0.0002588183085366754,
              "hpd_max": 0.0003722832366905837,
              "hpd_min": 0.0001861309897016341,
              "mutant": "Q21M",
              "repressors": 7934.096665797492
             },
             {
              "best_fit": 0.0002471152662220201,
              "hpd_max": 0.00035545145081011326,
              "hpd_min": 0.0001777140810418388,
              "mutant": "Q21M",
              "repressors": 8309.941949353395
             },
             {
              "best_fit": 0.00023594127796473249,
              "hpd_max": 0.0003393804105197621,
              "hpd_min": 0.0001696777233507714,
              "mutant": "Q21M",
              "repressors": 8703.591361485165
             },
             {
              "best_fit": 0.0002252724381001806,
              "hpd_max": 0.0003240357552652608,
              "hpd_min": 0.00016200471661052693,
              "mutant": "Q21M",
              "repressors": 9115.888299750828
             },
             {
              "best_fit": 0.00021508592018153292,
              "hpd_max": 0.00030938467443526285,
              "hpd_min": 0.00015467863769921665,
              "mutant": "Q21M",
              "repressors": 9547.716114208057
             },
             {
              "best_fit": 0.00020535992834489118,
              "hpd_max": 0.0002953958376246327,
              "hpd_min": 0.00014768380534449927,
              "mutant": "Q21M",
              "repressors": 10000
             },
             {
              "best_fit": 0.9929532444007138,
              "hpd_max": 0.9942152541400285,
              "hpd_min": 0.991766630924053,
              "mutant": "Q21A",
              "repressors": 1
             },
             {
              "best_fit": 0.9926218961535339,
              "hpd_max": 0.9939428853568556,
              "hpd_min": 0.9913799708394516,
              "mutant": "Q21A",
              "repressors": 1.0473708979594496
             },
             {
              "best_fit": 0.9922750886627999,
              "hpd_max": 0.9936577741781082,
              "hpd_min": 0.9909753174432144,
              "mutant": "Q21A",
              "repressors": 1.0969857978923836
             },
             {
              "best_fit": 0.9919121123252561,
              "hpd_max": 0.993359332347681,
              "hpd_min": 0.9905518492802607,
              "mutant": "Q21A",
              "repressors": 1.1489510001873091
             },
             {
              "best_fit": 0.9915322260859767,
              "hpd_max": 0.9930469452109075,
              "hpd_min": 0.9901087089158819,
              "mutant": "Q21A",
              "repressors": 1.2033778407775895
             },
             {
              "best_fit": 0.991134656152347,
              "hpd_max": 0.9927199706030976,
              "hpd_min": 0.9896450015065154,
              "mutant": "Q21A",
              "repressors": 1.2603829296797275
             },
             {
              "best_fit": 0.9907185946660402,
              "hpd_max": 0.9923777376984322,
              "hpd_min": 0.9891597933281427,
              "mutant": "Q21A",
              "repressors": 1.3200884008314178
             },
             {
              "best_fit": 0.9902831983327074,
              "hpd_max": 0.9920195458185268,
              "hpd_min": 0.9886521102625678,
              "mutant": "Q21A",
              "repressors": 1.3826221737646558
             },
             {
              "best_fit": 0.9898275870092361,
              "hpd_max": 0.9916446632000508,
              "hpd_min": 0.9881209362420293,
              "mutant": "Q21A",
              "repressors": 1.4481182276745337
             },
             {
              "best_fit": 0.989350842248587,
              "hpd_max": 0.9912523257208746,
              "hpd_min": 0.9875652116528346,
              "mutant": "Q21A",
              "repressors": 1.516716888470923
             },
             {
              "best_fit": 0.9888520058023853,
              "hpd_max": 0.9908417355843159,
              "hpd_min": 0.9869838316989538,
              "mutant": "Q21A",
              "repressors": 1.5885651294280527
             },
             {
              "best_fit": 0.988330078081647,
              "hpd_max": 0.9904120599611667,
              "hpd_min": 0.9863756447267944,
              "mutant": "Q21A",
              "repressors": 1.6638168860761289
             },
             {
              "best_fit": 0.9877840165762298,
              "hpd_max": 0.9899624295893175,
              "hpd_min": 0.9857394505126951,
              "mutant": "Q21A",
              "repressors": 1.7426333860096501
             },
             {
              "best_fit": 0.9872127342338493,
              "hpd_max": 0.9894919373309393,
              "hpd_min": 0.9850739985150159,
              "mutant": "Q21A",
              "repressors": 1.8251834943190435
             },
             {
              "best_fit": 0.9866150977997631,
              "hpd_max": 0.988999636687349,
              "hpd_min": 0.9843779860930946,
              "mutant": "Q21A",
              "repressors": 1.9116440753857022
             },
             {
              "best_fit": 0.9859899261185401,
              "hpd_max": 0.9884845402718798,
              "hpd_min": 0.9836500566957496,
              "mutant": "Q21A",
              "repressors": 2.0022003718155847
             },
             {
              "best_fit": 0.9853359883996535,
              "hpd_max": 0.9879456182412782,
              "hpd_min": 0.9828887980224814,
              "mutant": "Q21A",
              "repressors": 2.0970464013232326
             },
             {
              "best_fit": 0.9846520024490082,
              "hpd_max": 0.9873817966863953,
              "hpd_min": 0.9820927401610211,
              "mutant": "Q21A",
              "repressors": 2.1963853724165463
             },
             {
              "best_fit": 0.9839366328689252,
              "hpd_max": 0.9867919559831956,
              "hpd_min": 0.9812603537054315,
              "mutant": "Q21A",
              "repressors": 2.3004301197729182
             },
             {
              "best_fit": 0.9831884892295389,
              "hpd_max": 0.9861749291054053,
              "hpd_min": 0.9803900478595678,
              "mutant": "Q21A",
              "repressors": 2.409403560239525
             },
             {
              "best_fit": 0.9824061242150653,
              "hpd_max": 0.9855294999004409,
              "hpd_min": 0.9794801685313564,
              "mutant": "Q21A",
              "repressors": 2.5235391704347663
             },
             {
              "best_fit": 0.9815880317489166,
              "hpd_max": 0.984854401330618,
              "hpd_min": 0.9785289964240608,
              "mutant": "Q21A",
              "repressors": 2.643081486974105
             },
             {
              "best_fit": 0.980732645102239,
              "hpd_max": 0.9841483136820369,
              "hpd_min": 0.9775347451314681,
              "mutant": "Q21A",
              "repressors": 2.768286630392066
             },
             {
              "best_fit": 0.9798383349910628,
              "hpd_max": 0.9834098627439738,
              "hpd_min": 0.9764955592447627,
              "mutant": "Q21A",
              "repressors": 2.899422853882877
             },
             {
              "best_fit": 0.9789034076679592,
              "hpd_max": 0.9826376179620807,
              "hpd_min": 0.9754095124797353,
              "mutant": "Q21A",
              "repressors": 3.036771118035458
             },
             {
              "best_fit": 0.9779261030148297,
              "hpd_max": 0.9818300905692168,
              "hpd_min": 0.9742746058339401,
              "mutant": "Q21A",
              "repressors": 3.180625692794119
             },
             {
              "best_fit": 0.9769045926442621,
              "hpd_max": 0.9809857316983077,
              "hpd_min": 0.9730887657844335,
              "mutant": "Q21A",
              "repressors": 3.3312947879346737
             },
             {
              "best_fit": 0.9758369780177558,
              "hpd_max": 0.9801029304822354,
              "hpd_min": 0.9718498425378186,
              "mutant": "Q21A",
              "repressors": 3.489101213406773
             },
             {
              "best_fit": 0.9747212885900431,
              "hpd_max": 0.9791800121464461,
              "hpd_min": 0.9705556083454865,
              "mutant": "Q21A",
              "repressors": 3.6543830709572562
             },
             {
              "best_fit": 0.9735554799897376,
              "hpd_max": 0.9782152361006774,
              "hpd_min": 0.9692037558981829,
              "mutant": "Q21A",
              "repressors": 3.827494478516312
             },
             {
              "best_fit": 0.9723374322475977,
              "hpd_max": 0.977206794037004,
              "hpd_min": 0.9677918968153254,
              "mutant": "Q21A",
              "repressors": 4.008806328898466
             },
             {
              "best_fit": 0.9710649480848426,
              "hpd_max": 0.9761528080422389,
              "hpd_min": 0.9663175602458892,
              "mutant": "Q21A",
              "repressors": 4.19870708444391
             },
             {
              "best_fit": 0.9697357512751514,
              "hpd_max": 0.9750513287336436,
              "hpd_min": 0.9647781915991107,
              "mutant": "Q21A",
              "repressors": 4.39760360930272
             },
             {
              "best_fit": 0.9683474850952649,
              "hpd_max": 0.9739003334278789,
              "hpd_min": 0.9631711514247812,
              "mutant": "Q21A",
              "repressors": 4.605922041145106
             },
             {
              "best_fit": 0.9668977108804548,
              "hpd_max": 0.9726977243541689,
              "hpd_min": 0.9614937144644751,
              "mutant": "Q21A",
              "repressors": 4.82410870416537
             },
             {
              "best_fit": 0.9653839067025493,
              "hpd_max": 0.9714413269237736,
              "hpd_min": 0.9597430688966896,
              "mutant": "Q21A",
              "repressors": 5.052631065335681
             },
             {
              "best_fit": 0.9638034661896842,
              "hpd_max": 0.9701288880690442,
              "hpd_min": 0.9579163158005551,
              "mutant": "Q21A",
              "repressors": 5.291978735958442
             },
             {
              "best_fit": 0.9621536975085104,
              "hpd_max": 0.968758074666602,
              "hpd_min": 0.9560104688645041,
              "mutant": "Q21A",
              "repressors": 5.542664520663106
             },
             {
              "best_fit": 0.9604318225311907,
              "hpd_max": 0.9673264720605025,
              "hpd_min": 0.954022454368031,
              "mutant": "Q21A",
              "repressors": 5.8052255160948985
             },
             {
              "best_fit": 0.9586349762111891,
              "hpd_max": 0.9658315827026516,
              "hpd_min": 0.951949111466461,
              "mutant": "Q21A",
              "repressors": 6.080224261649424
             },
             {
              "best_fit": 0.9567602061935627,
              "hpd_max": 0.9642708249292096,
              "hpd_min": 0.9497871928104055,
              "mutant": "Q21A",
              "repressors": 6.368249944718588
             },
             {
              "best_fit": 0.9548044726872108,
              "hpd_max": 0.9626415318932482,
              "hpd_min": 0.9475333655333482,
              "mutant": "Q21A",
              "repressors": 6.669919663030122
             },
             {
              "best_fit": 0.9527646486283008,
              "hpd_max": 0.960940950675522,
              "hpd_min": 0.9451842126425183,
              "mutant": "Q21A",
              "repressors": 6.985879746785248
             },
             {
              "best_fit": 0.9506375201658722,
              "hpd_max": 0.9591662415968673,
              "hpd_min": 0.9427362348498624,
              "mutant": "Q21A",
              "repressors": 7.316807143427196
             },
             {
              "best_fit": 0.948419787502372,
              "hpd_max": 0.9573144777574367,
              "hpd_min": 0.9401858528814909,
              "mutant": "Q21A",
              "repressors": 7.663410868007459
             },
             {
              "best_fit": 0.946108066123627,
              "hpd_max": 0.955382644829712,
              "hpd_min": 0.937529410305413,
              "mutant": "Q21A",
              "repressors": 8.026433522257175
             },
             {
              "best_fit": 0.9436988884544247,
              "hpd_max": 0.9533676411340007,
              "hpd_min": 0.934763176918653,
              "mutant": "Q21A",
              "repressors": 8.406652885618325
             },
             {
              "best_fit": 0.9411887059774897,
              "hpd_max": 0.9512662780268983,
              "hpd_min": 0.9318833527359228,
              "mutant": "Q21A",
              "repressors": 8.804883581643463
             },
             {
              "best_fit": 0.9385738918551223,
              "hpd_max": 0.9490752806349602,
              "hpd_min": 0.9288860726228589,
              "mutant": "Q21A",
              "repressors": 9.221978823334327
             },
             {
              "best_fit": 0.9358507440941204,
              "hpd_max": 0.9467912889675854,
              "hpd_min": 0.9257674116173803,
              "mutant": "Q21A",
              "repressors": 9.658832241158704
             },
             {
              "best_fit": 0.9330154892957659,
              "hpd_max": 0.9444108594448023,
              "hpd_min": 0.9225233909829227,
              "mutant": "Q21A",
              "repressors": 10.11637979766207
             },
             {
              "best_fit": 0.9300642870335905,
              "hpd_max": 0.9419304668772863,
              "hpd_min": 0.9191499850371048,
              "mutant": "Q21A",
              "repressors": 10.59560179277616
             },
             {
              "best_fit": 0.9269932349023018,
              "hpd_max": 0.9393465069374541,
              "hpd_min": 0.9156431287987256,
              "mutant": "Q21A",
              "repressors": 11.097524964120721
             },
             {
              "best_fit": 0.9237983742815955,
              "hpd_max": 0.9366552991618851,
              "hpd_min": 0.9119987264948068,
              "mutant": "Q21A",
              "repressors": 11.623224686798524
             },
             {
              "best_fit": 0.9204756968585348,
              "hpd_max": 0.9338530905265248,
              "hpd_min": 0.9082126609676253,
              "mutant": "Q21A",
              "repressors": 12.173827277396613
             },
             {
              "best_fit": 0.9170211519517116,
              "hpd_max": 0.9309360596371494,
              "hpd_min": 0.9042808040192525,
              "mutant": "Q21A",
              "repressors": 12.750512407130135
             },
             {
              "best_fit": 0.913430654679428,
              "hpd_max": 0.9279003215783037,
              "hpd_min": 0.9001990277279687,
              "mutant": "Q21A",
              "repressors": 13.354515629298987
             },
             {
              "best_fit": 0.9097000950126076,
              "hpd_max": 0.9247419334643743,
              "hpd_min": 0.8959632167669674,
              "mutant": "Q21A",
              "repressors": 13.987131026472387
             },
             {
              "best_fit": 0.9058253477509751,
              "hpd_max": 0.9214569007365353,
              "hpd_min": 0.8915692817509732,
              "mutant": "Q21A",
              "repressors": 14.649713983072855
             },
             {
              "best_fit": 0.901802283458188,
              "hpd_max": 0.9180411842489683,
              "hpd_min": 0.8870131736306478,
              "mutant": "Q21A",
              "repressors": 15.343684089300124
             },
             {
              "best_fit": 0.8976267803879686,
              "hpd_max": 0.91449070818693,
              "hpd_min": 0.8822908991479714,
              "mutant": "Q21A",
              "repressors": 16.070528182616393
             },
             {
              "best_fit": 0.8932947374288257,
              "hpd_max": 0.9108013688578874,
              "hpd_min": 0.8773985373580194,
              "mutant": "Q21A",
              "repressors": 16.831803533309568
             },
             {
              "best_fit": 0.888802088089589,
              "hpd_max": 0.9069690443949593,
              "hpd_min": 0.8723322572137501,
              "mutant": "Q21A",
              "repressors": 17.62914118095948
             },
             {
              "best_fit": 0.8841448155416595,
              "hpd_max": 0.9029896054092561,
              "hpd_min": 0.8670883362004835,
              "mutant": "Q21A",
              "repressors": 18.464249428955434
             },
             {
              "best_fit": 0.8793189687265365,
              "hpd_max": 0.8988589266243072,
              "hpd_min": 0.8616631799957144,
              "mutant": "Q21A",
              "repressors": 19.33891750455231
             },
             {
              "best_fit": 0.8743206795287894,
              "hpd_max": 0.8945728995215556,
              "hpd_min": 0.8560533431177328,
              "mutant": "Q21A",
              "repressors": 20.255019392306675
             },
             {
              "best_fit": 0.869146181005143,
              "hpd_max": 0.8901274460208006,
              "hpd_min": 0.8502555505132791,
              "mutant": "Q21A",
              "repressors": 21.2145178491063
             },
             {
              "best_fit": 0.8637918266497382,
              "hpd_max": 0.8855185332134354,
              "hpd_min": 0.8442667200201562,
              "mutant": "Q21A",
              "repressors": 22.21946860939524
             },
             {
              "best_fit": 0.8582541106639033,
              "hpd_max": 0.8807421891592885,
              "hpd_min": 0.8380839856254587,
              "mutant": "Q21A",
              "repressors": 23.272024789604085
             },
             {
              "best_fit": 0.8525296891859284,
              "hpd_max": 0.8757945197497898,
              "hpd_min": 0.8317047214239427,
              "mutant": "Q21A",
              "repressors": 24.374441501222204
             },
             {
              "best_fit": 0.8466154024224462,
              "hpd_max": 0.8706717266310146,
              "hpd_min": 0.8251265661642067,
              "mutant": "Q21A",
              "repressors": 25.52908068239518
             },
             {
              "best_fit": 0.8405082976081127,
              "hpd_max": 0.8653701261698703,
              "hpd_min": 0.8183474482529332,
              "mutant": "Q21A",
              "repressors": 26.738416158399467
             },
             {
              "best_fit": 0.8342056527044726,
              "hpd_max": 0.8598861694352935,
              "hpd_min": 0.8113656110696824,
              "mutant": "Q21A",
              "repressors": 28.00503894183631
             },
             {
              "best_fit": 0.8277050007323025,
              "hpd_max": 0.8542164631538013,
              "hpd_min": 0.804179638426863,
              "mutant": "Q21A",
              "repressors": 29.331662783900438
             },
             {
              "best_fit": 0.8210041546144985,
              "hpd_max": 0.8483577915851531,
              "hpd_min": 0.7967884799918078,
              "mutant": "Q21A",
              "repressors": 30.721129988617577
             },
             {
              "best_fit": 0.8141012323889266,
              "hpd_max": 0.8423071392492576,
              "hpd_min": 0.7891914764706952,
              "mutant": "Q21A",
              "repressors": 32.17641750250737
             },
             {
              "best_fit": 0.8069946826327885,
              "hpd_max": 0.8360617144199003,
              "hpd_min": 0.7813883843376858,
              "mutant": "Q21A",
              "repressors": 33.700643292719285
             },
             {
              "best_fit": 0.7996833099222703,
              "hpd_max": 0.829618973284492,
              "hpd_min": 0.7733793998775088,
              "mutant": "Q21A",
              "repressors": 35.2970730273065
             },
             {
              "best_fit": 0.7921663001338041,
              "hpd_max": 0.8229766446519726,
              "hpd_min": 0.7651651822962077,
              "mutant": "Q21A",
              "repressors": 36.96912707195028
             },
             {
              "best_fit": 0.7844432453765491,
              "hpd_max": 0.8161327550734646,
              "hpd_min": 0.7567468756432626,
              "mutant": "Q21A",
              "repressors": 38.72038781812555
             },
             {
              "best_fit": 0.7765141683300348,
              "hpd_max": 0.809085654222436,
              "hpd_min": 0.7481261292792759,
              "mutant": "Q21A",
              "repressors": 40.5546073584083
             },
             {
              "best_fit": 0.7683795457467099,
              "hpd_max": 0.8018340403632969,
              "hpd_min": 0.7393051166172642,
              "mutant": "Q21A",
              "repressors": 42.47571552536898
             },
             {
              "best_fit": 0.7600403308668072,
              "hpd_max": 0.7943769857197843,
              "hpd_min": 0.7302865518627417,
              "mutant": "Q21A",
              "repressors": 44.487828311275855
             },
             {
              "best_fit": 0.7514979744829026,
              "hpd_max": 0.7867139615375152,
              "hpd_min": 0.7210737044786109,
              "mutant": "Q21A",
              "repressors": 46.59525668664682
             },
             {
              "best_fit": 0.7427544443842226,
              "hpd_max": 0.7788448626190834,
              "hpd_min": 0.7116704111057272,
              "mutant": "Q21A",
              "repressors": 48.80251583654431
             },
             {
              "best_fit": 0.7338122429065836,
              "hpd_max": 0.7707700310954033,
              "hpd_min": 0.7020810846791791,
              "mutant": "Q21A",
              "repressors": 51.11433483440168
             },
             {
              "best_fit": 0.7246744223131949,
              "hpd_max": 0.7624902791840873,
              "hpd_min": 0.6923107204940517,
              "mutant": "Q21A",
              "repressors": 53.53566677410724
             },
             {
              "best_fit": 0.7153445977348065,
              "hpd_max": 0.7540069106748896,
              "hpd_min": 0.6823648989928528,
              "mutant": "Q21A",
              "repressors": 56.07169938205458
             },
             {
              "best_fit": 0.7058269574051568,
              "hpd_max": 0.7453217408741071,
              "hpd_min": 0.6722497850699662,
              "mutant": "Q21A",
              "repressors": 58.72786613189483
             },
             {
              "best_fit": 0.6961262699396003,
              "hpd_max": 0.7364371147346799,
              "hpd_min": 0.6619721237163672,
              "mutant": "Q21A",
              "repressors": 61.50985788580501
             },
             {
              "best_fit": 0.6862478884213825,
              "hpd_max": 0.7273559228970293,
              "hpd_min": 0.6515392318602594,
              "mutant": "Q21A",
              "repressors": 64.42363508721374
             },
             {
              "best_fit": 0.6761977510813614,
              "hpd_max": 0.7180816153677491,
              "hpd_min": 0.6409589862959907,
              "mutant": "Q21A",
              "repressors": 67.47544053110693
             },
             {
              "best_fit": 0.6659823783830294,
              "hpd_max": 0.708618212569471,
              "hpd_min": 0.6302398076341529,
              "mutant": "Q21A",
              "repressors": 70.67181273927491
             },
             {
              "best_fit": 0.6556088663553854,
              "hpd_max": 0.6989703135058422,
              "hpd_min": 0.6193906402496916,
              "mutant": "Q21A",
              "repressors": 74.01959996915645
             },
             {
              "best_fit": 0.6450848760512715,
              "hpd_max": 0.6891431008007629,
              "hpd_min": 0.6084209282514655,
              "mutant": "Q21A",
              "repressors": 77.5259748862946
             },
             {
              "best_fit": 0.6344186190479093,
              "hpd_max": 0.6791423423909768,
              "hpd_min": 0.5973405875452958,
              "mutant": "Q21A",
              "repressors": 81.19844993184013
             },
             {
              "best_fit": 0.6236188389490418,
              "hpd_max": 0.6689743896757985,
              "hpd_min": 0.5861599741122915,
              "mutant": "Q21A",
              "repressors": 85.04489341802677
             },
             {
              "best_fit": 0.6126947888937392,
              "hpd_max": 0.6586461719571184,
              "hpd_min": 0.5748898486742076,
              "mutant": "Q21A",
              "repressors": 89.0735463861044
             },
             {
              "best_fit": 0.601656205124857,
              "hpd_max": 0.6481651870366535,
              "hpd_min": 0.5635413379668591,
              "mutant": "Q21A",
              "repressors": 93.29304026284686
             },
             {
              "best_fit": 0.590513276719526,
              "hpd_max": 0.6375394878753944,
              "hpd_min": 0.552125892890156,
              "mutant": "Q21A",
              "repressors": 97.71241535346496
             },
             {
              "best_fit": 0.5792766116340631,
              "hpd_max": 0.6267776652618864,
              "hpd_min": 0.5406552438481712,
              "mutant": "Q21A",
              "repressors": 102.34114021054528
             },
             {
              "best_fit": 0.567957199265338,
              "hpd_max": 0.6148216446127324,
              "hpd_min": 0.5280808162756044,
              "mutant": "Q21A",
              "repressors": 107.18913192051275
             },
             {
              "best_fit": 0.5565663697789648,
              "hpd_max": 0.6038044803915067,
              "hpd_min": 0.5165335863113417,
              "mutant": "Q21A",
              "repressors": 112.26677735108136
             },
             {
              "best_fit": 0.5451157505006976,
              "hpd_max": 0.5926809625737015,
              "hpd_min": 0.5049686734928864,
              "mutant": "Q21A",
              "repressors": 117.5849554052157
             },
             {
              "best_fit": 0.533617219710135,
              "hpd_max": 0.5814616207372295,
              "hpd_min": 0.4933984413341735,
              "mutant": "Q21A",
              "repressors": 123.15506032928262
             },
             {
              "best_fit": 0.5220828582143298,
              "hpd_max": 0.5683398522759748,
              "hpd_min": 0.48002426527946795,
              "mutant": "Q21A",
              "repressors": 128.9890261253308
             },
             {
              "best_fit": 0.5105248991123141,
              "hpd_max": 0.5569512415473702,
              "hpd_min": 0.4684846829301189,
              "mutant": "Q21A",
              "repressors": 135.09935211980266
             },
             {
              "best_fit": 0.49895567618911607,
              "hpd_max": 0.5455024448739201,
              "hpd_min": 0.45697870945419744,
              "mutant": "Q21A",
              "repressors": 141.4991297434576
             },
             {
              "best_fit": 0.4873875713989181,
              "hpd_max": 0.5340053328559823,
              "hpd_min": 0.44551845723400585,
              "mutant": "Q21A",
              "repressors": 148.20207057988586
             },
             {
              "best_fit": 0.47583296191112034,
              "hpd_max": 0.5224719802850162,
              "hpd_min": 0.43411584516651075,
              "mutant": "Q21A",
              "repressors": 155.2225357427048
             },
             {
              "best_fit": 0.4643041671998611,
              "hpd_max": 0.5109146159620649,
              "hpd_min": 0.42278254987537933,
              "mutant": "Q21A",
              "repressors": 162.5755666443795
             },
             {
              "best_fit": 0.45281339665686954,
              "hpd_max": 0.49934557113056877,
              "hpd_min": 0.41152995907045586,
              "mutant": "Q21A",
              "repressors": 170.27691722258996
             },
             {
              "best_fit": 0.44137269819939856,
              "hpd_max": 0.4877772269825624,
              "hpd_min": 0.4003691274387784,
              "mutant": "Q21A",
              "repressors": 178.34308769319094
             },
             {
              "best_fit": 0.429993908329592,
              "hpd_max": 0.4762219617116627,
              "hpd_min": 0.3893107354136025,
              "mutant": "Q21A",
              "repressors": 186.79135990207828
             },
             {
              "best_fit": 0.4186886040793445,
              "hpd_max": 0.46469209759328545,
              "hpd_min": 0.3783650511258783,
              "mutant": "Q21A",
              "repressors": 195.63983435170647
             },
             {
              "best_fit": 0.4074680572460462,
              "hpd_max": 0.4531998485721183,
              "hpd_min": 0.36754189579714597,
              "mutant": "Q21A",
              "repressors": 204.90746898158483
             },
             {
              "best_fit": 0.3963431912902143,
              "hpd_max": 0.44175726882898814,
              "hpd_min": 0.35685061278483204,
              "mutant": "Q21A",
              "repressors": 214.61411978584036
             },
             {
              "best_fit": 0.38532454122668613,
              "hpd_max": 0.43037620278410715,
              "hpd_min": 0.34630004044144147,
              "mutant": "Q21A",
              "repressors": 224.78058335487253
             },
             {
              "best_fit": 0.374422216797668,
              "hpd_max": 0.4190682369716234,
              "hpd_min": 0.3358984888991379,
              "mutant": "Q21A",
              "repressors": 235.4286414322418
             },
             {
              "best_fit": 0.3636458691694227,
              "hpd_max": 0.40784465419192134,
              "hpd_min": 0.32565372084161986,
              "mutant": "Q21A",
              "repressors": 246.5811075822604
             },
             {
              "best_fit": 0.35300466134573916,
              "hpd_max": 0.3967163903139243,
              "hpd_min": 0.31557293627694916,
              "mutant": "Q21A",
              "repressors": 258.2618760682677
             },
             {
              "best_fit": 0.34250724244154446,
              "hpd_max": 0.38569399406046895,
              "hpd_min": 0.30566276127886594,
              "mutant": "Q21A",
              "repressors": 270.49597304631345
             },
             {
              "best_fit": 0.33216172591004933,
              "hpd_max": 0.3747875900665608,
              "hpd_min": 0.2959292406208549,
              "mutant": "Q21A",
              "repressors": 283.3096101839324
             },
             {
              "best_fit": 0.3219756717676342,
              "hpd_max": 0.3640068454539063,
              "hpd_min": 0.28637783418743173,
              "mutant": "Q21A",
              "repressors": 296.73024081888695
             },
             {
              "best_fit": 0.31195607281309706,
              "hpd_max": 0.3533609401165254,
              "hpd_min": 0.2770134170112701,
              "mutant": "Q21A",
              "repressors": 310.7866187782014
             },
             {
              "best_fit": 0.30210934479273394,
              "hpd_max": 0.34285854086248857,
              "hpd_min": 0.2678402827532899,
              "mutant": "Q21A",
              "repressors": 325.508859983506
             },
             {
              "best_fit": 0.29244132042064247,
              "hpd_max": 0.33250777950685184,
              "hpd_min": 0.2588621504159053,
              "mutant": "Q21A",
              "repressors": 340.9285069746811
             },
             {
              "best_fit": 0.28295724712522474,
              "hpd_max": 0.32231623496162304,
              "hpd_min": 0.25008217405743316,
              "mutant": "Q21A",
              "repressors": 357.07859649004627
             },
             {
              "best_fit": 0.27366178835856503,
              "hpd_max": 0.31229091932096104,
              "hpd_min": 0.24150295525822654,
              "mutant": "Q21A",
              "repressors": 373.9937302478798
             },
             {
              "best_fit": 0.26455902827548616,
              "hpd_max": 0.3024382678945422,
              "hpd_min": 0.23312655807631344,
              "mutant": "Q21A",
              "repressors": 391.71014908092604
             },
             {
              "best_fit": 0.25565247956388054,
              "hpd_max": 0.2927641330998516,
              "hpd_min": 0.22495452622206863,
              "mutant": "Q21A",
              "repressors": 410.26581058271944
             },
             {
              "best_fit": 0.2469450941874406,
              "hpd_max": 0.2832737820856058,
              "hpd_min": 0.21698790217744335,
              "mutant": "Q21A",
              "repressors": 429.70047043208393
             },
             {
              "best_fit": 0.23843927678617705,
              "hpd_max": 0.2739718979240616,
              "hpd_min": 0.20922724798523776,
              "mutant": "Q21A",
              "repressors": 450.05576757004974
             },
             {
              "best_fit": 0.23013690046900548,
              "hpd_max": 0.26486258417995545,
              "hpd_min": 0.20167266743746948,
              "mutant": "Q21A",
              "repressors": 471.3753134116724
             },
             {
              "best_fit": 0.2220393247259923,
              "hpd_max": 0.25594937263843304,
              "hpd_min": 0.19432382939865983,
              "mutant": "Q21A",
              "repressors": 493.7047852839004
             },
             {
              "best_fit": 0.21414741518533398,
              "hpd_max": 0.2472352339537122,
              "hpd_min": 0.18717999200943827,
              "mutant": "Q21A",
              "repressors": 517.092024289676
             },
             {
              "best_fit": 0.20646156494145193,
              "hpd_max": 0.2381622803869788,
              "hpd_min": 0.17968210004386911,
              "mutant": "Q21A",
              "repressors": 541.5871378079471
             },
             {
              "best_fit": 0.19898171718536214,
              "hpd_max": 0.2298666378050028,
              "hpd_min": 0.17296097567068086,
              "mutant": "Q21A",
              "repressors": 567.2426068491977
             },
             {
              "best_fit": 0.19170738887631963,
              "hpd_max": 0.22177583209867377,
              "hpd_min": 0.1664402492844019,
              "mutant": "Q21A",
              "repressors": 594.1133984965034
             },
             {
              "best_fit": 0.18463769520421508,
              "hpd_max": 0.21389071296801496,
              "hpd_min": 0.16011776339990538,
              "mutant": "Q21A",
              "repressors": 622.2570836730231
             },
             {
              "best_fit": 0.17777137460490602,
              "hpd_max": 0.2062116583061338,
              "hpd_min": 0.15399107810413531,
              "mutant": "Q21A",
              "repressors": 651.7339604882427
             },
             {
              "best_fit": 0.17110681410515566,
              "hpd_max": 0.1987385968680356,
              "hpd_min": 0.14805749594293124,
              "mutant": "Q21A",
              "repressors": 682.6071834272386
             },
             {
              "best_fit": 0.16464207478973603,
              "hpd_max": 0.19147103197226814,
              "hpd_min": 0.1423140863106646,
              "mutant": "Q21A",
              "repressors": 714.9428986597577
             },
             {
              "best_fit": 0.15837491720013472,
              "hpd_max": 0.1844080659852678,
              "hpd_min": 0.13675770921799552,
              "mutant": "Q21A",
              "repressors": 748.8103857590023
             },
             {
              "best_fit": 0.15230282649182011,
              "hpd_max": 0.17754842535103366,
              "hpd_min": 0.13138503833032883,
              "mutant": "Q21A",
              "repressors": 784.2822061337682
             },
             {
              "best_fit": 0.14642303719485095,
              "hpd_max": 0.17089048594331163,
              "hpd_min": 0.12619258318621845,
              "mutant": "Q21A",
              "repressors": 821.434358491943
             },
             {
              "best_fit": 0.14073255744045388,
              "hpd_max": 0.1644322985333858,
              "hpd_min": 0.12117671052086096,
              "mutant": "Q21A",
              "repressors": 860.34644166845
             },
             {
              "best_fit": 0.13522819253378449,
              "hpd_max": 0.1581716141834849,
              "hpd_min": 0.1163336646348199,
              "mutant": "Q21A",
              "repressors": 901.1018251665018
             },
             {
              "best_fit": 0.12990656777021095,
              "hpd_max": 0.15210590939334623,
              "hpd_min": 0.11165958676212634,
              "mutant": "Q21A",
              "repressors": 943.7878277775382
             },
             {
              "best_fit": 0.12476415040891994,
              "hpd_max": 0.14623241084530952,
              "hpd_min": 0.10715053340484328,
              "mutant": "Q21A",
              "repressors": 988.4959046625586
             },
             {
              "best_fit": 0.11979727073330237,
              "hpd_max": 0.1405481196111509,
              "hpd_min": 0.102802493613025,
              "mutant": "Q21A",
              "repressors": 1035.3218432956626
             },
             {
              "best_fit": 0.11500214214230249,
              "hpd_max": 0.13504983470144655,
              "hpd_min": 0.09861140519972515,
              "mutant": "Q21A",
              "repressors": 1084.3659686896108
             },
             {
              "best_fit": 0.11037488023062424,
              "hpd_max": 0.12973417585535688,
              "hpd_min": 0.09457316989031138,
              "mutant": "Q21A",
              "repressors": 1135.7333583431052
             },
             {
              "best_fit": 0.1059115208283276,
              "hpd_max": 0.12459760548516327,
              "hpd_min": 0.09068366741385236,
              "mutant": "Q21A",
              "repressors": 1189.5340673703195
             },
             {
              "best_fit": 0.10160803698187491,
              "hpd_max": 0.11963644970551528,
              "hpd_min": 0.08693876855178737,
              "mutant": "Q21A",
              "repressors": 1245.883364295008
             },
             {
              "best_fit": 0.0974603548690934,
              "hpd_max": 0.1148469183920388,
              "hpd_min": 0.08333434716550847,
              "mutant": "Q21A",
              "repressors": 1304.9019780144029
             },
             {
              "best_fit": 0.09346436864981561,
              "hpd_max": 0.11022512422763547,
              "hpd_min": 0.07986629122994586,
              "mutant": "Q21A",
              "repressors": 1366.7163564620073
             },
             {
              "best_fit": 0.08961595426216318,
              "hpd_max": 0.10576710070740279,
              "hpd_min": 0.076530512904796,
              "mutant": "Q21A",
              "repressors": 1431.4589375234787
             },
             {
              "best_fit": 0.08591098218158918,
              "hpd_max": 0.10146881908459505,
              "hpd_min": 0.07332295767874278,
              "mutant": "Q21A",
              "repressors": 1499.2684327860457
             },
             {
              "best_fit": 0.08234532916594267,
              "hpd_max": 0.09732620425041798,
              "hpd_min": 0.07023961262495908,
              "mutant": "Q21A",
              "repressors": 1570.2901247293776
             },
             {
              "best_fit": 0.07891488901501155,
              "hpd_max": 0.09333514954970404,
              "hpd_min": 0.06727651380840606,
              "mutant": "Q21A",
              "repressors": 1644.6761779946644
             },
             {
              "best_fit": 0.07561558237731093,
              "hpd_max": 0.089491530542687,
              "hpd_min": 0.06442975288704329,
              "mutant": "Q21A",
              "repressors": 1722.5859653987875
             },
             {
              "best_fit": 0.07244336564036784,
              "hpd_max": 0.08579121773021024,
              "hpd_min": 0.061695482950087345,
              "mutant": "Q21A",
              "repressors": 1804.1864093920717
             },
             {
              "best_fit": 0.06939423894348501,
              "hpd_max": 0.08223008826581642,
              "hpd_min": 0.05906992363697708,
              "mutant": "Q21A",
              "repressors": 1889.6523396912096
             },
             {
              "best_fit": 0.06646425335401235,
              "hpd_max": 0.07880403668333345,
              "hpd_min": 0.056549365580782586,
              "mutant": "Q21A",
              "repressors": 1979.1668678535573
             },
             {
              "best_fit": 0.06364951724958048,
              "hpd_max": 0.07550898467284876,
              "hpd_min": 0.054130174219487945,
              "mutant": "Q21A",
              "repressors": 2072.921779595372
             },
             {
              "best_fit": 0.06094620194963008,
              "hpd_max": 0.0723408899414262,
              "hpd_min": 0.05180879301794586,
              "mutant": "Q21A",
              "repressors": 2171.117945694505
             },
             {
              "best_fit": 0.058350546639958756,
              "hpd_max": 0.06929575419762597,
              "hpd_min": 0.049581746142389645,
              "mutant": "Q21A",
              "repressors": 2273.9657523579276
             },
             {
              "best_fit": 0.055858862633972085,
              "hpd_max": 0.06636963030091134,
              "hpd_min": 0.04744564062824639,
              "mutant": "Q21A",
              "repressors": 2381.6855519761584
             },
             {
              "best_fit": 0.05346753701392383,
              "hpd_max": 0.06355862861843686,
              "hpd_min": 0.045397168080667065,
              "mutant": "Q21A",
              "repressors": 2494.5081352303164
             },
             {
              "best_fit": 0.05117303569471022,
              "hpd_max": 0.06085892263256879,
              "hpd_min": 0.04343310594570901,
              "mutant": "Q21A",
              "repressors": 2612.675225563329
             },
             {
              "best_fit": 0.048971905951806075,
              "hpd_max": 0.05826675384286668,
              "hpd_min": 0.04155031838851613,
              "mutant": "Q21A",
              "repressors": 2736.4399970746717
             },
             {
              "best_fit": 0.04686077845372929,
              "hpd_max": 0.055778436006205134,
              "hpd_min": 0.0397457568131657,
              "mutant": "Q21A",
              "repressors": 2866.0676169482504
             },
             {
              "best_fit": 0.04483636883804646,
              "hpd_max": 0.05339035875829994,
              "hpd_min": 0.038016460057119464,
              "mutant": "Q21A",
              "repressors": 3001.835813575589
             },
             {
              "best_fit": 0.042895478868418886,
              "hpd_max": 0.051098990659177904,
              "hpd_min": 0.03635955429145433,
              "mutant": "Q21A",
              "repressors": 3144.0354715915
             },
             {
              "best_fit": 0.04103499720856892,
              "hpd_max": 0.04890088170413927,
              "hpd_min": 0.034772252656272026,
              "mutant": "Q21A",
              "repressors": 3292.9712550971512
             },
             {
              "best_fit": 0.03925189984735371,
              "hpd_max": 0.04679266534055803,
              "hpd_min": 0.033251854658920055,
              "mutant": "Q21A",
              "repressors": 3448.96226040576
             },
             {
              "best_fit": 0.037543250207390716,
              "hpd_max": 0.04477106002948468,
              "hpd_min": 0.0317957453609086,
              "mutant": "Q21A",
              "repressors": 3612.3426997094302
             },
             {
              "best_fit": 0.03590619896791053,
              "hpd_max": 0.0428328703894981,
              "hpd_min": 0.030401394377694478,
              "mutant": "Q21A",
              "repressors": 3783.462617131929
             },
             {
              "best_fit": 0.03433798363073916,
              "hpd_max": 0.04097498795863316,
              "hpd_min": 0.02906635471383527,
              "mutant": "Q21A",
              "repressors": 3962.6886387014783
             },
             {
              "best_fit": 0.03283592785654657,
              "hpd_max": 0.03919439160851281,
              "hpd_min": 0.027788261454398,
              "mutant": "Q21A",
              "repressors": 4150.404757850477
             },
             {
              "best_fit": 0.03139744059676119,
              "hpd_max": 0.037488147643071866,
              "hpd_min": 0.026564830331950482,
              "mutant": "Q21A",
              "repressors": 4347.013158125026
             },
             {
              "best_fit": 0.030020015044847196,
              "hpd_max": 0.035853409612489444,
              "hpd_min": 0.025393856186968107,
              "mutant": "Q21A",
              "repressors": 4552.935074866948
             },
             {
              "best_fit": 0.02870122742898654,
              "hpd_max": 0.034287417871173245,
              "hpd_min": 0.02427321133806224,
              "mutant": "Q21A",
              "repressors": 4768.611697714469
             },
             {
              "best_fit": 0.02743873566660693,
              "hpd_max": 0.03278749890687562,
              "hpd_min": 0.023200843877079512,
              "mutant": "Q21A",
              "repressors": 4994.50511585514
             },
             {
              "best_fit": 0.02623027789965589,
              "hpd_max": 0.031351064466283475,
              "hpd_min": 0.02217477590283446,
              "mutant": "Q21A",
              "repressors": 5231.099308056264
             },
             {
              "best_fit": 0.02507367092804598,
              "hpd_max": 0.02997561050072392,
              "hpd_min": 0.021193101706024026,
              "mutant": "Q21A",
              "repressors": 5478.901179593945
             },
             {
              "best_fit": 0.023966808557288492,
              "hpd_max": 0.02865871595397394,
              "hpd_min": 0.020253985916728685,
              "mutant": "Q21A",
              "repressors": 5738.441648302392
             },
             {
              "best_fit": 0.02290765987499548,
              "hpd_max": 0.02739804141256312,
              "hpd_min": 0.019355661624831835,
              "mutant": "Q21A",
              "repressors": 6010.276782070382
             },
             {
              "best_fit": 0.021894267469664587,
              "hpd_max": 0.026191327637420592,
              "hpd_min": 0.018496428482685363,
              "mutant": "Q21A",
              "repressors": 6294.988990221887
             },
             {
              "best_fit": 0.020924745603965546,
              "hpd_max": 0.025036393994242925,
              "hpd_min": 0.0176746507984114,
              "mutant": "Q21A",
              "repressors": 6593.188271333548
             },
             {
              "best_fit": 0.019997278353624758,
              "hpd_max": 0.0239311367985556,
              "hpd_min": 0.016888755627358934,
              "mutant": "Q21A",
              "repressors": 6905.513520162331
             },
             {
              "best_fit": 0.019110117721950242,
              "hpd_max": 0.02287352759010502,
              "hpd_min": 0.01613723086842365,
              "mutant": "Q21A",
              "repressors": 7232.633896483534
             },
             {
              "best_fit": 0.018261581739054195,
              "hpd_max": 0.021861611349954523,
              "hpd_min": 0.015418623371189735,
              "mutant": "Q21A",
              "repressors": 7575.250258771913
             },
             {
              "best_fit": 0.017450052553912142,
              "hpd_max": 0.02089350467246584,
              "hpd_min": 0.014731537059159854,
              "mutant": "Q21A",
              "repressors": 7934.096665797492
             },
             {
              "best_fit": 0.016673974526542647,
              "hpd_max": 0.019967393903225897,
              "hpd_min": 0.01407463107370071,
              "mutant": "Q21A",
              "repressors": 8309.941949353395
             },
             {
              "best_fit": 0.015931852326799566,
              "hpd_max": 0.019081533252928065,
              "hpd_min": 0.013446617942745155,
              "mutant": "Q21A",
              "repressors": 8703.591361485165
             },
             {
              "best_fit": 0.015222249045535053,
              "hpd_max": 0.01823424289623368,
              "hpd_min": 0.012846261777753209,
              "mutant": "Q21A",
              "repressors": 9115.888299750828
             },
             {
              "best_fit": 0.014543784323214404,
              "hpd_max": 0.017423907063723484,
              "hpd_min": 0.012272376501941882,
              "mutant": "Q21A",
              "repressors": 9547.716114208057
             },
             {
              "best_fit": 0.013895132500440218,
              "hpd_max": 0.016648972134196038,
              "hpd_min": 0.0117238241123439,
              "mutant": "Q21A",
              "repressors": 10000
             },
             {
              "best_fit": 0.9959734534405017,
              "hpd_max": 0.996596334664902,
              "hpd_min": 0.995403679114772,
              "mutant": "Y20I",
              "repressors": 1
             },
             {
              "best_fit": 0.9957835165711008,
              "hpd_max": 0.99643567467449,
              "hpd_min": 0.9951869952115542,
              "mutant": "Y20I",
              "repressors": 1.0473708979594496
             },
             {
              "best_fit": 0.9955846598787244,
              "hpd_max": 0.9962674596050712,
              "hpd_min": 0.9949601479207649,
              "mutant": "Y20I",
              "repressors": 1.0969857978923836
             },
             {
              "best_fit": 0.9953764683039218,
              "hpd_max": 0.996091336920427,
              "hpd_min": 0.9947226655252571,
              "mutant": "Y20I",
              "repressors": 1.1489510001873091
             },
             {
              "best_fit": 0.995158507843453,
              "hpd_max": 0.9959069378991346,
              "hpd_min": 0.9944740548948278,
              "mutant": "Y20I",
              "repressors": 1.2033778407775895
             },
             {
              "best_fit": 0.9949303247214231,
              "hpd_max": 0.9957138769171059,
              "hpd_min": 0.9942138005606564,
              "mutant": "Y20I",
              "repressors": 1.2603829296797275
             },
             {
              "best_fit": 0.9946914445276269,
              "hpd_max": 0.9955117507008178,
              "hpd_min": 0.9939413637542677,
              "mutant": "Y20I",
              "repressors": 1.3200884008314178
             },
             {
              "best_fit": 0.9944413713221654,
              "hpd_max": 0.9953001375502829,
              "hpd_min": 0.9936561814101141,
              "mutant": "Y20I",
              "repressors": 1.3826221737646558
             },
             {
              "best_fit": 0.9941795867053902,
              "hpd_max": 0.995078596530804,
              "hpd_min": 0.9933576651309002,
              "mutant": "Y20I",
              "repressors": 1.4481182276745337
             },
             {
              "best_fit": 0.9939055488522558,
              "hpd_max": 0.9948466666325627,
              "hpd_min": 0.9930452001148062,
              "mutant": "Y20I",
              "repressors": 1.516716888470923
             },
             {
              "best_fit": 0.9936186915101755,
              "hpd_max": 0.9946038658970847,
              "hpd_min": 0.9927181440438129,
              "mutant": "Y20I",
              "repressors": 1.5885651294280527
             },
             {
              "best_fit": 0.99331842295951,
              "hpd_max": 0.9943496905096383,
              "hpd_min": 0.992375825932376,
              "mutant": "Y20I",
              "repressors": 1.6638168860761289
             },
             {
              "best_fit": 0.9930041249358532,
              "hpd_max": 0.9940836138566325,
              "hpd_min": 0.9920175449357691,
              "mutant": "Y20I",
              "repressors": 1.7426333860096501
             },
             {
              "best_fit": 0.9926751515133145,
              "hpd_max": 0.9938050855470985,
              "hpd_min": 0.9916425691174774,
              "mutant": "Y20I",
              "repressors": 1.8251834943190435
             },
             {
              "best_fit": 0.9923308279480653,
              "hpd_max": 0.993513530397363,
              "hpd_min": 0.9912501341751168,
              "mutant": "Y20I",
              "repressors": 1.9116440753857022
             },
             {
              "best_fit": 0.9919704494814657,
              "hpd_max": 0.9932083473780511,
              "hpd_min": 0.9908394421244512,
              "mutant": "Y20I",
              "repressors": 2.0022003718155847
             },
             {
              "best_fit": 0.991593280102173,
              "hpd_max": 0.9928889085225967,
              "hpd_min": 0.9904096599411877,
              "mutant": "Y20I",
              "repressors": 2.0970464013232326
             },
             {
              "best_fit": 0.9911985512667141,
              "hpd_max": 0.9925545577964827,
              "hpd_min": 0.9899599181603692,
              "mutant": "Y20I",
              "repressors": 2.1963853724165463
             },
             {
              "best_fit": 0.9907854605781067,
              "hpd_max": 0.9922046099264948,
              "hpd_min": 0.9894893094333249,
              "mutant": "Y20I",
              "repressors": 2.3004301197729182
             },
             {
              "best_fit": 0.9903531704222309,
              "hpd_max": 0.9918383491893334,
              "hpd_min": 0.9889968870423053,
              "mutant": "Y20I",
              "repressors": 2.409403560239525
             },
             {
              "best_fit": 0.9899008065617821,
              "hpd_max": 0.9914550281590123,
              "hpd_min": 0.9884816633731245,
              "mutant": "Y20I",
              "repressors": 2.5235391704347663
             },
             {
              "best_fit": 0.9894274566877876,
              "hpd_max": 0.9910538664125612,
              "hpd_min": 0.9879426083463332,
              "mutant": "Y20I",
              "repressors": 2.643081486974105
             },
             {
              "best_fit": 0.988932168928842,
              "hpd_max": 0.9906340491936587,
              "hpd_min": 0.9873786478076886,
              "mutant": "Y20I",
              "repressors": 2.768286630392066
             },
             {
              "best_fit": 0.9884139503183992,
              "hpd_max": 0.9901947260339367,
              "hpd_min": 0.9867886618789522,
              "mutant": "Y20I",
              "repressors": 2.899422853882877
             },
             {
              "best_fit": 0.9878717652206842,
              "hpd_max": 0.9897350093318442,
              "hpd_min": 0.9861714832703318,
              "mutant": "Y20I",
              "repressors": 3.036771118035458
             },
             {
              "best_fit": 0.9873045337160166,
              "hpd_max": 0.9892539728891079,
              "hpd_min": 0.9855258955562141,
              "mutant": "Y20I",
              "repressors": 3.180625692794119
             },
             {
              "best_fit": 0.9867111299466129,
              "hpd_max": 0.98875065040501,
              "hpd_min": 0.9848506314161903,
              "mutant": "Y20I",
              "repressors": 3.3312947879346737
             },
             {
              "best_fit": 0.9860903804242268,
              "hpd_max": 0.988224033928895,
              "hpd_min": 0.9841443708437739,
              "mutant": "Y20I",
              "repressors": 3.489101213406773
             },
             {
              "best_fit": 0.9854410623013148,
              "hpd_max": 0.9876730722715509,
              "hpd_min": 0.9834057393256384,
              "mutant": "Y20I",
              "repressors": 3.6543830709572562
             },
             {
              "best_fit": 0.9847619016077812,
              "hpd_max": 0.9870966693763487,
              "hpd_min": 0.9826333059946837,
              "mutant": "Y20I",
              "repressors": 3.827494478516312
             },
             {
              "best_fit": 0.9840515714557483,
              "hpd_max": 0.986493682651307,
              "hpd_min": 0.9818255817607581,
              "mutant": "Y20I",
              "repressors": 4.008806328898466
             },
             {
              "best_fit": 0.9833086902152479,
              "hpd_max": 0.9858629212635575,
              "hpd_min": 0.9809810174234317,
              "mutant": "Y20I",
              "repressors": 4.19870708444391
             },
             {
              "best_fit": 0.9825318196641993,
              "hpd_max": 0.9852031443980201,
              "hpd_min": 0.9800980017718308,
              "mutant": "Y20I",
              "repressors": 4.39760360930272
             },
             {
              "best_fit": 0.9817194631165739,
              "hpd_max": 0.9845130594824809,
              "hpd_min": 0.9791748596772232,
              "mutant": "Y20I",
              "repressors": 4.605922041145106
             },
             {
              "best_fit": 0.9808700635332153,
              "hpd_max": 0.9837913203816714,
              "hpd_min": 0.9782098501847587,
              "mutant": "Y20I",
              "repressors": 4.82410870416537
             },
             {
              "best_fit": 0.9799820016204156,
              "hpd_max": 0.9830365255634071,
              "hpd_min": 0.9772011646115716,
              "mutant": "Y20I",
              "repressors": 5.052631065335681
             },
             {
              "best_fit": 0.9790535939220161,
              "hpd_max": 0.9822472162403376,
              "hpd_min": 0.976146924659283,
              "mutant": "Y20I",
              "repressors": 5.291978735958442
             },
             {
              "best_fit": 0.9780830909115448,
              "hpd_max": 0.9814218744914023,
              "hpd_min": 0.9750451805498658,
              "mutant": "Y20I",
              "repressors": 5.542664520663106
             },
             {
              "best_fit": 0.9770686750916963,
              "hpd_max": 0.9805589213676823,
              "hpd_min": 0.9738939091948047,
              "mutant": "Y20I",
              "repressors": 5.8052255160948985
             },
             {
              "best_fit": 0.9760084591093057,
              "hpd_max": 0.9796567149879746,
              "hpd_min": 0.9726910124085347,
              "mutant": "Y20I",
              "repressors": 6.080224261649424
             },
             {
              "best_fit": 0.9749004838949046,
              "hpd_max": 0.9787135486301217,
              "hpd_min": 0.9714343151782564,
              "mutant": "Y20I",
              "repressors": 6.368249944718588
             },
             {
              "best_fit": 0.9737427168369185,
              "hpd_max": 0.9777276488248793,
              "hpd_min": 0.9701215640034105,
              "mutant": "Y20I",
              "repressors": 6.669919663030122
             },
             {
              "best_fit": 0.9725330500016273,
              "hpd_max": 0.9766971734599222,
              "hpd_min": 0.9687504253193565,
              "mutant": "Y20I",
              "repressors": 6.985879746785248
             },
             {
              "best_fit": 0.9712692984111384,
              "hpd_max": 0.9756202099024669,
              "hpd_min": 0.9673184840211303,
              "mutant": "Y20I",
              "repressors": 7.316807143427196
             },
             {
              "best_fit": 0.9699491983928105,
              "hpd_max": 0.974494773149933,
              "hpd_min": 0.9658232421045507,
              "mutant": "Y20I",
              "repressors": 7.663410868007459
             },
             {
              "best_fit": 0.9685704060148398,
              "hpd_max": 0.973318804019078,
              "hpd_min": 0.96426211744342,
              "mutant": "Y20I",
              "repressors": 8.026433522257175
             },
             {
              "best_fit": 0.9671304956240574,
              "hpd_max": 0.9720901673851134,
              "hpd_min": 0.9626324427230916,
              "mutant": "Y20I",
              "repressors": 8.406652885618325
             },
             {
              "best_fit": 0.9656269585033946,
              "hpd_max": 0.9708066504834717,
              "hpd_min": 0.960931464552278,
              "mutant": "Y20I",
              "repressors": 8.804883581643463
             },
             {
              "best_fit": 0.9640572016679523,
              "hpd_max": 0.969465961288103,
              "hpd_min": 0.9591563427766183,
              "mutant": "Y20I",
              "repressors": 9.221978823334327
             },
             {
              "best_fit": 0.9624185468201504,
              "hpd_max": 0.9680657269814812,
              "hpd_min": 0.9573041500192238,
              "mutant": "Y20I",
              "repressors": 9.658832241158704
             },
             {
              "best_fit": 0.9607082294860373,
              "hpd_max": 0.9666034925328627,
              "hpd_min": 0.9553718714751521,
              "mutant": "Y20I",
              "repressors": 10.11637979766207
             },
             {
              "best_fit": 0.9589233983564938,
              "hpd_max": 0.9650767194027701,
              "hpd_min": 0.9533564049885305,
              "mutant": "Y20I",
              "repressors": 10.59560179277616
             },
             {
              "best_fit": 0.9570611148587702,
              "hpd_max": 0.9634827843931774,
              "hpd_min": 0.9512545614428118,
              "mutant": "Y20I",
              "repressors": 11.097524964120721
             },
             {
              "best_fit": 0.9551183529855356,
              "hpd_max": 0.9618189786644393,
              "hpd_min": 0.9490630654964245,
              "mutant": "Y20I",
              "repressors": 11.623224686798524
             },
             {
              "best_fit": 0.9530919994103803,
              "hpd_max": 0.9600825069416224,
              "hpd_min": 0.9467785566978221,
              "mutant": "Y20I",
              "repressors": 12.173827277396613
             },
             {
              "best_fit": 0.9509788539204845,
              "hpd_max": 0.9582704869345762,
              "hpd_min": 0.9443975910156367,
              "mutant": "Y20I",
              "repressors": 12.750512407130135
             },
             {
              "best_fit": 0.9487756301989465,
              "hpd_max": 0.9563799489977979,
              "hpd_min": 0.9419166428212696,
              "mutant": "Y20I",
              "repressors": 13.354515629298987
             },
             {
              "best_fit": 0.9464789569909855,
              "hpd_max": 0.9544078360578921,
              "hpd_min": 0.9393321073627775,
              "mutant": "Y20I",
              "repressors": 13.987131026472387
             },
             {
              "best_fit": 0.944085379689946,
              "hpd_max": 0.9523510038381987,
              "hpd_min": 0.9366403037703067,
              "mutant": "Y20I",
              "repressors": 14.649713983072855
             },
             {
              "best_fit": 0.9415913623806339,
              "hpd_max": 0.9502062214119332,
              "hpd_min": 0.9338374786345411,
              "mutant": "Y20I",
              "repressors": 15.343684089300124
             },
             {
              "best_fit": 0.9389932903790326,
              "hpd_max": 0.9479701721169518,
              "hpd_min": 0.9309198102006424,
              "mutant": "Y20I",
              "repressors": 16.070528182616393
             },
             {
              "best_fit": 0.9362874733088128,
              "hpd_max": 0.9456394548669704,
              "hpd_min": 0.9278834132209047,
              "mutant": "Y20I",
              "repressors": 16.831803533309568
             },
             {
              "best_fit": 0.9334701487562512,
              "hpd_max": 0.9432105858957447,
              "hpd_min": 0.9247243445097795,
              "mutant": "Y20I",
              "repressors": 17.62914118095948
             },
             {
              "best_fit": 0.930537486546142,
              "hpd_max": 0.9406800009722944,
              "hpd_min": 0.9214386092450162,
              "mutant": "Y20I",
              "repressors": 18.464249428955434
             },
             {
              "best_fit": 0.9274855936819955,
              "hpd_max": 0.938044058126724,
              "hpd_min": 0.9180221680583073,
              "mutant": "Y20I",
              "repressors": 19.33891750455231
             },
             {
              "best_fit": 0.9243105199942225,
              "hpd_max": 0.9352990409275035,
              "hpd_min": 0.9144709449580132,
              "mutant": "Y20I",
              "repressors": 20.255019392306675
             },
             {
              "best_fit": 0.9210082645400159,
              "hpd_max": 0.9324411623521928,
              "hpd_min": 0.9107808361251746,
              "mutant": "Y20I",
              "repressors": 21.2145178491063
             },
             {
              "best_fit": 0.917574782798252,
              "hpd_max": 0.929466569294484,
              "hpd_min": 0.9069477196220377,
              "mutant": "Y20I",
              "repressors": 22.21946860939524
             },
             {
              "best_fit": 0.9140059947018382,
              "hpd_max": 0.9263713477510357,
              "hpd_min": 0.9029674660496706,
              "mutant": "Y20I",
              "repressors": 23.272024789604085
             },
             {
              "best_fit": 0.910297793548499,
              "hpd_max": 0.9231515287318453,
              "hpd_min": 0.898835950187836,
              "mutant": "Y20I",
              "repressors": 24.374441501222204
             },
             {
              "best_fit": 0.9064460558289243,
              "hpd_max": 0.9198030949377897,
              "hpd_min": 0.8945490636460764,
              "mutant": "Y20I",
              "repressors": 25.52908068239518
             },
             {
              "best_fit": 0.9024466520084642,
              "hpd_max": 0.9163219882483942,
              "hpd_min": 0.8901027285498639,
              "mutant": "Y20I",
              "repressors": 26.738416158399467
             },
             {
              "best_fit": 0.8982954582950441,
              "hpd_max": 0.912704118061814,
              "hpd_min": 0.885492912279622,
              "mutant": "Y20I",
              "repressors": 28.00503894183631
             },
             {
              "best_fit": 0.8939883694216535,
              "hpd_max": 0.9089453705273588,
              "hpd_min": 0.8807156432733894,
              "mutant": "Y20I",
              "repressors": 29.331662783900438
             },
             {
              "best_fit": 0.8895213124665358,
              "hpd_max": 0.9050416187085935,
              "hpd_min": 0.8757670278957995,
              "mutant": "Y20I",
              "repressors": 30.721129988617577
             },
             {
              "best_fit": 0.8848902617280485,
              "hpd_max": 0.9009887337120432,
              "hpd_min": 0.8706432683668762,
              "mutant": "Y20I",
              "repressors": 32.17641750250737
             },
             {
              "best_fit": 0.8800912546639807,
              "hpd_max": 0.896782596812736,
              "hpd_min": 0.8653406817338485,
              "mutant": "Y20I",
              "repressors": 33.700643292719285
             },
             {
              "best_fit": 0.8751204088968896,
              "hpd_max": 0.8924191126031839,
              "hpd_min": 0.8598557198577912,
              "mutant": "Y20I",
              "repressors": 35.2970730273065
             },
             {
              "best_fit": 0.8699739402776979,
              "hpd_max": 0.8878942231868573,
              "hpd_min": 0.8541849903743594,
              "mutant": "Y20I",
              "repressors": 36.96912707195028
             },
             {
              "best_fit": 0.8646481819893623,
              "hpd_max": 0.8832039234306818,
              "hpd_min": 0.8483252785742987,
              "mutant": "Y20I",
              "repressors": 38.72038781812555
             },
             {
              "best_fit": 0.8591396046608675,
              "hpd_max": 0.8783442772835454,
              "hpd_min": 0.8422735701347839,
              "mutant": "Y20I",
              "repressors": 40.5546073584083
             },
             {
              "best_fit": 0.8534448374491391,
              "hpd_max": 0.8733114351591942,
              "hpd_min": 0.836027074617071,
              "mutant": "Y20I",
              "repressors": 42.47571552536898
             },
             {
              "best_fit": 0.8475606900327358,
              "hpd_max": 0.8681016523721748,
              "hpd_min": 0.8295832496295743,
              "mutant": "Y20I",
              "repressors": 44.487828311275855
             },
             {
              "best_fit": 0.8414841754464268,
              "hpd_max": 0.8627113086046563,
              "hpd_min": 0.8229398255384089,
              "mutant": "Y20I",
              "repressors": 46.59525668664682
             },
             {
              "best_fit": 0.8352125336700909,
              "hpd_max": 0.8571369283700127,
              "hpd_min": 0.8160948305898922,
              "mutant": "Y20I",
              "repressors": 48.80251583654431
             },
             {
              "best_fit": 0.8287432558688888,
              "hpd_max": 0.8513752024259963,
              "hpd_min": 0.8090466162916704,
              "mutant": "Y20I",
              "repressors": 51.11433483440168
             },
             {
              "best_fit": 0.8220741091645304,
              "hpd_max": 0.8454230100762309,
              "hpd_min": 0.8017938828812974,
              "mutant": "Y20I",
              "repressors": 53.53566677410724
             },
             {
              "best_fit": 0.8152031617998517,
              "hpd_max": 0.8392774422836624,
              "hpd_min": 0.7943357046935207,
              "mutant": "Y20I",
              "repressors": 56.07169938205458
             },
             {
              "best_fit": 0.8081288085410808,
              "hpd_max": 0.8329358255036285,
              "hpd_min": 0.7866715552205719,
              "mutant": "Y20I",
              "repressors": 58.72786613189483
             },
             {
              "best_fit": 0.8008497961443436,
              "hpd_max": 0.8263957461274761,
              "hpd_min": 0.778801331643748,
              "mutant": "Y20I",
              "repressors": 61.50985788580501
             },
             {
              "best_fit": 0.7933652486954531,
              "hpd_max": 0.8196550754103311,
              "hpd_min": 0.7707253785999105,
              "mutant": "Y20I",
              "repressors": 64.42363508721374
             },
             {
              "best_fit": 0.7856746926151659,
              "hpd_max": 0.8127119947389143,
              "hpd_min": 0.7624445109336273,
              "mutant": "Y20I",
              "repressors": 67.47544053110693
             },
             {
              "best_fit": 0.7777780811062289,
              "hpd_max": 0.8055650210774256,
              "hpd_min": 0.7539600351749376,
              "mutant": "Y20I",
              "repressors": 70.67181273927491
             },
             {
              "best_fit": 0.7696758178040881,
              "hpd_max": 0.798213032411773,
              "hpd_min": 0.74527376947459,
              "mutant": "Y20I",
              "repressors": 74.01959996915645
             },
             {
              "best_fit": 0.7613687793804704,
              "hpd_max": 0.7906552929951068,
              "hpd_min": 0.7363880617234833,
              "mutant": "Y20I",
              "repressors": 77.5259748862946
             },
             {
              "best_fit": 0.7528583368386305,
              "hpd_max": 0.7828914781810669,
              "hpd_min": 0.7273058055813433,
              "mutant": "Y20I",
              "repressors": 81.19844993184013
             },
             {
              "best_fit": 0.7441463752312744,
              "hpd_max": 0.7749216986157514,
              "hpd_min": 0.7180304541417778,
              "mutant": "Y20I",
              "repressors": 85.04489341802677
             },
             {
              "best_fit": 0.735235311527474,
              "hpd_max": 0.7667465235455498,
              "hpd_min": 0.7085660309670734,
              "mutant": "Y20I",
              "repressors": 89.0735463861044
             },
             {
              "best_fit": 0.726128110353658,
              "hpd_max": 0.7583670029860691,
              "hpd_min": 0.6989171382367443,
              "mutant": "Y20I",
              "repressors": 93.29304026284686
             },
             {
              "best_fit": 0.716828297336378,
              "hpd_max": 0.7497846884878556,
              "hpd_min": 0.6890889617690769,
              "mutant": "Y20I",
              "repressors": 97.71241535346496
             },
             {
              "best_fit": 0.7073399697813307,
              "hpd_max": 0.7410016522278796,
              "hpd_min": 0.6790872726948831,
              "mutant": "Y20I",
              "repressors": 102.34114021054528
             },
             {
              "best_fit": 0.697667804434335,
              "hpd_max": 0.732020504152245,
              "hpd_min": 0.6689184255873979,
              "mutant": "Y20I",
              "repressors": 107.18913192051275
             },
             {
              "best_fit": 0.6878170620857997,
              "hpd_max": 0.7228444068956758,
              "hpd_min": 0.6585893528816303,
              "mutant": "Y20I",
              "repressors": 112.26677735108136
             },
             {
              "best_fit": 0.6777935888008033,
              "hpd_max": 0.7134770882074027,
              "hpd_min": 0.6481075554503362,
              "mutant": "Y20I",
              "repressors": 117.5849554052157
             },
             {
              "best_fit": 0.6676038135822182,
              "hpd_max": 0.7039228506213919,
              "hpd_min": 0.6374810892417765,
              "mutant": "Y20I",
              "repressors": 123.15506032928262
             },
             {
              "best_fit": 0.6572547423042925,
              "hpd_max": 0.6933898116899482,
              "hpd_min": 0.6259242882536941,
              "mutant": "Y20I",
              "repressors": 128.9890261253308
             },
             {
              "best_fit": 0.6467539477884936,
              "hpd_max": 0.6834629228517166,
              "hpd_min": 0.6150258443267109,
              "mutant": "Y20I",
              "repressors": 135.09935211980266
             },
             {
              "best_fit": 0.6361095559319331,
              "hpd_max": 0.6733660377684408,
              "hpd_min": 0.604010758967004,
              "mutant": "Y20I",
              "repressors": 141.4991297434576
             },
             {
              "best_fit": 0.6253302278408339,
              "hpd_max": 0.6631058382048542,
              "hpd_min": 0.5928891277526922,
              "mutant": "Y20I",
              "repressors": 148.20207057988586
             },
             {
              "best_fit": 0.6144251379667308,
              "hpd_max": 0.652689578946043,
              "hpd_min": 0.5816714726548687,
              "mutant": "Y20I",
              "repressors": 155.2225357427048
             },
             {
              "best_fit": 0.603403948290715,
              "hpd_max": 0.6421250761589581,
              "hpd_min": 0.570368705319808,
              "mutant": "Y20I",
              "repressors": 162.5755666443795
             },
             {
              "best_fit": 0.5922767786502522,
              "hpd_max": 0.631420691780378,
              "hpd_min": 0.5589920870608563,
              "mutant": "Y20I",
              "repressors": 170.27691722258996
             },
             {
              "best_fit": 0.5810541733530741,
              "hpd_max": 0.620585313903187,
              "hpd_min": 0.5475531858468515,
              "mutant": "Y20I",
              "repressors": 178.34308769319094
             },
             {
              "best_fit": 0.5697470642724168,
              "hpd_max": 0.6096283331791958,
              "hpd_min": 0.5360638306174218,
              "mutant": "Y20I",
              "repressors": 186.79135990207828
             },
             {
              "best_fit": 0.5583667306664759,
              "hpd_max": 0.5985596153051437,
              "hpd_min": 0.5245360632949794,
              "mutant": "Y20I",
              "repressors": 195.63983435170647
             },
             {
              "best_fit": 0.5469247560114036,
              "hpd_max": 0.5873894697081943,
              "hpd_min": 0.5129820888977826,
              "mutant": "Y20I",
              "repressors": 204.90746898158483
             },
             {
              "best_fit": 0.5354329821804675,
              "hpd_max": 0.5761286145972226,
              "hpd_min": 0.5014142241873107,
              "mutant": "Y20I",
              "repressors": 214.61411978584036
             },
             {
              "best_fit": 0.5239034613412181,
              "hpd_max": 0.5647881385955827,
              "hpd_min": 0.4898448453056901,
              "mutant": "Y20I",
              "repressors": 224.78058335487253
             },
             {
              "best_fit": 0.5123484059767769,
              "hpd_max": 0.5533794592188297,
              "hpd_min": 0.47828633487454525,
              "mutant": "Y20I",
              "repressors": 235.4286414322418
             },
             {
              "best_fit": 0.5007801374658863,
              "hpd_max": 0.5419142785060549,
              "hpd_min": 0.4667510290349981,
              "mutant": "Y20I",
              "repressors": 246.5811075822604
             },
             {
              "best_fit": 0.4892110336785068,
              "hpd_max": 0.5304045361551368,
              "hpd_min": 0.45525116490946815,
              "mutant": "Y20I",
              "repressors": 258.2618760682677
             },
             {
              "best_fit": 0.477653476058975,
              "hpd_max": 0.5188623605493655,
              "hpd_min": 0.4437988289593633,
              "mutant": "Y20I",
              "repressors": 270.49597304631345
             },
             {
              "best_fit": 0.46611979667669645,
              "hpd_max": 0.5073000180947511,
              "hpd_min": 0.4324059066988747,
              "mutant": "Y20I",
              "repressors": 283.3096101839324
             },
             {
              "best_fit": 0.45462222572485944,
              "hpd_max": 0.4957298613131474,
              "hpd_min": 0.421084034204232,
              "mutant": "Y20I",
              "repressors": 296.73024081888695
             },
             {
              "best_fit": 0.44317283994067985,
              "hpd_max": 0.48416427615549074,
              "hpd_min": 0.4098445518303978,
              "mutant": "Y20I",
              "repressors": 310.7866187782014
             },
             {
              "best_fit": 0.43178351240643376,
              "hpd_max": 0.4726156290115581,
              "hpd_min": 0.3986984605139554,
              "mutant": "Y20I",
              "repressors": 325.508859983506
             },
             {
              "best_fit": 0.4204658641692893,
              "hpd_max": 0.46109621389735916,
              "hpd_min": 0.3876563810025921,
              "mutant": "Y20I",
              "repressors": 340.9285069746811
             },
             {
              "best_fit": 0.4092312180902452,
              "hpd_max": 0.44961820029851596,
              "hpd_min": 0.37672851630897786,
              "mutant": "Y20I",
              "repressors": 357.07859649004627
             },
             {
              "best_fit": 0.3980905552989554,
              "hpd_max": 0.4381935821378083,
              "hpd_min": 0.36592461764092565,
              "mutant": "Y20I",
              "repressors": 373.9937302478798
             },
             {
              "best_fit": 0.3870544745926031,
              "hpd_max": 0.42683412831768996,
              "hpd_min": 0.3552539540114339,
              "mutant": "Y20I",
              "repressors": 391.71014908092604
             },
             {
              "best_fit": 0.3761331550741917,
              "hpd_max": 0.4155513352644625,
              "hpd_min": 0.34472528568259886,
              "mutant": "Y20I",
              "repressors": 410.26581058271944
             },
             {
              "best_fit": 0.36533632227953966,
              "hpd_max": 0.4043563818704539,
              "hpd_min": 0.3343468415473741,
              "mutant": "Y20I",
              "repressors": 429.70047043208393
             },
             {
              "best_fit": 0.3546732179938903,
              "hpd_max": 0.39326008719469646,
              "hpd_min": 0.32412630050372143,
              "mutant": "Y20I",
              "repressors": 450.05576757004974
             },
             {
              "best_fit": 0.3441525739093843,
              "hpd_max": 0.38227287124205894,
              "hpd_min": 0.314070776827717,
              "mutant": "Y20I",
              "repressors": 471.3753134116724
             },
             {
              "best_fit": 0.3337825892246376,
              "hpd_max": 0.3714047190964249,
              "hpd_min": 0.30418680950643195,
              "mutant": "Y20I",
              "repressors": 493.7047852839004
             },
             {
              "best_fit": 0.3235709122382973,
              "hpd_max": 0.3606651486363173,
              "hpd_min": 0.2944803554486357,
              "mutant": "Y20I",
              "repressors": 517.092024289676
             },
             {
              "best_fit": 0.3135246259405649,
              "hpd_max": 0.35006318201230474,
              "hpd_min": 0.28495678645212885,
              "mutant": "Y20I",
              "repressors": 541.5871378079471
             },
             {
              "best_fit": 0.30365023756108217,
              "hpd_max": 0.33960732101559205,
              "hpd_min": 0.2756208897713044,
              "mutant": "Y20I",
              "repressors": 567.2426068491977
             },
             {
              "best_fit": 0.29395367198897976,
              "hpd_max": 0.32930552641736405,
              "hpd_min": 0.2664768720977101,
              "mutant": "Y20I",
              "repressors": 594.1133984965034
             },
             {
              "best_fit": 0.28444026894185687,
              "hpd_max": 0.31916520130961734,
              "hpd_min": 0.25752836674016316,
              "mutant": "Y20I",
              "repressors": 622.2570836730231
             },
             {
              "best_fit": 0.27511478372548737,
              "hpd_max": 0.30919317843124616,
              "hpd_min": 0.2487784437694964,
              "mutant": "Y20I",
              "repressors": 651.7339604882427
             },
             {
              "best_fit": 0.2659813913954646,
              "hpd_max": 0.29939571141878113,
              "hpd_min": 0.24022962287627653,
              "mutant": "Y20I",
              "repressors": 682.6071834272386
             },
             {
              "best_fit": 0.2570436941060382,
              "hpd_max": 0.2897784698800717,
              "hpd_min": 0.2318838886777539,
              "mutant": "Y20I",
              "repressors": 714.9428986597577
             },
             {
              "best_fit": 0.24830473141018286,
              "hpd_max": 0.2803465381518989,
              "hpd_min": 0.22374270820270262,
              "mutant": "Y20I",
              "repressors": 748.8103857590023
             },
             {
              "best_fit": 0.2397669932584549,
              "hpd_max": 0.27110441756940346,
              "hpd_min": 0.21580705027942285,
              "mutant": "Y20I",
              "repressors": 784.2822061337682
             },
             {
              "best_fit": 0.2314324354323702,
              "hpd_max": 0.26205603204663636,
              "hpd_min": 0.2080774065527095,
              "mutant": "Y20I",
              "repressors": 821.434358491943
             },
             {
              "best_fit": 0.22330249714066525,
              "hpd_max": 0.2532047367436393,
              "hpd_min": 0.20055381385966045,
              "mutant": "Y20I",
              "repressors": 860.34644166845
             },
             {
              "best_fit": 0.21537812050364827,
              "hpd_max": 0.24455332957631915,
              "hpd_min": 0.1932358777014208,
              "mutant": "Y20I",
              "repressors": 901.1018251665018
             },
             {
              "best_fit": 0.207659771651577,
              "hpd_max": 0.23610406531095346,
              "hpd_min": 0.18612279655791927,
              "mutant": "Y20I",
              "repressors": 943.7878277775382
             },
             {
              "best_fit": 0.2001474631672547,
              "hpd_max": 0.22785867197530218,
              "hpd_min": 0.17921338680490978,
              "mutant": "Y20I",
              "repressors": 988.4959046625586
             },
             {
              "best_fit": 0.19284077761042054,
              "hpd_max": 0.21981836931281487,
              "hpd_min": 0.1725061080067861,
              "mutant": "Y20I",
              "repressors": 1035.3218432956626
             },
             {
              "best_fit": 0.18573889187160414,
              "hpd_max": 0.2119838890049988,
              "hpd_min": 0.1659990883742544,
              "mutant": "Y20I",
              "repressors": 1084.3659686896108
             },
             {
              "best_fit": 0.17884060211549124,
              "hpd_max": 0.2043554963893312,
              "hpd_min": 0.15969015019264948,
              "mutant": "Y20I",
              "repressors": 1135.7333583431052
             },
             {
              "best_fit": 0.1721443490880865,
              "hpd_max": 0.19693301340577013,
              "hpd_min": 0.15357683504409206,
              "mutant": "Y20I",
              "repressors": 1189.5340673703195
             },
             {
              "best_fit": 0.165648243577652,
              "hpd_max": 0.18971584251353926,
              "hpd_min": 0.14765642866447518,
              "mutant": "Y20I",
              "repressors": 1245.883364295008
             },
             {
              "best_fit": 0.15935009183614296,
              "hpd_max": 0.1824796423536014,
              "hpd_min": 0.141703472886707,
              "mutant": "Y20I",
              "repressors": 1304.9019780144029
             },
             {
              "best_fit": 0.15324742078530973,
              "hpd_max": 0.1756762842615292,
              "hpd_min": 0.13616715111065741,
              "mutant": "Y20I",
              "repressors": 1366.7163564620073
             },
             {
              "best_fit": 0.1473375028494297,
              "hpd_max": 0.16727835995116624,
              "hpd_min": 0.1290219619739305,
              "mutant": "Y20I",
              "repressors": 1431.4589375234787
             },
             {
              "best_fit": 0.14161738027449078,
              "hpd_max": 0.1609301837122017,
              "hpd_min": 0.12390957534698545,
              "mutant": "Y20I",
              "repressors": 1499.2684327860457
             },
             {
              "best_fit": 0.13608388881129557,
              "hpd_max": 0.15477814100024506,
              "hpd_min": 0.11897209194159378,
              "mutant": "Y20I",
              "repressors": 1570.2901247293776
             },
             {
              "best_fit": 0.13073368065716165,
              "hpd_max": 0.14881956651490744,
              "hpd_min": 0.11420570725514437,
              "mutant": "Y20I",
              "repressors": 1644.6761779946644
             },
             {
              "best_fit": 0.12556324656747564,
              "hpd_max": 0.14305155866008107,
              "hpd_min": 0.10960652211396828,
              "mutant": "Y20I",
              "repressors": 1722.5859653987875
             },
             {
              "best_fit": 0.12056893706414655,
              "hpd_max": 0.1374710033991495,
              "hpd_min": 0.10517056053438241,
              "mutant": "Y20I",
              "repressors": 1804.1864093920717
             },
             {
              "best_fit": 0.11574698268288569,
              "hpd_max": 0.1320745973939321,
              "hpd_min": 0.10089378652320291,
              "mutant": "Y20I",
              "repressors": 1889.6523396912096
             },
             {
              "best_fit": 0.11109351321511703,
              "hpd_max": 0.12685887033447943,
              "hpd_min": 0.0967721198118506,
              "mutant": "Y20I",
              "repressors": 1979.1668678535573
             },
             {
              "best_fit": 0.10660457591312877,
              "hpd_max": 0.121820206382839,
              "hpd_min": 0.09280145052727508,
              "mutant": "Y20I",
              "repressors": 2072.921779595372
             },
             {
              "best_fit": 0.10227615263878362,
              "hpd_max": 0.11695486466903404,
              "hpd_min": 0.0889776528109497,
              "mutant": "Y20I",
              "repressors": 2171.117945694505
             },
             {
              "best_fit": 0.09810417594668848,
              "hpd_max": 0.11225899879163466,
              "hpd_min": 0.08529659740416486,
              "mutant": "Y20I",
              "repressors": 2273.9657523579276
             },
             {
              "best_fit": 0.09408454410219098,
              "hpd_max": 0.10772867528838515,
              "hpd_min": 0.08175416322382725,
              "mutant": "Y20I",
              "repressors": 2381.6855519761584
             },
             {
              "best_fit": 0.09021313504294763,
              "hpd_max": 0.10335989105434104,
              "hpd_min": 0.07834624795801629,
              "mutant": "Y20I",
              "repressors": 2494.5081352303164
             },
             {
              "best_fit": 0.08648581930011792,
              "hpd_max": 0.09914858969583253,
              "hpd_min": 0.07506877771470817,
              "mutant": "Y20I",
              "repressors": 2612.675225563329
             },
             {
              "best_fit": 0.08289847190154367,
              "hpd_max": 0.09509067681832746,
              "hpd_min": 0.07191771576043562,
              "mutant": "Y20I",
              "repressors": 2736.4399970746717
             },
             {
              "best_fit": 0.0794469832846122,
              "hpd_max": 0.0911820342549111,
              "hpd_min": 0.06888907038825809,
              "mutant": "Y20I",
              "repressors": 2866.0676169482504
             },
             {
              "best_fit": 0.07612726925094591,
              "hpd_max": 0.08741853324968119,
              "hpd_min": 0.06597890195635434,
              "mutant": "Y20I",
              "repressors": 3001.835813575589
             },
             {
              "best_fit": 0.07293527999867326,
              "hpd_max": 0.08379604661691009,
              "hpd_min": 0.06318332913987931,
              "mutant": "Y20I",
              "repressors": 3144.0354715915
             },
             {
              "best_fit": 0.06986700827087872,
              "hpd_max": 0.08031045990240411,
              "hpd_min": 0.06049853443951557,
              "mutant": "Y20I",
              "repressors": 3292.9712550971512
             },
             {
              "best_fit": 0.06691849666098125,
              "hpd_max": 0.07695768157815663,
              "hpd_min": 0.05792076899046448,
              "mutant": "Y20I",
              "repressors": 3448.96226040576
             },
             {
              "best_fit": 0.06408584411730973,
              "hpd_max": 0.0737336523052082,
              "hpd_min": 0.05544635671552021,
              "mutant": "Y20I",
              "repressors": 3612.3426997094302
             },
             {
              "best_fit": 0.06136521169010294,
              "hpd_max": 0.07063435330265767,
              "hpd_min": 0.053071697865408614,
              "mutant": "Y20I",
              "repressors": 3783.462617131929
             },
             {
              "best_fit": 0.058752827564626076,
              "hpd_max": 0.06765581386309144,
              "hpd_min": 0.050793271988809924,
              "mutant": "Y20I",
              "repressors": 3962.6886387014783
             },
             {
              "best_fit": 0.05624499142412063,
              "hpd_max": 0.06479411805636733,
              "hpd_min": 0.04860764037346091,
              "mutant": "Y20I",
              "repressors": 4150.404757850477
             },
             {
              "best_fit": 0.05383807818595813,
              "hpd_max": 0.06204541066478858,
              "hpd_min": 0.04651144799850307,
              "mutant": "Y20I",
              "repressors": 4347.013158125026
             },
             {
              "best_fit": 0.05152854115369599,
              "hpd_max": 0.05940590239328452,
              "hpd_min": 0.0445014250368411,
              "mutant": "Y20I",
              "repressors": 4552.935074866948
             },
             {
              "best_fit": 0.04931291462679168,
              "hpd_max": 0.05687187439834673,
              "hpd_min": 0.04257438794474266,
              "mutant": "Y20I",
              "repressors": 4768.611697714469
             },
             {
              "best_fit": 0.04718781600856487,
              "hpd_max": 0.05443968217921218,
              "hpd_min": 0.040727240174277535,
              "mutant": "Y20I",
              "repressors": 4994.50511585514
             },
             {
              "best_fit": 0.04514994745164629,
              "hpd_max": 0.052105758874188834,
              "hpd_min": 0.03895697254248959,
              "mutant": "Y20I",
              "repressors": 5231.099308056264
             },
             {
              "best_fit": 0.04319609707865943,
              "hpd_max": 0.049866618004143055,
              "hpd_min": 0.03726066328944775,
              "mutant": "Y20I",
              "repressors": 5478.901179593945
             },
             {
              "best_fit": 0.041323139814275905,
              "hpd_max": 0.04771885570405282,
              "hpd_min": 0.03563547785555069,
              "mutant": "Y20I",
              "repressors": 5738.441648302392
             },
             {
              "best_fit": 0.03952803786310236,
              "hpd_max": 0.04565915248222384,
              "hpd_min": 0.03407866840668617,
              "mutant": "Y20I",
              "repressors": 6010.276782070382
             },
             {
              "best_fit": 0.037807840866120726,
              "hpd_max": 0.04368427454530558,
              "hpd_min": 0.03258757313408648,
              "mutant": "Y20I",
              "repressors": 6294.988990221887
             },
             {
              "best_fit": 0.03615968576663636,
              "hpd_max": 0.04179107472566337,
              "hpd_min": 0.031159615353986418,
              "mutant": "Y20I",
              "repressors": 6593.188271333548
             },
             {
              "best_fit": 0.03458079641491617,
              "hpd_max": 0.03997649304599852,
              "hpd_min": 0.029792302430497623,
              "mutant": "Y20I",
              "repressors": 6905.513520162331
             },
             {
              "best_fit": 0.03306848293893041,
              "hpd_max": 0.03823755695438185,
              "hpd_min": 0.028483224543465316,
              "mutant": "Y20I",
              "repressors": 7232.633896483534
             },
             {
              "best_fit": 0.03162014090686938,
              "hpd_max": 0.03657138126110592,
              "hpd_min": 0.02723005332148268,
              "mutant": "Y20I",
              "repressors": 7575.250258771913
             },
             {
              "best_fit": 0.030233250305397957,
              "hpd_max": 0.03497516780698773,
              "hpd_min": 0.026030540358708873,
              "mutant": "Y20I",
              "repressors": 7934.096665797492
             },
             {
              "best_fit": 0.028905374355946735,
              "hpd_max": 0.03344620489098243,
              "hpd_min": 0.02488251563267136,
              "mutant": "Y20I",
              "repressors": 8309.941949353395
             },
             {
              "best_fit": 0.02763415818973011,
              "hpd_max": 0.03198186648321925,
              "hpd_min": 0.02378388583883865,
              "mutant": "Y20I",
              "repressors": 8703.591361485165
             },
             {
              "best_fit": 0.02641732740062993,
              "hpd_max": 0.030579611247851773,
              "hpd_min": 0.02273263265642345,
              "mutant": "Y20I",
              "repressors": 9115.888299750828
             },
             {
              "best_fit": 0.025252686493598048,
              "hpd_max": 0.02923698139843951,
              "hpd_min": 0.021726810958622805,
              "mutant": "Y20I",
              "repressors": 9547.716114208057
             },
             {
              "best_fit": 0.024138117244812237,
              "hpd_max": 0.027951601406953384,
              "hpd_min": 0.020764546979318954,
              "mutant": "Y20I",
              "repressors": 10000
             }
            ]
           },
           "encoding": {
            "color": {
             "field": "mutant",
             "type": "nominal"
            },
            "x": {
             "axis": {
              "title": "repressors per cell"
             },
             "field": "repressors",
             "scale": {
              "type": "log"
             },
             "type": "quantitative"
            },
            "y": {
             "axis": {
              "title": "fold-change"
             },
             "field": "best_fit",
             "scale": {
              "type": "log"
             },
             "type": "quantitative"
            }
           },
           "mark": "line",
           "selection": {
            "selector086": {
             "bind": "scales",
             "encodings": [
              "x",
              "y"
             ],
             "mark": {
              "fill": "#333",
              "fillOpacity": 0.125,
              "stroke": "white"
             },
             "on": "[mousedown, window:mouseup] > window:mousemove!",
             "resolve": "global",
             "translate": "[mousedown, window:mouseup] > window:mousemove!",
             "type": "interval",
             "zoom": "wheel!"
            }
           },
           "width": 300
          },
          {
           "data": {
            "values": [
             {
              "IPTGuM": 0,
              "class": "DNA",
              "mean": 0.8059885207312331,
              "mutant": "Q21A",
              "repressors": 60,
              "sem": 0.028259635121705
             },
             {
              "IPTGuM": 0,
              "class": "DNA",
              "mean": 0.6233115295016866,
              "mutant": "Q21A",
              "repressors": 124,
              "sem": 0.021349138160183634
             },
             {
              "IPTGuM": 0,
              "class": "DNA",
              "mean": 0.29004052955561327,
              "mutant": "Q21A",
              "repressors": 260,
              "sem": 0.021501034511915772
             },
             {
              "IPTGuM": 0,
              "class": "DNA",
              "mean": 0.11748931910504468,
              "mutant": "Q21A",
              "repressors": 1220,
              "sem": 0.01708808335890752
             },
             {
              "IPTGuM": 0,
              "class": "DNA",
              "mean": 0.017938004692890027,
              "mutant": "Q21M",
              "repressors": 60,
              "sem": 0.0037511296400193047
             },
             {
              "IPTGuM": 0,
              "class": "DNA",
              "mean": 0.01972794975003567,
              "mutant": "Q21M",
              "repressors": 124,
              "sem": 0.0047728623081433165
             },
             {
              "IPTGuM": 0,
              "class": "DNA",
              "mean": 0.012286329654632876,
              "mutant": "Q21M",
              "repressors": 260,
              "sem": 0.0037166253151457176
             },
             {
              "IPTGuM": 0,
              "class": "DNA",
              "mean": 0.012217600126548817,
              "mutant": "Q21M",
              "repressors": 1220,
              "sem": 0.008738703572136535
             },
             {
              "IPTGuM": 0,
              "class": "DNA",
              "mean": 0.7879965017037772,
              "mutant": "Y20I",
              "repressors": 60,
              "sem": 0.017301634669149826
             },
             {
              "IPTGuM": 0,
              "class": "DNA",
              "mean": 0.764723663663446,
              "mutant": "Y20I",
              "repressors": 124,
              "sem": 0.04695629516088123
             },
             {
              "IPTGuM": 0,
              "class": "DNA",
              "mean": 0.5081181438267064,
              "mutant": "Y20I",
              "repressors": 260,
              "sem": 0.06247072510620809
             },
             {
              "IPTGuM": 0,
              "class": "DNA",
              "mean": 0.16284216442213886,
              "mutant": "Y20I",
              "repressors": 1220,
              "sem": 0.009394672594963094
             }
            ]
           },
           "encoding": {
            "color": {
             "field": "mutant",
             "type": "nominal"
            },
            "x": {
             "axis": {
              "title": "repressors per cell"
             },
             "field": "repressors",
             "scale": {
              "type": "log"
             },
             "type": "quantitative"
            },
            "y": {
             "axis": {
              "title": "fold-change"
             },
             "field": "mean",
             "scale": {
              "type": "log"
             },
             "type": "quantitative"
            }
           },
           "height": 300,
           "mark": "point",
           "selection": {
            "selector064": {
             "bind": "scales",
             "encodings": [
              "x",
              "y"
             ],
             "mark": {
              "fill": "#333",
              "fillOpacity": 0.125,
              "stroke": "white"
             },
             "on": "[mousedown, window:mouseup] > window:mousemove!",
             "resolve": "global",
             "translate": "[mousedown, window:mouseup] > window:mousemove!",
             "type": "interval",
             "zoom": "wheel!"
            }
           },
           "width": 300
          },
          {
           "data": {
            "values": [
             {
              "IPTGuM": 0,
              "class": "DNA",
              "mean": 0.8059885207312331,
              "mutant": "Q21A",
              "repressors": 60,
              "sem": 0.028259635121705
             },
             {
              "IPTGuM": 0,
              "class": "DNA",
              "mean": 0.6233115295016866,
              "mutant": "Q21A",
              "repressors": 124,
              "sem": 0.021349138160183634
             },
             {
              "IPTGuM": 0,
              "class": "DNA",
              "mean": 0.29004052955561327,
              "mutant": "Q21A",
              "repressors": 260,
              "sem": 0.021501034511915772
             },
             {
              "IPTGuM": 0,
              "class": "DNA",
              "mean": 0.11748931910504468,
              "mutant": "Q21A",
              "repressors": 1220,
              "sem": 0.01708808335890752
             },
             {
              "IPTGuM": 0,
              "class": "DNA",
              "mean": 0.017938004692890027,
              "mutant": "Q21M",
              "repressors": 60,
              "sem": 0.0037511296400193047
             },
             {
              "IPTGuM": 0,
              "class": "DNA",
              "mean": 0.01972794975003567,
              "mutant": "Q21M",
              "repressors": 124,
              "sem": 0.0047728623081433165
             },
             {
              "IPTGuM": 0,
              "class": "DNA",
              "mean": 0.012286329654632876,
              "mutant": "Q21M",
              "repressors": 260,
              "sem": 0.0037166253151457176
             },
             {
              "IPTGuM": 0,
              "class": "DNA",
              "mean": 0.012217600126548817,
              "mutant": "Q21M",
              "repressors": 1220,
              "sem": 0.008738703572136535
             },
             {
              "IPTGuM": 0,
              "class": "DNA",
              "mean": 0.7879965017037772,
              "mutant": "Y20I",
              "repressors": 60,
              "sem": 0.017301634669149826
             },
             {
              "IPTGuM": 0,
              "class": "DNA",
              "mean": 0.764723663663446,
              "mutant": "Y20I",
              "repressors": 124,
              "sem": 0.04695629516088123
             },
             {
              "IPTGuM": 0,
              "class": "DNA",
              "mean": 0.5081181438267064,
              "mutant": "Y20I",
              "repressors": 260,
              "sem": 0.06247072510620809
             },
             {
              "IPTGuM": 0,
              "class": "DNA",
              "mean": 0.16284216442213886,
              "mutant": "Y20I",
              "repressors": 1220,
              "sem": 0.009394672594963094
             }
            ]
           },
           "encoding": {
            "color": {
             "field": "mutant",
             "type": "nominal"
            },
            "x": {
             "axis": {
              "title": "repressors per cell"
             },
             "field": "repressors",
             "scale": {
              "type": "log"
             },
             "type": "quantitative"
            },
            "y": {
             "field": "ymin",
             "type": "quantitative"
            },
            "y2": {
             "field": "ymax",
             "type": "quantitative"
            }
           },
           "height": 300,
           "mark": "rule",
           "transform": [
            {
             "as": "ymin",
             "calculate": "datum.mean - datum.sem"
            },
            {
             "as": "ymax",
             "calculate": "datum.mean + datum.sem"
            }
           ],
           "width": 300
          },
          {
           "data": {
            "values": [
             {
              "best_fit": 0.6725628382338265,
              "hpd_max": 0.7511067967573793,
              "hpd_min": 0.6018518935170354,
              "mutant": "Q21M",
              "repressors": 1
             },
             {
              "best_fit": 0.6622900621280294,
              "hpd_max": 0.7423542218336936,
              "hpd_min": 0.5907107153143706,
              "mutant": "Q21M",
              "repressors": 1.0473708979594496
             },
             {
              "best_fit": 0.6518618224400908,
              "hpd_max": 0.7334031016153479,
              "hpd_min": 0.5794756098551203,
              "mutant": "Q21M",
              "repressors": 1.0969857978923836
             },
             {
              "best_fit": 0.641285978991314,
              "hpd_max": 0.7242565135662767,
              "hpd_min": 0.5681575601497614,
              "mutant": "Q21M",
              "repressors": 1.1489510001873091
             },
             {
              "best_fit": 0.630570935971634,
              "hpd_max": 0.7133169561670096,
              "hpd_min": 0.5551812170181802,
              "mutant": "Q21M",
              "repressors": 1.2033778407775895
             },
             {
              "best_fit": 0.619725622010508,
              "hpd_max": 0.7037595959736876,
              "hpd_min": 0.5437241524723355,
              "mutant": "Q21M",
              "repressors": 1.2603829296797275
             },
             {
              "best_fit": 0.6087594662678213,
              "hpd_max": 0.6940202885393714,
              "hpd_min": 0.5322206311091979,
              "mutant": "Q21M",
              "repressors": 1.3200884008314178
             },
             {
              "best_fit": 0.5976823706153362,
              "hpd_max": 0.6841045126340206,
              "hpd_min": 0.5206827549047028,
              "mutant": "Q21M",
              "repressors": 1.3826221737646558
             },
             {
              "best_fit": 0.5865046780289301,
              "hpd_max": 0.6740183318582964,
              "hpd_min": 0.509122771934842,
              "mutant": "Q21M",
              "repressors": 1.4481182276745337
             },
             {
              "best_fit": 0.5752371373618543,
              "hpd_max": 0.663768390935185,
              "hpd_min": 0.49755302463442824,
              "mutant": "Q21M",
              "repressors": 1.516716888470923
             },
             {
              "best_fit": 0.5638908647185434,
              "hpd_max": 0.6533619082200944,
              "hpd_min": 0.4859858972018294,
              "mutant": "Q21M",
              "repressors": 1.5885651294280527
             },
             {
              "best_fit": 0.5524773016961128,
              "hpd_max": 0.6428066643151139,
              "hpd_min": 0.47443376262464576,
              "mutant": "Q21M",
              "repressors": 1.6638168860761289
             },
             {
              "best_fit": 0.5410081708056362,
              "hpd_max": 0.632110986713048,
              "hpd_min": 0.46290892980720344,
              "mutant": "Q21M",
              "repressors": 1.7426333860096501
             },
             {
              "best_fit": 0.5294954284266032,
              "hpd_max": 0.6212837304402069,
              "hpd_min": 0.4514235912791483,
              "mutant": "Q21M",
              "repressors": 1.8251834943190435
             },
             {
              "best_fit": 0.5179512156847329,
              "hpd_max": 0.6103342547131309,
              "hpd_min": 0.4399897719554033,
              "mutant": "Q21M",
              "repressors": 1.9116440753857022
             },
             {
              "best_fit": 0.5063878076747157,
              "hpd_max": 0.59927239567275,
              "hpd_min": 0.42861927940149663,
              "mutant": "Q21M",
              "repressors": 2.0022003718155847
             },
             {
              "best_fit": 0.4948175614747753,
              "hpd_max": 0.5881084353090733,
              "hpd_min": 0.41732365603517657,
              "mutant": "Q21M",
              "repressors": 2.0970464013232326
             },
             {
              "best_fit": 0.483252863418569,
              "hpd_max": 0.5768530667395175,
              "hpd_min": 0.4061141336658224,
              "mutant": "Q21M",
              "repressors": 2.1963853724165463
             },
             {
              "best_fit": 0.47170607610146725,
              "hpd_max": 0.5655173560534327,
              "hpd_min": 0.3950015907381329,
              "mutant": "Q21M",
              "repressors": 2.3004301197729182
             },
             {
              "best_fit": 0.4601894856023871,
              "hpd_max": 0.5541127009833007,
              "hpd_min": 0.38399651260670903,
              "mutant": "Q21M",
              "repressors": 2.409403560239525
             },
             {
              "best_fit": 0.44871524939899465,
              "hpd_max": 0.5426507867084681,
              "hpd_min": 0.37310895512432835,
              "mutant": "Q21M",
              "repressors": 2.5235391704347663
             },
             {
              "best_fit": 0.4372953454433413,
              "hpd_max": 0.5311435391391697,
              "hpd_min": 0.36234851177989785,
              "mutant": "Q21M",
              "repressors": 2.643081486974105
             },
             {
              "best_fit": 0.4259415228470783,
              "hpd_max": 0.5196030760660673,
              "hpd_min": 0.3517242845732301,
              "mutant": "Q21M",
              "repressors": 2.768286630392066
             },
             {
              "best_fit": 0.4146652546007609,
              "hpd_max": 0.5059426634298081,
              "hpd_min": 0.33917575354726126,
              "mutant": "Q21M",
              "repressors": 2.899422853882877
             },
             {
              "best_fit": 0.40347769272094935,
              "hpd_max": 0.49437240156569767,
              "hpd_min": 0.32888053070972356,
              "mutant": "Q21M",
              "repressors": 3.036771118035458
             },
             {
              "best_fit": 0.39238962618256923,
              "hpd_max": 0.48280816430257334,
              "hpd_min": 0.31874707297183397,
              "mutant": "Q21M",
              "repressors": 3.180625692794119
             },
             {
              "best_fit": 0.3814114419531087,
              "hpd_max": 0.4712623122650235,
              "hpd_min": 0.3087821891355777,
              "mutant": "Q21M",
              "repressors": 3.3312947879346737
             },
             {
              "best_fit": 0.37055308940061804,
              "hpd_max": 0.4597471275412426,
              "hpd_min": 0.29899210862034514,
              "mutant": "Q21M",
              "repressors": 3.489101213406773
             },
             {
              "best_fit": 0.35982404830009534,
              "hpd_max": 0.4482747616343364,
              "hpd_min": 0.2893824766928409,
              "mutant": "Q21M",
              "repressors": 3.6543830709572562
             },
             {
              "best_fit": 0.3492333006136757,
              "hpd_max": 0.4368571845917191,
              "hpd_min": 0.27995835337439284,
              "mutant": "Q21M",
              "repressors": 3.827494478516312
             },
             {
              "best_fit": 0.33878930617008096,
              "hpd_max": 0.4255061357609205,
              "hpd_min": 0.27072421585226947,
              "mutant": "Q21M",
              "repressors": 4.008806328898466
             },
             {
              "best_fit": 0.32849998231900085,
              "hpd_max": 0.41423307659523745,
              "hpd_min": 0.2616839641932213,
              "mutant": "Q21M",
              "repressors": 4.19870708444391
             },
             {
              "best_fit": 0.31837268758735776,
              "hpd_max": 0.40304914590164054,
              "hpd_min": 0.25284093013376385,
              "mutant": "Q21M",
              "repressors": 4.39760360930272
             },
             {
              "best_fit": 0.3084142093176203,
              "hpd_max": 0.39196511788690364,
              "hpd_min": 0.24419788870277442,
              "mutant": "Q21M",
              "repressors": 4.605922041145106
             },
             {
              "best_fit": 0.2986307552241954,
              "hpd_max": 0.38099136331687994,
              "hpd_min": 0.2357570724177363,
              "mutant": "Q21M",
              "repressors": 4.82410870416537
             },
             {
              "best_fit": 0.2890279487631059,
              "hpd_max": 0.37013781405911494,
              "hpd_min": 0.22752018778629682,
              "mutant": "Q21M",
              "repressors": 5.052631065335681
             },
             {
              "best_fit": 0.27961082817316907,
              "hpd_max": 0.3594139312315105,
              "hpd_min": 0.21948843383948557,
              "mutant": "Q21M",
              "repressors": 5.291978735958442
             },
             {
              "best_fit": 0.2703838490141461,
              "hpd_max": 0.34882867713054727,
              "hpd_min": 0.21166252242168643,
              "mutant": "Q21M",
              "repressors": 5.542664520663106
             },
             {
              "best_fit": 0.261350889999108,
              "hpd_max": 0.3383904910625956,
              "hpd_min": 0.20404269996491564,
              "mutant": "Q21M",
              "repressors": 5.8052255160948985
             },
             {
              "best_fit": 0.25251526189474616,
              "hpd_max": 0.32810726915208566,
              "hpd_min": 0.19662877048076577,
              "mutant": "Q21M",
              "repressors": 6.080224261649424
             },
             {
              "best_fit": 0.24387971924458454,
              "hpd_max": 0.3179863481516502,
              "hpd_min": 0.1894201195121034,
              "mutant": "Q21M",
              "repressors": 6.368249944718588
             },
             {
              "best_fit": 0.23544647465598537,
              "hpd_max": 0.30803449323265064,
              "hpd_min": 0.18241573879784856,
              "mutant": "Q21M",
              "repressors": 6.669919663030122
             },
             {
              "best_fit": 0.22721721538234121,
              "hpd_max": 0.29825788969048156,
              "hpd_min": 0.17561425141748435,
              "mutant": "Q21M",
              "repressors": 6.985879746785248
             },
             {
              "best_fit": 0.21919312192668233,
              "hpd_max": 0.28866213845836425,
              "hpd_min": 0.16901393719692853,
              "mutant": "Q21M",
              "repressors": 7.316807143427196
             },
             {
              "best_fit": 0.21137488839181803,
              "hpd_max": 0.279252255286503,
              "hpd_min": 0.16261275817363932,
              "mutant": "Q21M",
              "repressors": 7.663410868007459
             },
             {
              "best_fit": 0.20376274430472677,
              "hpd_max": 0.2700326734109029,
              "hpd_min": 0.15640838393595566,
              "mutant": "Q21M",
              "repressors": 8.026433522257175
             },
             {
              "best_fit": 0.19635647764882605,
              "hpd_max": 0.2610072495081027,
              "hpd_min": 0.15039821666931955,
              "mutant": "Q21M",
              "repressors": 8.406652885618325
             },
             {
              "best_fit": 0.18915545884658988,
              "hpd_max": 0.25217927270874063,
              "hpd_min": 0.1445794157598946,
              "mutant": "Q21M",
              "repressors": 8.804883581643463
             },
             {
              "best_fit": 0.1821586654463017,
              "hpd_max": 0.24355147642428193,
              "hpd_min": 0.13894892182387764,
              "mutant": "Q21M",
              "repressors": 9.221978823334327
             },
             {
              "best_fit": 0.1753647072801227,
              "hpd_max": 0.23425638633323473,
              "hpd_min": 0.13263927703289977,
              "mutant": "Q21M",
              "repressors": 9.658832241158704
             },
             {
              "best_fit": 0.1687718518756922,
              "hpd_max": 0.2260564240643742,
              "hpd_min": 0.12740452374978573,
              "mutant": "Q21M",
              "repressors": 10.11637979766207
             },
             {
              "best_fit": 0.16237804991975693,
              "hpd_max": 0.21806175626020652,
              "hpd_min": 0.1223472240117017,
              "mutant": "Q21M",
              "repressors": 10.59560179277616
             },
             {
              "best_fit": 0.15618096058948053,
              "hpd_max": 0.21027300917690395,
              "hpd_min": 0.1174636492886186,
              "mutant": "Q21M",
              "repressors": 11.097524964120721
             },
             {
              "best_fit": 0.1501779765847437,
              "hpd_max": 0.20269034772263486,
              "hpd_min": 0.1127499634956902,
              "mutant": "Q21M",
              "repressors": 11.623224686798524
             },
             {
              "best_fit": 0.14436624871261455,
              "hpd_max": 0.19531349864137135,
              "hpd_min": 0.10820224157457455,
              "mutant": "Q21M",
              "repressors": 12.173827277396613
             },
             {
              "best_fit": 0.1387427098929461,
              "hpd_max": 0.1881417746110661,
              "hpd_min": 0.10381648702412362,
              "mutant": "Q21M",
              "repressors": 12.750512407130135
             },
             {
              "best_fit": 0.13330409847150307,
              "hpd_max": 0.18117409901178605,
              "hpd_min": 0.09958864836765918,
              "mutant": "Q21M",
              "repressors": 13.354515629298987
             },
             {
              "best_fit": 0.12804698074393006,
              "hpd_max": 0.1744090311330422,
              "hpd_min": 0.09551463455392245,
              "mutant": "Q21M",
              "repressors": 13.987131026472387
             },
             {
              "best_fit": 0.12296777261006105,
              "hpd_max": 0.16784479160479648,
              "hpd_min": 0.09159032929754939,
              "mutant": "Q21M",
              "repressors": 14.649713983072855
             },
             {
              "best_fit": 0.11806276029340397,
              "hpd_max": 0.1614792878530502,
              "hpd_min": 0.08781160437261286,
              "mutant": "Q21M",
              "repressors": 15.343684089300124
             },
             {
              "best_fit": 0.11332812007501063,
              "hpd_max": 0.15531013939817045,
              "hpd_min": 0.08417433187943554,
              "mutant": "Q21M",
              "repressors": 16.070528182616393
             },
             {
              "best_fit": 0.10875993700426967,
              "hpd_max": 0.1493347028318155,
              "hpd_min": 0.08067439551055479,
              "mutant": "Q21M",
              "repressors": 16.831803533309568
             },
             {
              "best_fit": 0.1043542225614073,
              "hpd_max": 0.1435500963261945,
              "hpd_min": 0.07730770084648221,
              "mutant": "Q21M",
              "repressors": 17.62914118095948
             },
             {
              "best_fit": 0.10010693125760656,
              "hpd_max": 0.13795322354713968,
              "hpd_min": 0.07407018471580373,
              "mutant": "Q21M",
              "repressors": 18.464249428955434
             },
             {
              "best_fit": 0.09601397616866228,
              "hpd_max": 0.1325407968598515,
              "hpd_min": 0.07095782365727783,
              "mutant": "Q21M",
              "repressors": 19.33891750455231
             },
             {
              "best_fit": 0.09207124340699188,
              "hpd_max": 0.12730935973299237,
              "hpd_min": 0.06796664152398305,
              "mutant": "Q21M",
              "repressors": 20.255019392306675
             },
             {
              "best_fit": 0.08827460554464202,
              "hpd_max": 0.12225530826287709,
              "hpd_min": 0.06509271627130352,
              "mutant": "Q21M",
              "repressors": 21.2145178491063
             },
             {
              "best_fit": 0.08461993400671927,
              "hpd_max": 0.11737491175471451,
              "hpd_min": 0.06233218597169647,
              "mutant": "Q21M",
              "repressors": 22.21946860939524
             },
             {
              "best_fit": 0.08110311046047092,
              "hpd_max": 0.11266433231208071,
              "hpd_min": 0.05968125409981868,
              "mutant": "Q21M",
              "repressors": 23.272024789604085
             },
             {
              "best_fit": 0.07772003723011219,
              "hpd_max": 0.10811964339898229,
              "hpd_min": 0.057136194131766425,
              "mutant": "Q21M",
              "repressors": 24.374441501222204
             },
             {
              "best_fit": 0.07446664677150525,
              "hpd_max": 0.10373684735095628,
              "hpd_min": 0.05469335350196466,
              "mutant": "Q21M",
              "repressors": 25.52908068239518
             },
             {
              "best_fit": 0.07133891024399953,
              "hpd_max": 0.09951189182261588,
              "hpd_min": 0.05234915696067854,
              "mutant": "Q21M",
              "repressors": 26.738416158399467
             },
             {
              "best_fit": 0.0683328452192237,
              "hpd_max": 0.09544068516890185,
              "hpd_min": 0.05010010937427151,
              "mutant": "Q21M",
              "repressors": 28.00503894183631
             },
             {
              "best_fit": 0.06544452256843541,
              "hpd_max": 0.09151911076604377,
              "hpd_min": 0.04794279800924293,
              "mutant": "Q21M",
              "repressors": 29.331662783900438
             },
             {
              "best_fit": 0.06267007257125724,
              "hpd_max": 0.08774304028590445,
              "hpd_min": 0.045873894339788356,
              "mutant": "Q21M",
              "repressors": 30.721129988617577
             },
             {
              "best_fit": 0.06000569028932433,
              "hpd_max": 0.08410834594402537,
              "hpd_min": 0.04389015541718136,
              "mutant": "Q21M",
              "repressors": 32.17641750250737
             },
             {
              "best_fit": 0.05744764024859829,
              "hpd_max": 0.08061091174735026,
              "hpd_min": 0.04198842483770547,
              "mutant": "Q21M",
              "repressors": 33.700643292719285
             },
             {
              "best_fit": 0.05499226047393012,
              "hpd_max": 0.07724664377235002,
              "hpd_min": 0.04016563334420825,
              "mutant": "Q21M",
              "repressors": 35.2970730273065
             },
             {
              "best_fit": 0.05263596591893247,
              "hpd_max": 0.07401147950815853,
              "hpd_min": 0.03841879909462842,
              "mutant": "Q21M",
              "repressors": 36.96912707195028
             },
             {
              "best_fit": 0.05037525133340518,
              "hpd_max": 0.07090139630242828,
              "hpd_min": 0.03674502762908934,
              "mutant": "Q21M",
              "repressors": 38.72038781812555
             },
             {
              "best_fit": 0.0482066936094943,
              "hpd_max": 0.06791241894999414,
              "hpd_min": 0.03514151156537893,
              "mutant": "Q21M",
              "repressors": 40.5546073584083
             },
             {
              "best_fit": 0.046126953646498534,
              "hpd_max": 0.06504062646616146,
              "hpd_min": 0.033605530050864474,
              "mutant": "Q21M",
              "repressors": 42.47571552536898
             },
             {
              "best_fit": 0.04413277777280834,
              "hpd_max": 0.06228215808757749,
              "hpd_min": 0.03213444799713756,
              "mutant": "Q21M",
              "repressors": 44.487828311275855
             },
             {
              "best_fit": 0.04222099876190844,
              "hpd_max": 0.05963321854427132,
              "hpd_min": 0.03072571512196257,
              "mutant": "Q21M",
              "repressors": 46.59525668664682
             },
             {
              "best_fit": 0.040388536477725105,
              "hpd_max": 0.05709008264661591,
              "hpd_min": 0.029376864821420733,
              "mutant": "Q21M",
              "repressors": 48.80251583654431
             },
             {
              "best_fit": 0.03863239818288675,
              "hpd_max": 0.054649099230740024,
              "hpd_min": 0.028085512893512948,
              "mutant": "Q21M",
              "repressors": 51.11433483440168
             },
             {
              "best_fit": 0.036949678541711356,
              "hpd_max": 0.052306694505350984,
              "hpd_min": 0.026849356132911412,
              "mutant": "Q21M",
              "repressors": 53.53566677410724
             },
             {
              "best_fit": 0.03533755934796134,
              "hpd_max": 0.05005937484207328,
              "hpd_min": 0.02566617081504049,
              "mutant": "Q21M",
              "repressors": 56.07169938205458
             },
             {
              "best_fit": 0.03379330900563525,
              "hpd_max": 0.0479037290503143,
              "hpd_min": 0.024533811086224457,
              "mutant": "Q21M",
              "repressors": 58.72786613189483
             },
             {
              "best_fit": 0.032314281789307904,
              "hpd_max": 0.045836430176375134,
              "hpd_min": 0.023450207275265568,
              "mutant": "Q21M",
              "repressors": 61.50985788580501
             },
             {
              "best_fit": 0.030897916908804838,
              "hpd_max": 0.043854236865076425,
              "hpd_min": 0.022413364140513006,
              "mutant": "Q21M",
              "repressors": 64.42363508721374
             },
             {
              "best_fit": 0.029541737401310553,
              "hpd_max": 0.04195399432059914,
              "hpd_min": 0.021421359065251944,
              "mutant": "Q21M",
              "repressors": 67.47544053110693
             },
             {
              "best_fit": 0.02824334887237284,
              "hpd_max": 0.04013263490157971,
              "hpd_min": 0.020472340213081287,
              "mutant": "Q21M",
              "repressors": 70.67181273927491
             },
             {
              "best_fit": 0.027000438105686714,
              "hpd_max": 0.03838717838377915,
              "hpd_min": 0.019564524653859678,
              "mutant": "Q21M",
              "repressors": 74.01959996915645
             },
             {
              "best_fit": 0.025810771560022313,
              "hpd_max": 0.03671473192188615,
              "hpd_min": 0.01869619646977839,
              "mutant": "Q21M",
              "repressors": 77.5259748862946
             },
             {
              "best_fit": 0.024672193770210675,
              "hpd_max": 0.035112489740241566,
              "hpd_min": 0.01786570485016751,
              "mutant": "Q21M",
              "repressors": 81.19844993184013
             },
             {
              "best_fit": 0.023582625667718335,
              "hpd_max": 0.033577732580500265,
              "hpd_min": 0.017071462182754134,
              "mutant": "Q21M",
              "repressors": 85.04489341802677
             },
             {
              "best_fit": 0.022540062835029375,
              "hpd_max": 0.03210782693249312,
              "hpd_min": 0.016311942148267068,
              "mutant": "Q21M",
              "repressors": 89.0735463861044
             },
             {
              "best_fit": 0.02154257370681409,
              "hpd_max": 0.03070022407283121,
              "hpd_min": 0.015585677824519013,
              "mutant": "Q21M",
              "repressors": 93.29304026284686
             },
             {
              "best_fit": 0.02058829772969329,
              "hpd_max": 0.029352458934113704,
              "hpd_min": 0.01489125980539092,
              "mutant": "Q21M",
              "repressors": 97.71241535346496
             },
             {
              "best_fit": 0.019675443491309678,
              "hpd_max": 0.028062148825972737,
              "hpd_min": 0.014227334339492428,
              "mutant": "Q21M",
              "repressors": 102.34114021054528
             },
             {
              "best_fit": 0.018802286828388692,
              "hpd_max": 0.026826992027617045,
              "hpd_min": 0.013592601492673608,
              "mutant": "Q21M",
              "repressors": 107.18913192051275
             },
             {
              "best_fit": 0.01796716892250996,
              "hpd_max": 0.025644766270027423,
              "hpd_min": 0.01298581333801336,
              "mutant": "Q21M",
              "repressors": 112.26677735108136
             },
             {
              "best_fit": 0.017168494391415254,
              "hpd_max": 0.024513327124515438,
              "hpd_min": 0.012405772176406926,
              "mutant": "Q21M",
              "repressors": 117.5849554052157
             },
             {
              "best_fit": 0.016404729382846896,
              "hpd_max": 0.02343060631298427,
              "hpd_min": 0.01185132879041529,
              "mutant": "Q21M",
              "repressors": 123.15506032928262
             },
             {
              "best_fit": 0.015674399677139378,
              "hpd_max": 0.022394609953928838,
              "hpd_min": 0.011321380733620639,
              "mutant": "Q21M",
              "repressors": 128.9890261253308
             },
             {
              "best_fit": 0.014976088804073804,
              "hpd_max": 0.021403416756981965,
              "hpd_min": 0.010814870657351316,
              "mutant": "Q21M",
              "repressors": 135.09935211980266
             },
             {
              "best_fit": 0.014308436178847556,
              "hpd_max": 0.020455176177655018,
              "hpd_min": 0.010330784676294995,
              "mutant": "Q21M",
              "repressors": 141.4991297434576
             },
             {
              "best_fit": 0.013670135261405744,
              "hpd_max": 0.019548106542832348,
              "hpd_min": 0.009868150774206507,
              "mutant": "Q21M",
              "repressors": 148.20207057988586
             },
             {
              "best_fit": 0.013059931742826115,
              "hpd_max": 0.018680493156560462,
              "hpd_min": 0.009426037250635916,
              "mutant": "Q21M",
              "repressors": 155.2225357427048
             },
             {
              "best_fit": 0.012476621761939961,
              "hpd_max": 0.017850686394721187,
              "hpd_min": 0.009003551209349462,
              "mutant": "Q21M",
              "repressors": 162.5755666443795
             },
             {
              "best_fit": 0.011919050154906791,
              "hpd_max": 0.017057099796291546,
              "hpd_min": 0.008599837088889435,
              "mutant": "Q21M",
              "repressors": 170.27691722258996
             },
             {
              "best_fit": 0.0113861087400369,
              "hpd_max": 0.016298208158070412,
              "hpd_min": 0.008214075235516876,
              "mutant": "Q21M",
              "repressors": 178.34308769319094
             },
             {
              "best_fit": 0.010876734639770957,
              "hpd_max": 0.015572545638989287,
              "hpd_min": 0.007845480518601,
              "mutant": "Q21M",
              "repressors": 186.79135990207828
             },
             {
              "best_fit": 0.010389908641376008,
              "hpd_max": 0.01487870387941918,
              "hpd_min": 0.0074933009883595076,
              "mutant": "Q21M",
              "repressors": 195.63983435170647
             },
             {
              "best_fit": 0.00992465359760196,
              "hpd_max": 0.014215330140236264,
              "hpd_min": 0.007156816575713536,
              "mutant": "Q21M",
              "repressors": 204.90746898158483
             },
             {
              "best_fit": 0.009480032868257264,
              "hpd_max": 0.013581125465810605,
              "hpd_min": 0.006835337833897195,
              "mutant": "Q21M",
              "repressors": 214.61411978584036
             },
             {
              "best_fit": 0.009055148803406472,
              "hpd_max": 0.012974842874533772,
              "hpd_min": 0.006528204721353878,
              "mutant": "Q21M",
              "repressors": 224.78058335487253
             },
             {
              "best_fit": 0.008649141268662792,
              "hpd_max": 0.012395285579998966,
              "hpd_min": 0.006234785425358044,
              "mutant": "Q21M",
              "repressors": 235.4286414322418
             },
             {
              "best_fit": 0.008261186212843248,
              "hpd_max": 0.011841305245488144,
              "hpd_min": 0.005954475225720472,
              "mutant": "Q21M",
              "repressors": 246.5811075822604
             },
             {
              "best_fit": 0.007890494278071676,
              "hpd_max": 0.011311800274003012,
              "hpd_min": 0.005686695397866424,
              "mutant": "Q21M",
              "repressors": 258.2618760682677
             },
             {
              "best_fit": 0.007536309452252684,
              "hpd_max": 0.010805714135696731,
              "hpd_min": 0.005430892154518095,
              "mutant": "Q21M",
              "repressors": 270.49597304631345
             },
             {
              "best_fit": 0.007197907763696648,
              "hpd_max": 0.010322033734218725,
              "hpd_min": 0.00518653562516434,
              "mutant": "Q21M",
              "repressors": 283.3096101839324
             },
             {
              "best_fit": 0.006874596017550479,
              "hpd_max": 0.009859787813173947,
              "hpd_min": 0.0049531188724612025,
              "mutant": "Q21M",
              "repressors": 296.73024081888695
             },
             {
              "best_fit": 0.0065657105735787095,
              "hpd_max": 0.00941804540361688,
              "hpd_min": 0.004730156944674833,
              "mutant": "Q21M",
              "repressors": 310.7866187782014
             },
             {
              "best_fit": 0.00627061616474468,
              "hpd_max": 0.008995914313248683,
              "hpd_min": 0.004517185963253897,
              "mutant": "Q21M",
              "repressors": 325.508859983506
             },
             {
              "best_fit": 0.005988704755959186,
              "hpd_max": 0.008592539657759605,
              "hpd_min": 0.004313762244600065,
              "mutant": "Q21M",
              "repressors": 340.9285069746811
             },
             {
              "best_fit": 0.005719394442293868,
              "hpd_max": 0.00820710243455687,
              "hpd_min": 0.004119461455092445,
              "mutant": "Q21M",
              "repressors": 357.07859649004627
             },
             {
              "best_fit": 0.0054621283858975744,
              "hpd_max": 0.007838818138938995,
              "hpd_min": 0.00393387779841421,
              "mutant": "Q21M",
              "repressors": 373.9937302478798
             },
             {
              "best_fit": 0.005216373790804049,
              "hpd_max": 0.007486935422617803,
              "hpd_min": 0.0037566232342262007,
              "mutant": "Q21M",
              "repressors": 391.71014908092604
             },
             {
              "best_fit": 0.004981620914779022,
              "hpd_max": 0.007150734794349475,
              "hpd_min": 0.00358732672723309,
              "mutant": "Q21M",
              "repressors": 410.26581058271944
             },
             {
              "best_fit": 0.004757382117321898,
              "hpd_max": 0.006829527362312502,
              "hpd_min": 0.003425633525691771,
              "mutant": "Q21M",
              "repressors": 429.70047043208393
             },
             {
              "best_fit": 0.004543190942911756,
              "hpd_max": 0.006522653617762802,
              "hpd_min": 0.0032712044684186795,
              "mutant": "Q21M",
              "repressors": 450.05576757004974
             },
             {
              "best_fit": 0.004338601238568325,
              "hpd_max": 0.0062294822594031445,
              "hpd_min": 0.0031237153193626743,
              "mutant": "Q21M",
              "repressors": 471.3753134116724
             },
             {
              "best_fit": 0.004143186304785027,
              "hpd_max": 0.00594940905782347,
              "hpd_min": 0.0029828561288219994,
              "mutant": "Q21M",
              "repressors": 493.7047852839004
             },
             {
              "best_fit": 0.003956538078883051,
              "hpd_max": 0.005681855759300423,
              "hpd_min": 0.0028483306203979783,
              "mutant": "Q21M",
              "repressors": 517.092024289676
             },
             {
              "best_fit": 0.003778266349831472,
              "hpd_max": 0.005426269028186436,
              "hpd_min": 0.0027198556027937305,
              "mutant": "Q21M",
              "repressors": 541.5871378079471
             },
             {
              "best_fit": 0.0036079980035786836,
              "hpd_max": 0.005182119427070596,
              "hpd_min": 0.0025971604055832756,
              "mutant": "Q21M",
              "repressors": 567.2426068491977
             },
             {
              "best_fit": 0.003445376297944131,
              "hpd_max": 0.00494890043385414,
              "hpd_min": 0.0024799863380947215,
              "mutant": "Q21M",
              "repressors": 594.1133984965034
             },
             {
              "best_fit": 0.0032900601661260214,
              "hpd_max": 0.004726127494851655,
              "hpd_min": 0.0023680861705703744,
              "mutant": "Q21M",
              "repressors": 622.2570836730231
             },
             {
              "best_fit": 0.003141723547890248,
              "hpd_max": 0.004513337113004679,
              "hpd_min": 0.002261223636786694,
              "mutant": "Q21M",
              "repressors": 651.7339604882427
             },
             {
              "best_fit": 0.0030000547475175156,
              "hpd_max": 0.004310085970276014,
              "hpd_min": 0.002159172957337581,
              "mutant": "Q21M",
              "repressors": 682.6071834272386
             },
             {
              "best_fit": 0.002864755817599388,
              "hpd_max": 0.004115950083280449,
              "hpd_min": 0.0020617183828055313,
              "mutant": "Q21M",
              "repressors": 714.9428986597577
             },
             {
              "best_fit": 0.002735541967789578,
              "hpd_max": 0.003930523991199993,
              "hpd_min": 0.001968653756066623,
              "mutant": "Q21M",
              "repressors": 748.8103857590023
             },
             {
              "best_fit": 0.0026121409976336152,
              "hpd_max": 0.003753419975028422,
              "hpd_min": 0.001879782092996789,
              "mutant": "Q21M",
              "repressors": 784.2822061337682
             },
             {
              "best_fit": 0.0024942927526182424,
              "hpd_max": 0.0035842673071907784,
              "hpd_min": 0.0017949151808685662,
              "mutant": "Q21M",
              "repressors": 821.434358491943
             },
             {
              "best_fit": 0.00238174860260098,
              "hpd_max": 0.00342271153058753,
              "hpd_min": 0.0017138731937491273,
              "mutant": "Q21M",
              "repressors": 860.34644166845
             },
             {
              "best_fit": 0.0022742709418002065,
              "hpd_max": 0.0032684137661203286,
              "hpd_min": 0.0016364843242319916,
              "mutant": "Q21M",
              "repressors": 901.1018251665018
             },
             {
              "best_fit": 0.0021716327095466907,
              "hpd_max": 0.0031210500477661506,
              "hpd_min": 0.001562584430856251,
              "mutant": "Q21M",
              "repressors": 943.7878277775382
             },
             {
              "best_fit": 0.0020736169310184324,
              "hpd_max": 0.002980310684278603,
              "hpd_min": 0.0014920167005883019,
              "mutant": "Q21M",
              "repressors": 988.4959046625586
             },
             {
              "best_fit": 0.0019800162772021083,
              "hpd_max": 0.002845899646609315,
              "hpd_min": 0.001424631325762071,
              "mutant": "Q21M",
              "repressors": 1035.3218432956626
             },
             {
              "best_fit": 0.0018906326433458997,
              "hpd_max": 0.0027175339801580123,
              "hpd_min": 0.0013602851948942855,
              "mutant": "Q21M",
              "repressors": 1084.3659686896108
             },
             {
              "best_fit": 0.0018052767451901754,
              "hpd_max": 0.0025949432409769786,
              "hpd_min": 0.0012988415968116411,
              "mutant": "Q21M",
              "repressors": 1135.7333583431052
             },
             {
              "best_fit": 0.0017237677322841343,
              "hpd_max": 0.002477868955073899,
              "hpd_min": 0.001240169937546551,
              "mutant": "Q21M",
              "repressors": 1189.5340673703195
             },
             {
              "best_fit": 0.0016459328177181618,
              "hpd_max": 0.002366064099976378,
              "hpd_min": 0.0011841454694776746,
              "mutant": "Q21M",
              "repressors": 1245.883364295008
             },
             {
              "best_fit": 0.00157160692362301,
              "hpd_max": 0.002259292607741337,
              "hpd_min": 0.0011306490322103718,
              "mutant": "Q21M",
              "repressors": 1304.9019780144029
             },
             {
              "best_fit": 0.0015006323418082345,
              "hpd_max": 0.0021573288886132165,
              "hpd_min": 0.001079566804710853,
              "mutant": "Q21M",
              "repressors": 1366.7163564620073
             },
             {
              "best_fit": 0.001432858408933239,
              "hpd_max": 0.0020599573745559174,
              "hpd_min": 0.0010307900682258553,
              "mutant": "Q21M",
              "repressors": 1431.4589375234787
             },
             {
              "best_fit": 0.0013681411956249436,
              "hpd_max": 0.0019669720819047876,
              "hpd_min": 0.0009842149795372868,
              "mutant": "Q21M",
              "repressors": 1499.2684327860457
             },
             {
              "best_fit": 0.001306343208976427,
              "hpd_max": 0.001878176192406589,
              "hpd_min": 0.0009397423541184317,
              "mutant": "Q21M",
              "repressors": 1570.2901247293776
             },
             {
              "best_fit": 0.001247333107880775,
              "hpd_max": 0.0017933816519369664,
              "hpd_min": 0.0008972774587748991,
              "mutant": "Q21M",
              "repressors": 1644.6761779946644
             },
             {
              "best_fit": 0.0011909854306739135,
              "hpd_max": 0.0017124087862066622,
              "hpd_min": 0.000856729813369679,
              "mutant": "Q21M",
              "repressors": 1722.5859653987875
             },
             {
              "best_fit": 0.0011371803345792558,
              "hpd_max": 0.0016350859327892648,
              "hpd_min": 0.0008180130012472797,
              "mutant": "Q21M",
              "repressors": 1804.1864093920717
             },
             {
              "best_fit": 0.0010858033464656242,
              "hpd_max": 0.0015612490888246998,
              "hpd_min": 0.0007810444879870937,
              "mutant": "Q21M",
              "repressors": 1889.6523396912096
             },
             {
              "best_fit": 0.0010367451244480638,
              "hpd_max": 0.001490741573773892,
              "hpd_min": 0.000745745448130799,
              "mutant": "Q21M",
              "repressors": 1979.1668678535573
             },
             {
              "best_fit": 0.0009899012298788124,
              "hpd_max": 0.0014234137066209142,
              "hpd_min": 0.0007120405995427657,
              "mutant": "Q21M",
              "repressors": 2072.921779595372
             },
             {
              "best_fit": 0.0009451719092929102,
              "hpd_max": 0.001359122496939594,
              "hpd_min": 0.0006798580450761687,
              "mutant": "Q21M",
              "repressors": 2171.117945694505
             },
             {
              "best_fit": 0.0009024618858896023,
              "hpd_max": 0.0012977313492617813,
              "hpd_min": 0.0006491291212307197,
              "mutant": "Q21M",
              "repressors": 2273.9657523579276
             },
             {
              "best_fit": 0.0008616801601468915,
              "hpd_max": 0.0012391097802043336,
              "hpd_min": 0.000619788253500709,
              "mutant": "Q21M",
              "repressors": 2381.6855519761584
             },
             {
              "best_fit": 0.0008227398191823222,
              "hpd_max": 0.0011831331478313685,
              "hpd_min": 0.000591772818124379,
              "mutant": "Q21M",
              "repressors": 2494.5081352303164
             },
             {
              "best_fit": 0.0007855578544882505,
              "hpd_max": 0.0011296823927472778,
              "hpd_min": 0.000565023009957502,
              "mutant": "Q21M",
              "repressors": 2612.675225563329
             },
             {
              "best_fit": 0.0007500549876846242,
              "hpd_max": 0.0010786437904346145,
              "hpd_min": 0.0005394817162055094,
              "mutant": "Q21M",
              "repressors": 2736.4399970746717
             },
             {
              "best_fit": 0.0007161555039465054,
              "hpd_max": 0.001029908714369012,
              "hpd_min": 0.0005150943957595188,
              "mutant": "Q21M",
              "repressors": 2866.0676169482504
             },
             {
              "best_fit": 0.0006837870927773404,
              "hpd_max": 0.0009833734094608982,
              "hpd_min": 0.0004918089638922223,
              "mutant": "Q21M",
              "repressors": 3001.835813575589
             },
             {
              "best_fit": 0.000652880695812282,
              "hpd_max": 0.0009389387753909095,
              "hpd_min": 0.00046957568207981685,
              "mutant": "Q21M",
              "repressors": 3144.0354715915
             },
             {
              "best_fit": 0.0006233703613486793,
              "hpd_max": 0.0008965101594224933,
              "hpd_min": 0.0004483470527259637,
              "mutant": "Q21M",
              "repressors": 3292.9712550971512
             },
             {
              "best_fit": 0.000595193105313241,
              "hpd_max": 0.0008559971582913487,
              "hpd_min": 0.0004280777185732153,
              "mutant": "Q21M",
              "repressors": 3448.96226040576
             },
             {
              "best_fit": 0.0005682887783873096,
              "hpd_max": 0.0008173134287869784,
              "hpd_min": 0.00040872436659642754,
              "mutant": "Q21M",
              "repressors": 3612.3426997094302
             },
             {
              "best_fit": 0.000542599939023163,
              "hpd_max": 0.0007803765066567571,
              "hpd_min": 0.0003902456361813809,
              "mutant": "Q21M",
              "repressors": 3783.462617131929
             },
             {
              "best_fit": 0.0005180717320953664,
              "hpd_max": 0.0007451076334776045,
              "hpd_min": 0.000372602031400232,
              "mutant": "Q21M",
              "repressors": 3962.6886387014783
             },
             {
              "best_fit": 0.0004946517729418187,
              "hpd_max": 0.0007114315911544844,
              "hpd_min": 0.00035575583720343567,
              "mutant": "Q21M",
              "repressors": 4150.404757850477
             },
             {
              "best_fit": 0.0004722900365594307,
              "hpd_max": 0.0006792765437186788,
              "hpd_min": 0.0003396710393555219,
              "mutant": "Q21M",
              "repressors": 4347.013158125026
             },
             {
              "best_fit": 0.00045093875172922033,
              "hpd_max": 0.0006485738861119929,
              "hpd_min": 0.0003243132479495065,
              "mutant": "Q21M",
              "repressors": 4552.935074866948
             },
             {
              "best_fit": 0.00043055229985510673,
              "hpd_max": 0.0006192580996558136,
              "hpd_min": 0.00030964962434183334,
              "mutant": "Q21M",
              "repressors": 4768.611697714469
             },
             {
              "best_fit": 0.00041108711830980784,
              "hpd_max": 0.0005912666139162653,
              "hpd_min": 0.0002956488113565645,
              "mutant": "Q21M",
              "repressors": 4994.50511585514
             },
             {
              "best_fit": 0.00039250160809000073,
              "hpd_max": 0.0005645396746885548,
              "hpd_min": 0.00028228086661407145,
              "mutant": "Q21M",
              "repressors": 5231.099308056264
             },
             {
              "best_fit": 0.00037475604559133454,
              "hpd_max": 0.0005390202178350541,
              "hpd_min": 0.0002695171988457591,
              "mutant": "Q21M",
              "repressors": 5478.901179593945
             },
             {
              "best_fit": 0.00035781249832196187,
              "hpd_max": 0.0005146537487226735,
              "hpd_min": 0.0002573305070623615,
              "mutant": "Q21M",
              "repressors": 5738.441648302392
             },
             {
              "best_fit": 0.0003416347443810165,
              "hpd_max": 0.0004913882270156778,
              "hpd_min": 0.00024569472244911206,
              "mutant": "Q21M",
              "repressors": 6010.276782070382
             },
             {
              "best_fit": 0.00032618819553592284,
              "hpd_max": 0.00046917395659031345,
              "hpd_min": 0.0002345849528666154,
              "mutant": "Q21M",
              "repressors": 6294.988990221887
             },
             {
              "best_fit": 0.00031143982373955107,
              "hpd_max": 0.00044796348034740726,
              "hpd_min": 0.0002239774298415313,
              "mutant": "Q21M",
              "repressors": 6593.188271333548
             },
             {
              "best_fit": 0.0002973580909351097,
              "hpd_max": 0.0004277114797085545,
              "hpd_min": 0.0002138494579362586,
              "mutant": "Q21M",
              "repressors": 6905.513520162331
             },
             {
              "best_fit": 0.0002839128820032257,
              "hpd_max": 0.00040837467859056913,
              "hpd_min": 0.00020417936639165296,
              "mutant": "Q21M",
              "repressors": 7232.633896483534
             },
             {
              "best_fit": 0.00027107544071197577,
              "hpd_max": 0.0003899117516615862,
              "hpd_min": 0.00019494646294146466,
              "mutant": "Q21M",
              "repressors": 7575.250258771913
             },
             {
              "best_fit": 0.0002588183085366754,
              "hpd_max": 0.0003722832366905837,
              "hpd_min": 0.0001861309897016341,
              "mutant": "Q21M",
              "repressors": 7934.096665797492
             },
             {
              "best_fit": 0.0002471152662220201,
              "hpd_max": 0.00035545145081011326,
              "hpd_min": 0.0001777140810418388,
              "mutant": "Q21M",
              "repressors": 8309.941949353395
             },
             {
              "best_fit": 0.00023594127796473249,
              "hpd_max": 0.0003393804105197621,
              "hpd_min": 0.0001696777233507714,
              "mutant": "Q21M",
              "repressors": 8703.591361485165
             },
             {
              "best_fit": 0.0002252724381001806,
              "hpd_max": 0.0003240357552652608,
              "hpd_min": 0.00016200471661052693,
              "mutant": "Q21M",
              "repressors": 9115.888299750828
             },
             {
              "best_fit": 0.00021508592018153292,
              "hpd_max": 0.00030938467443526285,
              "hpd_min": 0.00015467863769921665,
              "mutant": "Q21M",
              "repressors": 9547.716114208057
             },
             {
              "best_fit": 0.00020535992834489118,
              "hpd_max": 0.0002953958376246327,
              "hpd_min": 0.00014768380534449927,
              "mutant": "Q21M",
              "repressors": 10000
             },
             {
              "best_fit": 0.9929532444007138,
              "hpd_max": 0.9942152541400285,
              "hpd_min": 0.991766630924053,
              "mutant": "Q21A",
              "repressors": 1
             },
             {
              "best_fit": 0.9926218961535339,
              "hpd_max": 0.9939428853568556,
              "hpd_min": 0.9913799708394516,
              "mutant": "Q21A",
              "repressors": 1.0473708979594496
             },
             {
              "best_fit": 0.9922750886627999,
              "hpd_max": 0.9936577741781082,
              "hpd_min": 0.9909753174432144,
              "mutant": "Q21A",
              "repressors": 1.0969857978923836
             },
             {
              "best_fit": 0.9919121123252561,
              "hpd_max": 0.993359332347681,
              "hpd_min": 0.9905518492802607,
              "mutant": "Q21A",
              "repressors": 1.1489510001873091
             },
             {
              "best_fit": 0.9915322260859767,
              "hpd_max": 0.9930469452109075,
              "hpd_min": 0.9901087089158819,
              "mutant": "Q21A",
              "repressors": 1.2033778407775895
             },
             {
              "best_fit": 0.991134656152347,
              "hpd_max": 0.9927199706030976,
              "hpd_min": 0.9896450015065154,
              "mutant": "Q21A",
              "repressors": 1.2603829296797275
             },
             {
              "best_fit": 0.9907185946660402,
              "hpd_max": 0.9923777376984322,
              "hpd_min": 0.9891597933281427,
              "mutant": "Q21A",
              "repressors": 1.3200884008314178
             },
             {
              "best_fit": 0.9902831983327074,
              "hpd_max": 0.9920195458185268,
              "hpd_min": 0.9886521102625678,
              "mutant": "Q21A",
              "repressors": 1.3826221737646558
             },
             {
              "best_fit": 0.9898275870092361,
              "hpd_max": 0.9916446632000508,
              "hpd_min": 0.9881209362420293,
              "mutant": "Q21A",
              "repressors": 1.4481182276745337
             },
             {
              "best_fit": 0.989350842248587,
              "hpd_max": 0.9912523257208746,
              "hpd_min": 0.9875652116528346,
              "mutant": "Q21A",
              "repressors": 1.516716888470923
             },
             {
              "best_fit": 0.9888520058023853,
              "hpd_max": 0.9908417355843159,
              "hpd_min": 0.9869838316989538,
              "mutant": "Q21A",
              "repressors": 1.5885651294280527
             },
             {
              "best_fit": 0.988330078081647,
              "hpd_max": 0.9904120599611667,
              "hpd_min": 0.9863756447267944,
              "mutant": "Q21A",
              "repressors": 1.6638168860761289
             },
             {
              "best_fit": 0.9877840165762298,
              "hpd_max": 0.9899624295893175,
              "hpd_min": 0.9857394505126951,
              "mutant": "Q21A",
              "repressors": 1.7426333860096501
             },
             {
              "best_fit": 0.9872127342338493,
              "hpd_max": 0.9894919373309393,
              "hpd_min": 0.9850739985150159,
              "mutant": "Q21A",
              "repressors": 1.8251834943190435
             },
             {
              "best_fit": 0.9866150977997631,
              "hpd_max": 0.988999636687349,
              "hpd_min": 0.9843779860930946,
              "mutant": "Q21A",
              "repressors": 1.9116440753857022
             },
             {
              "best_fit": 0.9859899261185401,
              "hpd_max": 0.9884845402718798,
              "hpd_min": 0.9836500566957496,
              "mutant": "Q21A",
              "repressors": 2.0022003718155847
             },
             {
              "best_fit": 0.9853359883996535,
              "hpd_max": 0.9879456182412782,
              "hpd_min": 0.9828887980224814,
              "mutant": "Q21A",
              "repressors": 2.0970464013232326
             },
             {
              "best_fit": 0.9846520024490082,
              "hpd_max": 0.9873817966863953,
              "hpd_min": 0.9820927401610211,
              "mutant": "Q21A",
              "repressors": 2.1963853724165463
             },
             {
              "best_fit": 0.9839366328689252,
              "hpd_max": 0.9867919559831956,
              "hpd_min": 0.9812603537054315,
              "mutant": "Q21A",
              "repressors": 2.3004301197729182
             },
             {
              "best_fit": 0.9831884892295389,
              "hpd_max": 0.9861749291054053,
              "hpd_min": 0.9803900478595678,
              "mutant": "Q21A",
              "repressors": 2.409403560239525
             },
             {
              "best_fit": 0.9824061242150653,
              "hpd_max": 0.9855294999004409,
              "hpd_min": 0.9794801685313564,
              "mutant": "Q21A",
              "repressors": 2.5235391704347663
             },
             {
              "best_fit": 0.9815880317489166,
              "hpd_max": 0.984854401330618,
              "hpd_min": 0.9785289964240608,
              "mutant": "Q21A",
              "repressors": 2.643081486974105
             },
             {
              "best_fit": 0.980732645102239,
              "hpd_max": 0.9841483136820369,
              "hpd_min": 0.9775347451314681,
              "mutant": "Q21A",
              "repressors": 2.768286630392066
             },
             {
              "best_fit": 0.9798383349910628,
              "hpd_max": 0.9834098627439738,
              "hpd_min": 0.9764955592447627,
              "mutant": "Q21A",
              "repressors": 2.899422853882877
             },
             {
              "best_fit": 0.9789034076679592,
              "hpd_max": 0.9826376179620807,
              "hpd_min": 0.9754095124797353,
              "mutant": "Q21A",
              "repressors": 3.036771118035458
             },
             {
              "best_fit": 0.9779261030148297,
              "hpd_max": 0.9818300905692168,
              "hpd_min": 0.9742746058339401,
              "mutant": "Q21A",
              "repressors": 3.180625692794119
             },
             {
              "best_fit": 0.9769045926442621,
              "hpd_max": 0.9809857316983077,
              "hpd_min": 0.9730887657844335,
              "mutant": "Q21A",
              "repressors": 3.3312947879346737
             },
             {
              "best_fit": 0.9758369780177558,
              "hpd_max": 0.9801029304822354,
              "hpd_min": 0.9718498425378186,
              "mutant": "Q21A",
              "repressors": 3.489101213406773
             },
             {
              "best_fit": 0.9747212885900431,
              "hpd_max": 0.9791800121464461,
              "hpd_min": 0.9705556083454865,
              "mutant": "Q21A",
              "repressors": 3.6543830709572562
             },
             {
              "best_fit": 0.9735554799897376,
              "hpd_max": 0.9782152361006774,
              "hpd_min": 0.9692037558981829,
              "mutant": "Q21A",
              "repressors": 3.827494478516312
             },
             {
              "best_fit": 0.9723374322475977,
              "hpd_max": 0.977206794037004,
              "hpd_min": 0.9677918968153254,
              "mutant": "Q21A",
              "repressors": 4.008806328898466
             },
             {
              "best_fit": 0.9710649480848426,
              "hpd_max": 0.9761528080422389,
              "hpd_min": 0.9663175602458892,
              "mutant": "Q21A",
              "repressors": 4.19870708444391
             },
             {
              "best_fit": 0.9697357512751514,
              "hpd_max": 0.9750513287336436,
              "hpd_min": 0.9647781915991107,
              "mutant": "Q21A",
              "repressors": 4.39760360930272
             },
             {
              "best_fit": 0.9683474850952649,
              "hpd_max": 0.9739003334278789,
              "hpd_min": 0.9631711514247812,
              "mutant": "Q21A",
              "repressors": 4.605922041145106
             },
             {
              "best_fit": 0.9668977108804548,
              "hpd_max": 0.9726977243541689,
              "hpd_min": 0.9614937144644751,
              "mutant": "Q21A",
              "repressors": 4.82410870416537
             },
             {
              "best_fit": 0.9653839067025493,
              "hpd_max": 0.9714413269237736,
              "hpd_min": 0.9597430688966896,
              "mutant": "Q21A",
              "repressors": 5.052631065335681
             },
             {
              "best_fit": 0.9638034661896842,
              "hpd_max": 0.9701288880690442,
              "hpd_min": 0.9579163158005551,
              "mutant": "Q21A",
              "repressors": 5.291978735958442
             },
             {
              "best_fit": 0.9621536975085104,
              "hpd_max": 0.968758074666602,
              "hpd_min": 0.9560104688645041,
              "mutant": "Q21A",
              "repressors": 5.542664520663106
             },
             {
              "best_fit": 0.9604318225311907,
              "hpd_max": 0.9673264720605025,
              "hpd_min": 0.954022454368031,
              "mutant": "Q21A",
              "repressors": 5.8052255160948985
             },
             {
              "best_fit": 0.9586349762111891,
              "hpd_max": 0.9658315827026516,
              "hpd_min": 0.951949111466461,
              "mutant": "Q21A",
              "repressors": 6.080224261649424
             },
             {
              "best_fit": 0.9567602061935627,
              "hpd_max": 0.9642708249292096,
              "hpd_min": 0.9497871928104055,
              "mutant": "Q21A",
              "repressors": 6.368249944718588
             },
             {
              "best_fit": 0.9548044726872108,
              "hpd_max": 0.9626415318932482,
              "hpd_min": 0.9475333655333482,
              "mutant": "Q21A",
              "repressors": 6.669919663030122
             },
             {
              "best_fit": 0.9527646486283008,
              "hpd_max": 0.960940950675522,
              "hpd_min": 0.9451842126425183,
              "mutant": "Q21A",
              "repressors": 6.985879746785248
             },
             {
              "best_fit": 0.9506375201658722,
              "hpd_max": 0.9591662415968673,
              "hpd_min": 0.9427362348498624,
              "mutant": "Q21A",
              "repressors": 7.316807143427196
             },
             {
              "best_fit": 0.948419787502372,
              "hpd_max": 0.9573144777574367,
              "hpd_min": 0.9401858528814909,
              "mutant": "Q21A",
              "repressors": 7.663410868007459
             },
             {
              "best_fit": 0.946108066123627,
              "hpd_max": 0.955382644829712,
              "hpd_min": 0.937529410305413,
              "mutant": "Q21A",
              "repressors": 8.026433522257175
             },
             {
              "best_fit": 0.9436988884544247,
              "hpd_max": 0.9533676411340007,
              "hpd_min": 0.934763176918653,
              "mutant": "Q21A",
              "repressors": 8.406652885618325
             },
             {
              "best_fit": 0.9411887059774897,
              "hpd_max": 0.9512662780268983,
              "hpd_min": 0.9318833527359228,
              "mutant": "Q21A",
              "repressors": 8.804883581643463
             },
             {
              "best_fit": 0.9385738918551223,
              "hpd_max": 0.9490752806349602,
              "hpd_min": 0.9288860726228589,
              "mutant": "Q21A",
              "repressors": 9.221978823334327
             },
             {
              "best_fit": 0.9358507440941204,
              "hpd_max": 0.9467912889675854,
              "hpd_min": 0.9257674116173803,
              "mutant": "Q21A",
              "repressors": 9.658832241158704
             },
             {
              "best_fit": 0.9330154892957659,
              "hpd_max": 0.9444108594448023,
              "hpd_min": 0.9225233909829227,
              "mutant": "Q21A",
              "repressors": 10.11637979766207
             },
             {
              "best_fit": 0.9300642870335905,
              "hpd_max": 0.9419304668772863,
              "hpd_min": 0.9191499850371048,
              "mutant": "Q21A",
              "repressors": 10.59560179277616
             },
             {
              "best_fit": 0.9269932349023018,
              "hpd_max": 0.9393465069374541,
              "hpd_min": 0.9156431287987256,
              "mutant": "Q21A",
              "repressors": 11.097524964120721
             },
             {
              "best_fit": 0.9237983742815955,
              "hpd_max": 0.9366552991618851,
              "hpd_min": 0.9119987264948068,
              "mutant": "Q21A",
              "repressors": 11.623224686798524
             },
             {
              "best_fit": 0.9204756968585348,
              "hpd_max": 0.9338530905265248,
              "hpd_min": 0.9082126609676253,
              "mutant": "Q21A",
              "repressors": 12.173827277396613
             },
             {
              "best_fit": 0.9170211519517116,
              "hpd_max": 0.9309360596371494,
              "hpd_min": 0.9042808040192525,
              "mutant": "Q21A",
              "repressors": 12.750512407130135
             },
             {
              "best_fit": 0.913430654679428,
              "hpd_max": 0.9279003215783037,
              "hpd_min": 0.9001990277279687,
              "mutant": "Q21A",
              "repressors": 13.354515629298987
             },
             {
              "best_fit": 0.9097000950126076,
              "hpd_max": 0.9247419334643743,
              "hpd_min": 0.8959632167669674,
              "mutant": "Q21A",
              "repressors": 13.987131026472387
             },
             {
              "best_fit": 0.9058253477509751,
              "hpd_max": 0.9214569007365353,
              "hpd_min": 0.8915692817509732,
              "mutant": "Q21A",
              "repressors": 14.649713983072855
             },
             {
              "best_fit": 0.901802283458188,
              "hpd_max": 0.9180411842489683,
              "hpd_min": 0.8870131736306478,
              "mutant": "Q21A",
              "repressors": 15.343684089300124
             },
             {
              "best_fit": 0.8976267803879686,
              "hpd_max": 0.91449070818693,
              "hpd_min": 0.8822908991479714,
              "mutant": "Q21A",
              "repressors": 16.070528182616393
             },
             {
              "best_fit": 0.8932947374288257,
              "hpd_max": 0.9108013688578874,
              "hpd_min": 0.8773985373580194,
              "mutant": "Q21A",
              "repressors": 16.831803533309568
             },
             {
              "best_fit": 0.888802088089589,
              "hpd_max": 0.9069690443949593,
              "hpd_min": 0.8723322572137501,
              "mutant": "Q21A",
              "repressors": 17.62914118095948
             },
             {
              "best_fit": 0.8841448155416595,
              "hpd_max": 0.9029896054092561,
              "hpd_min": 0.8670883362004835,
              "mutant": "Q21A",
              "repressors": 18.464249428955434
             },
             {
              "best_fit": 0.8793189687265365,
              "hpd_max": 0.8988589266243072,
              "hpd_min": 0.8616631799957144,
              "mutant": "Q21A",
              "repressors": 19.33891750455231
             },
             {
              "best_fit": 0.8743206795287894,
              "hpd_max": 0.8945728995215556,
              "hpd_min": 0.8560533431177328,
              "mutant": "Q21A",
              "repressors": 20.255019392306675
             },
             {
              "best_fit": 0.869146181005143,
              "hpd_max": 0.8901274460208006,
              "hpd_min": 0.8502555505132791,
              "mutant": "Q21A",
              "repressors": 21.2145178491063
             },
             {
              "best_fit": 0.8637918266497382,
              "hpd_max": 0.8855185332134354,
              "hpd_min": 0.8442667200201562,
              "mutant": "Q21A",
              "repressors": 22.21946860939524
             },
             {
              "best_fit": 0.8582541106639033,
              "hpd_max": 0.8807421891592885,
              "hpd_min": 0.8380839856254587,
              "mutant": "Q21A",
              "repressors": 23.272024789604085
             },
             {
              "best_fit": 0.8525296891859284,
              "hpd_max": 0.8757945197497898,
              "hpd_min": 0.8317047214239427,
              "mutant": "Q21A",
              "repressors": 24.374441501222204
             },
             {
              "best_fit": 0.8466154024224462,
              "hpd_max": 0.8706717266310146,
              "hpd_min": 0.8251265661642067,
              "mutant": "Q21A",
              "repressors": 25.52908068239518
             },
             {
              "best_fit": 0.8405082976081127,
              "hpd_max": 0.8653701261698703,
              "hpd_min": 0.8183474482529332,
              "mutant": "Q21A",
              "repressors": 26.738416158399467
             },
             {
              "best_fit": 0.8342056527044726,
              "hpd_max": 0.8598861694352935,
              "hpd_min": 0.8113656110696824,
              "mutant": "Q21A",
              "repressors": 28.00503894183631
             },
             {
              "best_fit": 0.8277050007323025,
              "hpd_max": 0.8542164631538013,
              "hpd_min": 0.804179638426863,
              "mutant": "Q21A",
              "repressors": 29.331662783900438
             },
             {
              "best_fit": 0.8210041546144985,
              "hpd_max": 0.8483577915851531,
              "hpd_min": 0.7967884799918078,
              "mutant": "Q21A",
              "repressors": 30.721129988617577
             },
             {
              "best_fit": 0.8141012323889266,
              "hpd_max": 0.8423071392492576,
              "hpd_min": 0.7891914764706952,
              "mutant": "Q21A",
              "repressors": 32.17641750250737
             },
             {
              "best_fit": 0.8069946826327885,
              "hpd_max": 0.8360617144199003,
              "hpd_min": 0.7813883843376858,
              "mutant": "Q21A",
              "repressors": 33.700643292719285
             },
             {
              "best_fit": 0.7996833099222703,
              "hpd_max": 0.829618973284492,
              "hpd_min": 0.7733793998775088,
              "mutant": "Q21A",
              "repressors": 35.2970730273065
             },
             {
              "best_fit": 0.7921663001338041,
              "hpd_max": 0.8229766446519726,
              "hpd_min": 0.7651651822962077,
              "mutant": "Q21A",
              "repressors": 36.96912707195028
             },
             {
              "best_fit": 0.7844432453765491,
              "hpd_max": 0.8161327550734646,
              "hpd_min": 0.7567468756432626,
              "mutant": "Q21A",
              "repressors": 38.72038781812555
             },
             {
              "best_fit": 0.7765141683300348,
              "hpd_max": 0.809085654222436,
              "hpd_min": 0.7481261292792759,
              "mutant": "Q21A",
              "repressors": 40.5546073584083
             },
             {
              "best_fit": 0.7683795457467099,
              "hpd_max": 0.8018340403632969,
              "hpd_min": 0.7393051166172642,
              "mutant": "Q21A",
              "repressors": 42.47571552536898
             },
             {
              "best_fit": 0.7600403308668072,
              "hpd_max": 0.7943769857197843,
              "hpd_min": 0.7302865518627417,
              "mutant": "Q21A",
              "repressors": 44.487828311275855
             },
             {
              "best_fit": 0.7514979744829026,
              "hpd_max": 0.7867139615375152,
              "hpd_min": 0.7210737044786109,
              "mutant": "Q21A",
              "repressors": 46.59525668664682
             },
             {
              "best_fit": 0.7427544443842226,
              "hpd_max": 0.7788448626190834,
              "hpd_min": 0.7116704111057272,
              "mutant": "Q21A",
              "repressors": 48.80251583654431
             },
             {
              "best_fit": 0.7338122429065836,
              "hpd_max": 0.7707700310954033,
              "hpd_min": 0.7020810846791791,
              "mutant": "Q21A",
              "repressors": 51.11433483440168
             },
             {
              "best_fit": 0.7246744223131949,
              "hpd_max": 0.7624902791840873,
              "hpd_min": 0.6923107204940517,
              "mutant": "Q21A",
              "repressors": 53.53566677410724
             },
             {
              "best_fit": 0.7153445977348065,
              "hpd_max": 0.7540069106748896,
              "hpd_min": 0.6823648989928528,
              "mutant": "Q21A",
              "repressors": 56.07169938205458
             },
             {
              "best_fit": 0.7058269574051568,
              "hpd_max": 0.7453217408741071,
              "hpd_min": 0.6722497850699662,
              "mutant": "Q21A",
              "repressors": 58.72786613189483
             },
             {
              "best_fit": 0.6961262699396003,
              "hpd_max": 0.7364371147346799,
              "hpd_min": 0.6619721237163672,
              "mutant": "Q21A",
              "repressors": 61.50985788580501
             },
             {
              "best_fit": 0.6862478884213825,
              "hpd_max": 0.7273559228970293,
              "hpd_min": 0.6515392318602594,
              "mutant": "Q21A",
              "repressors": 64.42363508721374
             },
             {
              "best_fit": 0.6761977510813614,
              "hpd_max": 0.7180816153677491,
              "hpd_min": 0.6409589862959907,
              "mutant": "Q21A",
              "repressors": 67.47544053110693
             },
             {
              "best_fit": 0.6659823783830294,
              "hpd_max": 0.708618212569471,
              "hpd_min": 0.6302398076341529,
              "mutant": "Q21A",
              "repressors": 70.67181273927491
             },
             {
              "best_fit": 0.6556088663553854,
              "hpd_max": 0.6989703135058422,
              "hpd_min": 0.6193906402496916,
              "mutant": "Q21A",
              "repressors": 74.01959996915645
             },
             {
              "best_fit": 0.6450848760512715,
              "hpd_max": 0.6891431008007629,
              "hpd_min": 0.6084209282514655,
              "mutant": "Q21A",
              "repressors": 77.5259748862946
             },
             {
              "best_fit": 0.6344186190479093,
              "hpd_max": 0.6791423423909768,
              "hpd_min": 0.5973405875452958,
              "mutant": "Q21A",
              "repressors": 81.19844993184013
             },
             {
              "best_fit": 0.6236188389490418,
              "hpd_max": 0.6689743896757985,
              "hpd_min": 0.5861599741122915,
              "mutant": "Q21A",
              "repressors": 85.04489341802677
             },
             {
              "best_fit": 0.6126947888937392,
              "hpd_max": 0.6586461719571184,
              "hpd_min": 0.5748898486742076,
              "mutant": "Q21A",
              "repressors": 89.0735463861044
             },
             {
              "best_fit": 0.601656205124857,
              "hpd_max": 0.6481651870366535,
              "hpd_min": 0.5635413379668591,
              "mutant": "Q21A",
              "repressors": 93.29304026284686
             },
             {
              "best_fit": 0.590513276719526,
              "hpd_max": 0.6375394878753944,
              "hpd_min": 0.552125892890156,
              "mutant": "Q21A",
              "repressors": 97.71241535346496
             },
             {
              "best_fit": 0.5792766116340631,
              "hpd_max": 0.6267776652618864,
              "hpd_min": 0.5406552438481712,
              "mutant": "Q21A",
              "repressors": 102.34114021054528
             },
             {
              "best_fit": 0.567957199265338,
              "hpd_max": 0.6148216446127324,
              "hpd_min": 0.5280808162756044,
              "mutant": "Q21A",
              "repressors": 107.18913192051275
             },
             {
              "best_fit": 0.5565663697789648,
              "hpd_max": 0.6038044803915067,
              "hpd_min": 0.5165335863113417,
              "mutant": "Q21A",
              "repressors": 112.26677735108136
             },
             {
              "best_fit": 0.5451157505006976,
              "hpd_max": 0.5926809625737015,
              "hpd_min": 0.5049686734928864,
              "mutant": "Q21A",
              "repressors": 117.5849554052157
             },
             {
              "best_fit": 0.533617219710135,
              "hpd_max": 0.5814616207372295,
              "hpd_min": 0.4933984413341735,
              "mutant": "Q21A",
              "repressors": 123.15506032928262
             },
             {
              "best_fit": 0.5220828582143298,
              "hpd_max": 0.5683398522759748,
              "hpd_min": 0.48002426527946795,
              "mutant": "Q21A",
              "repressors": 128.9890261253308
             },
             {
              "best_fit": 0.5105248991123141,
              "hpd_max": 0.5569512415473702,
              "hpd_min": 0.4684846829301189,
              "mutant": "Q21A",
              "repressors": 135.09935211980266
             },
             {
              "best_fit": 0.49895567618911607,
              "hpd_max": 0.5455024448739201,
              "hpd_min": 0.45697870945419744,
              "mutant": "Q21A",
              "repressors": 141.4991297434576
             },
             {
              "best_fit": 0.4873875713989181,
              "hpd_max": 0.5340053328559823,
              "hpd_min": 0.44551845723400585,
              "mutant": "Q21A",
              "repressors": 148.20207057988586
             },
             {
              "best_fit": 0.47583296191112034,
              "hpd_max": 0.5224719802850162,
              "hpd_min": 0.43411584516651075,
              "mutant": "Q21A",
              "repressors": 155.2225357427048
             },
             {
              "best_fit": 0.4643041671998611,
              "hpd_max": 0.5109146159620649,
              "hpd_min": 0.42278254987537933,
              "mutant": "Q21A",
              "repressors": 162.5755666443795
             },
             {
              "best_fit": 0.45281339665686954,
              "hpd_max": 0.49934557113056877,
              "hpd_min": 0.41152995907045586,
              "mutant": "Q21A",
              "repressors": 170.27691722258996
             },
             {
              "best_fit": 0.44137269819939856,
              "hpd_max": 0.4877772269825624,
              "hpd_min": 0.4003691274387784,
              "mutant": "Q21A",
              "repressors": 178.34308769319094
             },
             {
              "best_fit": 0.429993908329592,
              "hpd_max": 0.4762219617116627,
              "hpd_min": 0.3893107354136025,
              "mutant": "Q21A",
              "repressors": 186.79135990207828
             },
             {
              "best_fit": 0.4186886040793445,
              "hpd_max": 0.46469209759328545,
              "hpd_min": 0.3783650511258783,
              "mutant": "Q21A",
              "repressors": 195.63983435170647
             },
             {
              "best_fit": 0.4074680572460462,
              "hpd_max": 0.4531998485721183,
              "hpd_min": 0.36754189579714597,
              "mutant": "Q21A",
              "repressors": 204.90746898158483
             },
             {
              "best_fit": 0.3963431912902143,
              "hpd_max": 0.44175726882898814,
              "hpd_min": 0.35685061278483204,
              "mutant": "Q21A",
              "repressors": 214.61411978584036
             },
             {
              "best_fit": 0.38532454122668613,
              "hpd_max": 0.43037620278410715,
              "hpd_min": 0.34630004044144147,
              "mutant": "Q21A",
              "repressors": 224.78058335487253
             },
             {
              "best_fit": 0.374422216797668,
              "hpd_max": 0.4190682369716234,
              "hpd_min": 0.3358984888991379,
              "mutant": "Q21A",
              "repressors": 235.4286414322418
             },
             {
              "best_fit": 0.3636458691694227,
              "hpd_max": 0.40784465419192134,
              "hpd_min": 0.32565372084161986,
              "mutant": "Q21A",
              "repressors": 246.5811075822604
             },
             {
              "best_fit": 0.35300466134573916,
              "hpd_max": 0.3967163903139243,
              "hpd_min": 0.31557293627694916,
              "mutant": "Q21A",
              "repressors": 258.2618760682677
             },
             {
              "best_fit": 0.34250724244154446,
              "hpd_max": 0.38569399406046895,
              "hpd_min": 0.30566276127886594,
              "mutant": "Q21A",
              "repressors": 270.49597304631345
             },
             {
              "best_fit": 0.33216172591004933,
              "hpd_max": 0.3747875900665608,
              "hpd_min": 0.2959292406208549,
              "mutant": "Q21A",
              "repressors": 283.3096101839324
             },
             {
              "best_fit": 0.3219756717676342,
              "hpd_max": 0.3640068454539063,
              "hpd_min": 0.28637783418743173,
              "mutant": "Q21A",
              "repressors": 296.73024081888695
             },
             {
              "best_fit": 0.31195607281309706,
              "hpd_max": 0.3533609401165254,
              "hpd_min": 0.2770134170112701,
              "mutant": "Q21A",
              "repressors": 310.7866187782014
             },
             {
              "best_fit": 0.30210934479273394,
              "hpd_max": 0.34285854086248857,
              "hpd_min": 0.2678402827532899,
              "mutant": "Q21A",
              "repressors": 325.508859983506
             },
             {
              "best_fit": 0.29244132042064247,
              "hpd_max": 0.33250777950685184,
              "hpd_min": 0.2588621504159053,
              "mutant": "Q21A",
              "repressors": 340.9285069746811
             },
             {
              "best_fit": 0.28295724712522474,
              "hpd_max": 0.32231623496162304,
              "hpd_min": 0.25008217405743316,
              "mutant": "Q21A",
              "repressors": 357.07859649004627
             },
             {
              "best_fit": 0.27366178835856503,
              "hpd_max": 0.31229091932096104,
              "hpd_min": 0.24150295525822654,
              "mutant": "Q21A",
              "repressors": 373.9937302478798
             },
             {
              "best_fit": 0.26455902827548616,
              "hpd_max": 0.3024382678945422,
              "hpd_min": 0.23312655807631344,
              "mutant": "Q21A",
              "repressors": 391.71014908092604
             },
             {
              "best_fit": 0.25565247956388054,
              "hpd_max": 0.2927641330998516,
              "hpd_min": 0.22495452622206863,
              "mutant": "Q21A",
              "repressors": 410.26581058271944
             },
             {
              "best_fit": 0.2469450941874406,
              "hpd_max": 0.2832737820856058,
              "hpd_min": 0.21698790217744335,
              "mutant": "Q21A",
              "repressors": 429.70047043208393
             },
             {
              "best_fit": 0.23843927678617705,
              "hpd_max": 0.2739718979240616,
              "hpd_min": 0.20922724798523776,
              "mutant": "Q21A",
              "repressors": 450.05576757004974
             },
             {
              "best_fit": 0.23013690046900548,
              "hpd_max": 0.26486258417995545,
              "hpd_min": 0.20167266743746948,
              "mutant": "Q21A",
              "repressors": 471.3753134116724
             },
             {
              "best_fit": 0.2220393247259923,
              "hpd_max": 0.25594937263843304,
              "hpd_min": 0.19432382939865983,
              "mutant": "Q21A",
              "repressors": 493.7047852839004
             },
             {
              "best_fit": 0.21414741518533398,
              "hpd_max": 0.2472352339537122,
              "hpd_min": 0.18717999200943827,
              "mutant": "Q21A",
              "repressors": 517.092024289676
             },
             {
              "best_fit": 0.20646156494145193,
              "hpd_max": 0.2381622803869788,
              "hpd_min": 0.17968210004386911,
              "mutant": "Q21A",
              "repressors": 541.5871378079471
             },
             {
              "best_fit": 0.19898171718536214,
              "hpd_max": 0.2298666378050028,
              "hpd_min": 0.17296097567068086,
              "mutant": "Q21A",
              "repressors": 567.2426068491977
             },
             {
              "best_fit": 0.19170738887631963,
              "hpd_max": 0.22177583209867377,
              "hpd_min": 0.1664402492844019,
              "mutant": "Q21A",
              "repressors": 594.1133984965034
             },
             {
              "best_fit": 0.18463769520421508,
              "hpd_max": 0.21389071296801496,
              "hpd_min": 0.16011776339990538,
              "mutant": "Q21A",
              "repressors": 622.2570836730231
             },
             {
              "best_fit": 0.17777137460490602,
              "hpd_max": 0.2062116583061338,
              "hpd_min": 0.15399107810413531,
              "mutant": "Q21A",
              "repressors": 651.7339604882427
             },
             {
              "best_fit": 0.17110681410515566,
              "hpd_max": 0.1987385968680356,
              "hpd_min": 0.14805749594293124,
              "mutant": "Q21A",
              "repressors": 682.6071834272386
             },
             {
              "best_fit": 0.16464207478973603,
              "hpd_max": 0.19147103197226814,
              "hpd_min": 0.1423140863106646,
              "mutant": "Q21A",
              "repressors": 714.9428986597577
             },
             {
              "best_fit": 0.15837491720013472,
              "hpd_max": 0.1844080659852678,
              "hpd_min": 0.13675770921799552,
              "mutant": "Q21A",
              "repressors": 748.8103857590023
             },
             {
              "best_fit": 0.15230282649182011,
              "hpd_max": 0.17754842535103366,
              "hpd_min": 0.13138503833032883,
              "mutant": "Q21A",
              "repressors": 784.2822061337682
             },
             {
              "best_fit": 0.14642303719485095,
              "hpd_max": 0.17089048594331163,
              "hpd_min": 0.12619258318621845,
              "mutant": "Q21A",
              "repressors": 821.434358491943
             },
             {
              "best_fit": 0.14073255744045388,
              "hpd_max": 0.1644322985333858,
              "hpd_min": 0.12117671052086096,
              "mutant": "Q21A",
              "repressors": 860.34644166845
             },
             {
              "best_fit": 0.13522819253378449,
              "hpd_max": 0.1581716141834849,
              "hpd_min": 0.1163336646348199,
              "mutant": "Q21A",
              "repressors": 901.1018251665018
             },
             {
              "best_fit": 0.12990656777021095,
              "hpd_max": 0.15210590939334623,
              "hpd_min": 0.11165958676212634,
              "mutant": "Q21A",
              "repressors": 943.7878277775382
             },
             {
              "best_fit": 0.12476415040891994,
              "hpd_max": 0.14623241084530952,
              "hpd_min": 0.10715053340484328,
              "mutant": "Q21A",
              "repressors": 988.4959046625586
             },
             {
              "best_fit": 0.11979727073330237,
              "hpd_max": 0.1405481196111509,
              "hpd_min": 0.102802493613025,
              "mutant": "Q21A",
              "repressors": 1035.3218432956626
             },
             {
              "best_fit": 0.11500214214230249,
              "hpd_max": 0.13504983470144655,
              "hpd_min": 0.09861140519972515,
              "mutant": "Q21A",
              "repressors": 1084.3659686896108
             },
             {
              "best_fit": 0.11037488023062424,
              "hpd_max": 0.12973417585535688,
              "hpd_min": 0.09457316989031138,
              "mutant": "Q21A",
              "repressors": 1135.7333583431052
             },
             {
              "best_fit": 0.1059115208283276,
              "hpd_max": 0.12459760548516327,
              "hpd_min": 0.09068366741385236,
              "mutant": "Q21A",
              "repressors": 1189.5340673703195
             },
             {
              "best_fit": 0.10160803698187491,
              "hpd_max": 0.11963644970551528,
              "hpd_min": 0.08693876855178737,
              "mutant": "Q21A",
              "repressors": 1245.883364295008
             },
             {
              "best_fit": 0.0974603548690934,
              "hpd_max": 0.1148469183920388,
              "hpd_min": 0.08333434716550847,
              "mutant": "Q21A",
              "repressors": 1304.9019780144029
             },
             {
              "best_fit": 0.09346436864981561,
              "hpd_max": 0.11022512422763547,
              "hpd_min": 0.07986629122994586,
              "mutant": "Q21A",
              "repressors": 1366.7163564620073
             },
             {
              "best_fit": 0.08961595426216318,
              "hpd_max": 0.10576710070740279,
              "hpd_min": 0.076530512904796,
              "mutant": "Q21A",
              "repressors": 1431.4589375234787
             },
             {
              "best_fit": 0.08591098218158918,
              "hpd_max": 0.10146881908459505,
              "hpd_min": 0.07332295767874278,
              "mutant": "Q21A",
              "repressors": 1499.2684327860457
             },
             {
              "best_fit": 0.08234532916594267,
              "hpd_max": 0.09732620425041798,
              "hpd_min": 0.07023961262495908,
              "mutant": "Q21A",
              "repressors": 1570.2901247293776
             },
             {
              "best_fit": 0.07891488901501155,
              "hpd_max": 0.09333514954970404,
              "hpd_min": 0.06727651380840606,
              "mutant": "Q21A",
              "repressors": 1644.6761779946644
             },
             {
              "best_fit": 0.07561558237731093,
              "hpd_max": 0.089491530542687,
              "hpd_min": 0.06442975288704329,
              "mutant": "Q21A",
              "repressors": 1722.5859653987875
             },
             {
              "best_fit": 0.07244336564036784,
              "hpd_max": 0.08579121773021024,
              "hpd_min": 0.061695482950087345,
              "mutant": "Q21A",
              "repressors": 1804.1864093920717
             },
             {
              "best_fit": 0.06939423894348501,
              "hpd_max": 0.08223008826581642,
              "hpd_min": 0.05906992363697708,
              "mutant": "Q21A",
              "repressors": 1889.6523396912096
             },
             {
              "best_fit": 0.06646425335401235,
              "hpd_max": 0.07880403668333345,
              "hpd_min": 0.056549365580782586,
              "mutant": "Q21A",
              "repressors": 1979.1668678535573
             },
             {
              "best_fit": 0.06364951724958048,
              "hpd_max": 0.07550898467284876,
              "hpd_min": 0.054130174219487945,
              "mutant": "Q21A",
              "repressors": 2072.921779595372
             },
             {
              "best_fit": 0.06094620194963008,
              "hpd_max": 0.0723408899414262,
              "hpd_min": 0.05180879301794586,
              "mutant": "Q21A",
              "repressors": 2171.117945694505
             },
             {
              "best_fit": 0.058350546639958756,
              "hpd_max": 0.06929575419762597,
              "hpd_min": 0.049581746142389645,
              "mutant": "Q21A",
              "repressors": 2273.9657523579276
             },
             {
              "best_fit": 0.055858862633972085,
              "hpd_max": 0.06636963030091134,
              "hpd_min": 0.04744564062824639,
              "mutant": "Q21A",
              "repressors": 2381.6855519761584
             },
             {
              "best_fit": 0.05346753701392383,
              "hpd_max": 0.06355862861843686,
              "hpd_min": 0.045397168080667065,
              "mutant": "Q21A",
              "repressors": 2494.5081352303164
             },
             {
              "best_fit": 0.05117303569471022,
              "hpd_max": 0.06085892263256879,
              "hpd_min": 0.04343310594570901,
              "mutant": "Q21A",
              "repressors": 2612.675225563329
             },
             {
              "best_fit": 0.048971905951806075,
              "hpd_max": 0.05826675384286668,
              "hpd_min": 0.04155031838851613,
              "mutant": "Q21A",
              "repressors": 2736.4399970746717
             },
             {
              "best_fit": 0.04686077845372929,
              "hpd_max": 0.055778436006205134,
              "hpd_min": 0.0397457568131657,
              "mutant": "Q21A",
              "repressors": 2866.0676169482504
             },
             {
              "best_fit": 0.04483636883804646,
              "hpd_max": 0.05339035875829994,
              "hpd_min": 0.038016460057119464,
              "mutant": "Q21A",
              "repressors": 3001.835813575589
             },
             {
              "best_fit": 0.042895478868418886,
              "hpd_max": 0.051098990659177904,
              "hpd_min": 0.03635955429145433,
              "mutant": "Q21A",
              "repressors": 3144.0354715915
             },
             {
              "best_fit": 0.04103499720856892,
              "hpd_max": 0.04890088170413927,
              "hpd_min": 0.034772252656272026,
              "mutant": "Q21A",
              "repressors": 3292.9712550971512
             },
             {
              "best_fit": 0.03925189984735371,
              "hpd_max": 0.04679266534055803,
              "hpd_min": 0.033251854658920055,
              "mutant": "Q21A",
              "repressors": 3448.96226040576
             },
             {
              "best_fit": 0.037543250207390716,
              "hpd_max": 0.04477106002948468,
              "hpd_min": 0.0317957453609086,
              "mutant": "Q21A",
              "repressors": 3612.3426997094302
             },
             {
              "best_fit": 0.03590619896791053,
              "hpd_max": 0.0428328703894981,
              "hpd_min": 0.030401394377694478,
              "mutant": "Q21A",
              "repressors": 3783.462617131929
             },
             {
              "best_fit": 0.03433798363073916,
              "hpd_max": 0.04097498795863316,
              "hpd_min": 0.02906635471383527,
              "mutant": "Q21A",
              "repressors": 3962.6886387014783
             },
             {
              "best_fit": 0.03283592785654657,
              "hpd_max": 0.03919439160851281,
              "hpd_min": 0.027788261454398,
              "mutant": "Q21A",
              "repressors": 4150.404757850477
             },
             {
              "best_fit": 0.03139744059676119,
              "hpd_max": 0.037488147643071866,
              "hpd_min": 0.026564830331950482,
              "mutant": "Q21A",
              "repressors": 4347.013158125026
             },
             {
              "best_fit": 0.030020015044847196,
              "hpd_max": 0.035853409612489444,
              "hpd_min": 0.025393856186968107,
              "mutant": "Q21A",
              "repressors": 4552.935074866948
             },
             {
              "best_fit": 0.02870122742898654,
              "hpd_max": 0.034287417871173245,
              "hpd_min": 0.02427321133806224,
              "mutant": "Q21A",
              "repressors": 4768.611697714469
             },
             {
              "best_fit": 0.02743873566660693,
              "hpd_max": 0.03278749890687562,
              "hpd_min": 0.023200843877079512,
              "mutant": "Q21A",
              "repressors": 4994.50511585514
             },
             {
              "best_fit": 0.02623027789965589,
              "hpd_max": 0.031351064466283475,
              "hpd_min": 0.02217477590283446,
              "mutant": "Q21A",
              "repressors": 5231.099308056264
             },
             {
              "best_fit": 0.02507367092804598,
              "hpd_max": 0.02997561050072392,
              "hpd_min": 0.021193101706024026,
              "mutant": "Q21A",
              "repressors": 5478.901179593945
             },
             {
              "best_fit": 0.023966808557288492,
              "hpd_max": 0.02865871595397394,
              "hpd_min": 0.020253985916728685,
              "mutant": "Q21A",
              "repressors": 5738.441648302392
             },
             {
              "best_fit": 0.02290765987499548,
              "hpd_max": 0.02739804141256312,
              "hpd_min": 0.019355661624831835,
              "mutant": "Q21A",
              "repressors": 6010.276782070382
             },
             {
              "best_fit": 0.021894267469664587,
              "hpd_max": 0.026191327637420592,
              "hpd_min": 0.018496428482685363,
              "mutant": "Q21A",
              "repressors": 6294.988990221887
             },
             {
              "best_fit": 0.020924745603965546,
              "hpd_max": 0.025036393994242925,
              "hpd_min": 0.0176746507984114,
              "mutant": "Q21A",
              "repressors": 6593.188271333548
             },
             {
              "best_fit": 0.019997278353624758,
              "hpd_max": 0.0239311367985556,
              "hpd_min": 0.016888755627358934,
              "mutant": "Q21A",
              "repressors": 6905.513520162331
             },
             {
              "best_fit": 0.019110117721950242,
              "hpd_max": 0.02287352759010502,
              "hpd_min": 0.01613723086842365,
              "mutant": "Q21A",
              "repressors": 7232.633896483534
             },
             {
              "best_fit": 0.018261581739054195,
              "hpd_max": 0.021861611349954523,
              "hpd_min": 0.015418623371189735,
              "mutant": "Q21A",
              "repressors": 7575.250258771913
             },
             {
              "best_fit": 0.017450052553912142,
              "hpd_max": 0.02089350467246584,
              "hpd_min": 0.014731537059159854,
              "mutant": "Q21A",
              "repressors": 7934.096665797492
             },
             {
              "best_fit": 0.016673974526542647,
              "hpd_max": 0.019967393903225897,
              "hpd_min": 0.01407463107370071,
              "mutant": "Q21A",
              "repressors": 8309.941949353395
             },
             {
              "best_fit": 0.015931852326799566,
              "hpd_max": 0.019081533252928065,
              "hpd_min": 0.013446617942745155,
              "mutant": "Q21A",
              "repressors": 8703.591361485165
             },
             {
              "best_fit": 0.015222249045535053,
              "hpd_max": 0.01823424289623368,
              "hpd_min": 0.012846261777753209,
              "mutant": "Q21A",
              "repressors": 9115.888299750828
             },
             {
              "best_fit": 0.014543784323214404,
              "hpd_max": 0.017423907063723484,
              "hpd_min": 0.012272376501941882,
              "mutant": "Q21A",
              "repressors": 9547.716114208057
             },
             {
              "best_fit": 0.013895132500440218,
              "hpd_max": 0.016648972134196038,
              "hpd_min": 0.0117238241123439,
              "mutant": "Q21A",
              "repressors": 10000
             },
             {
              "best_fit": 0.9959734534405017,
              "hpd_max": 0.996596334664902,
              "hpd_min": 0.995403679114772,
              "mutant": "Y20I",
              "repressors": 1
             },
             {
              "best_fit": 0.9957835165711008,
              "hpd_max": 0.99643567467449,
              "hpd_min": 0.9951869952115542,
              "mutant": "Y20I",
              "repressors": 1.0473708979594496
             },
             {
              "best_fit": 0.9955846598787244,
              "hpd_max": 0.9962674596050712,
              "hpd_min": 0.9949601479207649,
              "mutant": "Y20I",
              "repressors": 1.0969857978923836
             },
             {
              "best_fit": 0.9953764683039218,
              "hpd_max": 0.996091336920427,
              "hpd_min": 0.9947226655252571,
              "mutant": "Y20I",
              "repressors": 1.1489510001873091
             },
             {
              "best_fit": 0.995158507843453,
              "hpd_max": 0.9959069378991346,
              "hpd_min": 0.9944740548948278,
              "mutant": "Y20I",
              "repressors": 1.2033778407775895
             },
             {
              "best_fit": 0.9949303247214231,
              "hpd_max": 0.9957138769171059,
              "hpd_min": 0.9942138005606564,
              "mutant": "Y20I",
              "repressors": 1.2603829296797275
             },
             {
              "best_fit": 0.9946914445276269,
              "hpd_max": 0.9955117507008178,
              "hpd_min": 0.9939413637542677,
              "mutant": "Y20I",
              "repressors": 1.3200884008314178
             },
             {
              "best_fit": 0.9944413713221654,
              "hpd_max": 0.9953001375502829,
              "hpd_min": 0.9936561814101141,
              "mutant": "Y20I",
              "repressors": 1.3826221737646558
             },
             {
              "best_fit": 0.9941795867053902,
              "hpd_max": 0.995078596530804,
              "hpd_min": 0.9933576651309002,
              "mutant": "Y20I",
              "repressors": 1.4481182276745337
             },
             {
              "best_fit": 0.9939055488522558,
              "hpd_max": 0.9948466666325627,
              "hpd_min": 0.9930452001148062,
              "mutant": "Y20I",
              "repressors": 1.516716888470923
             },
             {
              "best_fit": 0.9936186915101755,
              "hpd_max": 0.9946038658970847,
              "hpd_min": 0.9927181440438129,
              "mutant": "Y20I",
              "repressors": 1.5885651294280527
             },
             {
              "best_fit": 0.99331842295951,
              "hpd_max": 0.9943496905096383,
              "hpd_min": 0.992375825932376,
              "mutant": "Y20I",
              "repressors": 1.6638168860761289
             },
             {
              "best_fit": 0.9930041249358532,
              "hpd_max": 0.9940836138566325,
              "hpd_min": 0.9920175449357691,
              "mutant": "Y20I",
              "repressors": 1.7426333860096501
             },
             {
              "best_fit": 0.9926751515133145,
              "hpd_max": 0.9938050855470985,
              "hpd_min": 0.9916425691174774,
              "mutant": "Y20I",
              "repressors": 1.8251834943190435
             },
             {
              "best_fit": 0.9923308279480653,
              "hpd_max": 0.993513530397363,
              "hpd_min": 0.9912501341751168,
              "mutant": "Y20I",
              "repressors": 1.9116440753857022
             },
             {
              "best_fit": 0.9919704494814657,
              "hpd_max": 0.9932083473780511,
              "hpd_min": 0.9908394421244512,
              "mutant": "Y20I",
              "repressors": 2.0022003718155847
             },
             {
              "best_fit": 0.991593280102173,
              "hpd_max": 0.9928889085225967,
              "hpd_min": 0.9904096599411877,
              "mutant": "Y20I",
              "repressors": 2.0970464013232326
             },
             {
              "best_fit": 0.9911985512667141,
              "hpd_max": 0.9925545577964827,
              "hpd_min": 0.9899599181603692,
              "mutant": "Y20I",
              "repressors": 2.1963853724165463
             },
             {
              "best_fit": 0.9907854605781067,
              "hpd_max": 0.9922046099264948,
              "hpd_min": 0.9894893094333249,
              "mutant": "Y20I",
              "repressors": 2.3004301197729182
             },
             {
              "best_fit": 0.9903531704222309,
              "hpd_max": 0.9918383491893334,
              "hpd_min": 0.9889968870423053,
              "mutant": "Y20I",
              "repressors": 2.409403560239525
             },
             {
              "best_fit": 0.9899008065617821,
              "hpd_max": 0.9914550281590123,
              "hpd_min": 0.9884816633731245,
              "mutant": "Y20I",
              "repressors": 2.5235391704347663
             },
             {
              "best_fit": 0.9894274566877876,
              "hpd_max": 0.9910538664125612,
              "hpd_min": 0.9879426083463332,
              "mutant": "Y20I",
              "repressors": 2.643081486974105
             },
             {
              "best_fit": 0.988932168928842,
              "hpd_max": 0.9906340491936587,
              "hpd_min": 0.9873786478076886,
              "mutant": "Y20I",
              "repressors": 2.768286630392066
             },
             {
              "best_fit": 0.9884139503183992,
              "hpd_max": 0.9901947260339367,
              "hpd_min": 0.9867886618789522,
              "mutant": "Y20I",
              "repressors": 2.899422853882877
             },
             {
              "best_fit": 0.9878717652206842,
              "hpd_max": 0.9897350093318442,
              "hpd_min": 0.9861714832703318,
              "mutant": "Y20I",
              "repressors": 3.036771118035458
             },
             {
              "best_fit": 0.9873045337160166,
              "hpd_max": 0.9892539728891079,
              "hpd_min": 0.9855258955562141,
              "mutant": "Y20I",
              "repressors": 3.180625692794119
             },
             {
              "best_fit": 0.9867111299466129,
              "hpd_max": 0.98875065040501,
              "hpd_min": 0.9848506314161903,
              "mutant": "Y20I",
              "repressors": 3.3312947879346737
             },
             {
              "best_fit": 0.9860903804242268,
              "hpd_max": 0.988224033928895,
              "hpd_min": 0.9841443708437739,
              "mutant": "Y20I",
              "repressors": 3.489101213406773
             },
             {
              "best_fit": 0.9854410623013148,
              "hpd_max": 0.9876730722715509,
              "hpd_min": 0.9834057393256384,
              "mutant": "Y20I",
              "repressors": 3.6543830709572562
             },
             {
              "best_fit": 0.9847619016077812,
              "hpd_max": 0.9870966693763487,
              "hpd_min": 0.9826333059946837,
              "mutant": "Y20I",
              "repressors": 3.827494478516312
             },
             {
              "best_fit": 0.9840515714557483,
              "hpd_max": 0.986493682651307,
              "hpd_min": 0.9818255817607581,
              "mutant": "Y20I",
              "repressors": 4.008806328898466
             },
             {
              "best_fit": 0.9833086902152479,
              "hpd_max": 0.9858629212635575,
              "hpd_min": 0.9809810174234317,
              "mutant": "Y20I",
              "repressors": 4.19870708444391
             },
             {
              "best_fit": 0.9825318196641993,
              "hpd_max": 0.9852031443980201,
              "hpd_min": 0.9800980017718308,
              "mutant": "Y20I",
              "repressors": 4.39760360930272
             },
             {
              "best_fit": 0.9817194631165739,
              "hpd_max": 0.9845130594824809,
              "hpd_min": 0.9791748596772232,
              "mutant": "Y20I",
              "repressors": 4.605922041145106
             },
             {
              "best_fit": 0.9808700635332153,
              "hpd_max": 0.9837913203816714,
              "hpd_min": 0.9782098501847587,
              "mutant": "Y20I",
              "repressors": 4.82410870416537
             },
             {
              "best_fit": 0.9799820016204156,
              "hpd_max": 0.9830365255634071,
              "hpd_min": 0.9772011646115716,
              "mutant": "Y20I",
              "repressors": 5.052631065335681
             },
             {
              "best_fit": 0.9790535939220161,
              "hpd_max": 0.9822472162403376,
              "hpd_min": 0.976146924659283,
              "mutant": "Y20I",
              "repressors": 5.291978735958442
             },
             {
              "best_fit": 0.9780830909115448,
              "hpd_max": 0.9814218744914023,
              "hpd_min": 0.9750451805498658,
              "mutant": "Y20I",
              "repressors": 5.542664520663106
             },
             {
              "best_fit": 0.9770686750916963,
              "hpd_max": 0.9805589213676823,
              "hpd_min": 0.9738939091948047,
              "mutant": "Y20I",
              "repressors": 5.8052255160948985
             },
             {
              "best_fit": 0.9760084591093057,
              "hpd_max": 0.9796567149879746,
              "hpd_min": 0.9726910124085347,
              "mutant": "Y20I",
              "repressors": 6.080224261649424
             },
             {
              "best_fit": 0.9749004838949046,
              "hpd_max": 0.9787135486301217,
              "hpd_min": 0.9714343151782564,
              "mutant": "Y20I",
              "repressors": 6.368249944718588
             },
             {
              "best_fit": 0.9737427168369185,
              "hpd_max": 0.9777276488248793,
              "hpd_min": 0.9701215640034105,
              "mutant": "Y20I",
              "repressors": 6.669919663030122
             },
             {
              "best_fit": 0.9725330500016273,
              "hpd_max": 0.9766971734599222,
              "hpd_min": 0.9687504253193565,
              "mutant": "Y20I",
              "repressors": 6.985879746785248
             },
             {
              "best_fit": 0.9712692984111384,
              "hpd_max": 0.9756202099024669,
              "hpd_min": 0.9673184840211303,
              "mutant": "Y20I",
              "repressors": 7.316807143427196
             },
             {
              "best_fit": 0.9699491983928105,
              "hpd_max": 0.974494773149933,
              "hpd_min": 0.9658232421045507,
              "mutant": "Y20I",
              "repressors": 7.663410868007459
             },
             {
              "best_fit": 0.9685704060148398,
              "hpd_max": 0.973318804019078,
              "hpd_min": 0.96426211744342,
              "mutant": "Y20I",
              "repressors": 8.026433522257175
             },
             {
              "best_fit": 0.9671304956240574,
              "hpd_max": 0.9720901673851134,
              "hpd_min": 0.9626324427230916,
              "mutant": "Y20I",
              "repressors": 8.406652885618325
             },
             {
              "best_fit": 0.9656269585033946,
              "hpd_max": 0.9708066504834717,
              "hpd_min": 0.960931464552278,
              "mutant": "Y20I",
              "repressors": 8.804883581643463
             },
             {
              "best_fit": 0.9640572016679523,
              "hpd_max": 0.969465961288103,
              "hpd_min": 0.9591563427766183,
              "mutant": "Y20I",
              "repressors": 9.221978823334327
             },
             {
              "best_fit": 0.9624185468201504,
              "hpd_max": 0.9680657269814812,
              "hpd_min": 0.9573041500192238,
              "mutant": "Y20I",
              "repressors": 9.658832241158704
             },
             {
              "best_fit": 0.9607082294860373,
              "hpd_max": 0.9666034925328627,
              "hpd_min": 0.9553718714751521,
              "mutant": "Y20I",
              "repressors": 10.11637979766207
             },
             {
              "best_fit": 0.9589233983564938,
              "hpd_max": 0.9650767194027701,
              "hpd_min": 0.9533564049885305,
              "mutant": "Y20I",
              "repressors": 10.59560179277616
             },
             {
              "best_fit": 0.9570611148587702,
              "hpd_max": 0.9634827843931774,
              "hpd_min": 0.9512545614428118,
              "mutant": "Y20I",
              "repressors": 11.097524964120721
             },
             {
              "best_fit": 0.9551183529855356,
              "hpd_max": 0.9618189786644393,
              "hpd_min": 0.9490630654964245,
              "mutant": "Y20I",
              "repressors": 11.623224686798524
             },
             {
              "best_fit": 0.9530919994103803,
              "hpd_max": 0.9600825069416224,
              "hpd_min": 0.9467785566978221,
              "mutant": "Y20I",
              "repressors": 12.173827277396613
             },
             {
              "best_fit": 0.9509788539204845,
              "hpd_max": 0.9582704869345762,
              "hpd_min": 0.9443975910156367,
              "mutant": "Y20I",
              "repressors": 12.750512407130135
             },
             {
              "best_fit": 0.9487756301989465,
              "hpd_max": 0.9563799489977979,
              "hpd_min": 0.9419166428212696,
              "mutant": "Y20I",
              "repressors": 13.354515629298987
             },
             {
              "best_fit": 0.9464789569909855,
              "hpd_max": 0.9544078360578921,
              "hpd_min": 0.9393321073627775,
              "mutant": "Y20I",
              "repressors": 13.987131026472387
             },
             {
              "best_fit": 0.944085379689946,
              "hpd_max": 0.9523510038381987,
              "hpd_min": 0.9366403037703067,
              "mutant": "Y20I",
              "repressors": 14.649713983072855
             },
             {
              "best_fit": 0.9415913623806339,
              "hpd_max": 0.9502062214119332,
              "hpd_min": 0.9338374786345411,
              "mutant": "Y20I",
              "repressors": 15.343684089300124
             },
             {
              "best_fit": 0.9389932903790326,
              "hpd_max": 0.9479701721169518,
              "hpd_min": 0.9309198102006424,
              "mutant": "Y20I",
              "repressors": 16.070528182616393
             },
             {
              "best_fit": 0.9362874733088128,
              "hpd_max": 0.9456394548669704,
              "hpd_min": 0.9278834132209047,
              "mutant": "Y20I",
              "repressors": 16.831803533309568
             },
             {
              "best_fit": 0.9334701487562512,
              "hpd_max": 0.9432105858957447,
              "hpd_min": 0.9247243445097795,
              "mutant": "Y20I",
              "repressors": 17.62914118095948
             },
             {
              "best_fit": 0.930537486546142,
              "hpd_max": 0.9406800009722944,
              "hpd_min": 0.9214386092450162,
              "mutant": "Y20I",
              "repressors": 18.464249428955434
             },
             {
              "best_fit": 0.9274855936819955,
              "hpd_max": 0.938044058126724,
              "hpd_min": 0.9180221680583073,
              "mutant": "Y20I",
              "repressors": 19.33891750455231
             },
             {
              "best_fit": 0.9243105199942225,
              "hpd_max": 0.9352990409275035,
              "hpd_min": 0.9144709449580132,
              "mutant": "Y20I",
              "repressors": 20.255019392306675
             },
             {
              "best_fit": 0.9210082645400159,
              "hpd_max": 0.9324411623521928,
              "hpd_min": 0.9107808361251746,
              "mutant": "Y20I",
              "repressors": 21.2145178491063
             },
             {
              "best_fit": 0.917574782798252,
              "hpd_max": 0.929466569294484,
              "hpd_min": 0.9069477196220377,
              "mutant": "Y20I",
              "repressors": 22.21946860939524
             },
             {
              "best_fit": 0.9140059947018382,
              "hpd_max": 0.9263713477510357,
              "hpd_min": 0.9029674660496706,
              "mutant": "Y20I",
              "repressors": 23.272024789604085
             },
             {
              "best_fit": 0.910297793548499,
              "hpd_max": 0.9231515287318453,
              "hpd_min": 0.898835950187836,
              "mutant": "Y20I",
              "repressors": 24.374441501222204
             },
             {
              "best_fit": 0.9064460558289243,
              "hpd_max": 0.9198030949377897,
              "hpd_min": 0.8945490636460764,
              "mutant": "Y20I",
              "repressors": 25.52908068239518
             },
             {
              "best_fit": 0.9024466520084642,
              "hpd_max": 0.9163219882483942,
              "hpd_min": 0.8901027285498639,
              "mutant": "Y20I",
              "repressors": 26.738416158399467
             },
             {
              "best_fit": 0.8982954582950441,
              "hpd_max": 0.912704118061814,
              "hpd_min": 0.885492912279622,
              "mutant": "Y20I",
              "repressors": 28.00503894183631
             },
             {
              "best_fit": 0.8939883694216535,
              "hpd_max": 0.9089453705273588,
              "hpd_min": 0.8807156432733894,
              "mutant": "Y20I",
              "repressors": 29.331662783900438
             },
             {
              "best_fit": 0.8895213124665358,
              "hpd_max": 0.9050416187085935,
              "hpd_min": 0.8757670278957995,
              "mutant": "Y20I",
              "repressors": 30.721129988617577
             },
             {
              "best_fit": 0.8848902617280485,
              "hpd_max": 0.9009887337120432,
              "hpd_min": 0.8706432683668762,
              "mutant": "Y20I",
              "repressors": 32.17641750250737
             },
             {
              "best_fit": 0.8800912546639807,
              "hpd_max": 0.896782596812736,
              "hpd_min": 0.8653406817338485,
              "mutant": "Y20I",
              "repressors": 33.700643292719285
             },
             {
              "best_fit": 0.8751204088968896,
              "hpd_max": 0.8924191126031839,
              "hpd_min": 0.8598557198577912,
              "mutant": "Y20I",
              "repressors": 35.2970730273065
             },
             {
              "best_fit": 0.8699739402776979,
              "hpd_max": 0.8878942231868573,
              "hpd_min": 0.8541849903743594,
              "mutant": "Y20I",
              "repressors": 36.96912707195028
             },
             {
              "best_fit": 0.8646481819893623,
              "hpd_max": 0.8832039234306818,
              "hpd_min": 0.8483252785742987,
              "mutant": "Y20I",
              "repressors": 38.72038781812555
             },
             {
              "best_fit": 0.8591396046608675,
              "hpd_max": 0.8783442772835454,
              "hpd_min": 0.8422735701347839,
              "mutant": "Y20I",
              "repressors": 40.5546073584083
             },
             {
              "best_fit": 0.8534448374491391,
              "hpd_max": 0.8733114351591942,
              "hpd_min": 0.836027074617071,
              "mutant": "Y20I",
              "repressors": 42.47571552536898
             },
             {
              "best_fit": 0.8475606900327358,
              "hpd_max": 0.8681016523721748,
              "hpd_min": 0.8295832496295743,
              "mutant": "Y20I",
              "repressors": 44.487828311275855
             },
             {
              "best_fit": 0.8414841754464268,
              "hpd_max": 0.8627113086046563,
              "hpd_min": 0.8229398255384089,
              "mutant": "Y20I",
              "repressors": 46.59525668664682
             },
             {
              "best_fit": 0.8352125336700909,
              "hpd_max": 0.8571369283700127,
              "hpd_min": 0.8160948305898922,
              "mutant": "Y20I",
              "repressors": 48.80251583654431
             },
             {
              "best_fit": 0.8287432558688888,
              "hpd_max": 0.8513752024259963,
              "hpd_min": 0.8090466162916704,
              "mutant": "Y20I",
              "repressors": 51.11433483440168
             },
             {
              "best_fit": 0.8220741091645304,
              "hpd_max": 0.8454230100762309,
              "hpd_min": 0.8017938828812974,
              "mutant": "Y20I",
              "repressors": 53.53566677410724
             },
             {
              "best_fit": 0.8152031617998517,
              "hpd_max": 0.8392774422836624,
              "hpd_min": 0.7943357046935207,
              "mutant": "Y20I",
              "repressors": 56.07169938205458
             },
             {
              "best_fit": 0.8081288085410808,
              "hpd_max": 0.8329358255036285,
              "hpd_min": 0.7866715552205719,
              "mutant": "Y20I",
              "repressors": 58.72786613189483
             },
             {
              "best_fit": 0.8008497961443436,
              "hpd_max": 0.8263957461274761,
              "hpd_min": 0.778801331643748,
              "mutant": "Y20I",
              "repressors": 61.50985788580501
             },
             {
              "best_fit": 0.7933652486954531,
              "hpd_max": 0.8196550754103311,
              "hpd_min": 0.7707253785999105,
              "mutant": "Y20I",
              "repressors": 64.42363508721374
             },
             {
              "best_fit": 0.7856746926151659,
              "hpd_max": 0.8127119947389143,
              "hpd_min": 0.7624445109336273,
              "mutant": "Y20I",
              "repressors": 67.47544053110693
             },
             {
              "best_fit": 0.7777780811062289,
              "hpd_max": 0.8055650210774256,
              "hpd_min": 0.7539600351749376,
              "mutant": "Y20I",
              "repressors": 70.67181273927491
             },
             {
              "best_fit": 0.7696758178040881,
              "hpd_max": 0.798213032411773,
              "hpd_min": 0.74527376947459,
              "mutant": "Y20I",
              "repressors": 74.01959996915645
             },
             {
              "best_fit": 0.7613687793804704,
              "hpd_max": 0.7906552929951068,
              "hpd_min": 0.7363880617234833,
              "mutant": "Y20I",
              "repressors": 77.5259748862946
             },
             {
              "best_fit": 0.7528583368386305,
              "hpd_max": 0.7828914781810669,
              "hpd_min": 0.7273058055813433,
              "mutant": "Y20I",
              "repressors": 81.19844993184013
             },
             {
              "best_fit": 0.7441463752312744,
              "hpd_max": 0.7749216986157514,
              "hpd_min": 0.7180304541417778,
              "mutant": "Y20I",
              "repressors": 85.04489341802677
             },
             {
              "best_fit": 0.735235311527474,
              "hpd_max": 0.7667465235455498,
              "hpd_min": 0.7085660309670734,
              "mutant": "Y20I",
              "repressors": 89.0735463861044
             },
             {
              "best_fit": 0.726128110353658,
              "hpd_max": 0.7583670029860691,
              "hpd_min": 0.6989171382367443,
              "mutant": "Y20I",
              "repressors": 93.29304026284686
             },
             {
              "best_fit": 0.716828297336378,
              "hpd_max": 0.7497846884878556,
              "hpd_min": 0.6890889617690769,
              "mutant": "Y20I",
              "repressors": 97.71241535346496
             },
             {
              "best_fit": 0.7073399697813307,
              "hpd_max": 0.7410016522278796,
              "hpd_min": 0.6790872726948831,
              "mutant": "Y20I",
              "repressors": 102.34114021054528
             },
             {
              "best_fit": 0.697667804434335,
              "hpd_max": 0.732020504152245,
              "hpd_min": 0.6689184255873979,
              "mutant": "Y20I",
              "repressors": 107.18913192051275
             },
             {
              "best_fit": 0.6878170620857997,
              "hpd_max": 0.7228444068956758,
              "hpd_min": 0.6585893528816303,
              "mutant": "Y20I",
              "repressors": 112.26677735108136
             },
             {
              "best_fit": 0.6777935888008033,
              "hpd_max": 0.7134770882074027,
              "hpd_min": 0.6481075554503362,
              "mutant": "Y20I",
              "repressors": 117.5849554052157
             },
             {
              "best_fit": 0.6676038135822182,
              "hpd_max": 0.7039228506213919,
              "hpd_min": 0.6374810892417765,
              "mutant": "Y20I",
              "repressors": 123.15506032928262
             },
             {
              "best_fit": 0.6572547423042925,
              "hpd_max": 0.6933898116899482,
              "hpd_min": 0.6259242882536941,
              "mutant": "Y20I",
              "repressors": 128.9890261253308
             },
             {
              "best_fit": 0.6467539477884936,
              "hpd_max": 0.6834629228517166,
              "hpd_min": 0.6150258443267109,
              "mutant": "Y20I",
              "repressors": 135.09935211980266
             },
             {
              "best_fit": 0.6361095559319331,
              "hpd_max": 0.6733660377684408,
              "hpd_min": 0.604010758967004,
              "mutant": "Y20I",
              "repressors": 141.4991297434576
             },
             {
              "best_fit": 0.6253302278408339,
              "hpd_max": 0.6631058382048542,
              "hpd_min": 0.5928891277526922,
              "mutant": "Y20I",
              "repressors": 148.20207057988586
             },
             {
              "best_fit": 0.6144251379667308,
              "hpd_max": 0.652689578946043,
              "hpd_min": 0.5816714726548687,
              "mutant": "Y20I",
              "repressors": 155.2225357427048
             },
             {
              "best_fit": 0.603403948290715,
              "hpd_max": 0.6421250761589581,
              "hpd_min": 0.570368705319808,
              "mutant": "Y20I",
              "repressors": 162.5755666443795
             },
             {
              "best_fit": 0.5922767786502522,
              "hpd_max": 0.631420691780378,
              "hpd_min": 0.5589920870608563,
              "mutant": "Y20I",
              "repressors": 170.27691722258996
             },
             {
              "best_fit": 0.5810541733530741,
              "hpd_max": 0.620585313903187,
              "hpd_min": 0.5475531858468515,
              "mutant": "Y20I",
              "repressors": 178.34308769319094
             },
             {
              "best_fit": 0.5697470642724168,
              "hpd_max": 0.6096283331791958,
              "hpd_min": 0.5360638306174218,
              "mutant": "Y20I",
              "repressors": 186.79135990207828
             },
             {
              "best_fit": 0.5583667306664759,
              "hpd_max": 0.5985596153051437,
              "hpd_min": 0.5245360632949794,
              "mutant": "Y20I",
              "repressors": 195.63983435170647
             },
             {
              "best_fit": 0.5469247560114036,
              "hpd_max": 0.5873894697081943,
              "hpd_min": 0.5129820888977826,
              "mutant": "Y20I",
              "repressors": 204.90746898158483
             },
             {
              "best_fit": 0.5354329821804675,
              "hpd_max": 0.5761286145972226,
              "hpd_min": 0.5014142241873107,
              "mutant": "Y20I",
              "repressors": 214.61411978584036
             },
             {
              "best_fit": 0.5239034613412181,
              "hpd_max": 0.5647881385955827,
              "hpd_min": 0.4898448453056901,
              "mutant": "Y20I",
              "repressors": 224.78058335487253
             },
             {
              "best_fit": 0.5123484059767769,
              "hpd_max": 0.5533794592188297,
              "hpd_min": 0.47828633487454525,
              "mutant": "Y20I",
              "repressors": 235.4286414322418
             },
             {
              "best_fit": 0.5007801374658863,
              "hpd_max": 0.5419142785060549,
              "hpd_min": 0.4667510290349981,
              "mutant": "Y20I",
              "repressors": 246.5811075822604
             },
             {
              "best_fit": 0.4892110336785068,
              "hpd_max": 0.5304045361551368,
              "hpd_min": 0.45525116490946815,
              "mutant": "Y20I",
              "repressors": 258.2618760682677
             },
             {
              "best_fit": 0.477653476058975,
              "hpd_max": 0.5188623605493655,
              "hpd_min": 0.4437988289593633,
              "mutant": "Y20I",
              "repressors": 270.49597304631345
             },
             {
              "best_fit": 0.46611979667669645,
              "hpd_max": 0.5073000180947511,
              "hpd_min": 0.4324059066988747,
              "mutant": "Y20I",
              "repressors": 283.3096101839324
             },
             {
              "best_fit": 0.45462222572485944,
              "hpd_max": 0.4957298613131474,
              "hpd_min": 0.421084034204232,
              "mutant": "Y20I",
              "repressors": 296.73024081888695
             },
             {
              "best_fit": 0.44317283994067985,
              "hpd_max": 0.48416427615549074,
              "hpd_min": 0.4098445518303978,
              "mutant": "Y20I",
              "repressors": 310.7866187782014
             },
             {
              "best_fit": 0.43178351240643376,
              "hpd_max": 0.4726156290115581,
              "hpd_min": 0.3986984605139554,
              "mutant": "Y20I",
              "repressors": 325.508859983506
             },
             {
              "best_fit": 0.4204658641692893,
              "hpd_max": 0.46109621389735916,
              "hpd_min": 0.3876563810025921,
              "mutant": "Y20I",
              "repressors": 340.9285069746811
             },
             {
              "best_fit": 0.4092312180902452,
              "hpd_max": 0.44961820029851596,
              "hpd_min": 0.37672851630897786,
              "mutant": "Y20I",
              "repressors": 357.07859649004627
             },
             {
              "best_fit": 0.3980905552989554,
              "hpd_max": 0.4381935821378083,
              "hpd_min": 0.36592461764092565,
              "mutant": "Y20I",
              "repressors": 373.9937302478798
             },
             {
              "best_fit": 0.3870544745926031,
              "hpd_max": 0.42683412831768996,
              "hpd_min": 0.3552539540114339,
              "mutant": "Y20I",
              "repressors": 391.71014908092604
             },
             {
              "best_fit": 0.3761331550741917,
              "hpd_max": 0.4155513352644625,
              "hpd_min": 0.34472528568259886,
              "mutant": "Y20I",
              "repressors": 410.26581058271944
             },
             {
              "best_fit": 0.36533632227953966,
              "hpd_max": 0.4043563818704539,
              "hpd_min": 0.3343468415473741,
              "mutant": "Y20I",
              "repressors": 429.70047043208393
             },
             {
              "best_fit": 0.3546732179938903,
              "hpd_max": 0.39326008719469646,
              "hpd_min": 0.32412630050372143,
              "mutant": "Y20I",
              "repressors": 450.05576757004974
             },
             {
              "best_fit": 0.3441525739093843,
              "hpd_max": 0.38227287124205894,
              "hpd_min": 0.314070776827717,
              "mutant": "Y20I",
              "repressors": 471.3753134116724
             },
             {
              "best_fit": 0.3337825892246376,
              "hpd_max": 0.3714047190964249,
              "hpd_min": 0.30418680950643195,
              "mutant": "Y20I",
              "repressors": 493.7047852839004
             },
             {
              "best_fit": 0.3235709122382973,
              "hpd_max": 0.3606651486363173,
              "hpd_min": 0.2944803554486357,
              "mutant": "Y20I",
              "repressors": 517.092024289676
             },
             {
              "best_fit": 0.3135246259405649,
              "hpd_max": 0.35006318201230474,
              "hpd_min": 0.28495678645212885,
              "mutant": "Y20I",
              "repressors": 541.5871378079471
             },
             {
              "best_fit": 0.30365023756108217,
              "hpd_max": 0.33960732101559205,
              "hpd_min": 0.2756208897713044,
              "mutant": "Y20I",
              "repressors": 567.2426068491977
             },
             {
              "best_fit": 0.29395367198897976,
              "hpd_max": 0.32930552641736405,
              "hpd_min": 0.2664768720977101,
              "mutant": "Y20I",
              "repressors": 594.1133984965034
             },
             {
              "best_fit": 0.28444026894185687,
              "hpd_max": 0.31916520130961734,
              "hpd_min": 0.25752836674016316,
              "mutant": "Y20I",
              "repressors": 622.2570836730231
             },
             {
              "best_fit": 0.27511478372548737,
              "hpd_max": 0.30919317843124616,
              "hpd_min": 0.2487784437694964,
              "mutant": "Y20I",
              "repressors": 651.7339604882427
             },
             {
              "best_fit": 0.2659813913954646,
              "hpd_max": 0.29939571141878113,
              "hpd_min": 0.24022962287627653,
              "mutant": "Y20I",
              "repressors": 682.6071834272386
             },
             {
              "best_fit": 0.2570436941060382,
              "hpd_max": 0.2897784698800717,
              "hpd_min": 0.2318838886777539,
              "mutant": "Y20I",
              "repressors": 714.9428986597577
             },
             {
              "best_fit": 0.24830473141018286,
              "hpd_max": 0.2803465381518989,
              "hpd_min": 0.22374270820270262,
              "mutant": "Y20I",
              "repressors": 748.8103857590023
             },
             {
              "best_fit": 0.2397669932584549,
              "hpd_max": 0.27110441756940346,
              "hpd_min": 0.21580705027942285,
              "mutant": "Y20I",
              "repressors": 784.2822061337682
             },
             {
              "best_fit": 0.2314324354323702,
              "hpd_max": 0.26205603204663636,
              "hpd_min": 0.2080774065527095,
              "mutant": "Y20I",
              "repressors": 821.434358491943
             },
             {
              "best_fit": 0.22330249714066525,
              "hpd_max": 0.2532047367436393,
              "hpd_min": 0.20055381385966045,
              "mutant": "Y20I",
              "repressors": 860.34644166845
             },
             {
              "best_fit": 0.21537812050364827,
              "hpd_max": 0.24455332957631915,
              "hpd_min": 0.1932358777014208,
              "mutant": "Y20I",
              "repressors": 901.1018251665018
             },
             {
              "best_fit": 0.207659771651577,
              "hpd_max": 0.23610406531095346,
              "hpd_min": 0.18612279655791927,
              "mutant": "Y20I",
              "repressors": 943.7878277775382
             },
             {
              "best_fit": 0.2001474631672547,
              "hpd_max": 0.22785867197530218,
              "hpd_min": 0.17921338680490978,
              "mutant": "Y20I",
              "repressors": 988.4959046625586
             },
             {
              "best_fit": 0.19284077761042054,
              "hpd_max": 0.21981836931281487,
              "hpd_min": 0.1725061080067861,
              "mutant": "Y20I",
              "repressors": 1035.3218432956626
             },
             {
              "best_fit": 0.18573889187160414,
              "hpd_max": 0.2119838890049988,
              "hpd_min": 0.1659990883742544,
              "mutant": "Y20I",
              "repressors": 1084.3659686896108
             },
             {
              "best_fit": 0.17884060211549124,
              "hpd_max": 0.2043554963893312,
              "hpd_min": 0.15969015019264948,
              "mutant": "Y20I",
              "repressors": 1135.7333583431052
             },
             {
              "best_fit": 0.1721443490880865,
              "hpd_max": 0.19693301340577013,
              "hpd_min": 0.15357683504409206,
              "mutant": "Y20I",
              "repressors": 1189.5340673703195
             },
             {
              "best_fit": 0.165648243577652,
              "hpd_max": 0.18971584251353926,
              "hpd_min": 0.14765642866447518,
              "mutant": "Y20I",
              "repressors": 1245.883364295008
             },
             {
              "best_fit": 0.15935009183614296,
              "hpd_max": 0.1824796423536014,
              "hpd_min": 0.141703472886707,
              "mutant": "Y20I",
              "repressors": 1304.9019780144029
             },
             {
              "best_fit": 0.15324742078530973,
              "hpd_max": 0.1756762842615292,
              "hpd_min": 0.13616715111065741,
              "mutant": "Y20I",
              "repressors": 1366.7163564620073
             },
             {
              "best_fit": 0.1473375028494297,
              "hpd_max": 0.16727835995116624,
              "hpd_min": 0.1290219619739305,
              "mutant": "Y20I",
              "repressors": 1431.4589375234787
             },
             {
              "best_fit": 0.14161738027449078,
              "hpd_max": 0.1609301837122017,
              "hpd_min": 0.12390957534698545,
              "mutant": "Y20I",
              "repressors": 1499.2684327860457
             },
             {
              "best_fit": 0.13608388881129557,
              "hpd_max": 0.15477814100024506,
              "hpd_min": 0.11897209194159378,
              "mutant": "Y20I",
              "repressors": 1570.2901247293776
             },
             {
              "best_fit": 0.13073368065716165,
              "hpd_max": 0.14881956651490744,
              "hpd_min": 0.11420570725514437,
              "mutant": "Y20I",
              "repressors": 1644.6761779946644
             },
             {
              "best_fit": 0.12556324656747564,
              "hpd_max": 0.14305155866008107,
              "hpd_min": 0.10960652211396828,
              "mutant": "Y20I",
              "repressors": 1722.5859653987875
             },
             {
              "best_fit": 0.12056893706414655,
              "hpd_max": 0.1374710033991495,
              "hpd_min": 0.10517056053438241,
              "mutant": "Y20I",
              "repressors": 1804.1864093920717
             },
             {
              "best_fit": 0.11574698268288569,
              "hpd_max": 0.1320745973939321,
              "hpd_min": 0.10089378652320291,
              "mutant": "Y20I",
              "repressors": 1889.6523396912096
             },
             {
              "best_fit": 0.11109351321511703,
              "hpd_max": 0.12685887033447943,
              "hpd_min": 0.0967721198118506,
              "mutant": "Y20I",
              "repressors": 1979.1668678535573
             },
             {
              "best_fit": 0.10660457591312877,
              "hpd_max": 0.121820206382839,
              "hpd_min": 0.09280145052727508,
              "mutant": "Y20I",
              "repressors": 2072.921779595372
             },
             {
              "best_fit": 0.10227615263878362,
              "hpd_max": 0.11695486466903404,
              "hpd_min": 0.0889776528109497,
              "mutant": "Y20I",
              "repressors": 2171.117945694505
             },
             {
              "best_fit": 0.09810417594668848,
              "hpd_max": 0.11225899879163466,
              "hpd_min": 0.08529659740416486,
              "mutant": "Y20I",
              "repressors": 2273.9657523579276
             },
             {
              "best_fit": 0.09408454410219098,
              "hpd_max": 0.10772867528838515,
              "hpd_min": 0.08175416322382725,
              "mutant": "Y20I",
              "repressors": 2381.6855519761584
             },
             {
              "best_fit": 0.09021313504294763,
              "hpd_max": 0.10335989105434104,
              "hpd_min": 0.07834624795801629,
              "mutant": "Y20I",
              "repressors": 2494.5081352303164
             },
             {
              "best_fit": 0.08648581930011792,
              "hpd_max": 0.09914858969583253,
              "hpd_min": 0.07506877771470817,
              "mutant": "Y20I",
              "repressors": 2612.675225563329
             },
             {
              "best_fit": 0.08289847190154367,
              "hpd_max": 0.09509067681832746,
              "hpd_min": 0.07191771576043562,
              "mutant": "Y20I",
              "repressors": 2736.4399970746717
             },
             {
              "best_fit": 0.0794469832846122,
              "hpd_max": 0.0911820342549111,
              "hpd_min": 0.06888907038825809,
              "mutant": "Y20I",
              "repressors": 2866.0676169482504
             },
             {
              "best_fit": 0.07612726925094591,
              "hpd_max": 0.08741853324968119,
              "hpd_min": 0.06597890195635434,
              "mutant": "Y20I",
              "repressors": 3001.835813575589
             },
             {
              "best_fit": 0.07293527999867326,
              "hpd_max": 0.08379604661691009,
              "hpd_min": 0.06318332913987931,
              "mutant": "Y20I",
              "repressors": 3144.0354715915
             },
             {
              "best_fit": 0.06986700827087872,
              "hpd_max": 0.08031045990240411,
              "hpd_min": 0.06049853443951557,
              "mutant": "Y20I",
              "repressors": 3292.9712550971512
             },
             {
              "best_fit": 0.06691849666098125,
              "hpd_max": 0.07695768157815663,
              "hpd_min": 0.05792076899046448,
              "mutant": "Y20I",
              "repressors": 3448.96226040576
             },
             {
              "best_fit": 0.06408584411730973,
              "hpd_max": 0.0737336523052082,
              "hpd_min": 0.05544635671552021,
              "mutant": "Y20I",
              "repressors": 3612.3426997094302
             },
             {
              "best_fit": 0.06136521169010294,
              "hpd_max": 0.07063435330265767,
              "hpd_min": 0.053071697865408614,
              "mutant": "Y20I",
              "repressors": 3783.462617131929
             },
             {
              "best_fit": 0.058752827564626076,
              "hpd_max": 0.06765581386309144,
              "hpd_min": 0.050793271988809924,
              "mutant": "Y20I",
              "repressors": 3962.6886387014783
             },
             {
              "best_fit": 0.05624499142412063,
              "hpd_max": 0.06479411805636733,
              "hpd_min": 0.04860764037346091,
              "mutant": "Y20I",
              "repressors": 4150.404757850477
             },
             {
              "best_fit": 0.05383807818595813,
              "hpd_max": 0.06204541066478858,
              "hpd_min": 0.04651144799850307,
              "mutant": "Y20I",
              "repressors": 4347.013158125026
             },
             {
              "best_fit": 0.05152854115369599,
              "hpd_max": 0.05940590239328452,
              "hpd_min": 0.0445014250368411,
              "mutant": "Y20I",
              "repressors": 4552.935074866948
             },
             {
              "best_fit": 0.04931291462679168,
              "hpd_max": 0.05687187439834673,
              "hpd_min": 0.04257438794474266,
              "mutant": "Y20I",
              "repressors": 4768.611697714469
             },
             {
              "best_fit": 0.04718781600856487,
              "hpd_max": 0.05443968217921218,
              "hpd_min": 0.040727240174277535,
              "mutant": "Y20I",
              "repressors": 4994.50511585514
             },
             {
              "best_fit": 0.04514994745164629,
              "hpd_max": 0.052105758874188834,
              "hpd_min": 0.03895697254248959,
              "mutant": "Y20I",
              "repressors": 5231.099308056264
             },
             {
              "best_fit": 0.04319609707865943,
              "hpd_max": 0.049866618004143055,
              "hpd_min": 0.03726066328944775,
              "mutant": "Y20I",
              "repressors": 5478.901179593945
             },
             {
              "best_fit": 0.041323139814275905,
              "hpd_max": 0.04771885570405282,
              "hpd_min": 0.03563547785555069,
              "mutant": "Y20I",
              "repressors": 5738.441648302392
             },
             {
              "best_fit": 0.03952803786310236,
              "hpd_max": 0.04565915248222384,
              "hpd_min": 0.03407866840668617,
              "mutant": "Y20I",
              "repressors": 6010.276782070382
             },
             {
              "best_fit": 0.037807840866120726,
              "hpd_max": 0.04368427454530558,
              "hpd_min": 0.03258757313408648,
              "mutant": "Y20I",
              "repressors": 6294.988990221887
             },
             {
              "best_fit": 0.03615968576663636,
              "hpd_max": 0.04179107472566337,
              "hpd_min": 0.031159615353986418,
              "mutant": "Y20I",
              "repressors": 6593.188271333548
             },
             {
              "best_fit": 0.03458079641491617,
              "hpd_max": 0.03997649304599852,
              "hpd_min": 0.029792302430497623,
              "mutant": "Y20I",
              "repressors": 6905.513520162331
             },
             {
              "best_fit": 0.03306848293893041,
              "hpd_max": 0.03823755695438185,
              "hpd_min": 0.028483224543465316,
              "mutant": "Y20I",
              "repressors": 7232.633896483534
             },
             {
              "best_fit": 0.03162014090686938,
              "hpd_max": 0.03657138126110592,
              "hpd_min": 0.02723005332148268,
              "mutant": "Y20I",
              "repressors": 7575.250258771913
             },
             {
              "best_fit": 0.030233250305397957,
              "hpd_max": 0.03497516780698773,
              "hpd_min": 0.026030540358708873,
              "mutant": "Y20I",
              "repressors": 7934.096665797492
             },
             {
              "best_fit": 0.028905374355946735,
              "hpd_max": 0.03344620489098243,
              "hpd_min": 0.02488251563267136,
              "mutant": "Y20I",
              "repressors": 8309.941949353395
             },
             {
              "best_fit": 0.02763415818973011,
              "hpd_max": 0.03198186648321925,
              "hpd_min": 0.02378388583883865,
              "mutant": "Y20I",
              "repressors": 8703.591361485165
             },
             {
              "best_fit": 0.02641732740062993,
              "hpd_max": 0.030579611247851773,
              "hpd_min": 0.02273263265642345,
              "mutant": "Y20I",
              "repressors": 9115.888299750828
             },
             {
              "best_fit": 0.025252686493598048,
              "hpd_max": 0.02923698139843951,
              "hpd_min": 0.021726810958622805,
              "mutant": "Y20I",
              "repressors": 9547.716114208057
             },
             {
              "best_fit": 0.024138117244812237,
              "hpd_max": 0.027951601406953384,
              "hpd_min": 0.020764546979318954,
              "mutant": "Y20I",
              "repressors": 10000
             }
            ]
           },
           "encoding": {
            "color": {
             "field": "mutant",
             "type": "nominal"
            },
            "x": {
             "field": "repressors",
             "type": "quantitative"
            },
            "y": {
             "field": "hpd_min",
             "type": "quantitative"
            },
            "y2": {
             "field": "hpd_max",
             "type": "quantitative"
            }
           },
           "mark": {
            "opacity": 0.3,
            "type": "area"
           },
           "selection": {
            "selector086": {
             "bind": "scales",
             "encodings": [
              "x",
              "y"
             ],
             "mark": {
              "fill": "#333",
              "fillOpacity": 0.125,
              "stroke": "white"
             },
             "on": "[mousedown, window:mouseup] > window:mousemove!",
             "resolve": "global",
             "translate": "[mousedown, window:mouseup] > window:mousemove!",
             "type": "interval",
             "zoom": "wheel!"
            }
           },
           "width": 300
          }
         ]
        },
        {
         "data": {
          "values": [
           {
            "IPTGuM": 0.01,
            "best_fit": 0.007841400937660795,
            "hpd_max": 0.011241661340014695,
            "hpd_min": 0.00565123562266021,
            "mutant": "Q21M"
           },
           {
            "IPTGuM": 0.010718913192051276,
            "best_fit": 0.007841636308017748,
            "hpd_max": 0.011241997617365369,
            "hpd_min": 0.005651405626678724,
            "mutant": "Q21M"
           },
           {
            "IPTGuM": 0.011489510001873092,
            "best_fit": 0.007841888942998117,
            "hpd_max": 0.011242358560879524,
            "hpd_min": 0.005651588100667108,
            "mutant": "Q21M"
           },
           {
            "IPTGuM": 0.012315506032928256,
            "best_fit": 0.007842160134934972,
            "hpd_max": 0.011242746016916475,
            "hpd_min": 0.005651783978061286,
            "mutant": "Q21M"
           },
           {
            "IPTGuM": 0.01320088400831418,
            "best_fit": 0.007842451276685525,
            "hpd_max": 0.011243161975452866,
            "hpd_min": 0.005651994264905075,
            "mutant": "Q21M"
           },
           {
            "IPTGuM": 0.01414991297434576,
            "best_fit": 0.007842763869991698,
            "hpd_max": 0.011243608582027036,
            "hpd_min": 0.0056522200458890524,
            "mutant": "Q21M"
           },
           {
            "IPTGuM": 0.015167168884709226,
            "best_fit": 0.00784309953461048,
            "hpd_max": 0.011244088150783087,
            "hpd_min": 0.005652462490945454,
            "mutant": "Q21M"
           },
           {
            "IPTGuM": 0.01625755666443794,
            "best_fit": 0.007843460018294411,
            "hpd_max": 0.011244603178729457,
            "hpd_min": 0.005652722862457137,
            "mutant": "Q21M"
           },
           {
            "IPTGuM": 0.0174263338600965,
            "best_fit": 0.007843847207712243,
            "hpd_max": 0.011245156361340622,
            "hpd_min": 0.005653002523145654,
            "mutant": "Q21M"
           },
           {
            "IPTGuM": 0.01867913599020783,
            "best_fit": 0.00784426314041037,
            "hpd_max": 0.011245750609645612,
            "hpd_min": 0.005653302944711113,
            "mutant": "Q21M"
           },
           {
            "IPTGuM": 0.020022003718155844,
            "best_fit": 0.007844710017927916,
            "hpd_max": 0.011246389068964616,
            "hpd_min": 0.00565362571730534,
            "mutant": "Q21M"
           },
           {
            "IPTGuM": 0.021461411978584036,
            "best_fit": 0.007845190220192049,
            "hpd_max": 0.011247075139474502,
            "hpd_min": 0.005653972559929806,
            "mutant": "Q21M"
           },
           {
            "IPTGuM": 0.02300430119772918,
            "best_fit": 0.007845706321335745,
            "hpd_max": 0.011247812498806336,
            "hpd_min": 0.005654345331861024,
            "mutant": "Q21M"
           },
           {
            "IPTGuM": 0.024658110758226028,
            "best_fit": 0.00784626110709777,
            "hpd_max": 0.011248605126903233,
            "hpd_min": 0.005654746045218851,
            "mutant": "Q21M"
           },
           {
            "IPTGuM": 0.026430814869741057,
            "best_fit": 0.007846857593984815,
            "hpd_max": 0.01124945733339549,
            "hpd_min": 0.0056551768788076625,
            "mutant": "Q21M"
           },
           {
            "IPTGuM": 0.02833096101839324,
            "best_fit": 0.007847499050398407,
            "hpd_max": 0.011250373787782444,
            "hpd_min": 0.0056556401933767625,
            "mutant": "Q21M"
           },
           {
            "IPTGuM": 0.030367711180354574,
            "best_fit": 0.007848189019954993,
            "hpd_max": 0.01125135955274737,
            "hpd_min": 0.005656138548465039,
            "mutant": "Q21M"
           },
           {
            "IPTGuM": 0.032550885998350584,
            "best_fit": 0.00784893134725705,
            "hpd_max": 0.011252420120973626,
            "hpd_min": 0.005656674721016107,
            "mutant": "Q21M"
           },
           {
            "IPTGuM": 0.034891012134067735,
            "best_fit": 0.007849730206406372,
            "hpd_max": 0.01125356145587804,
            "hpd_min": 0.005657251725974279,
            "mutant": "Q21M"
           },
           {
            "IPTGuM": 0.03739937302478798,
            "best_fit": 0.00785059013258868,
            "hpd_max": 0.011254790036731596,
            "hpd_min": 0.005657872839099137,
            "mutant": "Q21M"
           },
           {
            "IPTGuM": 0.04008806328898465,
            "best_fit": 0.007851516057101887,
            "hpd_max": 0.0112561129086993,
            "hpd_min": 0.005658541622267672,
            "mutant": "Q21M"
           },
           {
            "IPTGuM": 0.04297004704320839,
            "best_fit": 0.0078525133462496,
            "hpd_max": 0.011257537738401362,
            "hpd_min": 0.005659261951568551,
            "mutant": "Q21M"
           },
           {
            "IPTGuM": 0.04605922041145106,
            "best_fit": 0.007853587844577486,
            "hpd_max": 0.01125907287567787,
            "hpd_min": 0.005660038048533528,
            "mutant": "Q21M"
           },
           {
            "IPTGuM": 0.049370478528390035,
            "best_fit": 0.007854745922993903,
            "hpd_max": 0.01126072742233031,
            "hpd_min": 0.00566087451489718,
            "mutant": "Q21M"
           },
           {
            "IPTGuM": 0.05291978735958442,
            "best_fit": 0.007855994532389193,
            "hpd_max": 0.011262511308717357,
            "hpd_min": 0.00566177637132876,
            "mutant": "Q21M"
           },
           {
            "IPTGuM": 0.05672426068491978,
            "best_fit": 0.007857341263450921,
            "hpd_max": 0.011264435379200908,
            "hpd_min": 0.005662749100639946,
            "mutant": "Q21M"
           },
           {
            "IPTGuM": 0.06080224261649421,
            "best_fit": 0.007858794413467166,
            "hpd_max": 0.011266511487573603,
            "hpd_min": 0.005663798696040748,
            "mutant": "Q21M"
           },
           {
            "IPTGuM": 0.06517339604882423,
            "best_fit": 0.007860363061017988,
            "hpd_max": 0.011268752603753358,
            "hpd_min": 0.00566493171509386,
            "mutant": "Q21M"
           },
           {
            "IPTGuM": 0.0698587974678525,
            "best_fit": 0.007862057149578673,
            "hpd_max": 0.011271172933206796,
            "hpd_min": 0.005666155340106972,
            "mutant": "Q21M"
           },
           {
            "IPTGuM": 0.07488103857590023,
            "best_fit": 0.007863887581199035,
            "hpd_max": 0.011273788050764245,
            "hpd_min": 0.005667477445804259,
            "mutant": "Q21M"
           },
           {
            "IPTGuM": 0.08026433522257174,
            "best_fit": 0.00786586632158404,
            "hpd_max": 0.011276615050718862,
            "hpd_min": 0.005668906675234484,
            "mutant": "Q21M"
           },
           {
            "IPTGuM": 0.086034644166845,
            "best_fit": 0.00786800651808448,
            "hpd_max": 0.011279672715364378,
            "hpd_min": 0.00567045252500586,
            "mutant": "Q21M"
           },
           {
            "IPTGuM": 0.09221978823334327,
            "best_fit": 0.007870322632316332,
            "hpd_max": 0.011282981704425573,
            "hpd_min": 0.005672125441089376,
            "mutant": "Q21M"
           },
           {
            "IPTGuM": 0.09884959046625587,
            "best_fit": 0.007872830589366905,
            "hpd_max": 0.011286564768177468,
            "hpd_min": 0.00567393692660544,
            "mutant": "Q21M"
           },
           {
            "IPTGuM": 0.10595601792776159,
            "best_fit": 0.007875547945819638,
            "hpd_max": 0.011290446987440028,
            "hpd_min": 0.005675899663206538,
            "mutant": "Q21M"
           },
           {
            "IPTGuM": 0.11357333583431052,
            "best_fit": 0.007878494079142115,
            "hpd_max": 0.011294656044081315,
            "hpd_min": 0.005678027647894516,
            "mutant": "Q21M"
           },
           {
            "IPTGuM": 0.12173827277396614,
            "best_fit": 0.007881690401339092,
            "hpd_max": 0.011299222526172137,
            "hpd_min": 0.00568033634736944,
            "mutant": "Q21M"
           },
           {
            "IPTGuM": 0.13049019780144022,
            "best_fit": 0.007885160600180501,
            "hpd_max": 0.011304180272517414,
            "hpd_min": 0.005682842872301902,
            "mutant": "Q21M"
           },
           {
            "IPTGuM": 0.1398713102647238,
            "best_fit": 0.007888930911780723,
            "hpd_max": 0.011309566761955112,
            "hpd_min": 0.005685566174257817,
            "mutant": "Q21M"
           },
           {
            "IPTGuM": 0.14992684327860456,
            "best_fit": 0.007893030428838146,
            "hpd_max": 0.011315423553573487,
            "hpd_min": 0.005688527268389819,
            "mutant": "Q21M"
           },
           {
            "IPTGuM": 0.16070528182616384,
            "best_fit": 0.00789749144945261,
            "hpd_max": 0.011321796784865633,
            "hpd_min": 0.005691749485449434,
            "mutant": "Q21M"
           },
           {
            "IPTGuM": 0.17225859653987866,
            "best_fit": 0.0079023498721334,
            "hpd_max": 0.011328737735831674,
            "hpd_min": 0.005695258757176729,
            "mutant": "Q21M"
           },
           {
            "IPTGuM": 0.18464249428955434,
            "best_fit": 0.007907645643404362,
            "hpd_max": 0.01133630346817115,
            "hpd_min": 0.005699083939698262,
            "mutant": "Q21M"
           },
           {
            "IPTGuM": 0.19791668678535562,
            "best_fit": 0.007913423265319118,
            "hpd_max": 0.011344557550000463,
            "hpd_min": 0.005703257180219688,
            "mutant": "Q21M"
           },
           {
            "IPTGuM": 0.21214517849106299,
            "best_fit": 0.007919732371234226,
            "hpd_max": 0.011353570878005625,
            "hpd_min": 0.005707814333047928,
            "mutant": "Q21M"
           },
           {
            "IPTGuM": 0.22739657523579276,
            "best_fit": 0.007926628379369235,
            "hpd_max": 0.011363422610623697,
            "hpd_min": 0.005712795431832234,
            "mutant": "Q21M"
           },
           {
            "IPTGuM": 0.24374441501222205,
            "best_fit": 0.00793417323503024,
            "hpd_max": 0.01137420122776668,
            "hpd_min": 0.005718245225888551,
            "mutant": "Q21M"
           },
           {
            "IPTGuM": 0.2612675225563328,
            "best_fit": 0.007942436253910761,
            "hpd_max": 0.011386005734791161,
            "hpd_min": 0.0057242137895841105,
            "mutant": "Q21M"
           },
           {
            "IPTGuM": 0.2800503894183631,
            "best_fit": 0.007951495080636594,
            "hpd_max": 0.01139894703091301,
            "hpd_min": 0.005730757215027813,
            "mutant": "Q21M"
           },
           {
            "IPTGuM": 0.3001835813575589,
            "best_fit": 0.007961436778718993,
            "hpd_max": 0.011413149465110049,
            "hpd_min": 0.005737938399758453,
            "mutant": "Q21M"
           },
           {
            "IPTGuM": 0.32176417502507354,
            "best_fit": 0.007972359070356599,
            "hpd_max": 0.011428752605794052,
            "hpd_min": 0.00574582794277103,
            "mutant": "Q21M"
           },
           {
            "IPTGuM": 0.3448962260405758,
            "best_fit": 0.00798437174711781,
            "hpd_max": 0.011445913254218712,
            "hpd_min": 0.005754505164098674,
            "mutant": "Q21M"
           },
           {
            "IPTGuM": 0.36969127071950264,
            "best_fit": 0.007997598275484508,
            "hpd_max": 0.011464807735782033,
            "hpd_min": 0.005764059265304808,
            "mutant": "Q21M"
           },
           {
            "IPTGuM": 0.3962688638701478,
            "best_fit": 0.008012177624591669,
            "hpd_max": 0.011485634508145765,
            "hpd_min": 0.005774590650671547,
            "mutant": "Q21M"
           },
           {
            "IPTGuM": 0.42475715525368984,
            "best_fit": 0.00802826634730865,
            "hpd_max": 0.011508617130504398,
            "hpd_min": 0.0057862124316343895,
            "mutant": "Q21M"
           },
           {
            "IPTGuM": 0.4552935074866948,
            "best_fit": 0.00804604095013568,
            "hpd_max": 0.011534007644474818,
            "hpd_min": 0.005799052140153849,
            "mutant": "Q21M"
           },
           {
            "IPTGuM": 0.48802515836544313,
            "best_fit": 0.0080657005922986,
            "hpd_max": 0.011562090424034934,
            "hpd_min": 0.005813253680279269,
            "mutant": "Q21M"
           },
           {
            "IPTGuM": 0.5231099308056261,
            "best_fit": 0.008087470159989497,
            "hpd_max": 0.011593186559816799,
            "hpd_min": 0.005828979551203059,
            "mutant": "Q21M"
           },
           {
            "IPTGuM": 0.5607169938205459,
            "best_fit": 0.008111603768000124,
            "hpd_max": 0.011627658851966326,
            "hpd_min": 0.005846413379684021,
            "mutant": "Q21M"
           },
           {
            "IPTGuM": 0.6010276782070382,
            "best_fit": 0.008138388748117922,
            "hpd_max": 0.011665917495838823,
            "hpd_min": 0.005865762804902053,
            "mutant": "Q21M"
           },
           {
            "IPTGuM": 0.644236350872137,
            "best_fit": 0.008168150191697044,
            "hpd_max": 0.011708426556136946,
            "hpd_min": 0.005887262764665701,
            "mutant": "Q21M"
           },
           {
            "IPTGuM": 0.6905513520162327,
            "best_fit": 0.008201256122884113,
            "hpd_max": 0.011755711337856065,
            "hpd_min": 0.0059111792385072295,
            "mutant": "Q21M"
           },
           {
            "IPTGuM": 0.7401959996915641,
            "best_fit": 0.00823812338918324,
            "hpd_max": 0.011808366776729862,
            "hpd_min": 0.005937813510653036,
            "mutant": "Q21M"
           },
           {
            "IPTGuM": 0.7934096665797492,
            "best_fit": 0.008279224367507734,
            "hpd_max": 0.011867066987923018,
            "hpd_min": 0.0059675070242423325,
            "mutant": "Q21M"
           },
           {
            "IPTGuM": 0.8504489341802677,
            "best_fit": 0.008325094596713666,
            "hpd_max": 0.011932576129658484,
            "hpd_min": 0.006000646907582447,
            "mutant": "Q21M"
           },
           {
            "IPTGuM": 0.9115888299750818,
            "best_fit": 0.008376341461974877,
            "hpd_max": 0.012005760758456607,
            "hpd_min": 0.006037672263778803,
            "mutant": "Q21M"
           },
           {
            "IPTGuM": 0.9771241535346497,
            "best_fit": 0.008433654072374173,
            "hpd_max": 0.012087603874859925,
            "hpd_min": 0.006079081326869152,
            "mutant": "Q21M"
           },
           {
            "IPTGuM": 1.0473708979594498,
            "best_fit": 0.008497814490883764,
            "hpd_max": 0.01217922088306675,
            "hpd_min": 0.006125439600735242,
            "mutant": "Q21M"
           },
           {
            "IPTGuM": 1.1226677735108135,
            "best_fit": 0.008569710495615435,
            "hpd_max": 0.012281877714923957,
            "hpd_min": 0.006177389111669738,
            "mutant": "Q21M"
           },
           {
            "IPTGuM": 1.2033778407775892,
            "best_fit": 0.008650350072950046,
            "hpd_max": 0.012397011398323879,
            "hpd_min": 0.006235658921646594,
            "mutant": "Q21M"
           },
           {
            "IPTGuM": 1.289890261253308,
            "best_fit": 0.008740877866995685,
            "hpd_max": 0.01252625338224965,
            "hpd_min": 0.006301077067173511,
            "mutant": "Q21M"
           },
           {
            "IPTGuM": 1.382622173764655,
            "best_fit": 0.00884259383582865,
            "hpd_max": 0.012671455965479377,
            "hpd_min": 0.006374584108173058,
            "mutant": "Q21M"
           },
           {
            "IPTGuM": 1.4820207057988586,
            "best_fit": 0.008956974393143502,
            "hpd_max": 0.012834722213149116,
            "hpd_min": 0.006457248492694889,
            "mutant": "Q21M"
           },
           {
            "IPTGuM": 1.5885651294280527,
            "best_fit": 0.00908569634420801,
            "hpd_max": 0.013018439784701755,
            "hpd_min": 0.006550283966417235,
            "mutant": "Q21M"
           },
           {
            "IPTGuM": 1.7027691722258995,
            "best_fit": 0.009230663957217451,
            "hpd_max": 0.013225319137736911,
            "hpd_min": 0.006655069280808512,
            "mutant": "Q21M"
           },
           {
            "IPTGuM": 1.8251834943190424,
            "best_fit": 0.009394039544969101,
            "hpd_max": 0.013458436614197985,
            "hpd_min": 0.006773170480372309,
            "mutant": "Q21M"
           },
           {
            "IPTGuM": 1.9563983435170629,
            "best_fit": 0.00957827796675641,
            "hpd_max": 0.013721282957133223,
            "hpd_min": 0.006906366077373969,
            "mutant": "Q21M"
           },
           {
            "IPTGuM": 2.0970464013232326,
            "best_fit": 0.00978616549581083,
            "hpd_max": 0.014017817846475813,
            "hpd_min": 0.007056675451496576,
            "mutant": "Q21M"
           },
           {
            "IPTGuM": 2.247805833548725,
            "best_fit": 0.010020863532503584,
            "hpd_max": 0.014352531078900827,
            "hpd_min": 0.007226390841479812,
            "mutant": "Q21M"
           },
           {
            "IPTGuM": 2.4094035602395243,
            "best_fit": 0.010285957676496201,
            "hpd_max": 0.01473051104716382,
            "hpd_min": 0.007418113325221293,
            "mutant": "Q21M"
           },
           {
            "IPTGuM": 2.5826187606826747,
            "best_fit": 0.010585512700267866,
            "hpd_max": 0.015157521194906298,
            "hpd_min": 0.007634793213054198,
            "mutant": "Q21M"
           },
           {
            "IPTGuM": 2.7682866303920637,
            "best_fit": 0.010924133989543129,
            "hpd_max": 0.015640085129206647,
            "hpd_min": 0.007879775304600321,
            "mutant": "Q21M"
           },
           {
            "IPTGuM": 2.9673024081888695,
            "best_fit": 0.01130703602997536,
            "hpd_max": 0.01618558105939937,
            "hpd_min": 0.008156849480947338,
            "mutant": "Q21M"
           },
           {
            "IPTGuM": 3.180625692794119,
            "best_fit": 0.011740118520025218,
            "hpd_max": 0.0168023461896308,
            "hpd_min": 0.00847030711860135,
            "mutant": "Q21M"
           },
           {
            "IPTGuM": 3.409285069746811,
            "best_fit": 0.012230050672283504,
            "hpd_max": 0.01749979161525712,
            "hpd_min": 0.00882500381677004,
            "mutant": "Q21M"
           },
           {
            "IPTGuM": 3.6543830709572545,
            "best_fit": 0.012784364223263615,
            "hpd_max": 0.018288528148468854,
            "hpd_min": 0.009226428921321635,
            "mutant": "Q21M"
           },
           {
            "IPTGuM": 3.9171014908092565,
            "best_fit": 0.013411555597232073,
            "hpd_max": 0.01918050331307593,
            "hpd_min": 0.009680782302619298,
            "mutant": "Q21M"
           },
           {
            "IPTGuM": 4.19870708444391,
            "best_fit": 0.01412119755360743,
            "hpd_max": 0.02018914948627578,
            "hpd_min": 0.01019505879467077,
            "mutant": "Q21M"
           },
           {
            "IPTGuM": 4.500557675700498,
            "best_fit": 0.014924060478650294,
            "hpd_max": 0.021329542807799806,
            "hpd_min": 0.010777140622773596,
            "mutant": "Q21M"
           },
           {
            "IPTGuM": 4.8241087041653685,
            "best_fit": 0.01583224324740692,
            "hpd_max": 0.02261857200269752,
            "hpd_min": 0.011435898027838481,
            "mutant": "Q21M"
           },
           {
            "IPTGuM": 5.170920242896756,
            "best_fit": 0.016859313265902332,
            "hpd_max": 0.024075115649256743,
            "hpd_min": 0.012181298128126206,
            "mutant": "Q21M"
           },
           {
            "IPTGuM": 5.542664520663101,
            "best_fit": 0.018020454889146352,
            "hpd_max": 0.02572022564232456,
            "hpd_min": 0.013024521831989544,
            "mutant": "Q21M"
           },
           {
            "IPTGuM": 5.941133984965034,
            "best_fit": 0.01933262487860676,
            "hpd_max": 0.027577313627894475,
            "hpd_min": 0.013978088315598394,
            "mutant": "Q21M"
           },
           {
            "IPTGuM": 6.3682499447185865,
            "best_fit": 0.020814712893233663,
            "hpd_max": 0.029672335991559246,
            "hpd_min": 0.015055986193403112,
            "mutant": "Q21M"
           },
           {
            "IPTGuM": 6.826071834272386,
            "best_fit": 0.022487704180516366,
            "hpd_max": 0.03203397154936202,
            "hpd_min": 0.016273810021093113,
            "mutant": "Q21M"
           },
           {
            "IPTGuM": 7.316807143427193,
            "best_fit": 0.024374840629429635,
            "hpd_max": 0.03469378440055869,
            "hpd_min": 0.017648900165468953,
            "mutant": "Q21M"
           },
           {
            "IPTGuM": 7.842822061337682,
            "best_fit": 0.026501775150193776,
            "hpd_max": 0.03768636245697891,
            "hpd_min": 0.019200483337998862,
            "mutant": "Q21M"
           },
           {
            "IPTGuM": 8.406652885618325,
            "best_fit": 0.028896712948190156,
            "hpd_max": 0.04104941998271844,
            "hpd_min": 0.020949810205984475,
            "mutant": "Q21M"
           },
           {
            "IPTGuM": 9.01101825166502,
            "best_fit": 0.03159053166411088,
            "hpd_max": 0.04482385011010574,
            "hpd_min": 0.022920285458499962,
            "mutant": "Q21M"
           },
           {
            "IPTGuM": 9.658832241158699,
            "best_fit": 0.03461687057935075,
            "hpd_max": 0.04905371083295648,
            "hpd_min": 0.025137584511876525,
            "mutant": "Q21M"
           },
           {
            "IPTGuM": 10.353218432956616,
            "best_fit": 0.038012177178427024,
            "hpd_max": 0.05378612555818084,
            "hpd_min": 0.02762974970042475,
            "mutant": "Q21M"
           },
           {
            "IPTGuM": 11.097524964120721,
            "best_fit": 0.04181569739425167,
            "hpd_max": 0.05907107712851952,
            "hpd_min": 0.030427257336461743,
            "mutant": "Q21M"
           },
           {
            "IPTGuM": 11.895340673703195,
            "best_fit": 0.04606939395321755,
            "hpd_max": 0.06496107259420944,
            "hpd_min": 0.03356304548424349,
            "mutant": "Q21M"
           },
           {
            "IPTGuM": 12.75051240713013,
            "best_fit": 0.0508177755500157,
            "hpd_max": 0.0715106552721675,
            "hpd_min": 0.03707249074633716,
            "mutant": "Q21M"
           },
           {
            "IPTGuM": 13.66716356462006,
            "best_fit": 0.05610761833731915,
            "hpd_max": 0.0787757412283193,
            "hpd_min": 0.040993320912192384,
            "mutant": "Q21M"
           },
           {
            "IPTGuM": 14.649713983072848,
            "best_fit": 0.06198756069227637,
            "hpd_max": 0.08681275975430247,
            "hpd_min": 0.04536544910921859,
            "mutant": "Q21M"
           },
           {
            "IPTGuM": 15.702901247293775,
            "best_fit": 0.0685075527549749,
            "hpd_max": 0.09567758221282002,
            "hpd_min": 0.0502307143103568,
            "mutant": "Q21M"
           },
           {
            "IPTGuM": 16.831803533309568,
            "best_fit": 0.07571814420072137,
            "hpd_max": 0.10542423129258215,
            "hpd_min": 0.055632512914730266,
            "mutant": "Q21M"
           },
           {
            "IPTGuM": 18.04186409392072,
            "best_fit": 0.08366959750058335,
            "hpd_max": 0.11610337362116173,
            "hpd_min": 0.06161530689182952,
            "mutant": "Q21M"
           },
           {
            "IPTGuM": 19.338917504552303,
            "best_fit": 0.09241081990735328,
            "hpd_max": 0.12776061297807353,
            "hpd_min": 0.06822399595047232,
            "mutant": "Q21M"
           },
           {
            "IPTGuM": 20.729217795953698,
            "best_fit": 0.10198811585077751,
            "hpd_max": 0.14043461881592428,
            "hpd_min": 0.07550314464683457,
            "mutant": "Q21M"
           },
           {
            "IPTGuM": 22.21946860939524,
            "best_fit": 0.11244377244069007,
            "hpd_max": 0.15415514472882788,
            "hpd_min": 0.08349606053064182,
            "mutant": "Q21M"
           },
           {
            "IPTGuM": 23.81685551976158,
            "best_fit": 0.1238145042033993,
            "hpd_max": 0.16894101260625344,
            "hpd_min": 0.09224372651072851,
            "mutant": "Q21M"
           },
           {
            "IPTGuM": 25.529080682395165,
            "best_fit": 0.13612979850879758,
            "hpd_max": 0.18479815854948695,
            "hpd_min": 0.10178359962387185,
            "mutant": "Q21M"
           },
           {
            "IPTGuM": 27.364399970746693,
            "best_fit": 0.149410219455683,
            "hpd_max": 0.2017178537177841,
            "hpd_min": 0.11214829913140588,
            "mutant": "Q21M"
           },
           {
            "IPTGuM": 29.331662783900423,
            "best_fit": 0.16366574389516517,
            "hpd_max": 0.21967522426738811,
            "hpd_min": 0.12336421889876854,
            "mutant": "Q21M"
           },
           {
            "IPTGuM": 31.440354715915,
            "best_fit": 0.17889421700572078,
            "hpd_max": 0.23862819660472157,
            "hpd_min": 0.1354501115792521,
            "mutant": "Q21M"
           },
           {
            "IPTGuM": 33.700643292719285,
            "best_fit": 0.1950800243363307,
            "hpd_max": 0.25944620178476896,
            "hpd_min": 0.14936499636273518,
            "mutant": "Q21M"
           },
           {
            "IPTGuM": 36.123426997094306,
            "best_fit": 0.21219308041790758,
            "hpd_max": 0.2802398222748923,
            "hpd_min": 0.1632812808784913,
            "mutant": "Q21M"
           },
           {
            "IPTGuM": 38.72038781812553,
            "best_fit": 0.2301882291066743,
            "hpd_max": 0.30179504188389944,
            "hpd_min": 0.17806599801378886,
            "mutant": "Q21M"
           },
           {
            "IPTGuM": 41.504047578504725,
            "best_fit": 0.24900513662307205,
            "hpd_max": 0.3240018321822328,
            "hpd_min": 0.19369419782574937,
            "mutant": "Q21M"
           },
           {
            "IPTGuM": 44.487828311275855,
            "best_fit": 0.2685687346519046,
            "hpd_max": 0.3467372158682988,
            "hpd_min": 0.21012808080627784,
            "mutant": "Q21M"
           },
           {
            "IPTGuM": 47.68611697714469,
            "best_fit": 0.28879023899490525,
            "hpd_max": 0.3698680994929401,
            "hpd_min": 0.22731689084920295,
            "mutant": "Q21M"
           },
           {
            "IPTGuM": 51.11433483440165,
            "best_fit": 0.30956873155068654,
            "hpd_max": 0.39325455869909237,
            "hpd_min": 0.24519725074143242,
            "mutant": "Q21M"
           },
           {
            "IPTGuM": 54.789011795939395,
            "best_fit": 0.33079325340324545,
            "hpd_max": 0.4167534026098179,
            "hpd_min": 0.2636939602574191,
            "mutant": "Q21M"
           },
           {
            "IPTGuM": 58.72786613189477,
            "best_fit": 0.3523453187898682,
            "hpd_max": 0.44022182311743,
            "hpd_min": 0.2827212482673864,
            "mutant": "Q21M"
           },
           {
            "IPTGuM": 62.94988990221888,
            "best_fit": 0.37410172802865,
            "hpd_max": 0.4635209319786589,
            "hpd_min": 0.3021844399487238,
            "mutant": "Q21M"
           },
           {
            "IPTGuM": 67.47544053110693,
            "best_fit": 0.39593753583200475,
            "hpd_max": 0.48651900375354007,
            "hpd_min": 0.32198197127345624,
            "mutant": "Q21M"
           },
           {
            "IPTGuM": 72.32633896483533,
            "best_fit": 0.41772902229236575,
            "hpd_max": 0.5090942732317845,
            "hpd_min": 0.34200765853693355,
            "mutant": "Q21M"
           },
           {
            "IPTGuM": 77.52597488629456,
            "best_fit": 0.4393565180283219,
            "hpd_max": 0.5332278837933746,
            "hpd_min": 0.3642851191696325,
            "mutant": "Q21M"
           },
           {
            "IPTGuM": 83.09941949353387,
            "best_fit": 0.46070695159943814,
            "hpd_max": 0.5546272681032762,
            "hpd_min": 0.3844893267598841,
            "mutant": "Q21M"
           },
           {
            "IPTGuM": 89.0735463861044,
            "best_fit": 0.48167601387470016,
            "hpd_max": 0.57531083049483,
            "hpd_min": 0.4045919139365858,
            "mutant": "Q21M"
           },
           {
            "IPTGuM": 95.47716114208056,
            "best_fit": 0.5021698670509134,
            "hpd_max": 0.5952137034826204,
            "hpd_min": 0.42449204558368836,
            "mutant": "Q21M"
           },
           {
            "IPTGuM": 102.34114021054528,
            "best_fit": 0.5221063614997461,
            "hpd_max": 0.6142860933708506,
            "hpd_min": 0.4440956760017968,
            "mutant": "Q21M"
           },
           {
            "IPTGuM": 109.69857978923841,
            "best_fit": 0.5414157577934233,
            "hpd_max": 0.6324926292301606,
            "hpd_min": 0.4633170712531292,
            "mutant": "Q21M"
           },
           {
            "IPTGuM": 117.58495540521558,
            "best_fit": 0.5600409810257115,
            "hpd_max": 0.6498113535993651,
            "hpd_min": 0.4820799468486024,
            "mutant": "Q21M"
           },
           {
            "IPTGuM": 126.03829296797274,
            "best_fit": 0.5779374578136082,
            "hpd_max": 0.6662324564374832,
            "hpd_min": 0.5003182114083564,
            "mutant": "Q21M"
           },
           {
            "IPTGuM": 135.09935211980252,
            "best_fit": 0.5950726021402519,
            "hpd_max": 0.681756848888166,
            "hpd_min": 0.5179763303137719,
            "mutant": "Q21M"
           },
           {
            "IPTGuM": 144.8118227674533,
            "best_fit": 0.6114250244908038,
            "hpd_max": 0.6963946628543323,
            "hpd_min": 0.5350093423688943,
            "mutant": "Q21M"
           },
           {
            "IPTGuM": 155.2225357427048,
            "best_fit": 0.626983540334686,
            "hpd_max": 0.7101637484389978,
            "hpd_min": 0.5513825761889136,
            "mutant": "Q21M"
           },
           {
            "IPTGuM": 166.38168860761274,
            "best_fit": 0.6417460502175648,
            "hpd_max": 0.7246558607143184,
            "hpd_min": 0.5686483353500371,
            "mutant": "Q21M"
           },
           {
            "IPTGuM": 178.34308769319094,
            "best_fit": 0.6557183560667957,
            "hpd_max": 0.7367211779757938,
            "hpd_min": 0.5836218154798433,
            "mutant": "Q21M"
           },
           {
            "IPTGuM": 191.16440753856998,
            "best_fit": 0.66891296829737,
            "hpd_max": 0.7480044024367425,
            "hpd_min": 0.5978850764451601,
            "mutant": "Q21M"
           },
           {
            "IPTGuM": 204.9074689815846,
            "best_fit": 0.681347947269207,
            "hpd_max": 0.7585411366395761,
            "hpd_min": 0.6114381136667059,
            "mutant": "Q21M"
           },
           {
            "IPTGuM": 219.6385372416547,
            "best_fit": 0.6930458116589865,
            "hpd_max": 0.7708952220284878,
            "hpd_min": 0.6268204852409845,
            "mutant": "Q21M"
           },
           {
            "IPTGuM": 235.42864143224153,
            "best_fit": 0.704032536137501,
            "hpd_max": 0.7799801108064351,
            "hpd_min": 0.6389426907349354,
            "mutant": "Q21M"
           },
           {
            "IPTGuM": 252.3539170434766,
            "best_fit": 0.7143366518660994,
            "hpd_max": 0.7884346800087814,
            "hpd_min": 0.6503875963180702,
            "mutant": "Q21M"
           },
           {
            "IPTGuM": 270.49597304631317,
            "best_fit": 0.7239884559776867,
            "hpd_max": 0.7962968387171953,
            "hpd_min": 0.6611752186948217,
            "mutant": "Q21M"
           },
           {
            "IPTGuM": 289.94228538828753,
            "best_fit": 0.7330193304339265,
            "hpd_max": 0.8036036314869855,
            "hpd_min": 0.6713282854928108,
            "mutant": "Q21M"
           },
           {
            "IPTGuM": 310.7866187782014,
            "best_fit": 0.7414611663630869,
            "hpd_max": 0.8103909261192441,
            "hpd_min": 0.6808715329753632,
            "mutant": "Q21M"
           },
           {
            "IPTGuM": 333.129478793467,
            "best_fit": 0.7493458870132594,
            "hpd_max": 0.8166931851129172,
            "hpd_min": 0.6898310893698182,
            "mutant": "Q21M"
           },
           {
            "IPTGuM": 357.07859649004627,
            "best_fit": 0.7567050605938397,
            "hpd_max": 0.8225433075755307,
            "hpd_min": 0.6982339429276299,
            "mutant": "Q21M"
           },
           {
            "IPTGuM": 382.74944785163075,
            "best_fit": 0.7635695933050285,
            "hpd_max": 0.8279725294235015,
            "hpd_min": 0.7061074910254744,
            "mutant": "Q21M"
           },
           {
            "IPTGuM": 410.26581058271904,
            "best_fit": 0.7699694925622094,
            "hpd_max": 0.8330103709556091,
            "hpd_min": 0.7134791647028453,
            "mutant": "Q21M"
           },
           {
            "IPTGuM": 439.7603609302721,
            "best_fit": 0.775933690623982,
            "hpd_max": 0.8376846222137833,
            "hpd_min": 0.7203761218597261,
            "mutant": "Q21M"
           },
           {
            "IPTGuM": 471.3753134116719,
            "best_fit": 0.7814899193727826,
            "hpd_max": 0.8420213578672283,
            "hpd_min": 0.7268250017562617,
            "mutant": "Q21M"
           },
           {
            "IPTGuM": 505.26310653356796,
            "best_fit": 0.7866646277488041,
            "hpd_max": 0.8460449746112514,
            "hpd_min": 0.7328517333239705,
            "mutant": "Q21M"
           },
           {
            "IPTGuM": 541.5871378079465,
            "best_fit": 0.7914829342032649,
            "hpd_max": 0.8497782452257849,
            "hpd_min": 0.7384813899913916,
            "mutant": "Q21M"
           },
           {
            "IPTGuM": 580.5225516094896,
            "best_fit": 0.7959686074429893,
            "hpd_max": 0.8532423844720407,
            "hpd_min": 0.7437380841425071,
            "mutant": "Q21M"
           },
           {
            "IPTGuM": 622.2570836730231,
            "best_fit": 0.8001440696330268,
            "hpd_max": 0.8564571229126277,
            "hpd_min": 0.748644894880336,
            "mutant": "Q21M"
           },
           {
            "IPTGuM": 666.9919663030115,
            "best_fit": 0.8040304170730639,
            "hpd_max": 0.8594407855226521,
            "hpd_min": 0.7532238233961305,
            "mutant": "Q21M"
           },
           {
            "IPTGuM": 714.9428986597577,
            "best_fit": 0.8076474541453804,
            "hpd_max": 0.8622103726238841,
            "hpd_min": 0.7574957708983421,
            "mutant": "Q21M"
           },
           {
            "IPTGuM": 766.3410868007447,
            "best_fit": 0.8110137370358534,
            "hpd_max": 0.8647816412312025,
            "hpd_min": 0.7614805347006318,
            "mutant": "Q21M"
           },
           {
            "IPTGuM": 821.4343584919421,
            "best_fit": 0.8141466243509947,
            "hpd_max": 0.8671691853618628,
            "hpd_min": 0.7651968186814919,
            "mutant": "Q21M"
           },
           {
            "IPTGuM": 880.4883581643464,
            "best_fit": 0.8170623322941898,
            "hpd_max": 0.8693865142356793,
            "hpd_min": 0.7686622548950703,
            "mutant": "Q21M"
           },
           {
            "IPTGuM": 943.7878277775371,
            "best_fit": 0.819775992527461,
            "hpd_max": 0.8714461275996696,
            "hpd_min": 0.7718934336257622,
            "mutant": "Q21M"
           },
           {
            "IPTGuM": 1011.6379797662071,
            "best_fit": 0.8223017112373611,
            "hpd_max": 0.8733595876549692,
            "hpd_min": 0.7749059396350264,
            "mutant": "Q21M"
           },
           {
            "IPTGuM": 1084.3659686896087,
            "best_fit": 0.8246526282522191,
            "hpd_max": 0.8751375872567481,
            "hpd_min": 0.7777143927480784,
            "mutant": "Q21M"
           },
           {
            "IPTGuM": 1162.322468679852,
            "best_fit": 0.8268409753303869,
            "hpd_max": 0.8767900142082082,
            "hpd_min": 0.7803324912732358,
            "mutant": "Q21M"
           },
           {
            "IPTGuM": 1245.883364295008,
            "best_fit": 0.8288781329627423,
            "hpd_max": 0.8783260115851004,
            "hpd_min": 0.7827730570416952,
            "mutant": "Q21M"
           },
           {
            "IPTGuM": 1335.4515629298974,
            "best_fit": 0.8307746852144302,
            "hpd_max": 0.8797540341141094,
            "hpd_min": 0.7850480811051671,
            "mutant": "Q21M"
           },
           {
            "IPTGuM": 1431.4589375234787,
            "best_fit": 0.8325404722770362,
            "hpd_max": 0.881081900692434,
            "hpd_min": 0.7871687693380705,
            "mutant": "Q21M"
           },
           {
            "IPTGuM": 1534.36840893001,
            "best_fit": 0.8341846405187425,
            "hpd_max": 0.8823168431815593,
            "hpd_min": 0.7891455873648658,
            "mutant": "Q21M"
           },
           {
            "IPTGuM": 1644.6761779946628,
            "best_fit": 0.8357156899115823,
            "hpd_max": 0.8834655516394326,
            "hpd_min": 0.7909883043763631,
            "mutant": "Q21M"
           },
           {
            "IPTGuM": 1762.914118095948,
            "best_fit": 0.8371415187859528,
            "hpd_max": 0.8845342161751617,
            "hpd_min": 0.7927060355158264,
            "mutant": "Q21M"
           },
           {
            "IPTGuM": 1889.6523396912078,
            "best_fit": 0.8384694659168727,
            "hpd_max": 0.8855285656215346,
            "hpd_min": 0.7943072826104288,
            "mutant": "Q21M"
           },
           {
            "IPTGuM": 2025.5019392306665,
            "best_fit": 0.8397063499871529,
            "hpd_max": 0.8864539032252023,
            "hpd_min": 0.7957999730995811,
            "mutant": "Q21M"
           },
           {
            "IPTGuM": 2171.117945694501,
            "best_fit": 0.8408585065024065,
            "hpd_max": 0.8873151395539378,
            "hpd_min": 0.797191497071991,
            "mutant": "Q21M"
           },
           {
            "IPTGuM": 2327.2024789604075,
            "best_fit": 0.8419318222538317,
            "hpd_max": 0.8881168228163335,
            "hpd_min": 0.7984887423706699,
            "mutant": "Q21M"
           },
           {
            "IPTGuM": 2494.5081352303164,
            "best_fit": 0.8429317674387848,
            "hpd_max": 0.8888631667826579,
            "hpd_min": 0.7996981277617756,
            "mutant": "Q21M"
           },
           {
            "IPTGuM": 2673.841615839944,
            "best_fit": 0.8438634255578502,
            "hpd_max": 0.8895580764872105,
            "hpd_min": 0.8008256341911492,
            "mutant": "Q21M"
           },
           {
            "IPTGuM": 2866.0676169482504,
            "best_fit": 0.8447315212115946,
            "hpd_max": 0.8902051718830121,
            "hpd_min": 0.8018768341732664,
            "mutant": "Q21M"
           },
           {
            "IPTGuM": 3072.1129988617527,
            "best_fit": 0.8455404459214987,
            "hpd_max": 0.8908078096095354,
            "hpd_min": 0.8028569193724922,
            "mutant": "Q21M"
           },
           {
            "IPTGuM": 3292.971255097148,
            "best_fit": 0.8462942820984473,
            "hpd_max": 0.8913691030238122,
            "hpd_min": 0.8037707264471298,
            "mutant": "Q21M"
           },
           {
            "IPTGuM": 3529.70730273065,
            "best_fit": 0.8469968252793052,
            "hpd_max": 0.8918919406348811,
            "hpd_min": 0.8046227612337307,
            "mutant": "Q21M"
           },
           {
            "IPTGuM": 3783.462617131925,
            "best_fit": 0.8476516047479878,
            "hpd_max": 0.8923790030713992,
            "hpd_min": 0.8054172213532732,
            "mutant": "Q21M"
           },
           {
            "IPTGuM": 4055.4607358408275,
            "best_fit": 0.8482619026524639,
            "hpd_max": 0.8928327787024629,
            "hpd_min": 0.8061580173227361,
            "mutant": "Q21M"
           },
           {
            "IPTGuM": 4347.013158125017,
            "best_fit": 0.8488307717236163,
            "hpd_max": 0.8932555780223336,
            "hpd_min": 0.8068487922558338,
            "mutant": "Q21M"
           },
           {
            "IPTGuM": 4659.525668664677,
            "best_fit": 0.849361051696062,
            "hpd_max": 0.8936495469009609,
            "hpd_min": 0.8074929402356239,
            "mutant": "Q21M"
           },
           {
            "IPTGuM": 4994.50511585514,
            "best_fit": 0.8498553845250891,
            "hpd_max": 0.894016678793897,
            "hpd_min": 0.8080936234397071,
            "mutant": "Q21M"
           },
           {
            "IPTGuM": 5353.5666774107185,
            "best_fit": 0.8503162284879348,
            "hpd_max": 0.8943588259974874,
            "hpd_min": 0.8086537880960697,
            "mutant": "Q21M"
           },
           {
            "IPTGuM": 5738.441648302392,
            "best_fit": 0.8507458712518062,
            "hpd_max": 0.8946777100280359,
            "hpd_min": 0.8091761793444712,
            "mutant": "Q21M"
           },
           {
            "IPTGuM": 6150.985788580504,
            "best_fit": 0.8511464419854148,
            "hpd_max": 0.8949749311970243,
            "hpd_min": 0.8096633550748435,
            "mutant": "Q21M"
           },
           {
            "IPTGuM": 6593.188271333542,
            "best_fit": 0.8515199225853841,
            "hpd_max": 0.8952519774483378,
            "hpd_min": 0.8101176988105458,
            "mutant": "Q21M"
           },
           {
            "IPTGuM": 7067.181273927491,
            "best_fit": 0.8518681580837607,
            "hpd_max": 0.895510232517836,
            "hpd_min": 0.8105414317006248,
            "mutant": "Q21M"
           },
           {
            "IPTGuM": 7575.250258771905,
            "best_fit": 0.8521928662979945,
            "hpd_max": 0.8957509834704476,
            "hpd_min": 0.8109366236815438,
            "mutant": "Q21M"
           },
           {
            "IPTGuM": 8119.844993184009,
            "best_fit": 0.8524956467802017,
            "hpd_max": 0.8959754276652457,
            "hpd_min": 0.8113052038652016,
            "mutant": "Q21M"
           },
           {
            "IPTGuM": 8703.591361485165,
            "best_fit": 0.8527779891182417,
            "hpd_max": 0.8961846791946466,
            "hpd_min": 0.8116489702065258,
            "mutant": "Q21M"
           },
           {
            "IPTGuM": 9329.304026284677,
            "best_fit": 0.8530412806371669,
            "hpd_max": 0.8963797748399214,
            "hpd_min": 0.8119695985005136,
            "mutant": "Q21M"
           },
           {
            "IPTGuM": 10000,
            "best_fit": 0.8532868135458926,
            "hpd_max": 0.896561679581624,
            "hpd_min": 0.812268650755325,
            "mutant": "Q21M"
           },
           {
            "IPTGuM": 0.01,
            "best_fit": 0.3515692336336507,
            "hpd_max": 0.39521179144053264,
            "hpd_min": 0.31421579674475714,
            "mutant": "Q21A"
           },
           {
            "IPTGuM": 0.010718913192051276,
            "best_fit": 0.35157613042303826,
            "hpd_max": 0.39521902255313074,
            "hpd_min": 0.31422231585719224,
            "mutant": "Q21A"
           },
           {
            "IPTGuM": 0.011489510001873092,
            "best_fit": 0.3515835329384105,
            "hpd_max": 0.39522678388563265,
            "hpd_min": 0.3142293130178086,
            "mutant": "Q21A"
           },
           {
            "IPTGuM": 0.012315506032928256,
            "best_fit": 0.3515914790115136,
            "hpd_max": 0.3952351150988924,
            "hpd_min": 0.3142368239903371,
            "mutant": "Q21A"
           },
           {
            "IPTGuM": 0.01320088400831418,
            "best_fit": 0.3516000094132142,
            "hpd_max": 0.39524405893450376,
            "hpd_min": 0.3142448873173384,
            "mutant": "Q21A"
           },
           {
            "IPTGuM": 0.01414991297434576,
            "best_fit": 0.35160916809740367,
            "hpd_max": 0.39525366147038543,
            "hpd_min": 0.3142535445508617,
            "mutant": "Q21A"
           },
           {
            "IPTGuM": 0.015167168884709226,
            "best_fit": 0.3516190024672814,
            "hpd_max": 0.3952639723998053,
            "hpd_min": 0.31426284050427433,
            "mutant": "Q21A"
           },
           {
            "IPTGuM": 0.01625755666443794,
            "best_fit": 0.35162956366633913,
            "hpd_max": 0.39527504533627633,
            "hpd_min": 0.31427282352746144,
            "mutant": "Q21A"
           },
           {
            "IPTGuM": 0.0174263338600965,
            "best_fit": 0.3516409068966502,
            "hpd_max": 0.3952869381470478,
            "hpd_min": 0.31428354580786044,
            "mutant": "Q21A"
           },
           {
            "IPTGuM": 0.01867913599020783,
            "best_fit": 0.3516530917673689,
            "hpd_max": 0.39529971331823344,
            "hpd_min": 0.314295063700081,
            "mutant": "Q21A"
           },
           {
            "IPTGuM": 0.020022003718155844,
            "best_fit": 0.35166618267669925,
            "hpd_max": 0.39531343835498645,
            "hpd_min": 0.31430743808719463,
            "mutant": "Q21A"
           },
           {
            "IPTGuM": 0.021461411978584036,
            "best_fit": 0.3516802492309827,
            "hpd_max": 0.3953281862205417,
            "hpd_min": 0.3143207347771528,
            "mutant": "Q21A"
           },
           {
            "IPTGuM": 0.02300430119772918,
            "best_fit": 0.3516953667050042,
            "hpd_max": 0.3953440358184112,
            "hpd_min": 0.3143350249382119,
            "mutant": "Q21A"
           },
           {
            "IPTGuM": 0.024658110758226028,
            "best_fit": 0.3517116165481163,
            "hpd_max": 0.39536107252254843,
            "hpd_min": 0.3143503855777241,
            "mutant": "Q21A"
           },
           {
            "IPTGuM": 0.026430814869741057,
            "best_fit": 0.3517290869413583,
            "hpd_max": 0.3953793887608924,
            "hpd_min": 0.31436690006919527,
            "mutant": "Q21A"
           },
           {
            "IPTGuM": 0.02833096101839324,
            "best_fit": 0.3517478734113914,
            "hpd_max": 0.39539908465838497,
            "hpd_min": 0.31438465873312593,
            "mutant": "Q21A"
           },
           {
            "IPTGuM": 0.030367711180354574,
            "best_fit": 0.35176807950780914,
            "hpd_max": 0.3954202687463145,
            "hpd_min": 0.3144037594778475,
            "mutant": "Q21A"
           },
           {
            "IPTGuM": 0.032550885998350584,
            "best_fit": 0.3517898175512148,
            "hpd_max": 0.39544305874571906,
            "hpd_min": 0.3144243085073577,
            "mutant": "Q21A"
           },
           {
            "IPTGuM": 0.034891012134067735,
            "best_fit": 0.35181320946040595,
            "hpd_max": 0.39546758243356656,
            "hpd_min": 0.314446421104059,
            "mutant": "Q21A"
           },
           {
            "IPTGuM": 0.03739937302478798,
            "best_fit": 0.35183838766808,
            "hpd_max": 0.3954939786015509,
            "hpd_min": 0.3144702224953214,
            "mutant": "Q21A"
           },
           {
            "IPTGuM": 0.04008806328898465,
            "best_fit": 0.3518654961356973,
            "hpd_max": 0.39552239811862144,
            "hpd_min": 0.314495848813951,
            "mutant": "Q21A"
           },
           {
            "IPTGuM": 0.04297004704320839,
            "best_fit": 0.3518946914795244,
            "hpd_max": 0.3955530051098068,
            "hpd_min": 0.3145234481639638,
            "mutant": "Q21A"
           },
           {
            "IPTGuM": 0.04605922041145106,
            "best_fit": 0.35192614422146,
            "hpd_max": 0.3955859782655425,
            "hpd_min": 0.3145531818045611,
            "mutant": "Q21A"
           },
           {
            "IPTGuM": 0.049370478528390035,
            "best_fit": 0.3519600401800333,
            "hpd_max": 0.3956215122975769,
            "hpd_min": 0.31458522546690215,
            "mutant": "Q21A"
           },
           {
            "IPTGuM": 0.05291978735958442,
            "best_fit": 0.35199658201900713,
            "hpd_max": 0.39565981955965696,
            "hpd_min": 0.31461977082021153,
            "mutant": "Q21A"
           },
           {
            "IPTGuM": 0.05672426068491978,
            "best_fit": 0.35203599097333194,
            "hpd_max": 0.3957011318536053,
            "hpd_min": 0.3146570271059529,
            "mutant": "Q21A"
           },
           {
            "IPTGuM": 0.06080224261649421,
            "best_fit": 0.3520785087748299,
            "hpd_max": 0.3957457024441458,
            "hpd_min": 0.31469722296131036,
            "mutant": "Q21A"
           },
           {
            "IPTGuM": 0.06517339604882423,
            "best_fit": 0.3521243998029822,
            "hpd_max": 0.39579380830894684,
            "hpd_min": 0.31474060845606205,
            "mutant": "Q21A"
           },
           {
            "IPTGuM": 0.0698587974678525,
            "best_fit": 0.3521739534895964,
            "hpd_max": 0.39584575265389416,
            "hpd_min": 0.3147874573701703,
            "mutant": "Q21A"
           },
           {
            "IPTGuM": 0.07488103857590023,
            "best_fit": 0.35222748700999584,
            "hpd_max": 0.39590186772762503,
            "hpd_min": 0.31483806974309325,
            "mutant": "Q21A"
           },
           {
            "IPTGuM": 0.08026433522257174,
            "best_fit": 0.3522853482977677,
            "hpd_max": 0.3959625179739184,
            "hpd_min": 0.31489277473000915,
            "mutant": "Q21A"
           },
           {
            "IPTGuM": 0.086034644166845,
            "best_fit": 0.3523479194250954,
            "hpd_max": 0.3960281035657185,
            "hpd_min": 0.3149519338048989,
            "mutant": "Q21A"
           },
           {
            "IPTGuM": 0.09221978823334327,
            "best_fit": 0.3524156203963678,
            "hpd_max": 0.3960990643704458,
            "hpd_min": 0.31501594435583813,
            "mutant": "Q21A"
           },
           {
            "IPTGuM": 0.09884959046625587,
            "best_fit": 0.3524889134091827,
            "hpd_max": 0.39617588440291,
            "hpd_min": 0.3150852437239837,
            "mutant": "Q21A"
           },
           {
            "IPTGuM": 0.10595601792776159,
            "best_fit": 0.35256830764415303,
            "hpd_max": 0.3962590968296889,
            "hpd_min": 0.31516031374470393,
            "mutant": "Q21A"
           },
           {
            "IPTGuM": 0.11357333583431052,
            "best_fit": 0.3526543646531809,
            "hpd_max": 0.39634928959737453,
            "hpd_min": 0.3152416858571982,
            "mutant": "Q21A"
           },
           {
            "IPTGuM": 0.12173827277396614,
            "best_fit": 0.3527477044252152,
            "hpd_max": 0.39644711176674946,
            "hpd_min": 0.315329946857902,
            "mutant": "Q21A"
           },
           {
            "IPTGuM": 0.13049019780144022,
            "best_fit": 0.35284901221907644,
            "hpd_max": 0.3965532806458549,
            "hpd_min": 0.3154257453831043,
            "mutant": "Q21A"
           },
           {
            "IPTGuM": 0.1398713102647238,
            "best_fit": 0.3529590462648764,
            "hpd_max": 0.3966685898272134,
            "hpd_min": 0.3155297992176627,
            "mutant": "Q21A"
           },
           {
            "IPTGuM": 0.14992684327860456,
            "best_fit": 0.353078646449019,
            "hpd_max": 0.39679391824830257,
            "hpd_min": 0.31564290353964364,
            "mutant": "Q21A"
           },
           {
            "IPTGuM": 0.16070528182616384,
            "best_fit": 0.35320874411293307,
            "hpd_max": 0.39693024040993363,
            "hpd_min": 0.3157659402253108,
            "mutant": "Q21A"
           },
           {
            "IPTGuM": 0.17225859653987866,
            "best_fit": 0.35335037311271444,
            "hpd_max": 0.3970786379046141,
            "hpd_min": 0.3158998883553158,
            "mutant": "Q21A"
           },
           {
            "IPTGuM": 0.18464249428955434,
            "best_fit": 0.3535046823059521,
            "hpd_max": 0.3972403124264608,
            "hpd_min": 0.3160458360814068,
            "mutant": "Q21A"
           },
           {
            "IPTGuM": 0.19791668678535562,
            "best_fit": 0.35367294965335494,
            "hpd_max": 0.3974166004559475,
            "hpd_min": 0.31620499403366525,
            "mutant": "Q21A"
           },
           {
            "IPTGuM": 0.21214517849106299,
            "best_fit": 0.3538565981465872,
            "hpd_max": 0.3976089898368853,
            "hpd_min": 0.31637871047141086,
            "mutant": "Q21A"
           },
           {
            "IPTGuM": 0.22739657523579276,
            "best_fit": 0.35405721380013017,
            "hpd_max": 0.39781913848968714,
            "hpd_min": 0.3165684884066893,
            "mutant": "Q21A"
           },
           {
            "IPTGuM": 0.24374441501222205,
            "best_fit": 0.3542765659741831,
            "hpd_max": 0.3980488955342908,
            "hpd_min": 0.31677600495785996,
            "mutant": "Q21A"
           },
           {
            "IPTGuM": 0.2612675225563328,
            "best_fit": 0.35451663032771646,
            "hpd_max": 0.39830032512814695,
            "hpd_min": 0.31700313322241325,
            "mutant": "Q21A"
           },
           {
            "IPTGuM": 0.2800503894183631,
            "best_fit": 0.35477961473586245,
            "hpd_max": 0.39857573335943147,
            "hpd_min": 0.31725196699287583,
            "mutant": "Q21A"
           },
           {
            "IPTGuM": 0.3001835813575589,
            "best_fit": 0.35506798854384314,
            "hpd_max": 0.3988776985729632,
            "hpd_min": 0.31752484867758984,
            "mutant": "Q21A"
           },
           {
            "IPTGuM": 0.32176417502507354,
            "best_fit": 0.35538451557046224,
            "hpd_max": 0.39920910554594286,
            "hpd_min": 0.3178244008292242,
            "mutant": "Q21A"
           },
           {
            "IPTGuM": 0.3448962260405758,
            "best_fit": 0.3557322913174775,
            "hpd_max": 0.3995731839720489,
            "hpd_min": 0.3181535617279239,
            "mutant": "Q21A"
           },
           {
            "IPTGuM": 0.36969127071950264,
            "best_fit": 0.35611478488639386,
            "hpd_max": 0.3999735517548754,
            "hpd_min": 0.3185156255126579,
            "mutant": "Q21A"
           },
           {
            "IPTGuM": 0.3962688638701478,
            "best_fit": 0.35653588615046505,
            "hpd_max": 0.40041426365397975,
            "hpd_min": 0.31891428740294486,
            "mutant": "Q21A"
           },
           {
            "IPTGuM": 0.42475715525368984,
            "best_fit": 0.35699995877566015,
            "hpd_max": 0.4008998658672507,
            "hpd_min": 0.3193536946027222,
            "mutant": "Q21A"
           },
           {
            "IPTGuM": 0.4552935074866948,
            "best_fit": 0.357511899728169,
            "hpd_max": 0.40143545716958146,
            "hpd_min": 0.3198385035272145,
            "mutant": "Q21A"
           },
           {
            "IPTGuM": 0.48802515836544313,
            "best_fit": 0.3580772059450525,
            "hpd_max": 0.4020267572567204,
            "hpd_min": 0.3203739440401346,
            "mutant": "Q21A"
           },
           {
            "IPTGuM": 0.5231099308056261,
            "best_fit": 0.3587020488753601,
            "hpd_max": 0.4026801829604286,
            "hpd_min": 0.32096589142952264,
            "mutant": "Q21A"
           },
           {
            "IPTGuM": 0.5607169938205459,
            "best_fit": 0.35939335761664454,
            "hpd_max": 0.40340293300103236,
            "hpd_min": 0.32162094688201764,
            "mutant": "Q21A"
           },
           {
            "IPTGuM": 0.6010276782070382,
            "best_fit": 0.36015891137003453,
            "hpd_max": 0.40420308191876425,
            "hpd_min": 0.3223465272320796,
            "mutant": "Q21A"
           },
           {
            "IPTGuM": 0.644236350872137,
            "best_fit": 0.3610074419076994,
            "hpd_max": 0.4050896837665103,
            "hpd_min": 0.32315096475767574,
            "mutant": "Q21A"
           },
           {
            "IPTGuM": 0.6905513520162327,
            "best_fit": 0.3619487466791252,
            "hpd_max": 0.4060728860416514,
            "hpd_min": 0.32404361775813645,
            "mutant": "Q21A"
           },
           {
            "IPTGuM": 0.7401959996915641,
            "best_fit": 0.36299381306379314,
            "hpd_max": 0.4071640541685767,
            "hpd_min": 0.32503499257167484,
            "mutant": "Q21A"
           },
           {
            "IPTGuM": 0.7934096665797492,
            "best_fit": 0.3641549540908589,
            "hpd_max": 0.40837590659744694,
            "hpd_min": 0.3261368775546985,
            "mutant": "Q21A"
           },
           {
            "IPTGuM": 0.8504489341802677,
            "best_fit": 0.36544595567059834,
            "hpd_max": 0.40972266023615583,
            "hpd_min": 0.3273624893340959,
            "mutant": "Q21A"
           },
           {
            "IPTGuM": 0.9115888299750818,
            "best_fit": 0.366882234992531,
            "hpd_max": 0.41122018545389644,
            "hpd_min": 0.3287266313344135,
            "mutant": "Q21A"
           },
           {
            "IPTGuM": 0.9771241535346497,
            "best_fit": 0.3684810092111321,
            "hpd_max": 0.4128861692542684,
            "hpd_min": 0.3302458641466176,
            "mutant": "Q21A"
           },
           {
            "IPTGuM": 1.0473708979594498,
            "best_fit": 0.37026147282663263,
            "hpd_max": 0.41474028437686994,
            "hpd_min": 0.33193868671101945,
            "mutant": "Q21A"
           },
           {
            "IPTGuM": 1.1226677735108135,
            "best_fit": 0.3722449812353953,
            "hpd_max": 0.41680436100834883,
            "hpd_min": 0.3338257264954933,
            "mutant": "Q21A"
           },
           {
            "IPTGuM": 1.2033778407775892,
            "best_fit": 0.37445523672753095,
            "hpd_max": 0.41910255642434274,
            "hpd_min": 0.335929935817741,
            "mutant": "Q21A"
           },
           {
            "IPTGuM": 1.289890261253308,
            "best_fit": 0.3769184717025208,
            "hpd_max": 0.421661516200911,
            "hpd_min": 0.3382767901394174,
            "mutant": "Q21A"
           },
           {
            "IPTGuM": 1.382622173764655,
            "best_fit": 0.3796636220118692,
            "hpd_max": 0.42451051859214417,
            "hpd_min": 0.34089448250107124,
            "mutant": "Q21A"
           },
           {
            "IPTGuM": 1.4820207057988586,
            "best_fit": 0.3827224810836397,
            "hpd_max": 0.42768159124728883,
            "hpd_min": 0.34381410622311404,
            "mutant": "Q21A"
           },
           {
            "IPTGuM": 1.5885651294280527,
            "best_fit": 0.38612982281533786,
            "hpd_max": 0.4312095866379921,
            "hpd_min": 0.34706981553132166,
            "mutant": "Q21A"
           },
           {
            "IPTGuM": 1.7027691722258995,
            "best_fit": 0.3899234781453179,
            "hpd_max": 0.43513219942544795,
            "hpd_min": 0.35069895085629427,
            "mutant": "Q21A"
           },
           {
            "IPTGuM": 1.8251834943190424,
            "best_fit": 0.39414434677981103,
            "hpd_max": 0.43948990561820256,
            "hpd_min": 0.3547421122179241,
            "mutant": "Q21A"
           },
           {
            "IPTGuM": 1.9563983435170629,
            "best_fit": 0.3988363218802265,
            "hpd_max": 0.4443257999362172,
            "hpd_min": 0.3592431604023878,
            "mutant": "Q21A"
           },
           {
            "IPTGuM": 2.0970464013232326,
            "best_fit": 0.4040461018133831,
            "hpd_max": 0.4496853045965048,
            "hpd_min": 0.36424912170951174,
            "mutant": "Q21A"
           },
           {
            "IPTGuM": 2.247805833548725,
            "best_fit": 0.409822859667187,
            "hpd_max": 0.4556157201972486,
            "hpd_min": 0.3698099681348309,
            "mutant": "Q21A"
           },
           {
            "IPTGuM": 2.4094035602395243,
            "best_fit": 0.416217738617933,
            "hpd_max": 0.4621655880858638,
            "hpd_min": 0.3759782413301977,
            "mutant": "Q21A"
           },
           {
            "IPTGuM": 2.5826187606826747,
            "best_fit": 0.4232831400579024,
            "hpd_max": 0.46938383430381875,
            "hpd_min": 0.3828084861010885,
            "mutant": "Q21A"
           },
           {
            "IPTGuM": 2.7682866303920637,
            "best_fit": 0.43107177248808903,
            "hpd_max": 0.4773186688092321,
            "hpd_min": 0.3903564582762255,
            "mutant": "Q21A"
           },
           {
            "IPTGuM": 2.9673024081888695,
            "best_fit": 0.43963543354237355,
            "hpd_max": 0.48601622118227855,
            "hpd_min": 0.3986780734436721,
            "mutant": "Q21A"
           },
           {
            "IPTGuM": 3.180625692794119,
            "best_fit": 0.44902350621603404,
            "hpd_max": 0.4955189063923591,
            "hpd_min": 0.4078280683631886,
            "mutant": "Q21A"
           },
           {
            "IPTGuM": 3.409285069746811,
            "best_fit": 0.4592811644581555,
            "hpd_max": 0.5058635322186344,
            "hpd_min": 0.41785835698780455,
            "mutant": "Q21A"
           },
           {
            "IPTGuM": 3.6543830709572545,
            "best_fit": 0.47044730353482755,
            "hpd_max": 0.5170791838724781,
            "hpd_min": 0.42881607902880514,
            "mutant": "Q21A"
           },
           {
            "IPTGuM": 3.9171014908092565,
            "best_fit": 0.4825522372153551,
            "hpd_max": 0.5291849507980497,
            "hpd_min": 0.44074136163048283,
            "mutant": "Q21A"
           },
           {
            "IPTGuM": 4.19870708444391,
            "best_fit": 0.49561523622467074,
            "hpd_max": 0.5421875939440568,
            "hpd_min": 0.4536648440996027,
            "mutant": "Q21A"
           },
           {
            "IPTGuM": 4.500557675700498,
            "best_fit": 0.5096420186494836,
            "hpd_max": 0.5560792860573214,
            "hpd_min": 0.46760505086421367,
            "mutant": "Q21A"
           },
           {
            "IPTGuM": 4.8241087041653685,
            "best_fit": 0.524622339691316,
            "hpd_max": 0.570835588356647,
            "hpd_min": 0.4825657366481731,
            "mutant": "Q21A"
           },
           {
            "IPTGuM": 5.170920242896756,
            "best_fit": 0.5405278603932313,
            "hpd_max": 0.588210407628673,
            "hpd_min": 0.5003470132236504,
            "mutant": "Q21A"
           },
           {
            "IPTGuM": 5.542664520663101,
            "best_fit": 0.5573104965711455,
            "hpd_max": 0.6045256632470383,
            "hpd_min": 0.5172866273628866,
            "mutant": "Q21A"
           },
           {
            "IPTGuM": 5.941133984965034,
            "best_fit": 0.5749014535511953,
            "hpd_max": 0.6215146111472072,
            "hpd_min": 0.5351414166607571,
            "mutant": "Q21A"
           },
           {
            "IPTGuM": 6.3682499447185865,
            "best_fit": 0.5932111336458346,
            "hpd_max": 0.6401163394750398,
            "hpd_min": 0.55488602288298,
            "mutant": "Q21A"
           },
           {
            "IPTGuM": 6.826071834272386,
            "best_fit": 0.6121300581411353,
            "hpd_max": 0.658111055440399,
            "hpd_min": 0.5743082934578139,
            "mutant": "Q21A"
           },
           {
            "IPTGuM": 7.316807143427193,
            "best_fit": 0.6315308743471912,
            "hpd_max": 0.6764276918744313,
            "hpd_min": 0.5943472324483488,
            "mutant": "Q21A"
           },
           {
            "IPTGuM": 7.842822061337682,
            "best_fit": 0.6512714263225697,
            "hpd_max": 0.6949248650254357,
            "hpd_min": 0.6148650133942676,
            "mutant": "Q21A"
           },
           {
            "IPTGuM": 8.406652885618325,
            "best_fit": 0.6711987655105575,
            "hpd_max": 0.7134552385534583,
            "hpd_min": 0.6357090584486618,
            "mutant": "Q21A"
           },
           {
            "IPTGuM": 9.01101825166502,
            "best_fit": 0.6911538787099697,
            "hpd_max": 0.731870275250474,
            "hpd_min": 0.6567164571821236,
            "mutant": "Q21A"
           },
           {
            "IPTGuM": 9.658832241158699,
            "best_fit": 0.7109768307756178,
            "hpd_max": 0.7500250755792973,
            "hpd_min": 0.6777190747228194,
            "mutant": "Q21A"
           },
           {
            "IPTGuM": 10.353218432956616,
            "best_fit": 0.7305119714963311,
            "hpd_max": 0.7677829699467082,
            "hpd_min": 0.6985490154613558,
            "mutant": "Q21A"
           },
           {
            "IPTGuM": 11.097524964120721,
            "best_fit": 0.7496128485466124,
            "hpd_max": 0.7850195600669964,
            "hpd_min": 0.7190440674377045,
            "mutant": "Q21A"
           },
           {
            "IPTGuM": 11.895340673703195,
            "best_fit": 0.7681465025862662,
            "hpd_max": 0.8016259671248998,
            "hpd_min": 0.7390527549764025,
            "mutant": "Q21A"
           },
           {
            "IPTGuM": 12.75051240713013,
            "best_fit": 0.7859968905170626,
            "hpd_max": 0.8175111301430876,
            "hpd_min": 0.7584386726932157,
            "mutant": "Q21A"
           },
           {
            "IPTGuM": 13.66716356462006,
            "best_fit": 0.8030672767667375,
            "hpd_max": 0.8326030932956655,
            "hpd_min": 0.7770838547200873,
            "mutant": "Q21A"
           },
           {
            "IPTGuM": 14.649713983072848,
            "best_fit": 0.8192815353397045,
            "hpd_max": 0.8468493120449643,
            "hpd_min": 0.794891035377002,
            "mutant": "Q21A"
           },
           {
            "IPTGuM": 15.702901247293775,
            "best_fit": 0.8345844024785544,
            "hpd_max": 0.8602160836013477,
            "hpd_min": 0.8117847656010567,
            "mutant": "Q21A"
           },
           {
            "IPTGuM": 16.831803533309568,
            "best_fit": 0.8489407992939297,
            "hpd_max": 0.8726872602298716,
            "hpd_min": 0.8277114481905113,
            "mutant": "Q21A"
           },
           {
            "IPTGuM": 18.04186409392072,
            "best_fit": 0.862334398473969,
            "hpd_max": 0.8842624319814121,
            "hpd_min": 0.842638432942738,
            "mutant": "Q21A"
           },
           {
            "IPTGuM": 19.338917504552303,
            "best_fit": 0.8747656370698733,
            "hpd_max": 0.8949547702615613,
            "hpd_min": 0.856552363786632,
            "mutant": "Q21A"
           },
           {
            "IPTGuM": 20.729217795953698,
            "best_fit": 0.8862493805995859,
            "hpd_max": 0.9047887098755206,
            "hpd_min": 0.869456992988976,
            "mutant": "Q21A"
           },
           {
            "IPTGuM": 22.21946860939524,
            "best_fit": 0.8968124274731276,
            "hpd_max": 0.9137976207799513,
            "hpd_min": 0.8813706756589957,
            "mutant": "Q21A"
           },
           {
            "IPTGuM": 23.81685551976158,
            "best_fit": 0.9064910135094606,
            "hpd_max": 0.9220215877670516,
            "hpd_min": 0.8923237369746936,
            "mutant": "Q21A"
           },
           {
            "IPTGuM": 25.529080682395165,
            "best_fit": 0.9153284405228316,
            "hpd_max": 0.9295053818644551,
            "hpd_min": 0.9023558717234573,
            "mutant": "Q21A"
           },
           {
            "IPTGuM": 27.364399970746693,
            "best_fit": 0.9233729160397324,
            "hpd_max": 0.9362966751678915,
            "hpd_min": 0.9115136974694059,
            "mutant": "Q21A"
           },
           {
            "IPTGuM": 29.331662783900423,
            "best_fit": 0.9306756571218173,
            "hpd_max": 0.9424445234955198,
            "hpd_min": 0.9198485442994477,
            "mutant": "Q21A"
           },
           {
            "IPTGuM": 31.440354715915,
            "best_fit": 0.9372892824225522,
            "hpd_max": 0.9479981197464658,
            "hpd_min": 0.9274145294270006,
            "mutant": "Q21A"
           },
           {
            "IPTGuM": 33.700643292719285,
            "best_fit": 0.9432664940528243,
            "hpd_max": 0.953005805265628,
            "hpd_min": 0.9342669361190253,
            "mutant": "Q21A"
           },
           {
            "IPTGuM": 36.123426997094306,
            "best_fit": 0.9486590346106899,
            "hpd_max": 0.9575143163206352,
            "hpd_min": 0.9404608942875239,
            "mutant": "Q21A"
           },
           {
            "IPTGuM": 38.72038781812553,
            "best_fit": 0.9535168942176439,
            "hpd_max": 0.9615682370948417,
            "hpd_min": 0.9460503444988982,
            "mutant": "Q21A"
           },
           {
            "IPTGuM": 41.504047578504725,
            "best_fit": 0.9578877366238829,
            "hpd_max": 0.9652096283832943,
            "hpd_min": 0.951087257338384,
            "mutant": "Q21A"
           },
           {
            "IPTGuM": 44.487828311275855,
            "best_fit": 0.9618165113135085,
            "hpd_max": 0.9684778014731795,
            "hpd_min": 0.9556210749562047,
            "mutant": "Q21A"
           },
           {
            "IPTGuM": 47.68611697714469,
            "best_fit": 0.9653452190220618,
            "hpd_max": 0.9714092086474047,
            "hpd_min": 0.9596983400811597,
            "mutant": "Q21A"
           },
           {
            "IPTGuM": 51.11433483440165,
            "best_fit": 0.9685128002767548,
            "hpd_max": 0.9740374246835448,
            "hpd_min": 0.963362478758728,
            "mutant": "Q21A"
           },
           {
            "IPTGuM": 54.789011795939395,
            "best_fit": 0.9713551197638551,
            "hpd_max": 0.9763931971113183,
            "hpd_min": 0.9666537056555613,
            "mutant": "Q21A"
           },
           {
            "IPTGuM": 58.72786613189477,
            "best_fit": 0.9739050229757743,
            "hpd_max": 0.9785045464721576,
            "hpd_min": 0.9696090242589807,
            "mutant": "Q21A"
           },
           {
            "IPTGuM": 62.94988990221888,
            "best_fit": 0.9761924453103611,
            "hpd_max": 0.9803969011522687,
            "hpd_min": 0.9722622981609222,
            "mutant": "Q21A"
           },
           {
            "IPTGuM": 67.47544053110693,
            "best_fit": 0.9782445573368631,
            "hpd_max": 0.9820932543919302,
            "hpd_min": 0.9746443734841921,
            "mutant": "Q21A"
           },
           {
            "IPTGuM": 72.32633896483533,
            "best_fit": 0.9800859331599521,
            "hpd_max": 0.9836143337369241,
            "hpd_min": 0.9767832361499373,
            "mutant": "Q21A"
           },
           {
            "IPTGuM": 77.52597488629456,
            "best_fit": 0.9817387316331321,
            "hpd_max": 0.9849787754712844,
            "hpd_min": 0.9787041909646051,
            "mutant": "Q21A"
           },
           {
            "IPTGuM": 83.09941949353387,
            "best_fit": 0.9832228825758782,
            "hpd_max": 0.9862032984648753,
            "hpd_min": 0.9804300523608976,
            "mutant": "Q21A"
           },
           {
            "IPTGuM": 89.0735463861044,
            "best_fit": 0.9845562721484855,
            "hpd_max": 0.9873028734148174,
            "hpd_min": 0.981981339048491,
            "mutant": "Q21A"
           },
           {
            "IPTGuM": 95.47716114208056,
            "best_fit": 0.9857549231681689,
            "hpd_max": 0.9882908846964495,
            "hpd_min": 0.9833764668362227,
            "mutant": "Q21A"
           },
           {
            "IPTGuM": 102.34114021054528,
            "best_fit": 0.9868331674525676,
            "hpd_max": 0.989179283010655,
            "hpd_min": 0.9846319355157437,
            "mutant": "Q21A"
           },
           {
            "IPTGuM": 109.69857978923841,
            "best_fit": 0.9878038082988403,
            "hpd_max": 0.9899787277626443,
            "hpd_min": 0.9857625069935286,
            "mutant": "Q21A"
           },
           {
            "IPTGuM": 117.58495540521558,
            "best_fit": 0.98867827199332,
            "hpd_max": 0.9906987186721021,
            "hpd_min": 0.9867813728720893,
            "mutant": "Q21A"
           },
           {
            "IPTGuM": 126.03829296797274,
            "best_fit": 0.9894667478401178,
            "hpd_max": 0.9913477165311115,
            "hpd_min": 0.9877003104589819,
            "mutant": "Q21A"
           },
           {
            "IPTGuM": 135.09935211980252,
            "best_fit": 0.9901783166342097,
            "hpd_max": 0.9919332533247194,
            "hpd_min": 0.9885298267664289,
            "mutant": "Q21A"
           },
           {
            "IPTGuM": 144.8118227674533,
            "best_fit": 0.9908210678174852,
            "hpd_max": 0.9924620321349664,
            "hpd_min": 0.9892792904927851,
            "mutant": "Q21A"
           },
           {
            "IPTGuM": 155.2225357427048,
            "best_fit": 0.9914022057718285,
            "hpd_max": 0.9929400173837682,
            "hpd_min": 0.9899570522818957,
            "mutant": "Q21A"
           },
           {
            "IPTGuM": 166.38168860761274,
            "best_fit": 0.9919281458438766,
            "hpd_max": 0.9933725160503988,
            "hpd_min": 0.9905705537647123,
            "mutant": "Q21A"
           },
           {
            "IPTGuM": 178.34308769319094,
            "best_fit": 0.992404600779701,
            "hpd_max": 0.993764250539238,
            "hpd_min": 0.9911264260216097,
            "mutant": "Q21A"
           },
           {
            "IPTGuM": 191.16440753856998,
            "best_fit": 0.9928366582887986,
            "hpd_max": 0.9941194238838629,
            "hpd_min": 0.991630578181761,
            "mutant": "Q21A"
           },
           {
            "IPTGuM": 204.9074689815846,
            "best_fit": 0.9932288504669351,
            "hpd_max": 0.99444177796294,
            "hpd_min": 0.9920882769121034,
            "mutant": "Q21A"
           },
           {
            "IPTGuM": 219.6385372416547,
            "best_fit": 0.9935852157955279,
            "hpd_max": 0.9947346453783542,
            "hpd_min": 0.9925042175542884,
            "mutant": "Q21A"
           },
           {
            "IPTGuM": 235.42864143224153,
            "best_fit": 0.9939093544082612,
            "hpd_max": 0.995000995611572,
            "hpd_min": 0.9928825876524048,
            "mutant": "Q21A"
           },
           {
            "IPTGuM": 252.3539170434766,
            "best_fit": 0.9942044772788294,
            "hpd_max": 0.9952434760341361,
            "hpd_min": 0.9932271235840816,
            "mutant": "Q21A"
           },
           {
            "IPTGuM": 270.49597304631317,
            "best_fit": 0.994473449940984,
            "hpd_max": 0.9954644483052468,
            "hpd_min": 0.993541160967965,
            "mutant": "Q21A"
           },
           {
            "IPTGuM": 289.94228538828753,
            "best_fit": 0.9947188313064036,
            "hpd_max": 0.995666020645577,
            "hpd_min": 0.9938276794754703,
            "mutant": "Q21A"
           },
           {
            "IPTGuM": 310.7866187782014,
            "best_fit": 0.9949429080993788,
            "hpd_max": 0.9958500764332471,
            "hpd_min": 0.9940893426269487,
            "mutant": "Q21A"
           },
           {
            "IPTGuM": 333.129478793467,
            "best_fit": 0.9951477253814399,
            "hpd_max": 0.9960182995262102,
            "hpd_min": 0.9943285331040997,
            "mutant": "Q21A"
           },
           {
            "IPTGuM": 357.07859649004627,
            "best_fit": 0.9953351135948524,
            "hpd_max": 0.9961721966758111,
            "hpd_min": 0.9945473840630232,
            "mutant": "Q21A"
           },
           {
            "IPTGuM": 382.74944785163075,
            "best_fit": 0.9955067125120249,
            "hpd_max": 0.9963131173593565,
            "hpd_min": 0.9947478068867408,
            "mutant": "Q21A"
           },
           {
            "IPTGuM": 410.26581058271904,
            "best_fit": 0.9956639924387376,
            "hpd_max": 0.9964422713253717,
            "hpd_min": 0.994931515772965,
            "mutant": "Q21A"
           },
           {
            "IPTGuM": 439.7603609302721,
            "best_fit": 0.9958082729828767,
            "hpd_max": 0.9965607441138584,
            "hpd_min": 0.9951000495127185,
            "mutant": "Q21A"
           },
           {
            "IPTGuM": 471.3753134116719,
            "best_fit": 0.9959407396671272,
            "hpd_max": 0.9966695107853103,
            "hpd_min": 0.9952547907782779,
            "mutant": "Q21A"
           },
           {
            "IPTGuM": 505.26310653356796,
            "best_fit": 0.9960624586337984,
            "hpd_max": 0.9967694480663469,
            "hpd_min": 0.9953969832049095,
            "mutant": "Q21A"
           },
           {
            "IPTGuM": 541.5871378079465,
            "best_fit": 0.9961743896625143,
            "hpd_max": 0.9968613450964833,
            "hpd_min": 0.9955277465198805,
            "mutant": "Q21A"
           },
           {
            "IPTGuM": 580.5225516094896,
            "best_fit": 0.9962773976967485,
            "hpd_max": 0.9969459129395831,
            "hpd_min": 0.9956480899441874,
            "mutant": "Q21A"
           },
           {
            "IPTGuM": 622.2570836730231,
            "best_fit": 0.9963722630529578,
            "hpd_max": 0.9970237930047646,
            "hpd_min": 0.9957589240671603,
            "mutant": "Q21A"
           },
           {
            "IPTGuM": 666.9919663030115,
            "best_fit": 0.9964596904661571,
            "hpd_max": 0.9970955645047749,
            "hpd_min": 0.9958610713714007,
            "mutant": "Q21A"
           },
           {
            "IPTGuM": 714.9428986597577,
            "best_fit": 0.9965403171080085,
            "hpd_max": 0.9971617510649194,
            "hpd_min": 0.9959552755651908,
            "mutant": "Q21A"
           },
           {
            "IPTGuM": 766.3410868007447,
            "best_fit": 0.996614719697672,
            "hpd_max": 0.99722282658238,
            "hpd_min": 0.9960422098613776,
            "mutant": "Q21A"
           },
           {
            "IPTGuM": 821.4343584919421,
            "best_fit": 0.9966834208115973,
            "hpd_max": 0.9972792204239838,
            "hpd_min": 0.9961224843255869,
            "mutant": "Q21A"
           },
           {
            "IPTGuM": 880.4883581643464,
            "best_fit": 0.9967468944859571,
            "hpd_max": 0.9973313220400769,
            "hpd_min": 0.996196652402272,
            "mutant": "Q21A"
           },
           {
            "IPTGuM": 943.7878277775371,
            "best_fit": 0.9968055711943706,
            "hpd_max": 0.9973794850629369,
            "hpd_min": 0.99626521671437,
            "mutant": "Q21A"
           },
           {
            "IPTGuM": 1011.6379797662071,
            "best_fit": 0.9968598422737829,
            "hpd_max": 0.997424030950025,
            "hpd_min": 0.9963286342210657,
            "mutant": "Q21A"
           },
           {
            "IPTGuM": 1084.3659686896087,
            "best_fit": 0.9969100638627317,
            "hpd_max": 0.9974652522251921,
            "hpd_min": 0.9963873208081854,
            "mutant": "Q21A"
           },
           {
            "IPTGuM": 1162.322468679852,
            "best_fit": 0.9969565604086021,
            "hpd_max": 0.9975034153646186,
            "hpd_min": 0.9964416553769291,
            "mutant": "Q21A"
           },
           {
            "IPTGuM": 1245.883364295008,
            "best_fit": 0.9969996277937401,
            "hpd_max": 0.9975387633686903,
            "hpd_min": 0.996491983488869,
            "mutant": "Q21A"
           },
           {
            "IPTGuM": 1335.4515629298974,
            "best_fit": 0.9970395361243696,
            "hpd_max": 0.9975715180560918,
            "hpd_min": 0.9965386206182724,
            "mutant": "Q21A"
           },
           {
            "IPTGuM": 1431.4589375234787,
            "best_fit": 0.9970765322210349,
            "hpd_max": 0.997601882112076,
            "hpd_min": 0.9965818550567617,
            "mutant": "Q21A"
           },
           {
            "IPTGuM": 1534.36840893001,
            "best_fit": 0.9971108418446819,
            "hpd_max": 0.9976300409190588,
            "hpd_min": 0.9966219505099856,
            "mutant": "Q21A"
           },
           {
            "IPTGuM": 1644.6761779946628,
            "best_fit": 0.9971426716884575,
            "hpd_max": 0.9976561641943408,
            "hpd_min": 0.9966591484212833,
            "mutant": "Q21A"
           },
           {
            "IPTGuM": 1762.914118095948,
            "best_fit": 0.997172211161728,
            "hpd_max": 0.9976804074568122,
            "hpd_min": 0.9966936700531879,
            "mutant": "Q21A"
           },
           {
            "IPTGuM": 1889.6523396912078,
            "best_fit": 0.9971996339896967,
            "hpd_max": 0.9977029133419058,
            "hpd_min": 0.9967257183539759,
            "mutant": "Q21A"
           },
           {
            "IPTGuM": 2025.5019392306665,
            "best_fit": 0.9972250996492382,
            "hpd_max": 0.9977238127817899,
            "hpd_min": 0.9967554796332652,
            "mutant": "Q21A"
           },
           {
            "IPTGuM": 2171.117945694501,
            "best_fit": 0.9972487546591413,
            "hpd_max": 0.9977432260657888,
            "hpd_min": 0.9967831250678527,
            "mutant": "Q21A"
           },
           {
            "IPTGuM": 2327.2024789604075,
            "best_fit": 0.9972707337408252,
            "hpd_max": 0.9977612637942588,
            "hpd_min": 0.996808812056497,
            "mutant": "Q21A"
           },
           {
            "IPTGuM": 2494.5081352303164,
            "best_fit": 0.9972911608637116,
            "hpd_max": 0.997778027737603,
            "hpd_min": 0.9968326854401725,
            "mutant": "Q21A"
           },
           {
            "IPTGuM": 2673.841615839944,
            "best_fit": 0.9973101501877936,
            "hpd_max": 0.9977936116107448,
            "hpd_min": 0.9968548786024034,
            "mutant": "Q21A"
           },
           {
            "IPTGuM": 2866.0676169482504,
            "best_fit": 0.9973278069144809,
            "hpd_max": 0.9978081017721826,
            "hpd_min": 0.9968755144625968,
            "mutant": "Q21A"
           },
           {
            "IPTGuM": 3072.1129988617527,
            "best_fit": 0.9973442280555345,
            "hpd_max": 0.9978215778557021,
            "hpd_min": 0.9968947063738044,
            "mutant": "Q21A"
           },
           {
            "IPTGuM": 3292.971255097148,
            "best_fit": 0.9973595031287694,
            "hpd_max": 0.9978341133418879,
            "hpd_min": 0.9969125589350386,
            "mutant": "Q21A"
           },
           {
            "IPTGuM": 3529.70730273065,
            "best_fit": 0.9973737147882235,
            "hpd_max": 0.9978457760757631,
            "hpd_min": 0.9969291687271099,
            "mutant": "Q21A"
           },
           {
            "IPTGuM": 3783.462617131925,
            "best_fit": 0.9973869393956101,
            "hpd_max": 0.9978566287361745,
            "hpd_min": 0.9969446249799441,
            "mutant": "Q21A"
           },
           {
            "IPTGuM": 4055.4607358408275,
            "best_fit": 0.9973992475391125,
            "hpd_max": 0.9978667292618973,
            "hpd_min": 0.9969590101784368,
            "mutant": "Q21A"
           },
           {
            "IPTGuM": 4347.013158125017,
            "best_fit": 0.9974107045048924,
            "hpd_max": 0.9978761312388833,
            "hpd_min": 0.9969724006131169,
            "mutant": "Q21A"
           },
           {
            "IPTGuM": 4659.525668664677,
            "best_fit": 0.9974213707060969,
            "hpd_max": 0.9978848842525825,
            "hpd_min": 0.996984866881194,
            "mutant": "Q21A"
           },
           {
            "IPTGuM": 4994.50511585514,
            "best_fit": 0.9974313020736106,
            "hpd_max": 0.9978930342088367,
            "hpd_min": 0.9969964743429532,
            "mutant": "Q21A"
           },
           {
            "IPTGuM": 5353.5666774107185,
            "best_fit": 0.9974405504123456,
            "hpd_max": 0.9979006236264557,
            "hpd_min": 0.9970072835379091,
            "mutant": "Q21A"
           },
           {
            "IPTGuM": 5738.441648302392,
            "best_fit": 0.9974491637264425,
            "hpd_max": 0.9979076919042527,
            "hpd_min": 0.9970173505646687,
            "mutant": "Q21A"
           },
           {
            "IPTGuM": 6150.985788580504,
            "best_fit": 0.9974571865163956,
            "hpd_max": 0.9979142755650185,
            "hpd_min": 0.997026727428007,
            "mutant": "Q21A"
           },
           {
            "IPTGuM": 6593.188271333542,
            "best_fit": 0.9974646600507944,
            "hpd_max": 0.9979204084786409,
            "hpd_min": 0.997035462356308,
            "mutant": "Q21A"
           },
           {
            "IPTGuM": 7067.181273927491,
            "best_fit": 0.9974716226150866,
            "hpd_max": 0.9979261220663529,
            "hpd_min": 0.9970436000921699,
            "mutant": "Q21A"
           },
           {
            "IPTGuM": 7575.250258771905,
            "best_fit": 0.997478109739521,
            "hpd_max": 0.9979314454878768,
            "hpd_min": 0.9970511821586954,
            "mutant": "Q21A"
           },
           {
            "IPTGuM": 8119.844993184009,
            "best_fit": 0.9974841544081963,
            "hpd_max": 0.997936405813054,
            "hpd_min": 0.9970582471037196,
            "mutant": "Q21A"
           },
           {
            "IPTGuM": 8703.591361485165,
            "best_fit": 0.997489787250951,
            "hpd_max": 0.9979410281793797,
            "hpd_min": 0.9970648307239978,
            "mutant": "Q21A"
           },
           {
            "IPTGuM": 9329.304026284677,
            "best_fit": 0.9974950367196533,
            "hpd_max": 0.9979453359367284,
            "hpd_min": 0.9970709662711684,
            "mutant": "Q21A"
           },
           {
            "IPTGuM": 10000,
            "best_fit": 0.9974999292502846,
            "hpd_max": 0.9979493507804116,
            "hpd_min": 0.9970766846411301,
            "mutant": "Q21A"
           },
           {
            "IPTGuM": 0.01,
            "best_fit": 0.48763918975423654,
            "hpd_max": 0.5288373689270718,
            "hpd_min": 0.4536915180230899,
            "mutant": "Y20I"
           },
           {
            "IPTGuM": 0.010718913192051276,
            "best_fit": 0.4876467484211134,
            "hpd_max": 0.5288449070485828,
            "hpd_min": 0.45369901644288246,
            "mutant": "Y20I"
           },
           {
            "IPTGuM": 0.011489510001873092,
            "best_fit": 0.4876548612787127,
            "hpd_max": 0.5288529978335516,
            "hpd_min": 0.45370706465330424,
            "mutant": "Y20I"
           },
           {
            "IPTGuM": 0.012315506032928256,
            "best_fit": 0.487663569773831,
            "hpd_max": 0.5288616826114007,
            "hpd_min": 0.4537157037746623,
            "mutant": "Y20I"
           },
           {
            "IPTGuM": 0.01320088400831418,
            "best_fit": 0.48767291857166384,
            "hpd_max": 0.5288710059203627,
            "hpd_min": 0.45372497812069923,
            "mutant": "Y20I"
           },
           {
            "IPTGuM": 0.01414991297434576,
            "best_fit": 0.48768295582265153,
            "hpd_max": 0.5288810157734607,
            "hpd_min": 0.4537349354634281,
            "mutant": "Y20I"
           },
           {
            "IPTGuM": 0.015167168884709226,
            "best_fit": 0.4876937334537746,
            "hpd_max": 0.5288917639488467,
            "hpd_min": 0.4537456273222391,
            "mutant": "Y20I"
           },
           {
            "IPTGuM": 0.01625755666443794,
            "best_fit": 0.4877053074868297,
            "hpd_max": 0.5289033063070229,
            "hpd_min": 0.4537571092797966,
            "mutant": "Y20I"
           },
           {
            "IPTGuM": 0.0174263338600965,
            "best_fit": 0.4877177383865256,
            "hpd_max": 0.5289157031377669,
            "hpd_min": 0.45376944132754277,
            "mutant": "Y20I"
           },
           {
            "IPTGuM": 0.01867913599020783,
            "best_fit": 0.487731091441565,
            "hpd_max": 0.5289290195399187,
            "hpd_min": 0.45378268824395585,
            "mutant": "Y20I"
           },
           {
            "IPTGuM": 0.020022003718155844,
            "best_fit": 0.4877454371822619,
            "hpd_max": 0.5289433258375577,
            "hpd_min": 0.45379692000908817,
            "mutant": "Y20I"
           },
           {
            "IPTGuM": 0.021461411978584036,
            "best_fit": 0.4877608518386713,
            "hpd_max": 0.528958698036532,
            "hpd_min": 0.45381221225933516,
            "mutant": "Y20I"
           },
           {
            "IPTGuM": 0.02300430119772918,
            "best_fit": 0.48777741784369133,
            "hpd_max": 0.5289752183257774,
            "hpd_min": 0.4538286467868691,
            "mutant": "Y20I"
           },
           {
            "IPTGuM": 0.024658110758226028,
            "best_fit": 0.4877952243861465,
            "hpd_max": 0.5289929756284111,
            "hpd_min": 0.4538463120887133,
            "mutant": "Y20I"
           },
           {
            "IPTGuM": 0.026430814869741057,
            "best_fit": 0.48781436801948375,
            "hpd_max": 0.529012066208202,
            "hpd_min": 0.4538653039710524,
            "mutant": "Y20I"
           },
           {
            "IPTGuM": 0.02833096101839324,
            "best_fit": 0.4878349533324101,
            "hpd_max": 0.5290325943377182,
            "hpd_min": 0.4538857262150747,
            "mutant": "Y20I"
           },
           {
            "IPTGuM": 0.030367711180354574,
            "best_fit": 0.4878570936886044,
            "hpd_max": 0.5290546730352438,
            "hpd_min": 0.45390769131142944,
            "mutant": "Y20I"
           },
           {
            "IPTGuM": 0.032550885998350584,
            "best_fit": 0.48788091204353295,
            "hpd_max": 0.5290784248784527,
            "hpd_min": 0.45393132127128716,
            "mutant": "Y20I"
           },
           {
            "IPTGuM": 0.034891012134067735,
            "best_fit": 0.48790654184742566,
            "hpd_max": 0.5291039829038492,
            "hpd_min": 0.4539567485230087,
            "mutant": "Y20I"
           },
           {
            "IPTGuM": 0.03739937302478798,
            "best_fit": 0.4879341280446362,
            "hpd_max": 0.5291314916021354,
            "hpd_min": 0.45398411690458235,
            "mutant": "Y20I"
           },
           {
            "IPTGuM": 0.04008806328898465,
            "best_fit": 0.4879638281809179,
            "hpd_max": 0.5291611080209768,
            "hpd_min": 0.4540135827633075,
            "mutant": "Y20I"
           },
           {
            "IPTGuM": 0.04297004704320839,
            "best_fit": 0.4879958136316567,
            "hpd_max": 0.5291930029881258,
            "hpd_min": 0.4540453161756902,
            "mutant": "Y20I"
           },
           {
            "IPTGuM": 0.04605922041145106,
            "best_fit": 0.48803027096579576,
            "hpd_max": 0.5292273624695464,
            "hpd_min": 0.45407950230221295,
            "mutant": "Y20I"
           },
           {
            "IPTGuM": 0.049370478528390035,
            "best_fit": 0.48806740346211763,
            "hpd_max": 0.5292643890791011,
            "hpd_min": 0.4541163428935595,
            "mutant": "Y20I"
           },
           {
            "IPTGuM": 0.05291978735958442,
            "best_fit": 0.488107432796742,
            "hpd_max": 0.5293043037585337,
            "hpd_min": 0.45415605796706726,
            "mutant": "Y20I"
           },
           {
            "IPTGuM": 0.05672426068491978,
            "best_fit": 0.4881506009231883,
            "hpd_max": 0.5293473476489464,
            "hpd_min": 0.4541988876746532,
            "mutant": "Y20I"
           },
           {
            "IPTGuM": 0.06080224261649421,
            "best_fit": 0.4881971721691729,
            "hpd_max": 0.5293937841777755,
            "hpd_min": 0.45424509438628247,
            "mutant": "Y20I"
           },
           {
            "IPTGuM": 0.06517339604882423,
            "best_fit": 0.48824743557752,
            "hpd_max": 0.529443901388434,
            "hpd_min": 0.4542949650162452,
            "mutant": "Y20I"
           },
           {
            "IPTGuM": 0.0698587974678525,
            "best_fit": 0.4883017075222054,
            "hpd_max": 0.5294980145434061,
            "hpd_min": 0.4543488136231422,
            "mutant": "Y20I"
           },
           {
            "IPTGuM": 0.07488103857590023,
            "best_fit": 0.48836033463467715,
            "hpd_max": 0.5295564690356471,
            "hpd_min": 0.45440698431859605,
            "mutant": "Y20I"
           },
           {
            "IPTGuM": 0.08026433522257174,
            "best_fit": 0.4884236970802784,
            "hpd_max": 0.5296196436477827,
            "hpd_min": 0.45446985452438987,
            "mutant": "Y20I"
           },
           {
            "IPTGuM": 0.086034644166845,
            "best_fit": 0.48849221222990036,
            "hpd_max": 0.5296879542038261,
            "hpd_min": 0.4545378386230262,
            "mutant": "Y20I"
           },
           {
            "IPTGuM": 0.09221978823334327,
            "best_fit": 0.4885663387780007,
            "hpd_max": 0.5297618576640754,
            "hpd_min": 0.4546113920527151,
            "mutant": "Y20I"
           },
           {
            "IPTGuM": 0.09884959046625587,
            "best_fit": 0.488646581364911,
            "hpd_max": 0.5298418567205383,
            "hpd_min": 0.4546910159045978,
            "mutant": "Y20I"
           },
           {
            "IPTGuM": 0.10595601792776159,
            "best_fit": 0.488733495769044,
            "hpd_max": 0.5299285049578125,
            "hpd_min": 0.4547772620877054,
            "mutant": "Y20I"
           },
           {
            "IPTGuM": 0.11357333583431052,
            "best_fit": 0.48882769474327614,
            "hpd_max": 0.5300224126528696,
            "hpd_min": 0.45487073913585196,
            "mutant": "Y20I"
           },
           {
            "IPTGuM": 0.12173827277396614,
            "best_fit": 0.4889298545795594,
            "hpd_max": 0.5301242532968139,
            "hpd_min": 0.45497211874046833,
            "mutant": "Y20I"
           },
           {
            "IPTGuM": 0.13049019780144022,
            "best_fit": 0.4890407224968188,
            "hpd_max": 0.5302347709324724,
            "hpd_min": 0.4550821431044487,
            "mutant": "Y20I"
           },
           {
            "IPTGuM": 0.1398713102647238,
            "best_fit": 0.4891611249595602,
            "hpd_max": 0.5303547884138062,
            "hpd_min": 0.4552016332245196,
            "mutant": "Y20I"
           },
           {
            "IPTGuM": 0.14992684327860456,
            "best_fit": 0.4892919770484702,
            "hpd_max": 0.5304852167066761,
            "hpd_min": 0.4553314982236151,
            "mutant": "Y20I"
           },
           {
            "IPTGuM": 0.16070528182616384,
            "best_fit": 0.48943429301979974,
            "hpd_max": 0.5306270653656423,
            "hpd_min": 0.4554727458703958,
            "mutant": "Y20I"
           },
           {
            "IPTGuM": 0.17225859653987866,
            "best_fit": 0.489589198207606,
            "hpd_max": 0.5307814543382954,
            "hpd_min": 0.4556264944405329,
            "mutant": "Y20I"
           },
           {
            "IPTGuM": 0.18464249428955434,
            "best_fit": 0.4897579424421368,
            "hpd_max": 0.5309496272672763,
            "hpd_min": 0.45579398609385446,
            "mutant": "Y20I"
           },
           {
            "IPTGuM": 0.19791668678535562,
            "best_fit": 0.4899419151788942,
            "hpd_max": 0.5311329664806937,
            "hpd_min": 0.45597660196306405,
            "mutant": "Y20I"
           },
           {
            "IPTGuM": 0.21214517849106299,
            "best_fit": 0.4901426625563229,
            "hpd_max": 0.5313330098842118,
            "hpd_min": 0.45617587917360186,
            "mutant": "Y20I"
           },
           {
            "IPTGuM": 0.22739657523579276,
            "best_fit": 0.4903619066256784,
            "hpd_max": 0.5315514699926392,
            "hpd_min": 0.45639353004045363,
            "mutant": "Y20I"
           },
           {
            "IPTGuM": 0.24374441501222205,
            "best_fit": 0.4906015670244783,
            "hpd_max": 0.5317902553653997,
            "hpd_min": 0.4566314637163359,
            "mutant": "Y20I"
           },
           {
            "IPTGuM": 0.2612675225563328,
            "best_fit": 0.4908637853949201,
            "hpd_max": 0.5320514947386418,
            "hpd_min": 0.45689181059670314,
            "mutant": "Y20I"
           },
           {
            "IPTGuM": 0.2800503894183631,
            "best_fit": 0.49115095288060295,
            "hpd_max": 0.5323375641767144,
            "hpd_min": 0.45717694982029,
            "mutant": "Y20I"
           },
           {
            "IPTGuM": 0.3001835813575589,
            "best_fit": 0.49146574106844465,
            "hpd_max": 0.5326511175968321,
            "hpd_min": 0.45748954023915955,
            "mutant": "Y20I"
           },
           {
            "IPTGuM": 0.32176417502507354,
            "best_fit": 0.4918111367772898,
            "hpd_max": 0.5329951210523236,
            "hpd_min": 0.45783255526901084,
            "mutant": "Y20I"
           },
           {
            "IPTGuM": 0.3448962260405758,
            "best_fit": 0.49219048112950065,
            "hpd_max": 0.5333728911908888,
            "hpd_min": 0.45820932206807036,
            "mutant": "Y20I"
           },
           {
            "IPTGuM": 0.36969127071950264,
            "best_fit": 0.4926075133755749,
            "hpd_max": 0.5337881383334017,
            "hpd_min": 0.4586235655301906,
            "mutant": "Y20I"
           },
           {
            "IPTGuM": 0.3962688638701478,
            "best_fit": 0.49306641997281975,
            "hpd_max": 0.5342450146440417,
            "hpd_min": 0.459079457613243,
            "mutant": "Y20I"
           },
           {
            "IPTGuM": 0.42475715525368984,
            "best_fit": 0.4935718894449416,
            "hpd_max": 0.534748167881296,
            "hpd_min": 0.4595816725554059,
            "mutant": "Y20I"
           },
           {
            "IPTGuM": 0.4552935074866948,
            "best_fit": 0.4941291735669235,
            "hpd_max": 0.5353028012281904,
            "hpd_min": 0.4601354485565949,
            "mutant": "Y20I"
           },
           {
            "IPTGuM": 0.48802515836544313,
            "best_fit": 0.4947441554244854,
            "hpd_max": 0.5359147396943715,
            "hpd_min": 0.46074665651616686,
            "mutant": "Y20I"
           },
           {
            "IPTGuM": 0.5231099308056261,
            "best_fit": 0.495423424884275,
            "hpd_max": 0.5365905035564756,
            "hpd_min": 0.46142187641606,
            "mutant": "Y20I"
           },
           {
            "IPTGuM": 0.5607169938205459,
            "best_fit": 0.49617436197253456,
            "hpd_max": 0.5373373892489901,
            "hpd_min": 0.4621684819140056,
            "mutant": "Y20I"
           },
           {
            "IPTGuM": 0.6010276782070382,
            "best_fit": 0.49700522858726404,
            "hpd_max": 0.5381635580259343,
            "hpd_min": 0.46299473365584654,
            "mutant": "Y20I"
           },
           {
            "IPTGuM": 0.644236350872137,
            "best_fit": 0.49792526885036714,
            "hpd_max": 0.5390781325721867,
            "hpd_min": 0.4639098817184479,
            "mutant": "Y20I"
           },
           {
            "IPTGuM": 0.6905513520162327,
            "best_fit": 0.4989448182276736,
            "hpd_max": 0.5400913015373945,
            "hpd_min": 0.4649242774415776,
            "mutant": "Y20I"
           },
           {
            "IPTGuM": 0.7401959996915641,
            "best_fit": 0.5000754212886014,
            "hpd_max": 0.5412144316772055,
            "hpd_min": 0.46604949468167545,
            "mutant": "Y20I"
           },
           {
            "IPTGuM": 0.7934096665797492,
            "best_fit": 0.5013299576224962,
            "hpd_max": 0.5424601868947362,
            "hpd_min": 0.4672984602021218,
            "mutant": "Y20I"
           },
           {
            "IPTGuM": 0.8504489341802677,
            "best_fit": 0.5027227749504106,
            "hpd_max": 0.5438426529548314,
            "hpd_min": 0.46868559247897534,
            "mutant": "Y20I"
           },
           {
            "IPTGuM": 0.9115888299750818,
            "best_fit": 0.5042698278404918,
            "hpd_max": 0.5453774659665848,
            "hpd_min": 0.4702269476194728,
            "mutant": "Y20I"
           },
           {
            "IPTGuM": 0.9771241535346497,
            "best_fit": 0.5059888196199417,
            "hpd_max": 0.5470819418648988,
            "hpd_min": 0.47194037033010405,
            "mutant": "Y20I"
           },
           {
            "IPTGuM": 1.0473708979594498,
            "best_fit": 0.5078993440420033,
            "hpd_max": 0.5489752030375504,
            "hpd_min": 0.4738456468957025,
            "mutant": "Y20I"
           },
           {
            "IPTGuM": 1.1226677735108135,
            "best_fit": 0.5100230219775131,
            "hpd_max": 0.5510782969096749,
            "hpd_min": 0.4759646559028002,
            "mutant": "Y20I"
           },
           {
            "IPTGuM": 1.2033778407775892,
            "best_fit": 0.5123836268251535,
            "hpd_max": 0.5534142996876973,
            "hpd_min": 0.4783215109225788,
            "mutant": "Y20I"
           },
           {
            "IPTGuM": 1.289890261253308,
            "best_fit": 0.5150071904489072,
            "hpd_max": 0.55600839656617,
            "hpd_min": 0.4809426875296973,
            "mutant": "Y20I"
           },
           {
            "IPTGuM": 1.382622173764655,
            "best_fit": 0.5179220792477893,
            "hpd_max": 0.5588879275208322,
            "hpd_min": 0.4838571248540763,
            "mutant": "Y20I"
           },
           {
            "IPTGuM": 1.4820207057988586,
            "best_fit": 0.5211590274611677,
            "hpd_max": 0.5620823853889365,
            "hpd_min": 0.48709628934656557,
            "mutant": "Y20I"
           },
           {
            "IPTGuM": 1.5885651294280527,
            "best_fit": 0.52475111207387,
            "hpd_max": 0.5656233503604802,
            "hpd_min": 0.4906941856251219,
            "mutant": "Y20I"
           },
           {
            "IPTGuM": 1.7027691722258995,
            "best_fit": 0.5287336508293236,
            "hpd_max": 0.5695443424242062,
            "hpd_min": 0.4946872962474552,
            "mutant": "Y20I"
           },
           {
            "IPTGuM": 1.8251834943190424,
            "best_fit": 0.5331440020875599,
            "hpd_max": 0.5738805709691156,
            "hpd_min": 0.49911442919491916,
            "mutant": "Y20I"
           },
           {
            "IPTGuM": 1.9563983435170629,
            "best_fit": 0.5380212428828556,
            "hpd_max": 0.5786685589808961,
            "hpd_min": 0.5040164490145929,
            "mutant": "Y20I"
           },
           {
            "IPTGuM": 2.0970464013232326,
            "best_fit": 0.5434056999720935,
            "hpd_max": 0.5839456185597683,
            "hpd_min": 0.5094358653378539,
            "mutant": "Y20I"
           },
           {
            "IPTGuM": 2.247805833548725,
            "best_fit": 0.5493383084857656,
            "hpd_max": 0.5897491554136234,
            "hpd_min": 0.515416251401565,
            "mutant": "Y20I"
           },
           {
            "IPTGuM": 2.4094035602395243,
            "best_fit": 0.5558597746987947,
            "hpd_max": 0.5961157832478557,
            "hpd_min": 0.5220014659182299,
            "mutant": "Y20I"
           },
           {
            "IPTGuM": 2.5826187606826747,
            "best_fit": 0.5630095242303628,
            "hpd_max": 0.6030802353390733,
            "hpd_min": 0.5292346549829675,
            "mutant": "Y20I"
           },
           {
            "IPTGuM": 2.7682866303920637,
            "best_fit": 0.5708244254930229,
            "hpd_max": 0.6106740707654906,
            "hpd_min": 0.537157017557624,
            "mutant": "Y20I"
           },
           {
            "IPTGuM": 2.9673024081888695,
            "best_fit": 0.5793372911772579,
            "hpd_max": 0.6189241873085664,
            "hpd_min": 0.5458063293030047,
            "mutant": "Y20I"
           },
           {
            "IPTGuM": 3.180625692794119,
            "best_fit": 0.5885751784295747,
            "hpd_max": 0.6278511720855918,
            "hpd_min": 0.5552152358178506,
            "mutant": "Y20I"
           },
           {
            "IPTGuM": 3.409285069746811,
            "best_fit": 0.5985575310826002,
            "hpd_max": 0.6374675440360561,
            "hpd_min": 0.5654093479462846,
            "mutant": "Y20I"
           },
           {
            "IPTGuM": 3.6543830709572545,
            "best_fit": 0.6092942339430064,
            "hpd_max": 0.6477759681023746,
            "hpd_min": 0.5764051982891841,
            "mutant": "Y20I"
           },
           {
            "IPTGuM": 3.9171014908092565,
            "best_fit": 0.6207836778005645,
            "hpd_max": 0.6587675468961225,
            "hpd_min": 0.5882081479582171,
            "mutant": "Y20I"
           },
           {
            "IPTGuM": 4.19870708444391,
            "best_fit": 0.63301096135293,
            "hpd_max": 0.6704203183177989,
            "hpd_min": 0.6008103632770214,
            "mutant": "Y20I"
           },
           {
            "IPTGuM": 4.500557675700498,
            "best_fit": 0.6459463783796917,
            "hpd_max": 0.6826981026365991,
            "hpd_min": 0.6141890096066762,
            "mutant": "Y20I"
           },
           {
            "IPTGuM": 4.8241087041653685,
            "best_fit": 0.6595443502337273,
            "hpd_max": 0.6955498452647977,
            "hpd_min": 0.6283048287283727,
            "mutant": "Y20I"
           },
           {
            "IPTGuM": 5.170920242896756,
            "best_fit": 0.6737429600443072,
            "hpd_max": 0.7096829099876074,
            "hpd_min": 0.6438798105586768,
            "mutant": "Y20I"
           },
           {
            "IPTGuM": 5.542664520663101,
            "best_fit": 0.6884642220329396,
            "hpd_max": 0.7234481499524011,
            "hpd_min": 0.6592670873088973,
            "mutant": "Y20I"
           },
           {
            "IPTGuM": 5.941133984965034,
            "best_fit": 0.70361517544621,
            "hpd_max": 0.7375463186494443,
            "hpd_min": 0.6751680269403612,
            "mutant": "Y20I"
           },
           {
            "IPTGuM": 6.3682499447185865,
            "best_fit": 0.719089829632449,
            "hpd_max": 0.7518741232504396,
            "hpd_min": 0.6914766822030273,
            "mutant": "Y20I"
           },
           {
            "IPTGuM": 6.826071834272386,
            "best_fit": 0.7347719104915218,
            "hpd_max": 0.7663207456607903,
            "hpd_min": 0.7080744857115753,
            "mutant": "Y20I"
           },
           {
            "IPTGuM": 7.316807143427193,
            "best_fit": 0.7505382782575418,
            "hpd_max": 0.7807712586653224,
            "hpd_min": 0.7248335445967993,
            "mutant": "Y20I"
           },
           {
            "IPTGuM": 7.842822061337682,
            "best_fit": 0.7662628139010266,
            "hpd_max": 0.795110330829469,
            "hpd_min": 0.7416205570546366,
            "mutant": "Y20I"
           },
           {
            "IPTGuM": 8.406652885618325,
            "best_fit": 0.7818205179488629,
            "hpd_max": 0.8092259685244265,
            "hpd_min": 0.7583011035912741,
            "mutant": "Y20I"
           },
           {
            "IPTGuM": 9.01101825166502,
            "best_fit": 0.797091540308498,
            "hpd_max": 0.8230130384940608,
            "hpd_min": 0.7747440222410102,
            "mutant": "Y20I"
           },
           {
            "IPTGuM": 9.658832241158699,
            "best_fit": 0.8119648672073785,
            "hpd_max": 0.8363763392481898,
            "hpd_min": 0.7908255667566483,
            "mutant": "Y20I"
           },
           {
            "IPTGuM": 10.353218432956616,
            "best_fit": 0.8263414303570069,
            "hpd_max": 0.8492330399808162,
            "hpd_min": 0.806433071598929,
            "mutant": "Y20I"
           },
           {
            "IPTGuM": 11.097524964120721,
            "best_fit": 0.8401364672359279,
            "hpd_max": 0.861514373218219,
            "hpd_min": 0.8214679031850856,
            "mutant": "Y20I"
           },
           {
            "IPTGuM": 11.895340673703195,
            "best_fit": 0.8532810394426951,
            "hpd_max": 0.8731665413276558,
            "hpd_min": 0.8358475538829664,
            "mutant": "Y20I"
           },
           {
            "IPTGuM": 12.75051240713013,
            "best_fit": 0.8657226964478828,
            "hpd_max": 0.8841508667793294,
            "hpd_min": 0.8495068213338696,
            "mutant": "Y20I"
           },
           {
            "IPTGuM": 13.66716356462006,
            "best_fit": 0.8774253438647337,
            "hpd_max": 0.8944432731629804,
            "hpd_min": 0.8623980983231921,
            "mutant": "Y20I"
           },
           {
            "IPTGuM": 14.649713983072848,
            "best_fit": 0.8883684306017053,
            "hpd_max": 0.9040332232562889,
            "hpd_min": 0.8744908672784746,
            "mutant": "Y20I"
           },
           {
            "IPTGuM": 15.702901247293775,
            "best_fit": 0.8985456038961654,
            "hpd_max": 0.9129222603945621,
            "hpd_min": 0.8857705420292368,
            "mutant": "Y20I"
           },
           {
            "IPTGuM": 16.831803533309568,
            "best_fit": 0.9079629950393082,
            "hpd_max": 0.9211223015894647,
            "hpd_min": 0.8962368254412424,
            "mutant": "Y20I"
           },
           {
            "IPTGuM": 18.04186409392072,
            "best_fit": 0.9166372943925506,
            "hpd_max": 0.9286538189928707,
            "hpd_min": 0.9059017564237026,
            "mutant": "Y20I"
           },
           {
            "IPTGuM": 19.338917504552303,
            "best_fit": 0.9245937566847566,
            "hpd_max": 0.9355440250739151,
            "hpd_min": 0.9147876077084941,
            "mutant": "Y20I"
           },
           {
            "IPTGuM": 20.729217795953698,
            "best_fit": 0.9318642517815945,
            "hpd_max": 0.9418251509183261,
            "hpd_min": 0.922924772105222,
            "mutant": "Y20I"
           },
           {
            "IPTGuM": 22.21946860939524,
            "best_fit": 0.9384854469705329,
            "hpd_max": 0.9475328802964375,
            "hpd_min": 0.9303497451180927,
            "mutant": "Y20I"
           },
           {
            "IPTGuM": 23.81685551976158,
            "best_fit": 0.9444971781652077,
            "hpd_max": 0.952704977443459,
            "hpd_min": 0.9371032805758194,
            "mutant": "Y20I"
           },
           {
            "IPTGuM": 25.529080682395165,
            "best_fit": 0.9499410419384645,
            "hpd_max": 0.9573801255974428,
            "hpd_min": 0.9432287667650509,
            "mutant": "Y20I"
           },
           {
            "IPTGuM": 27.364399970746693,
            "best_fit": 0.9548592194002575,
            "hpd_max": 0.9615969770139545,
            "hpd_min": 0.9487708456501308,
            "mutant": "Y20I"
           },
           {
            "IPTGuM": 29.331662783900423,
            "best_fit": 0.9592935271279996,
            "hpd_max": 0.9653934034493776,
            "hpd_min": 0.9537742781196372,
            "mutant": "Y20I"
           },
           {
            "IPTGuM": 31.440354715915,
            "best_fit": 0.9632846794213958,
            "hpd_max": 0.9688059285229821,
            "hpd_min": 0.9582830439391757,
            "mutant": "Y20I"
           },
           {
            "IPTGuM": 33.700643292719285,
            "best_fit": 0.9668717394582693,
            "hpd_max": 0.9718693192231406,
            "hpd_min": 0.9623396557321032,
            "mutant": "Y20I"
           },
           {
            "IPTGuM": 36.123426997094306,
            "best_fit": 0.970091733644998,
            "hpd_max": 0.9746163123265486,
            "hpd_min": 0.9659846610536116,
            "mutant": "Y20I"
           },
           {
            "IPTGuM": 38.72038781812553,
            "best_fit": 0.9729794027272247,
            "hpd_max": 0.977077451897661,
            "hpd_min": 0.9692563045540509,
            "mutant": "Y20I"
           },
           {
            "IPTGuM": 41.504047578504725,
            "best_fit": 0.9755670642690161,
            "hpd_max": 0.9792810156763909,
            "hpd_min": 0.9721903224587524,
            "mutant": "Y20I"
           },
           {
            "IPTGuM": 44.487828311275855,
            "best_fit": 0.977884563263407,
            "hpd_max": 0.981253010521226,
            "hpd_min": 0.9748198433495227,
            "mutant": "Y20I"
           },
           {
            "IPTGuM": 47.68611697714469,
            "best_fit": 0.9799592903894456,
            "hpd_max": 0.9830172197580214,
            "hpd_min": 0.9771753718902754,
            "mutant": "Y20I"
           },
           {
            "IPTGuM": 51.11433483440165,
            "best_fit": 0.9818162504029639,
            "hpd_max": 0.9845952880140445,
            "hpd_min": 0.9792848352207498,
            "mutant": "Y20I"
           },
           {
            "IPTGuM": 54.789011795939395,
            "best_fit": 0.983478166081912,
            "hpd_max": 0.9860068317111839,
            "hpd_min": 0.9811736749104972,
            "mutant": "Y20I"
           },
           {
            "IPTGuM": 58.72786613189477,
            "best_fit": 0.984965605879651,
            "hpd_max": 0.9872695657451914,
            "hpd_min": 0.9828649703979693,
            "mutant": "Y20I"
           },
           {
            "IPTGuM": 62.94988990221888,
            "best_fit": 0.9862971258811204,
            "hpd_max": 0.9883994389377889,
            "hpd_min": 0.9843795826039868,
            "mutant": "Y20I"
           },
           {
            "IPTGuM": 67.47544053110693,
            "best_fit": 0.9874894187693497,
            "hpd_max": 0.9894107726016769,
            "hpd_min": 0.9857363088387573,
            "mutant": "Y20I"
           },
           {
            "IPTGuM": 72.32633896483533,
            "best_fit": 0.9885574642902939,
            "hpd_max": 0.9903163980154769,
            "hpd_min": 0.9869520421964731,
            "mutant": "Y20I"
           },
           {
            "IPTGuM": 77.52597488629456,
            "best_fit": 0.9895146771712189,
            "hpd_max": 0.9911277897912808,
            "hpd_min": 0.9880419303608742,
            "mutant": "Y20I"
           },
           {
            "IPTGuM": 83.09941949353387,
            "best_fit": 0.9903730496327321,
            "hpd_max": 0.9918551930637178,
            "hpd_min": 0.989019530156231,
            "mutant": "Y20I"
           },
           {
            "IPTGuM": 89.0735463861044,
            "best_fit": 0.9911432865732925,
            "hpd_max": 0.9925077431704817,
            "hpd_min": 0.9898969553073034,
            "mutant": "Y20I"
           },
           {
            "IPTGuM": 95.47716114208056,
            "best_fit": 0.9918349322348473,
            "hpd_max": 0.9930935770634552,
            "hpd_min": 0.9906850157584645,
            "mutant": "Y20I"
           },
           {
            "IPTGuM": 102.34114021054528,
            "best_fit": 0.9924564877145063,
            "hpd_max": 0.9936199361176783,
            "hpd_min": 0.9913933475851958,
            "mutant": "Y20I"
           },
           {
            "IPTGuM": 109.69857978923841,
            "best_fit": 0.9930155191019341,
            "hpd_max": 0.9940932603196854,
            "hpd_min": 0.9920305330466097,
            "mutant": "Y20I"
           },
           {
            "IPTGuM": 117.58495540521558,
            "best_fit": 0.9935187563234573,
            "hpd_max": 0.994519274040639,
            "hpd_min": 0.9926042107075863,
            "mutant": "Y20I"
           },
           {
            "IPTGuM": 126.03829296797274,
            "best_fit": 0.99397218298568,
            "hpd_max": 0.9949030637529175,
            "hpd_min": 0.9931211758312164,
            "mutant": "Y20I"
           },
           {
            "IPTGuM": 135.09935211980252,
            "best_fit": 0.9943811176535724,
            "hpd_max": 0.9952491481476428,
            "hpd_min": 0.9935874714298546,
            "mutant": "Y20I"
           },
           {
            "IPTGuM": 144.8118227674533,
            "best_fit": 0.994750287086955,
            "hpd_max": 0.9955615411683011,
            "hpd_min": 0.9940084704854861,
            "mutant": "Y20I"
           },
           {
            "IPTGuM": 155.2225357427048,
            "best_fit": 0.9950838920081929,
            "hpd_max": 0.995843808502631,
            "hpd_min": 0.994388949923041,
            "mutant": "Y20I"
           },
           {
            "IPTGuM": 166.38168860761274,
            "best_fit": 0.995385665993277,
            "hpd_max": 0.9960991180797544,
            "hpd_min": 0.9947331569563029,
            "mutant": "Y20I"
           },
           {
            "IPTGuM": 178.34308769319094,
            "best_fit": 0.9956589280765648,
            "hpd_max": 0.9963302851085535,
            "hpd_min": 0.9950448684351408,
            "mutant": "Y20I"
           },
           {
            "IPTGuM": 191.16440753856998,
            "best_fit": 0.9959066296426897,
            "hpd_max": 0.9965398121716256,
            "hpd_min": 0.9953274438127405,
            "mutant": "Y20I"
           },
           {
            "IPTGuM": 204.9074689815846,
            "best_fit": 0.9961313961524424,
            "hpd_max": 0.9967299248605564,
            "hpd_min": 0.995583872328315,
            "mutant": "Y20I"
           },
           {
            "IPTGuM": 219.6385372416547,
            "best_fit": 0.9963355642165006,
            "hpd_max": 0.996902603405604,
            "hpd_min": 0.995816814969017,
            "mutant": "Y20I"
           },
           {
            "IPTGuM": 235.42864143224153,
            "best_fit": 0.9965212144944995,
            "hpd_max": 0.9970596107183084,
            "hpd_min": 0.9960286417379142,
            "mutant": "Y20I"
           },
           {
            "IPTGuM": 252.3539170434766,
            "best_fit": 0.9966902008591146,
            "hpd_max": 0.9972025172305109,
            "hpd_min": 0.9962214647154312,
            "mutant": "Y20I"
           },
           {
            "IPTGuM": 270.49597304631317,
            "best_fit": 0.9968441762270303,
            "hpd_max": 0.9973327228788901,
            "hpd_min": 0.9963971673614738,
            "mutant": "Y20I"
           },
           {
            "IPTGuM": 289.94228538828753,
            "best_fit": 0.996984615421873,
            "hpd_max": 0.997451476551094,
            "hpd_min": 0.996557430465809,
            "mutant": "Y20I"
           },
           {
            "IPTGuM": 310.7866187782014,
            "best_fit": 0.997112835399096,
            "hpd_max": 0.9975598932783547,
            "hpd_min": 0.9967037551160869,
            "mutant": "Y20I"
           },
           {
            "IPTGuM": 333.129478793467,
            "best_fit": 0.9972300131298075,
            "hpd_max": 0.9976589694303554,
            "hpd_min": 0.9968374830167169,
            "mutant": "Y20I"
           },
           {
            "IPTGuM": 357.07859649004627,
            "best_fit": 0.9973372014098764,
            "hpd_max": 0.9977495961412535,
            "hpd_min": 0.9969598144579929,
            "mutant": "Y20I"
           },
           {
            "IPTGuM": 382.74944785163075,
            "best_fit": 0.9974353428324279,
            "hpd_max": 0.9978325711711344,
            "hpd_min": 0.9970718242035892,
            "mutant": "Y20I"
           },
           {
            "IPTGuM": 410.26581058271904,
            "best_fit": 0.99752528213606,
            "hpd_max": 0.9979086093847664,
            "hpd_min": 0.9971744755358656,
            "mutant": "Y20I"
           },
           {
            "IPTGuM": 439.7603609302721,
            "best_fit": 0.9976077771176878,
            "hpd_max": 0.9979783520092531,
            "hpd_min": 0.9972686326722701,
            "mutant": "Y20I"
           },
           {
            "IPTGuM": 471.3753134116719,
            "best_fit": 0.9976835082777783,
            "hpd_max": 0.9980423748139136,
            "hpd_min": 0.9973550717424666,
            "mutant": "Y20I"
           },
           {
            "IPTGuM": 505.26310653356796,
            "best_fit": 0.9977530873466995,
            "hpd_max": 0.9981011953393291,
            "hpd_min": 0.9974344904944601,
            "mutant": "Y20I"
           },
           {
            "IPTGuM": 541.5871378079465,
            "best_fit": 0.9978170648238616,
            "hpd_max": 0.9981552792878353,
            "hpd_min": 0.9975075168788229,
            "mutant": "Y20I"
           },
           {
            "IPTGuM": 580.5225516094896,
            "best_fit": 0.9978759366460839,
            "hpd_max": 0.9982050461746672,
            "hpd_min": 0.9975747166429731,
            "mutant": "Y20I"
           },
           {
            "IPTGuM": 622.2570836730231,
            "best_fit": 0.9979301500880431,
            "hpd_max": 0.9982508743273254,
            "hpd_min": 0.9976366000521406,
            "mutant": "Y20I"
           },
           {
            "IPTGuM": 666.9919663030115,
            "best_fit": 0.9979801089855856,
            "hpd_max": 0.9982931053104107,
            "hpd_min": 0.9976936278400281,
            "mutant": "Y20I"
           },
           {
            "IPTGuM": 714.9428986597577,
            "best_fit": 0.9980261783619722,
            "hpd_max": 0.9983320478440109,
            "hpd_min": 0.9977462164800639,
            "mutant": "Y20I"
           },
           {
            "IPTGuM": 766.3410868007447,
            "best_fit": 0.9980686885276254,
            "hpd_max": 0.9983679812756239,
            "hpd_min": 0.9977947428574041,
            "mutant": "Y20I"
           },
           {
            "IPTGuM": 821.4343584919421,
            "best_fit": 0.998107938715568,
            "hpd_max": 0.9984011586584448,
            "hpd_min": 0.9978395484123416,
            "mutant": "Y20I"
           },
           {
            "IPTGuM": 880.4883581643464,
            "best_fit": 0.9981442003073008,
            "hpd_max": 0.9984318094825144,
            "hpd_min": 0.9978809428173568,
            "mutant": "Y20I"
           },
           {
            "IPTGuM": 943.7878277775371,
            "best_fit": 0.9981777196973404,
            "hpd_max": 0.9984601420996576,
            "hpd_min": 0.9979192072426432,
            "mutant": "Y20I"
           },
           {
            "IPTGuM": 1011.6379797662071,
            "best_fit": 0.9982087208388475,
            "hpd_max": 0.9984863458782239,
            "hpd_min": 0.9979545972583668,
            "mutant": "Y20I"
           },
           {
            "IPTGuM": 1084.3659686896087,
            "best_fit": 0.9982374075077024,
            "hpd_max": 0.9985105931193134,
            "hpd_min": 0.9979873454161624,
            "mutant": "Y20I"
           },
           {
            "IPTGuM": 1162.322468679852,
            "best_fit": 0.9982639653178912,
            "hpd_max": 0.9985330407623715,
            "hpd_min": 0.9980176635472695,
            "mutant": "Y20I"
           },
           {
            "IPTGuM": 1245.883364295008,
            "best_fit": 0.9982885635171364,
            "hpd_max": 0.9985538319046717,
            "hpd_min": 0.9980457448102398,
            "mutant": "Y20I"
           },
           {
            "IPTGuM": 1335.4515629298974,
            "best_fit": 0.9983113565882298,
            "hpd_max": 0.9985730971562812,
            "hpd_min": 0.9980717655172008,
            "mutant": "Y20I"
           },
           {
            "IPTGuM": 1431.4589375234787,
            "best_fit": 0.9983324856784773,
            "hpd_max": 0.9985909558494923,
            "hpd_min": 0.9980958867642005,
            "mutant": "Y20I"
           },
           {
            "IPTGuM": 1534.36840893001,
            "best_fit": 0.9983520798769909,
            "hpd_max": 0.9986075171194461,
            "hpd_min": 0.9981182558880993,
            "mutant": "Y20I"
           },
           {
            "IPTGuM": 1644.6761779946628,
            "best_fit": 0.9983702573571978,
            "hpd_max": 0.9986228808706666,
            "hpd_min": 0.9981390077698089,
            "mutant": "Y20I"
           },
           {
            "IPTGuM": 1762.914118095948,
            "best_fit": 0.9983871263998744,
            "hpd_max": 0.998637138642471,
            "hpd_min": 0.9981582660013053,
            "mutant": "Y20I"
           },
           {
            "IPTGuM": 1889.6523396912078,
            "best_fit": 0.9984027863101915,
            "hpd_max": 0.9986503743846773,
            "hpd_min": 0.9981761439317935,
            "mutant": "Y20I"
           },
           {
            "IPTGuM": 2025.5019392306665,
            "best_fit": 0.9984173282406578,
            "hpd_max": 0.9986626651536791,
            "hpd_min": 0.9981927456065623,
            "mutant": "Y20I"
           },
           {
            "IPTGuM": 2171.117945694501,
            "best_fit": 0.998430835930445,
            "hpd_max": 0.9986740817377632,
            "hpd_min": 0.9982081666104821,
            "mutant": "Y20I"
           },
           {
            "IPTGuM": 2327.2024789604075,
            "best_fit": 0.9984433863703475,
            "hpd_max": 0.9986846892195016,
            "hpd_min": 0.9982224948266881,
            "mutant": "Y20I"
           },
           {
            "IPTGuM": 2494.5081352303164,
            "best_fit": 0.9984550504015394,
            "hpd_max": 0.9986945474821344,
            "hpd_min": 0.998235811119759,
            "mutant": "Y20I"
           },
           {
            "IPTGuM": 2673.841615839944,
            "best_fit": 0.9984658932553435,
            "hpd_max": 0.9987037116660437,
            "hpd_min": 0.9982481899516121,
            "mutant": "Y20I"
           },
           {
            "IPTGuM": 2866.0676169482504,
            "best_fit": 0.9984759750403879,
            "hpd_max": 0.9987122325807211,
            "hpd_min": 0.9982596999373823,
            "mutant": "Y20I"
           },
           {
            "IPTGuM": 3072.1129988617527,
            "best_fit": 0.9984853511827859,
            "hpd_max": 0.9987201570769954,
            "hpd_min": 0.9982704043477182,
            "mutant": "Y20I"
           },
           {
            "IPTGuM": 3292.971255097148,
            "best_fit": 0.9984940728243329,
            "hpd_max": 0.9987275283837448,
            "hpd_min": 0.9982803615631802,
            "mutant": "Y20I"
           },
           {
            "IPTGuM": 3529.70730273065,
            "best_fit": 0.9985021871831365,
            "hpd_max": 0.9987343864128378,
            "hpd_min": 0.9982896254857851,
            "mutant": "Y20I"
           },
           {
            "IPTGuM": 3783.462617131925,
            "best_fit": 0.9985097378805998,
            "hpd_max": 0.9987407680356114,
            "hpd_min": 0.9982982459121608,
            "mutant": "Y20I"
           },
           {
            "IPTGuM": 4055.4607358408275,
            "best_fit": 0.9985167652382324,
            "hpd_max": 0.9987467073338315,
            "hpd_min": 0.9983062688722776,
            "mutant": "Y20I"
           },
           {
            "IPTGuM": 4347.013158125017,
            "best_fit": 0.9985233065473751,
            "hpd_max": 0.9987522358277455,
            "hpd_min": 0.9983137369372765,
            "mutant": "Y20I"
           },
           {
            "IPTGuM": 4659.525668664677,
            "best_fit": 0.9985293963145807,
            "hpd_max": 0.9987573826835469,
            "hpd_min": 0.9983206894995195,
            "mutant": "Y20I"
           },
           {
            "IPTGuM": 4994.50511585514,
            "best_fit": 0.9985350664850905,
            "hpd_max": 0.9987621749023157,
            "hpd_min": 0.9983271630276458,
            "mutant": "Y20I"
           },
           {
            "IPTGuM": 5353.5666774107185,
            "best_fit": 0.9985403466465786,
            "hpd_max": 0.9987666374922718,
            "hpd_min": 0.9983331912991139,
            "mutant": "Y20I"
           },
           {
            "IPTGuM": 5738.441648302392,
            "best_fit": 0.998545264215098,
            "hpd_max": 0.9987707936259784,
            "hpd_min": 0.998338805612432,
            "mutant": "Y20I"
           },
           {
            "IPTGuM": 6150.985788580504,
            "best_fit": 0.9985498446049593,
            "hpd_max": 0.9987746647839595,
            "hpd_min": 0.9983440349810547,
            "mutant": "Y20I"
           },
           {
            "IPTGuM": 6593.188271333542,
            "best_fit": 0.9985541113840802,
            "hpd_max": 0.9987782708860291,
            "hpd_min": 0.9983489063106984,
            "mutant": "Y20I"
           },
           {
            "IPTGuM": 7067.181273927491,
            "best_fit": 0.9985580864161888,
            "hpd_max": 0.9987816304115082,
            "hpd_min": 0.998353444561655,
            "mutant": "Y20I"
           },
           {
            "IPTGuM": 7575.250258771905,
            "best_fit": 0.9985617899911111,
            "hpd_max": 0.998784760509365,
            "hpd_min": 0.9983576728975071,
            "mutant": "Y20I"
           },
           {
            "IPTGuM": 8119.844993184009,
            "best_fit": 0.9985652409442548,
            "hpd_max": 0.9987876770992186,
            "hpd_min": 0.9983616128215117,
            "mutant": "Y20I"
           },
           {
            "IPTGuM": 8703.591361485165,
            "best_fit": 0.9985684567662741,
            "hpd_max": 0.998790394964044,
            "hpd_min": 0.9983652843017801,
            "mutant": "Y20I"
           },
           {
            "IPTGuM": 9329.304026284677,
            "best_fit": 0.9985714537038131,
            "hpd_max": 0.9987929278353335,
            "hpd_min": 0.9983687058862735,
            "mutant": "Y20I"
           },
           {
            "IPTGuM": 10000,
            "best_fit": 0.9985742468521254,
            "hpd_max": 0.9987952884713881,
            "hpd_min": 0.9983718948085297,
            "mutant": "Y20I"
           }
          ]
         },
         "encoding": {
          "color": {
           "field": "mutant",
           "type": "nominal"
          },
          "x": {
           "axis": {
            "title": "IPTG [µM]"
           },
           "field": "IPTGuM",
           "scale": {
            "type": "log"
           },
           "type": "quantitative"
          },
          "y": {
           "axis": {
            "title": "fold-change"
           },
           "field": "best_fit",
           "type": "quantitative"
          }
         },
         "mark": "line",
         "selection": {
          "selector087": {
           "bind": "scales",
           "encodings": [
            "x",
            "y"
           ],
           "mark": {
            "fill": "#333",
            "fillOpacity": 0.125,
            "stroke": "white"
           },
           "on": "[mousedown, window:mouseup] > window:mousemove!",
           "resolve": "global",
           "translate": "[mousedown, window:mouseup] > window:mousemove!",
           "type": "interval",
           "zoom": "wheel!"
          }
         },
         "width": 300
        }
       ]
      },
      "text/plain": [
       "<VegaLite 2 object>\n",
       "\n",
       "If you see this message, it means the renderer has not been properly enabled\n",
       "for the frontend that you are using. For more information, see\n",
       "https://altair-viz.github.io/user_guide/troubleshooting.html\n"
      ]
     },
     "execution_count": 207,
     "metadata": {},
     "output_type": "execute_result"
    }
   ],
   "source": [
    "# generate the figures. \n",
    "leak_fit_base= alt.Chart(leak_fit_df, width=300).interactive()\n",
    "ind_fit_base = alt.Chart(ind_fit_df, width=300).interactive()\n",
    "\n",
    "# modes\n",
    "leak_fit_mode = leak_fit_base.mark_line().encode(\n",
    "                x=alt.X('repressors:Q', scale={'type':'log'}, axis={'title':'repressors per cell'}),\n",
    "                y=alt.Y('best_fit:Q', scale={'type':'log'}, axis={'title':'fold-change'}),\n",
    "                color='mutant:N')\n",
    "ind_fit_mode = ind_fit_base.mark_line().encode(\n",
    "                x=alt.X('IPTGuM:Q', scale={'type':'log'}, axis={'title':'IPTG [µM]'}),\n",
    "                y=alt.Y('best_fit:Q', axis={'title':'fold-change'}),\n",
    "                color='mutant:N')\n",
    "    \n",
    "# Credible regions\n",
    "leak_fit_cred = leak_fit_base.mark_area(opacity=0.3).encode(\n",
    "                x='repressors:Q', \n",
    "                y='hpd_min:Q',\n",
    "                y2='hpd_max:Q', \n",
    "                color='mutant:N',\n",
    "                ) \n",
    "\n",
    "ind_fit_cred = ind_fit_base.mark_area(opacity=0.3).encode(\n",
    "                x='IPTGuM:Q', \n",
    "                y='hpd_min:Q',\n",
    "                y2='hpd_max:Q', \n",
    "                color='mutant:N',\n",
    "                ) \n",
    "\n",
    "leak_pl\n",
    "(leak_fit_mode + leak_points + leak_err + leak_fit_cred) | (ind_fit_mode )# + ind_points + ind_err)\n",
    "# ind_points + ind_err + ind_fit_mode + ind_fit_cred"
   ]
  },
  {
   "cell_type": "markdown",
   "metadata": {},
   "source": [
    "## Approach 2: Fitting $\\Delta\\varepsilon_{RA}$ to each titration curve "
   ]
  },
  {
   "cell_type": "markdown",
   "metadata": {},
   "source": [
    "After talking with Manuel, It may be more wise to do the estimation of the binding energy using a complete induction profile rather than the leakiness alone. This is more similar to what Hernan did in his 2011 PNAS, and let's us avoid some problems of noise in the measurement of fold-change bringing us below zero. I've written a stan model `DNA_binding_energy_induction.stan` that performs the estimation of $\\Delta\\varepsilon_{RA}$ for each curve individually.  "
   ]
  },
  {
   "cell_type": "code",
   "execution_count": 229,
   "metadata": {},
   "outputs": [
    {
     "name": "stderr",
     "output_type": "stream",
     "text": [
      "INFO:pystan:COMPILING THE C++ CODE FOR MODEL anon_model_63fa70a559ef82c062be4f6bb7d824c7 NOW.\n"
     ]
    }
   ],
   "source": [
    "# Load the stan model\n",
    "ind_prof_model_code = mut.bayes.assemble_StanModelCode('../stan/DNA_binding_energy_induction.stan',\n",
    "                                                 '../stan/functions.stan')\n",
    "ind_prof_model = pystan.StanModel(model_code=ind_prof_model_code)"
   ]
  },
  {
   "cell_type": "code",
   "execution_count": null,
   "metadata": {},
   "outputs": [],
   "source": [
    "# Assign proper identifiers to each trace. \n",
    "REP_idx = {r:i+1 for i, r in enumerate(DNA_data['repressors'].unique())}\n",
    "\n",
    "counter = 0\n",
    "for m, i in DNA_idx.items(): \n",
    "    for r, idx in REP_idx.items():\n",
    "        DNA_data.loc[(DNA_data['repressors']==r)& \n",
    "                     (DNA_data['mutant']==m), 'prof_idx'] = idx + counter\n",
    "    counter += len(REP_idx)\n",
    "DNA_data['prof_idx'] = DNA_data['prof_idx'].values.astype(int)\n",
    "\n",
    "# Assemble the data dictionary\n",
    "data_dict = dict(J=len(DNA_data['prof_idx'].unique()), N=len(DNA_data), \n",
    "                idx=DNA_data['prof_idx'], R=DNA_data['repressors'],\n",
    "                Nns=constants['Nns'], n_sites=constants['n_sites'],\n",
    "                Ka=constants['ka'], Ki=constants['ki'], c=DNA_data['IPTGuM'],\n",
    "                fc=DNA_data['fold_change'], ep_ai=constants['ep_AI'])\n",
    "\n",
    "# Sample the posterior\n",
    "prof_ind_samples = ind_prof_model.sampling(data_dict, iter=10000, chains=4)"
   ]
  },
  {
   "cell_type": "code",
   "execution_count": null,
   "metadata": {},
   "outputs": [],
   "source": [
    "prof_ind_samples\n"
   ]
  }
 ],
 "metadata": {
  "kernelspec": {
   "display_name": "Python 3",
   "language": "python",
   "name": "python3"
  },
  "language_info": {
   "codemirror_mode": {
    "name": "ipython",
    "version": 3
   },
   "file_extension": ".py",
   "mimetype": "text/x-python",
   "name": "python",
   "nbconvert_exporter": "python",
   "pygments_lexer": "ipython3",
   "version": "3.6.6"
  }
 },
 "nbformat": 4,
 "nbformat_minor": 2
}
