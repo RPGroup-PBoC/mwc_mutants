{
 "cells": [
  {
   "cell_type": "markdown",
   "metadata": {},
   "source": [
    "# Fitting $\\Delta\\varepsilon_{AI}$ to inducer mutants "
   ]
  },
  {
   "cell_type": "code",
   "execution_count": 3,
   "metadata": {},
   "outputs": [
    {
     "data": {
      "text/html": [
       "\n",
       "    <div class=\"bk-root\">\n",
       "        <a href=\"https://bokeh.pydata.org\" target=\"_blank\" class=\"bk-logo bk-logo-small bk-logo-notebook\"></a>\n",
       "        <span id=\"31fc4875-bbcf-46e4-8b26-a7398e194200\">Loading BokehJS ...</span>\n",
       "    </div>"
      ]
     },
     "metadata": {},
     "output_type": "display_data"
    },
    {
     "data": {
      "application/javascript": [
       "\n",
       "(function(root) {\n",
       "  function now() {\n",
       "    return new Date();\n",
       "  }\n",
       "\n",
       "  var force = true;\n",
       "\n",
       "  if (typeof (root._bokeh_onload_callbacks) === \"undefined\" || force === true) {\n",
       "    root._bokeh_onload_callbacks = [];\n",
       "    root._bokeh_is_loading = undefined;\n",
       "  }\n",
       "\n",
       "  var JS_MIME_TYPE = 'application/javascript';\n",
       "  var HTML_MIME_TYPE = 'text/html';\n",
       "  var EXEC_MIME_TYPE = 'application/vnd.bokehjs_exec.v0+json';\n",
       "  var CLASS_NAME = 'output_bokeh rendered_html';\n",
       "\n",
       "  /**\n",
       "   * Render data to the DOM node\n",
       "   */\n",
       "  function render(props, node) {\n",
       "    var script = document.createElement(\"script\");\n",
       "    node.appendChild(script);\n",
       "  }\n",
       "\n",
       "  /**\n",
       "   * Handle when an output is cleared or removed\n",
       "   */\n",
       "  function handleClearOutput(event, handle) {\n",
       "    var cell = handle.cell;\n",
       "\n",
       "    var id = cell.output_area._bokeh_element_id;\n",
       "    var server_id = cell.output_area._bokeh_server_id;\n",
       "    // Clean up Bokeh references\n",
       "    if (id !== undefined) {\n",
       "      Bokeh.index[id].model.document.clear();\n",
       "      delete Bokeh.index[id];\n",
       "    }\n",
       "\n",
       "    if (server_id !== undefined) {\n",
       "      // Clean up Bokeh references\n",
       "      var cmd = \"from bokeh.io.state import curstate; print(curstate().uuid_to_server['\" + server_id + \"'].get_sessions()[0].document.roots[0]._id)\";\n",
       "      cell.notebook.kernel.execute(cmd, {\n",
       "        iopub: {\n",
       "          output: function(msg) {\n",
       "            var element_id = msg.content.text.trim();\n",
       "            Bokeh.index[element_id].model.document.clear();\n",
       "            delete Bokeh.index[element_id];\n",
       "          }\n",
       "        }\n",
       "      });\n",
       "      // Destroy server and session\n",
       "      var cmd = \"import bokeh.io.notebook as ion; ion.destroy_server('\" + server_id + \"')\";\n",
       "      cell.notebook.kernel.execute(cmd);\n",
       "    }\n",
       "  }\n",
       "\n",
       "  /**\n",
       "   * Handle when a new output is added\n",
       "   */\n",
       "  function handleAddOutput(event, handle) {\n",
       "    var output_area = handle.output_area;\n",
       "    var output = handle.output;\n",
       "\n",
       "    // limit handleAddOutput to display_data with EXEC_MIME_TYPE content only\n",
       "    if ((output.output_type != \"display_data\") || (!output.data.hasOwnProperty(EXEC_MIME_TYPE))) {\n",
       "      return\n",
       "    }\n",
       "\n",
       "    var toinsert = output_area.element.find(\".\" + CLASS_NAME.split(' ')[0]);\n",
       "\n",
       "    if (output.metadata[EXEC_MIME_TYPE][\"id\"] !== undefined) {\n",
       "      toinsert[0].firstChild.textContent = output.data[JS_MIME_TYPE];\n",
       "      // store reference to embed id on output_area\n",
       "      output_area._bokeh_element_id = output.metadata[EXEC_MIME_TYPE][\"id\"];\n",
       "    }\n",
       "    if (output.metadata[EXEC_MIME_TYPE][\"server_id\"] !== undefined) {\n",
       "      var bk_div = document.createElement(\"div\");\n",
       "      bk_div.innerHTML = output.data[HTML_MIME_TYPE];\n",
       "      var script_attrs = bk_div.children[0].attributes;\n",
       "      for (var i = 0; i < script_attrs.length; i++) {\n",
       "        toinsert[0].firstChild.setAttribute(script_attrs[i].name, script_attrs[i].value);\n",
       "      }\n",
       "      // store reference to server id on output_area\n",
       "      output_area._bokeh_server_id = output.metadata[EXEC_MIME_TYPE][\"server_id\"];\n",
       "    }\n",
       "  }\n",
       "\n",
       "  function register_renderer(events, OutputArea) {\n",
       "\n",
       "    function append_mime(data, metadata, element) {\n",
       "      // create a DOM node to render to\n",
       "      var toinsert = this.create_output_subarea(\n",
       "        metadata,\n",
       "        CLASS_NAME,\n",
       "        EXEC_MIME_TYPE\n",
       "      );\n",
       "      this.keyboard_manager.register_events(toinsert);\n",
       "      // Render to node\n",
       "      var props = {data: data, metadata: metadata[EXEC_MIME_TYPE]};\n",
       "      render(props, toinsert[0]);\n",
       "      element.append(toinsert);\n",
       "      return toinsert\n",
       "    }\n",
       "\n",
       "    /* Handle when an output is cleared or removed */\n",
       "    events.on('clear_output.CodeCell', handleClearOutput);\n",
       "    events.on('delete.Cell', handleClearOutput);\n",
       "\n",
       "    /* Handle when a new output is added */\n",
       "    events.on('output_added.OutputArea', handleAddOutput);\n",
       "\n",
       "    /**\n",
       "     * Register the mime type and append_mime function with output_area\n",
       "     */\n",
       "    OutputArea.prototype.register_mime_type(EXEC_MIME_TYPE, append_mime, {\n",
       "      /* Is output safe? */\n",
       "      safe: true,\n",
       "      /* Index of renderer in `output_area.display_order` */\n",
       "      index: 0\n",
       "    });\n",
       "  }\n",
       "\n",
       "  // register the mime type if in Jupyter Notebook environment and previously unregistered\n",
       "  if (root.Jupyter !== undefined) {\n",
       "    var events = require('base/js/events');\n",
       "    var OutputArea = require('notebook/js/outputarea').OutputArea;\n",
       "\n",
       "    if (OutputArea.prototype.mime_types().indexOf(EXEC_MIME_TYPE) == -1) {\n",
       "      register_renderer(events, OutputArea);\n",
       "    }\n",
       "  }\n",
       "\n",
       "  \n",
       "  if (typeof (root._bokeh_timeout) === \"undefined\" || force === true) {\n",
       "    root._bokeh_timeout = Date.now() + 5000;\n",
       "    root._bokeh_failed_load = false;\n",
       "  }\n",
       "\n",
       "  var NB_LOAD_WARNING = {'data': {'text/html':\n",
       "     \"<div style='background-color: #fdd'>\\n\"+\n",
       "     \"<p>\\n\"+\n",
       "     \"BokehJS does not appear to have successfully loaded. If loading BokehJS from CDN, this \\n\"+\n",
       "     \"may be due to a slow or bad network connection. Possible fixes:\\n\"+\n",
       "     \"</p>\\n\"+\n",
       "     \"<ul>\\n\"+\n",
       "     \"<li>re-rerun `output_notebook()` to attempt to load from CDN again, or</li>\\n\"+\n",
       "     \"<li>use INLINE resources instead, as so:</li>\\n\"+\n",
       "     \"</ul>\\n\"+\n",
       "     \"<code>\\n\"+\n",
       "     \"from bokeh.resources import INLINE\\n\"+\n",
       "     \"output_notebook(resources=INLINE)\\n\"+\n",
       "     \"</code>\\n\"+\n",
       "     \"</div>\"}};\n",
       "\n",
       "  function display_loaded() {\n",
       "    var el = document.getElementById(\"31fc4875-bbcf-46e4-8b26-a7398e194200\");\n",
       "    if (el != null) {\n",
       "      el.textContent = \"BokehJS is loading...\";\n",
       "    }\n",
       "    if (root.Bokeh !== undefined) {\n",
       "      if (el != null) {\n",
       "        el.textContent = \"BokehJS \" + root.Bokeh.version + \" successfully loaded.\";\n",
       "      }\n",
       "    } else if (Date.now() < root._bokeh_timeout) {\n",
       "      setTimeout(display_loaded, 100)\n",
       "    }\n",
       "  }\n",
       "\n",
       "\n",
       "  function run_callbacks() {\n",
       "    try {\n",
       "      root._bokeh_onload_callbacks.forEach(function(callback) { callback() });\n",
       "    }\n",
       "    finally {\n",
       "      delete root._bokeh_onload_callbacks\n",
       "    }\n",
       "    console.info(\"Bokeh: all callbacks have finished\");\n",
       "  }\n",
       "\n",
       "  function load_libs(js_urls, callback) {\n",
       "    root._bokeh_onload_callbacks.push(callback);\n",
       "    if (root._bokeh_is_loading > 0) {\n",
       "      console.log(\"Bokeh: BokehJS is being loaded, scheduling callback at\", now());\n",
       "      return null;\n",
       "    }\n",
       "    if (js_urls == null || js_urls.length === 0) {\n",
       "      run_callbacks();\n",
       "      return null;\n",
       "    }\n",
       "    console.log(\"Bokeh: BokehJS not loaded, scheduling load and callback at\", now());\n",
       "    root._bokeh_is_loading = js_urls.length;\n",
       "    for (var i = 0; i < js_urls.length; i++) {\n",
       "      var url = js_urls[i];\n",
       "      var s = document.createElement('script');\n",
       "      s.src = url;\n",
       "      s.async = false;\n",
       "      s.onreadystatechange = s.onload = function() {\n",
       "        root._bokeh_is_loading--;\n",
       "        if (root._bokeh_is_loading === 0) {\n",
       "          console.log(\"Bokeh: all BokehJS libraries loaded\");\n",
       "          run_callbacks()\n",
       "        }\n",
       "      };\n",
       "      s.onerror = function() {\n",
       "        console.warn(\"failed to load library \" + url);\n",
       "      };\n",
       "      console.log(\"Bokeh: injecting script tag for BokehJS library: \", url);\n",
       "      document.getElementsByTagName(\"head\")[0].appendChild(s);\n",
       "    }\n",
       "  };var element = document.getElementById(\"31fc4875-bbcf-46e4-8b26-a7398e194200\");\n",
       "  if (element == null) {\n",
       "    console.log(\"Bokeh: ERROR: autoload.js configured with elementid '31fc4875-bbcf-46e4-8b26-a7398e194200' but no matching script tag was found. \")\n",
       "    return false;\n",
       "  }\n",
       "\n",
       "  var js_urls = [\"https://cdn.pydata.org/bokeh/release/bokeh-0.12.13.min.js\", \"https://cdn.pydata.org/bokeh/release/bokeh-widgets-0.12.13.min.js\", \"https://cdn.pydata.org/bokeh/release/bokeh-tables-0.12.13.min.js\", \"https://cdn.pydata.org/bokeh/release/bokeh-gl-0.12.13.min.js\"];\n",
       "\n",
       "  var inline_js = [\n",
       "    function(Bokeh) {\n",
       "      Bokeh.set_log_level(\"info\");\n",
       "    },\n",
       "    \n",
       "    function(Bokeh) {\n",
       "      \n",
       "    },\n",
       "    function(Bokeh) {\n",
       "      console.log(\"Bokeh: injecting CSS: https://cdn.pydata.org/bokeh/release/bokeh-0.12.13.min.css\");\n",
       "      Bokeh.embed.inject_css(\"https://cdn.pydata.org/bokeh/release/bokeh-0.12.13.min.css\");\n",
       "      console.log(\"Bokeh: injecting CSS: https://cdn.pydata.org/bokeh/release/bokeh-widgets-0.12.13.min.css\");\n",
       "      Bokeh.embed.inject_css(\"https://cdn.pydata.org/bokeh/release/bokeh-widgets-0.12.13.min.css\");\n",
       "      console.log(\"Bokeh: injecting CSS: https://cdn.pydata.org/bokeh/release/bokeh-tables-0.12.13.min.css\");\n",
       "      Bokeh.embed.inject_css(\"https://cdn.pydata.org/bokeh/release/bokeh-tables-0.12.13.min.css\");\n",
       "    }\n",
       "  ];\n",
       "\n",
       "  function run_inline_js() {\n",
       "    \n",
       "    if ((root.Bokeh !== undefined) || (force === true)) {\n",
       "      for (var i = 0; i < inline_js.length; i++) {\n",
       "        inline_js[i].call(root, root.Bokeh);\n",
       "      }if (force === true) {\n",
       "        display_loaded();\n",
       "      }} else if (Date.now() < root._bokeh_timeout) {\n",
       "      setTimeout(run_inline_js, 100);\n",
       "    } else if (!root._bokeh_failed_load) {\n",
       "      console.log(\"Bokeh: BokehJS failed to load within specified timeout.\");\n",
       "      root._bokeh_failed_load = true;\n",
       "    } else if (force !== true) {\n",
       "      var cell = $(document.getElementById(\"31fc4875-bbcf-46e4-8b26-a7398e194200\")).parents('.cell').data().cell;\n",
       "      cell.output_area.append_execute_result(NB_LOAD_WARNING)\n",
       "    }\n",
       "\n",
       "  }\n",
       "\n",
       "  if (root._bokeh_is_loading === 0) {\n",
       "    console.log(\"Bokeh: BokehJS loaded, going straight to plotting\");\n",
       "    run_inline_js();\n",
       "  } else {\n",
       "    load_libs(js_urls, function() {\n",
       "      console.log(\"Bokeh: BokehJS plotting callback run at\", now());\n",
       "      run_inline_js();\n",
       "    });\n",
       "  }\n",
       "}(window));"
      ],
      "application/vnd.bokehjs_load.v0+json": "\n(function(root) {\n  function now() {\n    return new Date();\n  }\n\n  var force = true;\n\n  if (typeof (root._bokeh_onload_callbacks) === \"undefined\" || force === true) {\n    root._bokeh_onload_callbacks = [];\n    root._bokeh_is_loading = undefined;\n  }\n\n  \n\n  \n  if (typeof (root._bokeh_timeout) === \"undefined\" || force === true) {\n    root._bokeh_timeout = Date.now() + 5000;\n    root._bokeh_failed_load = false;\n  }\n\n  var NB_LOAD_WARNING = {'data': {'text/html':\n     \"<div style='background-color: #fdd'>\\n\"+\n     \"<p>\\n\"+\n     \"BokehJS does not appear to have successfully loaded. If loading BokehJS from CDN, this \\n\"+\n     \"may be due to a slow or bad network connection. Possible fixes:\\n\"+\n     \"</p>\\n\"+\n     \"<ul>\\n\"+\n     \"<li>re-rerun `output_notebook()` to attempt to load from CDN again, or</li>\\n\"+\n     \"<li>use INLINE resources instead, as so:</li>\\n\"+\n     \"</ul>\\n\"+\n     \"<code>\\n\"+\n     \"from bokeh.resources import INLINE\\n\"+\n     \"output_notebook(resources=INLINE)\\n\"+\n     \"</code>\\n\"+\n     \"</div>\"}};\n\n  function display_loaded() {\n    var el = document.getElementById(\"31fc4875-bbcf-46e4-8b26-a7398e194200\");\n    if (el != null) {\n      el.textContent = \"BokehJS is loading...\";\n    }\n    if (root.Bokeh !== undefined) {\n      if (el != null) {\n        el.textContent = \"BokehJS \" + root.Bokeh.version + \" successfully loaded.\";\n      }\n    } else if (Date.now() < root._bokeh_timeout) {\n      setTimeout(display_loaded, 100)\n    }\n  }\n\n\n  function run_callbacks() {\n    try {\n      root._bokeh_onload_callbacks.forEach(function(callback) { callback() });\n    }\n    finally {\n      delete root._bokeh_onload_callbacks\n    }\n    console.info(\"Bokeh: all callbacks have finished\");\n  }\n\n  function load_libs(js_urls, callback) {\n    root._bokeh_onload_callbacks.push(callback);\n    if (root._bokeh_is_loading > 0) {\n      console.log(\"Bokeh: BokehJS is being loaded, scheduling callback at\", now());\n      return null;\n    }\n    if (js_urls == null || js_urls.length === 0) {\n      run_callbacks();\n      return null;\n    }\n    console.log(\"Bokeh: BokehJS not loaded, scheduling load and callback at\", now());\n    root._bokeh_is_loading = js_urls.length;\n    for (var i = 0; i < js_urls.length; i++) {\n      var url = js_urls[i];\n      var s = document.createElement('script');\n      s.src = url;\n      s.async = false;\n      s.onreadystatechange = s.onload = function() {\n        root._bokeh_is_loading--;\n        if (root._bokeh_is_loading === 0) {\n          console.log(\"Bokeh: all BokehJS libraries loaded\");\n          run_callbacks()\n        }\n      };\n      s.onerror = function() {\n        console.warn(\"failed to load library \" + url);\n      };\n      console.log(\"Bokeh: injecting script tag for BokehJS library: \", url);\n      document.getElementsByTagName(\"head\")[0].appendChild(s);\n    }\n  };var element = document.getElementById(\"31fc4875-bbcf-46e4-8b26-a7398e194200\");\n  if (element == null) {\n    console.log(\"Bokeh: ERROR: autoload.js configured with elementid '31fc4875-bbcf-46e4-8b26-a7398e194200' but no matching script tag was found. \")\n    return false;\n  }\n\n  var js_urls = [\"https://cdn.pydata.org/bokeh/release/bokeh-0.12.13.min.js\", \"https://cdn.pydata.org/bokeh/release/bokeh-widgets-0.12.13.min.js\", \"https://cdn.pydata.org/bokeh/release/bokeh-tables-0.12.13.min.js\", \"https://cdn.pydata.org/bokeh/release/bokeh-gl-0.12.13.min.js\"];\n\n  var inline_js = [\n    function(Bokeh) {\n      Bokeh.set_log_level(\"info\");\n    },\n    \n    function(Bokeh) {\n      \n    },\n    function(Bokeh) {\n      console.log(\"Bokeh: injecting CSS: https://cdn.pydata.org/bokeh/release/bokeh-0.12.13.min.css\");\n      Bokeh.embed.inject_css(\"https://cdn.pydata.org/bokeh/release/bokeh-0.12.13.min.css\");\n      console.log(\"Bokeh: injecting CSS: https://cdn.pydata.org/bokeh/release/bokeh-widgets-0.12.13.min.css\");\n      Bokeh.embed.inject_css(\"https://cdn.pydata.org/bokeh/release/bokeh-widgets-0.12.13.min.css\");\n      console.log(\"Bokeh: injecting CSS: https://cdn.pydata.org/bokeh/release/bokeh-tables-0.12.13.min.css\");\n      Bokeh.embed.inject_css(\"https://cdn.pydata.org/bokeh/release/bokeh-tables-0.12.13.min.css\");\n    }\n  ];\n\n  function run_inline_js() {\n    \n    if ((root.Bokeh !== undefined) || (force === true)) {\n      for (var i = 0; i < inline_js.length; i++) {\n        inline_js[i].call(root, root.Bokeh);\n      }if (force === true) {\n        display_loaded();\n      }} else if (Date.now() < root._bokeh_timeout) {\n      setTimeout(run_inline_js, 100);\n    } else if (!root._bokeh_failed_load) {\n      console.log(\"Bokeh: BokehJS failed to load within specified timeout.\");\n      root._bokeh_failed_load = true;\n    } else if (force !== true) {\n      var cell = $(document.getElementById(\"31fc4875-bbcf-46e4-8b26-a7398e194200\")).parents('.cell').data().cell;\n      cell.output_area.append_execute_result(NB_LOAD_WARNING)\n    }\n\n  }\n\n  if (root._bokeh_is_loading === 0) {\n    console.log(\"Bokeh: BokehJS loaded, going straight to plotting\");\n    run_inline_js();\n  } else {\n    load_libs(js_urls, function() {\n      console.log(\"Bokeh: BokehJS plotting callback run at\", now());\n      run_inline_js();\n    });\n  }\n}(window));"
     },
     "metadata": {},
     "output_type": "display_data"
    }
   ],
   "source": [
    "import sys\n",
    "import pandas as pd\n",
    "import numpy as np\n",
    "import pystan\n",
    "import bokeh.io\n",
    "import bokeh.plotting\n",
    "sys.path.insert(0, '../../')\n",
    "import mut.thermo\n",
    "import mut.stats\n",
    "import mut.bayes\n",
    "bokeh.io.output_notebook()"
   ]
  },
  {
   "cell_type": "markdown",
   "metadata": {},
   "source": [
    "In this notebook, we investigate a method to determine if particular mutants in the inducer binding domain can alter the allosteric energy difference $\\Delta\\varepsilon_{AI}$.  "
   ]
  },
  {
   "cell_type": "code",
   "execution_count": 9,
   "metadata": {},
   "outputs": [],
   "source": [
    "# Load the data\n",
    "data = pd.read_csv('../../data/csv/compiled_data.csv')\n",
    "\n",
    "# Restrict the data.\n",
    "data = data[(data['mutant'] == 'Y20I') | (data['mutant']=='Q294K') | (data['mutant']=='Y20I-Q294K')]"
   ]
  },
  {
   "cell_type": "code",
   "execution_count": null,
   "metadata": {},
   "outputs": [],
   "source": [
    "# Define the three models. \n",
    "model = pystan.StanModel('../stan/DNA_binding_energy.stan')"
   ]
  },
  {
   "cell_type": "code",
   "execution_count": 21,
   "metadata": {},
   "outputs": [
    {
     "name": "stderr",
     "output_type": "stream",
     "text": [
      "/anaconda3/lib/python3.6/site-packages/pystan/misc.py:399: FutureWarning: Conversion of the second argument of issubdtype from `float` to `np.floating` is deprecated. In future, it will be treated as `np.float64 == np.dtype(float).type`.\n",
      "  elif np.issubdtype(np.asarray(v).dtype, float):\n"
     ]
    },
    {
     "data": {
      "text/html": [
       "<div>\n",
       "<style scoped>\n",
       "    .dataframe tbody tr th:only-of-type {\n",
       "        vertical-align: middle;\n",
       "    }\n",
       "\n",
       "    .dataframe tbody tr th {\n",
       "        vertical-align: top;\n",
       "    }\n",
       "\n",
       "    .dataframe thead th {\n",
       "        text-align: right;\n",
       "    }\n",
       "</style>\n",
       "<table border=\"1\" class=\"dataframe\">\n",
       "  <thead>\n",
       "    <tr style=\"text-align: right;\">\n",
       "      <th></th>\n",
       "      <th>parameter</th>\n",
       "      <th>mode</th>\n",
       "      <th>hpd_min</th>\n",
       "      <th>hpd_max</th>\n",
       "    </tr>\n",
       "  </thead>\n",
       "  <tbody>\n",
       "    <tr>\n",
       "      <th>0</th>\n",
       "      <td>epR</td>\n",
       "      <td>-9.834516</td>\n",
       "      <td>-9.979688</td>\n",
       "      <td>-9.673158</td>\n",
       "    </tr>\n",
       "    <tr>\n",
       "      <th>1</th>\n",
       "      <td>sigma</td>\n",
       "      <td>0.185278</td>\n",
       "      <td>0.138482</td>\n",
       "      <td>0.259845</td>\n",
       "    </tr>\n",
       "  </tbody>\n",
       "</table>\n",
       "</div>"
      ],
      "text/plain": [
       "  parameter      mode   hpd_min   hpd_max\n",
       "0       epR -9.834516 -9.979688 -9.673158\n",
       "1     sigma  0.185278  0.138482  0.259845"
      ]
     },
     "execution_count": 21,
     "metadata": {},
     "output_type": "execute_result"
    }
   ],
   "source": [
    "# Assemble the data dictionary\n",
    "epR_data = data[(data['mutant']=='Y20I') & (data['IPTGuM']==0)]\n",
    "data_dict = {'N':len(epR_data), 'R':epR_data['repressors'], 'Nns':4.6E6, 'c':epR_data['IPTGuM'],\n",
    "            'ka':139E-6, 'ki':0.53E-6, 'ep_ai':4.5, 'n_sites':2, 'fc':epR_data['fold_change']}\n",
    "samples = model.sampling(data_dict, iter=5000, chains=4)\n",
    "\n",
    "# Compute the statistics and dataframe. \n",
    "epR_df = mut.bayes.chains_to_dataframe(samples, varnames=['epR'])\n",
    "epR_stats = mut.stats.compute_statistics(epR_df)\n",
    "epR_stats"
   ]
  },
  {
   "cell_type": "code",
   "execution_count": 33,
   "metadata": {},
   "outputs": [
    {
     "data": {
      "text/html": [
       "\n",
       "<div class=\"bk-root\">\n",
       "    <div class=\"bk-plotdiv\" id=\"4e57b758-1871-431b-9c31-77e831f048f9\"></div>\n",
       "</div>"
      ]
     },
     "metadata": {},
     "output_type": "display_data"
    },
    {
     "data": {
      "application/javascript": [
       "(function(root) {\n",
       "  function embed_document(root) {\n",
       "    \n",
       "  var docs_json = {\"74d08cec-09d2-49d0-8555-11cb1ec18f26\":{\"roots\":{\"references\":[{\"attributes\":{\"source\":{\"id\":\"495d40e5-d7b0-4704-b2e6-2d9520ac875f\",\"type\":\"ColumnDataSource\"}},\"id\":\"81df0fde-d81b-4706-bced-9283baa03640\",\"type\":\"CDSView\"},{\"attributes\":{\"below\":[{\"id\":\"cf50e45f-075a-46a4-bdef-a0ecd371359d\",\"type\":\"LogAxis\"}],\"left\":[{\"id\":\"8a75e6c7-cb05-4898-b0ad-5e649c5adeb2\",\"type\":\"LogAxis\"}],\"plot_height\":400,\"renderers\":[{\"id\":\"cf50e45f-075a-46a4-bdef-a0ecd371359d\",\"type\":\"LogAxis\"},{\"id\":\"523a6609-67f8-464c-be28-23cbf46446cd\",\"type\":\"Grid\"},{\"id\":\"8a75e6c7-cb05-4898-b0ad-5e649c5adeb2\",\"type\":\"LogAxis\"},{\"id\":\"c1cc84c6-458c-4797-ad14-7e9ec6099ad9\",\"type\":\"Grid\"},{\"id\":\"787eabaa-a375-4a06-9211-b1b33a0e5ef8\",\"type\":\"BoxAnnotation\"},{\"id\":\"a2658723-93b7-4f7e-a31d-5200418917eb\",\"type\":\"GlyphRenderer\"},{\"id\":\"a7505971-353e-43f9-bc23-b2ca359fab76\",\"type\":\"GlyphRenderer\"},{\"id\":\"ccf9c925-0f61-4107-b001-5841f00789d9\",\"type\":\"GlyphRenderer\"}],\"title\":{\"id\":\"d9e4e026-ccfd-43eb-a5b7-1931f31eef23\",\"type\":\"Title\"},\"toolbar\":{\"id\":\"2d8641d3-3390-4177-b3a2-563ebe04d9d8\",\"type\":\"Toolbar\"},\"x_range\":{\"id\":\"8f83f3a0-0479-4aca-9353-8eb7c108b22d\",\"type\":\"DataRange1d\"},\"x_scale\":{\"id\":\"e625209d-83e1-4683-bc36-56fe9d4262e2\",\"type\":\"LogScale\"},\"y_range\":{\"id\":\"91beecb4-1e22-46e6-86d8-7128c820b547\",\"type\":\"DataRange1d\"},\"y_scale\":{\"id\":\"a67b3ea0-9ecf-45b8-9d28-5a2ce3f58dcf\",\"type\":\"LogScale\"}},\"id\":\"e91be677-eedb-494f-b0ff-c4a755b40f70\",\"subtype\":\"Figure\",\"type\":\"Plot\"},{\"attributes\":{},\"id\":\"dc79686a-8b11-421b-a1b7-fa9453a53293\",\"type\":\"WheelZoomTool\"},{\"attributes\":{\"overlay\":{\"id\":\"787eabaa-a375-4a06-9211-b1b33a0e5ef8\",\"type\":\"BoxAnnotation\"}},\"id\":\"0c513203-2a10-4b03-9075-8f8249f560d9\",\"type\":\"BoxZoomTool\"},{\"attributes\":{\"plot\":null,\"text\":\"\"},\"id\":\"d9e4e026-ccfd-43eb-a5b7-1931f31eef23\",\"type\":\"Title\"},{\"attributes\":{},\"id\":\"505e0366-9889-4914-b1c3-d95e4f4dc28d\",\"type\":\"SaveTool\"},{\"attributes\":{},\"id\":\"8d83dd31-498e-4227-b0b9-89a1d745bdf2\",\"type\":\"ResetTool\"},{\"attributes\":{\"source\":{\"id\":\"01e51283-fcc0-4f62-85fe-5e847148e948\",\"type\":\"ColumnDataSource\"}},\"id\":\"fd12cbc6-ed62-462f-9a7c-a0a429e135e6\",\"type\":\"CDSView\"},{\"attributes\":{},\"id\":\"361dd558-04de-4c16-8725-2b1d7e9b8375\",\"type\":\"HelpTool\"},{\"attributes\":{\"callback\":null,\"column_names\":[\"x\",\"y\"],\"data\":{\"x\":{\"__ndarray__\":\"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\",\"dtype\":\"float64\",\"shape\":[500]},\"y\":{\"__ndarray__\":\"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\",\"dtype\":\"float64\",\"shape\":[500]}}},\"id\":\"2c3c6c4d-e4bf-4522-81ae-e6aed05bed7d\",\"type\":\"ColumnDataSource\"},{\"attributes\":{\"data_source\":{\"id\":\"495d40e5-d7b0-4704-b2e6-2d9520ac875f\",\"type\":\"ColumnDataSource\"},\"glyph\":{\"id\":\"0a14577d-958d-4c30-a3ae-7b0d7dfa6999\",\"type\":\"Circle\"},\"hover_glyph\":null,\"muted_glyph\":null,\"nonselection_glyph\":{\"id\":\"040a513e-2836-495e-ba09-74df79f7b904\",\"type\":\"Circle\"},\"selection_glyph\":null,\"view\":{\"id\":\"81df0fde-d81b-4706-bced-9283baa03640\",\"type\":\"CDSView\"}},\"id\":\"a2658723-93b7-4f7e-a31d-5200418917eb\",\"type\":\"GlyphRenderer\"},{\"attributes\":{\"plot\":{\"id\":\"e91be677-eedb-494f-b0ff-c4a755b40f70\",\"subtype\":\"Figure\",\"type\":\"Plot\"},\"ticker\":{\"id\":\"9b688169-0f05-4e70-a023-91ce6771939a\",\"type\":\"LogTicker\"}},\"id\":\"523a6609-67f8-464c-be28-23cbf46446cd\",\"type\":\"Grid\"},{\"attributes\":{\"line_alpha\":{\"value\":0.1},\"line_color\":{\"value\":\"#1f77b4\"},\"line_width\":{\"value\":2},\"xs\":{\"field\":\"xs\"},\"ys\":{\"field\":\"ys\"}},\"id\":\"9d83176c-a895-415a-9422-032239a43c19\",\"type\":\"MultiLine\"},{\"attributes\":{\"callback\":null},\"id\":\"8f83f3a0-0479-4aca-9353-8eb7c108b22d\",\"type\":\"DataRange1d\"},{\"attributes\":{\"data_source\":{\"id\":\"01e51283-fcc0-4f62-85fe-5e847148e948\",\"type\":\"ColumnDataSource\"},\"glyph\":{\"id\":\"69752baf-8234-4e9c-a22c-985eee8c0c8a\",\"type\":\"MultiLine\"},\"hover_glyph\":null,\"muted_glyph\":null,\"nonselection_glyph\":{\"id\":\"9d83176c-a895-415a-9422-032239a43c19\",\"type\":\"MultiLine\"},\"selection_glyph\":null,\"view\":{\"id\":\"fd12cbc6-ed62-462f-9a7c-a0a429e135e6\",\"type\":\"CDSView\"}},\"id\":\"a7505971-353e-43f9-bc23-b2ca359fab76\",\"type\":\"GlyphRenderer\"},{\"attributes\":{\"line_color\":{\"value\":\"dodgerblue\"},\"line_width\":{\"value\":2},\"xs\":{\"field\":\"xs\"},\"ys\":{\"field\":\"ys\"}},\"id\":\"69752baf-8234-4e9c-a22c-985eee8c0c8a\",\"type\":\"MultiLine\"},{\"attributes\":{\"axis_label\":\"repressors per cell\",\"formatter\":{\"id\":\"f8260ba4-23e2-4a06-82a2-6d51816cf321\",\"type\":\"LogTickFormatter\"},\"plot\":{\"id\":\"e91be677-eedb-494f-b0ff-c4a755b40f70\",\"subtype\":\"Figure\",\"type\":\"Plot\"},\"ticker\":{\"id\":\"9b688169-0f05-4e70-a023-91ce6771939a\",\"type\":\"LogTicker\"}},\"id\":\"cf50e45f-075a-46a4-bdef-a0ecd371359d\",\"type\":\"LogAxis\"},{\"attributes\":{\"line_alpha\":0.1,\"line_color\":\"#1f77b4\",\"line_width\":2,\"x\":{\"field\":\"x\"},\"y\":{\"field\":\"y\"}},\"id\":\"ca81f76d-4183-42e2-9295-8ee419226c2b\",\"type\":\"Line\"},{\"attributes\":{\"line_color\":\"dodgerblue\",\"line_width\":2,\"x\":{\"field\":\"x\"},\"y\":{\"field\":\"y\"}},\"id\":\"3685dd58-b9ef-4032-a10f-9a24e3398961\",\"type\":\"Line\"},{\"attributes\":{\"data_source\":{\"id\":\"2c3c6c4d-e4bf-4522-81ae-e6aed05bed7d\",\"type\":\"ColumnDataSource\"},\"glyph\":{\"id\":\"3685dd58-b9ef-4032-a10f-9a24e3398961\",\"type\":\"Line\"},\"hover_glyph\":null,\"muted_glyph\":null,\"nonselection_glyph\":{\"id\":\"ca81f76d-4183-42e2-9295-8ee419226c2b\",\"type\":\"Line\"},\"selection_glyph\":null,\"view\":{\"id\":\"a4e53fe5-eada-4bb8-a602-1c461054ce5c\",\"type\":\"CDSView\"}},\"id\":\"ccf9c925-0f61-4107-b001-5841f00789d9\",\"type\":\"GlyphRenderer\"},{\"attributes\":{},\"id\":\"e625209d-83e1-4683-bc36-56fe9d4262e2\",\"type\":\"LogScale\"},{\"attributes\":{\"source\":{\"id\":\"2c3c6c4d-e4bf-4522-81ae-e6aed05bed7d\",\"type\":\"ColumnDataSource\"}},\"id\":\"a4e53fe5-eada-4bb8-a602-1c461054ce5c\",\"type\":\"CDSView\"},{\"attributes\":{\"ticker\":null},\"id\":\"f8260ba4-23e2-4a06-82a2-6d51816cf321\",\"type\":\"LogTickFormatter\"},{\"attributes\":{\"ticker\":null},\"id\":\"686d1030-a894-462b-97b7-3c8e989735e2\",\"type\":\"LogTickFormatter\"},{\"attributes\":{\"active_drag\":\"auto\",\"active_inspect\":\"auto\",\"active_scroll\":\"auto\",\"active_tap\":\"auto\",\"tools\":[{\"id\":\"9c8d481e-fdd2-447e-adc2-8f6a0d10472e\",\"type\":\"PanTool\"},{\"id\":\"dc79686a-8b11-421b-a1b7-fa9453a53293\",\"type\":\"WheelZoomTool\"},{\"id\":\"0c513203-2a10-4b03-9075-8f8249f560d9\",\"type\":\"BoxZoomTool\"},{\"id\":\"505e0366-9889-4914-b1c3-d95e4f4dc28d\",\"type\":\"SaveTool\"},{\"id\":\"8d83dd31-498e-4227-b0b9-89a1d745bdf2\",\"type\":\"ResetTool\"},{\"id\":\"361dd558-04de-4c16-8725-2b1d7e9b8375\",\"type\":\"HelpTool\"}]},\"id\":\"2d8641d3-3390-4177-b3a2-563ebe04d9d8\",\"type\":\"Toolbar\"},{\"attributes\":{\"num_minor_ticks\":10},\"id\":\"9b688169-0f05-4e70-a023-91ce6771939a\",\"type\":\"LogTicker\"},{\"attributes\":{\"callback\":null},\"id\":\"91beecb4-1e22-46e6-86d8-7128c820b547\",\"type\":\"DataRange1d\"},{\"attributes\":{\"callback\":null,\"column_names\":[\"xs\",\"ys\"],\"data\":{\"xs\":[[60.0,60.0],[124.0,124.0],[260.0,260.0],[1220.0,1220.0]],\"ys\":[[0.7706948670346274,0.805298136372927],[0.7177673685025648,0.8116799588243272],[0.4456474187204983,0.5705888689329145],[0.15344749182717576,0.17223683701710196]]}},\"id\":\"01e51283-fcc0-4f62-85fe-5e847148e948\",\"type\":\"ColumnDataSource\"},{\"attributes\":{\"fill_alpha\":{\"value\":0.1},\"fill_color\":{\"value\":\"#1f77b4\"},\"line_alpha\":{\"value\":0.1},\"line_color\":{\"value\":\"#1f77b4\"},\"size\":{\"units\":\"screen\",\"value\":6},\"x\":{\"field\":\"x\"},\"y\":{\"field\":\"y\"}},\"id\":\"040a513e-2836-495e-ba09-74df79f7b904\",\"type\":\"Circle\"},{\"attributes\":{\"num_minor_ticks\":10},\"id\":\"6ef3cf13-b553-41b3-80ce-1cc9f4b419e7\",\"type\":\"LogTicker\"},{\"attributes\":{\"axis_label\":\"fold-change\",\"formatter\":{\"id\":\"686d1030-a894-462b-97b7-3c8e989735e2\",\"type\":\"LogTickFormatter\"},\"plot\":{\"id\":\"e91be677-eedb-494f-b0ff-c4a755b40f70\",\"subtype\":\"Figure\",\"type\":\"Plot\"},\"ticker\":{\"id\":\"6ef3cf13-b553-41b3-80ce-1cc9f4b419e7\",\"type\":\"LogTicker\"}},\"id\":\"8a75e6c7-cb05-4898-b0ad-5e649c5adeb2\",\"type\":\"LogAxis\"},{\"attributes\":{},\"id\":\"a67b3ea0-9ecf-45b8-9d28-5a2ce3f58dcf\",\"type\":\"LogScale\"},{\"attributes\":{\"dimension\":1,\"plot\":{\"id\":\"e91be677-eedb-494f-b0ff-c4a755b40f70\",\"subtype\":\"Figure\",\"type\":\"Plot\"},\"ticker\":{\"id\":\"6ef3cf13-b553-41b3-80ce-1cc9f4b419e7\",\"type\":\"LogTicker\"}},\"id\":\"c1cc84c6-458c-4797-ad14-7e9ec6099ad9\",\"type\":\"Grid\"},{\"attributes\":{\"fill_color\":{\"value\":\"dodgerblue\"},\"line_color\":{\"value\":\"dodgerblue\"},\"size\":{\"units\":\"screen\",\"value\":6},\"x\":{\"field\":\"x\"},\"y\":{\"field\":\"y\"}},\"id\":\"0a14577d-958d-4c30-a3ae-7b0d7dfa6999\",\"type\":\"Circle\"},{\"attributes\":{\"bottom_units\":\"screen\",\"fill_alpha\":{\"value\":0.5},\"fill_color\":{\"value\":\"lightgrey\"},\"left_units\":\"screen\",\"level\":\"overlay\",\"line_alpha\":{\"value\":1.0},\"line_color\":{\"value\":\"black\"},\"line_dash\":[4,4],\"line_width\":{\"value\":2},\"plot\":null,\"render_mode\":\"css\",\"right_units\":\"screen\",\"top_units\":\"screen\"},\"id\":\"787eabaa-a375-4a06-9211-b1b33a0e5ef8\",\"type\":\"BoxAnnotation\"},{\"attributes\":{\"callback\":null,\"column_names\":[\"x\",\"y\"],\"data\":{\"x\":{\"__ndarray__\":\"AAAAAAAATkAAAAAAAABfQAAAAAAAQHBAAAAAAAAQk0A=\",\"dtype\":\"float64\",\"shape\":[4]},\"y\":{\"__ndarray__\":\"o8OFcEQ36T+ALb3CnXjoP36tR/uAQuA/LS1NFQPYxD8=\",\"dtype\":\"float64\",\"shape\":[4]}}},\"id\":\"495d40e5-d7b0-4704-b2e6-2d9520ac875f\",\"type\":\"ColumnDataSource\"},{\"attributes\":{},\"id\":\"9c8d481e-fdd2-447e-adc2-8f6a0d10472e\",\"type\":\"PanTool\"}],\"root_ids\":[\"e91be677-eedb-494f-b0ff-c4a755b40f70\"]},\"title\":\"Bokeh Application\",\"version\":\"0.12.13\"}};\n",
       "  var render_items = [{\"docid\":\"74d08cec-09d2-49d0-8555-11cb1ec18f26\",\"elementid\":\"4e57b758-1871-431b-9c31-77e831f048f9\",\"modelid\":\"e91be677-eedb-494f-b0ff-c4a755b40f70\"}];\n",
       "  root.Bokeh.embed.embed_items_notebook(docs_json, render_items);\n",
       "\n",
       "  }\n",
       "  if (root.Bokeh !== undefined) {\n",
       "    embed_document(root);\n",
       "  } else {\n",
       "    var attempts = 0;\n",
       "    var timer = setInterval(function(root) {\n",
       "      if (root.Bokeh !== undefined) {\n",
       "        embed_document(root);\n",
       "        clearInterval(timer);\n",
       "      }\n",
       "      attempts++;\n",
       "      if (attempts > 100) {\n",
       "        console.log(\"Bokeh: ERROR: Unable to run BokehJS code because BokehJS library is missing\")\n",
       "        clearInterval(timer);\n",
       "      }\n",
       "    }, 10, root)\n",
       "  }\n",
       "})(window);"
      ],
      "application/vnd.bokehjs_exec.v0+json": ""
     },
     "metadata": {
      "application/vnd.bokehjs_exec.v0+json": {
       "id": "e91be677-eedb-494f-b0ff-c4a755b40f70"
      }
     },
     "output_type": "display_data"
    }
   ],
   "source": [
    "# Compute the theoretical curve\n",
    "rep_range = np.logspace(0, 4, 500)\n",
    "theo = mut.thermo.SimpleRepression(R=rep_range, ep_r=epR_stats[epR_stats['parameter']=='epR']['mode'].values[0]).fold_change()\n",
    "\n",
    "# Compute the means and sem for the data. \n",
    "grouped = pd.DataFrame(epR_data.groupby('repressors').apply(mut.stats.compute_mean_sem)).reset_index()\n",
    "# Plot the fit.\n",
    "p = bokeh.plotting.figure(plot_width=600, plot_height=400, x_axis_type='log',\n",
    "                         y_axis_type='log', x_axis_label='repressors per cell',\n",
    "                         y_axis_label='fold-change')\n",
    "p.circle(grouped['repressors'], grouped['mean'], color='dodgerblue', size=6)\n",
    "yerrs = []\n",
    "xpos = []\n",
    "for i in range(len(grouped)):\n",
    "    x = grouped.iloc[i]['repressors']\n",
    "    mean = grouped.iloc[i]['mean']\n",
    "    sem = grouped.iloc[i]['sem']\n",
    "    xpos.append((x,x))\n",
    "    yerrs.append((mean - sem, mean + sem))\n",
    "    \n",
    "p.multi_line(xpos, yerrs, color='dodgerblue', line_width=2) \n",
    "p.line(rep_range, theo, color='dodgerblue', line_width=2)\n",
    "bokeh.io.show(p)"
   ]
  },
  {
   "cell_type": "markdown",
   "metadata": {},
   "source": [
    "## Fitting $\\Delta\\varepsilon_{AI}$ "
   ]
  },
  {
   "cell_type": "markdown",
   "metadata": {},
   "source": [
    "Using only the $c = 0$ data, fit the allosteric energy to the inducer mutant Q294K\n"
   ]
  },
  {
   "cell_type": "code",
   "execution_count": 52,
   "metadata": {},
   "outputs": [
    {
     "name": "stderr",
     "output_type": "stream",
     "text": [
      "INFO:pystan:COMPILING THE C++ CODE FOR MODEL anon_model_77654e917c209fa9a235a319946cc0e9 NOW.\n"
     ]
    },
    {
     "name": "stdout",
     "output_type": "stream",
     "text": [
      "In file included from /var/folders/2q/lvh2zsws3lxckq8xtkn_84z80000gn/T/tmpin3yaf7k/stanfit4anon_model_77654e917c209fa9a235a319946cc0e9_8362434532802113004.cpp:599:\n",
      "In file included from /anaconda3/lib/python3.6/site-packages/numpy/core/include/numpy/arrayobject.h:4:\n",
      "In file included from /anaconda3/lib/python3.6/site-packages/numpy/core/include/numpy/ndarrayobject.h:18:\n",
      "In file included from /anaconda3/lib/python3.6/site-packages/numpy/core/include/numpy/ndarraytypes.h:1816:\n",
      "/anaconda3/lib/python3.6/site-packages/numpy/core/include/numpy/npy_1_7_deprecated_api.h:15:2: warning: \"Using deprecated NumPy API, disable it by \"          \"#defining NPY_NO_DEPRECATED_API NPY_1_7_API_VERSION\" [-W#warnings]\n",
      "#warning \"Using deprecated NumPy API, disable it by \" \\\n",
      " ^\n",
      "/var/folders/2q/lvh2zsws3lxckq8xtkn_84z80000gn/T/tmpin3yaf7k/stanfit4anon_model_77654e917c209fa9a235a319946cc0e9_8362434532802113004.cpp:9155:30: warning: comparison of integers of different signs: 'Py_ssize_t' (aka 'long') and 'std::__1::vector<std::__1::basic_string<char>, std::__1::allocator<std::__1::basic_string<char> > >::size_type' (aka 'unsigned long') [-Wsign-compare]\n",
      "    __pyx_t_12 = ((__pyx_t_9 != __pyx_v_fitptr->param_names_oi().size()) != 0);\n",
      "                   ~~~~~~~~~ ^  ~~~~~~~~~~~~~~~~~~~~~~~~~~~~~~~~~~~~~~~\n",
      "In file included from /var/folders/2q/lvh2zsws3lxckq8xtkn_84z80000gn/T/tmpin3yaf7k/stanfit4anon_model_77654e917c209fa9a235a319946cc0e9_8362434532802113004.cpp:603:\n",
      "In file included from /anaconda3/lib/python3.6/site-packages/pystan/stan_fit.hpp:22:\n",
      "In file included from /anaconda3/lib/python3.6/site-packages/pystan/stan/src/stan/services/diagnose/diagnose.hpp:10:\n",
      "In file included from /anaconda3/lib/python3.6/site-packages/pystan/stan/src/stan/model/test_gradients.hpp:7:\n",
      "In file included from /anaconda3/lib/python3.6/site-packages/pystan/stan/src/stan/model/log_prob_grad.hpp:4:\n",
      "In file included from /anaconda3/lib/python3.6/site-packages/pystan/stan/lib/stan_math/stan/math/rev/mat.hpp:12:\n",
      "In file included from /anaconda3/lib/python3.6/site-packages/pystan/stan/lib/stan_math/stan/math/prim/mat.hpp:298:\n",
      "In file included from /anaconda3/lib/python3.6/site-packages/pystan/stan/lib/stan_math/stan/math/prim/arr.hpp:38:\n",
      "In file included from /anaconda3/lib/python3.6/site-packages/pystan/stan/lib/stan_math/stan/math/prim/arr/functor/integrate_ode_rk45.hpp:17:\n",
      "In file included from /anaconda3/lib/python3.6/site-packages/pystan/stan/lib/stan_math/lib/boost_1.64.0/boost/numeric/odeint.hpp:61:\n",
      "In file included from /anaconda3/lib/python3.6/site-packages/pystan/stan/lib/stan_math/lib/boost_1.64.0/boost/numeric/odeint/util/multi_array_adaption.hpp:29:\n",
      "In file included from /anaconda3/lib/python3.6/site-packages/pystan/stan/lib/stan_math/lib/boost_1.64.0/boost/multi_array.hpp:21:\n",
      "In file included from /anaconda3/lib/python3.6/site-packages/pystan/stan/lib/stan_math/lib/boost_1.64.0/boost/multi_array/base.hpp:28:\n",
      "/anaconda3/lib/python3.6/site-packages/pystan/stan/lib/stan_math/lib/boost_1.64.0/boost/multi_array/concept_checks.hpp:42:43: warning: unused typedef 'index_range' [-Wunused-local-typedef]\n",
      "      typedef typename Array::index_range index_range;\n",
      "                                          ^\n",
      "/anaconda3/lib/python3.6/site-packages/pystan/stan/lib/stan_math/lib/boost_1.64.0/boost/multi_array/concept_checks.hpp:43:37: warning: unused typedef 'index' [-Wunused-local-typedef]\n",
      "      typedef typename Array::index index;\n",
      "                                    ^\n",
      "/anaconda3/lib/python3.6/site-packages/pystan/stan/lib/stan_math/lib/boost_1.64.0/boost/multi_array/concept_checks.hpp:53:43: warning: unused typedef 'index_range' [-Wunused-local-typedef]\n",
      "      typedef typename Array::index_range index_range;\n",
      "                                          ^\n",
      "/anaconda3/lib/python3.6/site-packages/pystan/stan/lib/stan_math/lib/boost_1.64.0/boost/multi_array/concept_checks.hpp:54:37: warning: unused typedef 'index' [-Wunused-local-typedef]\n",
      "      typedef typename Array::index index;\n",
      "                                    ^\n",
      "6 warnings generated.\n"
     ]
    }
   ],
   "source": [
    "# Load the energy fitting model\n",
    "allo_model = pystan.StanModel('../stan/allosteric_energy.stan')"
   ]
  },
  {
   "cell_type": "code",
   "execution_count": 53,
   "metadata": {},
   "outputs": [
    {
     "name": "stderr",
     "output_type": "stream",
     "text": [
      "/anaconda3/lib/python3.6/site-packages/pystan/misc.py:399: FutureWarning: Conversion of the second argument of issubdtype from `float` to `np.floating` is deprecated. In future, it will be treated as `np.float64 == np.dtype(float).type`.\n",
      "  elif np.issubdtype(np.asarray(v).dtype, float):\n"
     ]
    }
   ],
   "source": [
    "# Restrict the data to the epsilon_AI\n",
    "epAI_data = data[(data['mutant']=='Q294K') & (data['IPTGuM']==0)]\n",
    "\n",
    "# Define the data dictionary and sample. \n",
    "data_dict = {'N':len(epAI_data), 'R':epAI_data['repressors'], 'epR':-13.9,\n",
    "            'Nns':4.6E6, 'fc':epAI_data['fold_change']}\n",
    "\n",
    "# Sample\n",
    "allo_samples = allo_model.sampling(data_dict, iter=10000, chains=4)\n",
    "allo_df = mut.bayes.chains_to_dataframe(allo_samples, varnames=['ep_ai'])\n",
    "allo_stats = mut.stats.compute_statistics(allo_df)"
   ]
  },
  {
   "cell_type": "code",
   "execution_count": 54,
   "metadata": {},
   "outputs": [
    {
     "data": {
      "text/plain": [
       "Inference for Stan model: anon_model_77654e917c209fa9a235a319946cc0e9.\n",
       "4 chains, each with iter=10000; warmup=5000; thin=1; \n",
       "post-warmup draws per chain=5000, total post-warmup draws=20000.\n",
       "\n",
       "            mean se_mean     sd   2.5%    25%    50%    75%  97.5%  n_eff   Rhat\n",
       "ep_ai      -2.49  1.4e-3    0.1  -2.68  -2.54  -2.49  -2.44  -2.29   5005    1.0\n",
       "sigma       0.16  1.1e-3   0.08   0.08   0.11   0.14   0.18   0.35   5155    1.0\n",
       "log_fc[0]  -1.65 4.7e-166.7e-16  -1.65  -1.65  -1.65  -1.65  -1.65      2    nan\n",
       "log_fc[1]  -1.87     0.0    0.0  -1.87  -1.87  -1.87  -1.87  -1.87      2    nan\n",
       "log_fc[2]  -1.68 4.7e-166.7e-16  -1.68  -1.68  -1.68  -1.68  -1.68      2    nan\n",
       "log_fc[3]  -1.59 3.1e-164.4e-16  -1.59  -1.59  -1.59  -1.59  -1.59      2    nan\n",
       "log_fc[4]  -1.83 3.1e-164.4e-16  -1.83  -1.83  -1.83  -1.83  -1.83      2    nan\n",
       "log_fc[5]  -1.84 4.7e-166.7e-16  -1.84  -1.84  -1.84  -1.84  -1.84      2    nan\n",
       "lp__        7.05    0.02   1.23   3.76   6.57   7.42   7.92   8.24   4563    1.0\n",
       "\n",
       "Samples were drawn using NUTS at Fri Jun  1 18:59:14 2018.\n",
       "For each parameter, n_eff is a crude measure of effective sample size,\n",
       "and Rhat is the potential scale reduction factor on split chains (at \n",
       "convergence, Rhat=1)."
      ]
     },
     "execution_count": 54,
     "metadata": {},
     "output_type": "execute_result"
    }
   ],
   "source": [
    "allo_samples"
   ]
  },
  {
   "cell_type": "code",
   "execution_count": 55,
   "metadata": {},
   "outputs": [
    {
     "data": {
      "text/html": [
       "\n",
       "<div class=\"bk-root\">\n",
       "    <div class=\"bk-plotdiv\" id=\"b5a7c650-2d06-4f81-81e5-54e4b86f7f8e\"></div>\n",
       "</div>"
      ]
     },
     "metadata": {},
     "output_type": "display_data"
    },
    {
     "data": {
      "application/javascript": [
       "(function(root) {\n",
       "  function embed_document(root) {\n",
       "    \n",
       "  var docs_json = {\"e7a080ca-012e-4420-92e5-6ac11d90ac45\":{\"roots\":{\"references\":[{\"attributes\":{},\"id\":\"664782b1-c33f-412d-be65-9ae23fda72b7\",\"type\":\"SaveTool\"},{\"attributes\":{},\"id\":\"4f6601c9-012b-4062-b029-6bda482253ab\",\"type\":\"LinearScale\"},{\"attributes\":{\"callback\":null},\"id\":\"5e2484af-c4fb-4699-a453-ec06f27b82b8\",\"type\":\"DataRange1d\"},{\"attributes\":{},\"id\":\"596ecb6c-6688-496b-a050-65d391940e2d\",\"type\":\"ResetTool\"},{\"attributes\":{},\"id\":\"ca99f674-400b-45b7-bbb2-b6ed6e63c648\",\"type\":\"BasicTickFormatter\"},{\"attributes\":{\"active_drag\":\"auto\",\"active_inspect\":\"auto\",\"active_scroll\":\"auto\",\"active_tap\":\"auto\",\"tools\":[{\"id\":\"4a4ae50f-1015-407b-9373-fe22bc276d4a\",\"type\":\"PanTool\"},{\"id\":\"689bdf86-023b-43d5-a7d0-7c28bdc5f2ae\",\"type\":\"WheelZoomTool\"},{\"id\":\"3db8f3b3-84c4-4263-9cc2-8d81ecb3f2a8\",\"type\":\"BoxZoomTool\"},{\"id\":\"664782b1-c33f-412d-be65-9ae23fda72b7\",\"type\":\"SaveTool\"},{\"id\":\"596ecb6c-6688-496b-a050-65d391940e2d\",\"type\":\"ResetTool\"},{\"id\":\"5a74e1f2-57f6-4fca-b907-730de26f9e0a\",\"type\":\"HelpTool\"}]},\"id\":\"59ac9c94-d67c-4467-99e0-73cec292db85\",\"type\":\"Toolbar\"},{\"attributes\":{\"source\":{\"id\":\"b70172bb-06d5-4207-90e7-567b2b936805\",\"type\":\"ColumnDataSource\"}},\"id\":\"6c22f20e-b180-4547-b996-d81944214f92\",\"type\":\"CDSView\"},{\"attributes\":{},\"id\":\"4a4ae50f-1015-407b-9373-fe22bc276d4a\",\"type\":\"PanTool\"},{\"attributes\":{\"bottom_units\":\"screen\",\"fill_alpha\":{\"value\":0.5},\"fill_color\":{\"value\":\"lightgrey\"},\"left_units\":\"screen\",\"level\":\"overlay\",\"line_alpha\":{\"value\":1.0},\"line_color\":{\"value\":\"black\"},\"line_dash\":[4,4],\"line_width\":{\"value\":2},\"plot\":null,\"render_mode\":\"css\",\"right_units\":\"screen\",\"top_units\":\"screen\"},\"id\":\"51961f0a-fe8f-45b3-8369-b044b132c2cd\",\"type\":\"BoxAnnotation\"},{\"attributes\":{\"callback\":null,\"column_names\":[\"left\",\"right\",\"top\"],\"data\":{\"left\":{\"__ndarray__\":\"nzBdmaTvDMBAnAN51MYMwOEHqlgEngzAgnNQODR1DMAk3/YXZEwMwMVKnfeTIwzAZrZD18P6C8AHIuq289ELwKiNkJYjqQvASfk2dlOAC8DrZN1Vg1cLwIzQgzWzLgvALTwqFeMFC8DOp9D0Et0KwG8Td9RCtArAEH8dtHKLCsCy6sOTomIKwFNWanPSOQrA9MEQUwIRCsCVLbcyMugJwDaZXRJivwnA1wQE8pGWCcB4cKrRwW0JwBrcULHxRAnAu0f3kCEcCcBcs51wUfMIwP0eRFCBygjAnorqL7GhCMBA9pAP4XgIwOBhN+8QUAjAgs3dzkAnCMAjOYSucP4HwMSkKo6g1QfAZRDRbdCsB8AGfHdNAIQHwKjnHS0wWwfASFPEDGAyB8DqvmrsjwkHwIsqEcy/4AbALJa3q++3BsDNAV6LH48GwG5tBGtPZgbAENmqSn89BsCxRFEqrxQGwFKw9wnf6wXA8xue6Q7DBcCUh0TJPpoFwDXz6qhucQXA1l6RiJ5IBcB4yjdozh8FwBk23kf+9gTAuqGEJy7OBMBbDSsHXqUEwPx40eaNfATAnuR3xr1TBMA+UB6m7SoEwOC7xIUdAgTAgSdrZU3ZA8AikxFFfbADwMP+tySthwPAZGpeBN1eA8AG1gTkDDYDwKZBq8M8DQPASK1Ro2zkAsDpGPiCnLsCwIqEnmLMkgLALPBEQvxpAsDMW+shLEECwG7HkQFcGALADzM44YvvAcCwnt7Au8YBwFEKhaDrnQHA8nUrgBt1AcCU4dFfS0wBwDRNeD97IwHA1rgeH6v6AMB3JMX+2tEAwBiQa94KqQDAufsRvjqAAMBaZ7idalcAwPzSXn2aLgDAnD4FXcoFAMB8VFd59Ln/v74rpDhUaP+/AAPx97MW/79D2j23E8X+v4WxinZzc/6/x4jXNdMh/r8KYCT1MtD9v0w3cbSSfv2/jg6+c/Is/b/Q5QozUtv8vxO9V/Kxify/VZSksRE4/L+Xa/Fwceb7v9pCPjDRlPu/HBqL7zBD+79e8deukPH6v6HIJG7wn/q/459xLVBO+r8=\",\"dtype\":\"float64\",\"shape\":[100]},\"right\":{\"__ndarray__\":\"QJwDedTGDMDhB6pYBJ4MwIJzUDg0dQzAJN/2F2RMDMDFSp33kyMMwGa2Q9fD+gvAByLqtvPRC8CojZCWI6kLwEn5NnZTgAvA62TdVYNXC8CM0IM1sy4LwC08KhXjBQvAzqfQ9BLdCsBvE3fUQrQKwBB/HbRyiwrAsurDk6JiCsBTVmpz0jkKwPTBEFMCEQrAlS23MjLoCcA2mV0SYr8JwNcEBPKRlgnAeHCq0cFtCcAa3FCx8UQJwLtH95AhHAnAXLOdcFHzCMD9HkRQgcoIwJ6K6i+xoQjAQPaQD+F4CMDgYTfvEFAIwILN3c5AJwjAIzmErnD+B8DEpCqOoNUHwGUQ0W3QrAfABnx3TQCEB8Co5x0tMFsHwEhTxAxgMgfA6r5q7I8JB8CLKhHMv+AGwCyWt6vvtwbAzQFeix+PBsBubQRrT2YGwBDZqkp/PQbAsURRKq8UBsBSsPcJ3+sFwPMbnukOwwXAlIdEyT6aBcA18+qobnEFwNZekYieSAXAeMo3aM4fBcAZNt5H/vYEwLqhhCcuzgTAWw0rB16lBMD8eNHmjXwEwJ7kd8a9UwTAPlAepu0qBMDgu8SFHQIEwIEna2VN2QPAIpMRRX2wA8DD/rckrYcDwGRqXgTdXgPABtYE5Aw2A8CmQavDPA0DwEitUaNs5ALA6Rj4gpy7AsCKhJ5izJICwCzwREL8aQLAzFvrISxBAsBux5EBXBgCwA8zOOGL7wHAsJ7ewLvGAcBRCoWg650BwPJ1K4AbdQHAlOHRX0tMAcA0TXg/eyMBwNa4Hh+r+gDAdyTF/trRAMAYkGveCqkAwLn7Eb46gADAWme4nWpXAMD80l59mi4AwJw+BV3KBQDAfFRXefS5/7++K6Q4VGj/vwAD8fezFv+/Q9o9txPF/r+FsYp2c3P+v8eI1zXTIf6/CmAk9TLQ/b9MN3G0kn79v44OvnPyLP2/0OUKM1Lb/L8TvVfysYn8v1WUpLEROPy/l2vxcHHm+7/aQj4w0ZT7vxwai+8wQ/u/XvHXrpDx+r+hyCRu8J/6v+OfcS1QTvq/JXe+7K/8+b8=\",\"dtype\":\"float64\",\"shape\":[100]},\"top\":{\"__ndarray__\":\"zV9rvMONdD8AAAAAAAAAAAAAAAAAAAAAAAAAAAAAAAAAAAAAAAAAAAAAAAAAAAAAAAAAAAAAAAAAAAAAAAAAAAAAAAAAAAAAAAAAAAAAAAAAAAAAAAAAAM1fa7zDjWQ/AAAAAAAAAAAAAAAAAAAAAAAAAAAAAAAATmBrvMONZD/NX2u8w41kPwAAAAAAAAAAAAAAAAAAAAAAAAAAAAAAAAAAAAAAAAAAzV9rvMONdD8AAAAAAAAAAAAAAAAAAAAAAAAAAAAAAADNX2u8w41kP81fa7zDjWQ/TmBrvMONZD/yDqGapdR+P05ga7zDjWQ/sw+hmqXUfj/AN4arNLGJP8fL+DN8H5c/sw+hmqXUjj9E9N1EC/yRP/IOoZql1J4/TmBrvMONlD/Hy/gzfB+XP7MPoZql1J4/1PPdRAv8oT/U891EC/yhP2E4hqs0sak/w4G/b1houD+8SDAFf567P8Lcoo3GDMk/OvYhFLbwyz8UHWW979LRPzis6E+SOd0/f2eegROK4D8XxZYiV6DtP58huK3XjPM/Gw/Q5npX/D/ykPatIt4CQD4JPFg0/wpAG/QVOqWMEEA/48ypUfsTQPSfX2kOLRVAV4r73WxyFUCMAT5XMj0TQEJeLU+xRQ9AbxBvHYT7BkBpF3bHSsv/P7bc0dmbj/Y/0qy5A7227z/Luk7aMTLlP3K1vXw3MN4/7vxU2QXt1z/+uaxy3DfQP00NXcv638Q/UfyycbDywj+/kmnJolW6P8lwFRYOe7Y/dBChmqXUrj8JoxMj7UKsP2E4hqs0sZk/wDeGqzSxiT/Hy/gzfB+XP7MPoZql1J4/sw+hmqXUfj90EKGapdSOP0xfa7zDjYQ/TmBrvMONdD/NX2u8w42EP8A3hqs0sYk/AAAAAAAAAAAAAAAAAAAAAM1fa7zDjXQ/DmBrvMONZD/NX2u8w410P81fa7zDjXQ/zV9rvMONZD8AAAAAAAAAAAAAAAAAAAAAAAAAAAAAAAAOYGu8w410PwAAAAAAAAAAAAAAAAAAAAAAAAAAAAAAAAAAAAAAAAAAzV9rvMONZD8=\",\"dtype\":\"float64\",\"shape\":[100]}}},\"id\":\"b70172bb-06d5-4207-90e7-567b2b936805\",\"type\":\"ColumnDataSource\"},{\"attributes\":{\"bottom\":{\"value\":0},\"fill_alpha\":{\"value\":0.1},\"fill_color\":{\"value\":\"#1f77b4\"},\"left\":{\"field\":\"left\"},\"line_alpha\":{\"value\":0.1},\"line_color\":{\"value\":\"#1f77b4\"},\"right\":{\"field\":\"right\"},\"top\":{\"field\":\"top\"}},\"id\":\"9d455849-f66e-44b2-b716-583fef79820e\",\"type\":\"Quad\"},{\"attributes\":{\"plot\":{\"id\":\"1295fc6a-d8f7-4ac1-bbfc-eada679ea3ec\",\"subtype\":\"Figure\",\"type\":\"Plot\"},\"ticker\":{\"id\":\"3b89d654-e803-4b39-9e7f-76c243a04259\",\"type\":\"BasicTicker\"}},\"id\":\"120fb2ca-1258-4344-b7d0-65ddb54308e9\",\"type\":\"Grid\"},{\"attributes\":{},\"id\":\"5a74e1f2-57f6-4fca-b907-730de26f9e0a\",\"type\":\"HelpTool\"},{\"attributes\":{\"axis_label\":\"frequency\",\"formatter\":{\"id\":\"ca99f674-400b-45b7-bbb2-b6ed6e63c648\",\"type\":\"BasicTickFormatter\"},\"plot\":{\"id\":\"1295fc6a-d8f7-4ac1-bbfc-eada679ea3ec\",\"subtype\":\"Figure\",\"type\":\"Plot\"},\"ticker\":{\"id\":\"c18bb384-56eb-4fba-81f7-da49bc5cdd44\",\"type\":\"BasicTicker\"}},\"id\":\"e97c5ce6-5eaf-4bbb-b899-e2b1b1d5e70a\",\"type\":\"LinearAxis\"},{\"attributes\":{},\"id\":\"f96a3a89-ccdc-4c1a-a2d2-1f642ba9a2d0\",\"type\":\"BasicTickFormatter\"},{\"attributes\":{},\"id\":\"689bdf86-023b-43d5-a7d0-7c28bdc5f2ae\",\"type\":\"WheelZoomTool\"},{\"attributes\":{\"axis_label\":\"allosteric energy\",\"formatter\":{\"id\":\"f96a3a89-ccdc-4c1a-a2d2-1f642ba9a2d0\",\"type\":\"BasicTickFormatter\"},\"plot\":{\"id\":\"1295fc6a-d8f7-4ac1-bbfc-eada679ea3ec\",\"subtype\":\"Figure\",\"type\":\"Plot\"},\"ticker\":{\"id\":\"3b89d654-e803-4b39-9e7f-76c243a04259\",\"type\":\"BasicTicker\"}},\"id\":\"66662fbf-e50d-4619-9fba-fddde04c11ec\",\"type\":\"LinearAxis\"},{\"attributes\":{\"below\":[{\"id\":\"66662fbf-e50d-4619-9fba-fddde04c11ec\",\"type\":\"LinearAxis\"}],\"left\":[{\"id\":\"e97c5ce6-5eaf-4bbb-b899-e2b1b1d5e70a\",\"type\":\"LinearAxis\"}],\"plot_height\":400,\"renderers\":[{\"id\":\"66662fbf-e50d-4619-9fba-fddde04c11ec\",\"type\":\"LinearAxis\"},{\"id\":\"120fb2ca-1258-4344-b7d0-65ddb54308e9\",\"type\":\"Grid\"},{\"id\":\"e97c5ce6-5eaf-4bbb-b899-e2b1b1d5e70a\",\"type\":\"LinearAxis\"},{\"id\":\"479b39b9-5004-421c-a313-2abc0f0b3739\",\"type\":\"Grid\"},{\"id\":\"51961f0a-fe8f-45b3-8369-b044b132c2cd\",\"type\":\"BoxAnnotation\"},{\"id\":\"38948ca3-1826-4be0-8516-5387d910108c\",\"type\":\"GlyphRenderer\"}],\"title\":{\"id\":\"b963be9e-b468-47fe-bb80-853c55f4bd0c\",\"type\":\"Title\"},\"toolbar\":{\"id\":\"59ac9c94-d67c-4467-99e0-73cec292db85\",\"type\":\"Toolbar\"},\"x_range\":{\"id\":\"5e2484af-c4fb-4699-a453-ec06f27b82b8\",\"type\":\"DataRange1d\"},\"x_scale\":{\"id\":\"4f6601c9-012b-4062-b029-6bda482253ab\",\"type\":\"LinearScale\"},\"y_range\":{\"id\":\"c8c81429-91d0-4b23-89b7-ace946077083\",\"type\":\"DataRange1d\"},\"y_scale\":{\"id\":\"8b5bfafb-3204-40bb-84b8-2aee49900c8b\",\"type\":\"LinearScale\"}},\"id\":\"1295fc6a-d8f7-4ac1-bbfc-eada679ea3ec\",\"subtype\":\"Figure\",\"type\":\"Plot\"},{\"attributes\":{\"plot\":null,\"text\":\"\"},\"id\":\"b963be9e-b468-47fe-bb80-853c55f4bd0c\",\"type\":\"Title\"},{\"attributes\":{},\"id\":\"c18bb384-56eb-4fba-81f7-da49bc5cdd44\",\"type\":\"BasicTicker\"},{\"attributes\":{},\"id\":\"8b5bfafb-3204-40bb-84b8-2aee49900c8b\",\"type\":\"LinearScale\"},{\"attributes\":{\"dimension\":1,\"plot\":{\"id\":\"1295fc6a-d8f7-4ac1-bbfc-eada679ea3ec\",\"subtype\":\"Figure\",\"type\":\"Plot\"},\"ticker\":{\"id\":\"c18bb384-56eb-4fba-81f7-da49bc5cdd44\",\"type\":\"BasicTicker\"}},\"id\":\"479b39b9-5004-421c-a313-2abc0f0b3739\",\"type\":\"Grid\"},{\"attributes\":{\"overlay\":{\"id\":\"51961f0a-fe8f-45b3-8369-b044b132c2cd\",\"type\":\"BoxAnnotation\"}},\"id\":\"3db8f3b3-84c4-4263-9cc2-8d81ecb3f2a8\",\"type\":\"BoxZoomTool\"},{\"attributes\":{},\"id\":\"3b89d654-e803-4b39-9e7f-76c243a04259\",\"type\":\"BasicTicker\"},{\"attributes\":{\"data_source\":{\"id\":\"b70172bb-06d5-4207-90e7-567b2b936805\",\"type\":\"ColumnDataSource\"},\"glyph\":{\"id\":\"04fc6d96-344d-4fa2-8bc7-4bd025bb2132\",\"type\":\"Quad\"},\"hover_glyph\":null,\"muted_glyph\":null,\"nonselection_glyph\":{\"id\":\"9d455849-f66e-44b2-b716-583fef79820e\",\"type\":\"Quad\"},\"selection_glyph\":null,\"view\":{\"id\":\"6c22f20e-b180-4547-b996-d81944214f92\",\"type\":\"CDSView\"}},\"id\":\"38948ca3-1826-4be0-8516-5387d910108c\",\"type\":\"GlyphRenderer\"},{\"attributes\":{\"bottom\":{\"value\":0},\"fill_color\":{\"value\":\"dodgerblue\"},\"left\":{\"field\":\"left\"},\"line_color\":{\"value\":\"#1f77b4\"},\"right\":{\"field\":\"right\"},\"top\":{\"field\":\"top\"}},\"id\":\"04fc6d96-344d-4fa2-8bc7-4bd025bb2132\",\"type\":\"Quad\"},{\"attributes\":{\"callback\":null},\"id\":\"c8c81429-91d0-4b23-89b7-ace946077083\",\"type\":\"DataRange1d\"}],\"root_ids\":[\"1295fc6a-d8f7-4ac1-bbfc-eada679ea3ec\"]},\"title\":\"Bokeh Application\",\"version\":\"0.12.13\"}};\n",
       "  var render_items = [{\"docid\":\"e7a080ca-012e-4420-92e5-6ac11d90ac45\",\"elementid\":\"b5a7c650-2d06-4f81-81e5-54e4b86f7f8e\",\"modelid\":\"1295fc6a-d8f7-4ac1-bbfc-eada679ea3ec\"}];\n",
       "  root.Bokeh.embed.embed_items_notebook(docs_json, render_items);\n",
       "\n",
       "  }\n",
       "  if (root.Bokeh !== undefined) {\n",
       "    embed_document(root);\n",
       "  } else {\n",
       "    var attempts = 0;\n",
       "    var timer = setInterval(function(root) {\n",
       "      if (root.Bokeh !== undefined) {\n",
       "        embed_document(root);\n",
       "        clearInterval(timer);\n",
       "      }\n",
       "      attempts++;\n",
       "      if (attempts > 100) {\n",
       "        console.log(\"Bokeh: ERROR: Unable to run BokehJS code because BokehJS library is missing\")\n",
       "        clearInterval(timer);\n",
       "      }\n",
       "    }, 10, root)\n",
       "  }\n",
       "})(window);"
      ],
      "application/vnd.bokehjs_exec.v0+json": ""
     },
     "metadata": {
      "application/vnd.bokehjs_exec.v0+json": {
       "id": "1295fc6a-d8f7-4ac1-bbfc-eada679ea3ec"
      }
     },
     "output_type": "display_data"
    }
   ],
   "source": [
    "# Plot the distribution for ep_ai\n",
    "hist, edges = np.histogram(allo_df['ep_ai'], density=True, bins=100)\n",
    "p = bokeh.plotting.figure(plot_width=600, plot_height=400, \n",
    "                          x_axis_label='allosteric energy',\n",
    "                          y_axis_label='frequency')\n",
    "p.quad(top=hist, bottom=0, left=edges[:-1], right=edges[1:],\n",
    "        fill_color=\"dodgerblue\")\n",
    "bokeh.io.show(p)"
   ]
  },
  {
   "cell_type": "code",
   "execution_count": 63,
   "metadata": {},
   "outputs": [
    {
     "data": {
      "text/html": [
       "\n",
       "<div class=\"bk-root\">\n",
       "    <div class=\"bk-plotdiv\" id=\"24c25cb0-bc7e-4d90-b90a-b91c26900e5a\"></div>\n",
       "</div>"
      ]
     },
     "metadata": {},
     "output_type": "display_data"
    },
    {
     "data": {
      "application/javascript": [
       "(function(root) {\n",
       "  function embed_document(root) {\n",
       "    \n",
       "  var docs_json = {\"b725d735-33be-43f3-ae1c-a458b67e042e\":{\"roots\":{\"references\":[{\"attributes\":{},\"id\":\"95b3ea95-0251-47cb-a4e2-361f3f881655\",\"type\":\"PanTool\"},{\"attributes\":{\"line_color\":\"dodgerblue\",\"line_width\":2,\"x\":{\"field\":\"x\"},\"y\":{\"field\":\"y\"}},\"id\":\"bf88806d-514d-4880-849f-202d24b9a7a9\",\"type\":\"Line\"},{\"attributes\":{\"callback\":null,\"column_names\":[\"x\",\"y\"],\"data\":{\"x\":{\"__ndarray__\":\"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\",\"dtype\":\"float64\",\"shape\":[500]},\"y\":{\"__ndarray__\":\"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\",\"dtype\":\"float64\",\"shape\":[500]}}},\"id\":\"d65f0859-6a9d-48d4-8ebc-20b04c10c1e9\",\"type\":\"ColumnDataSource\"},{\"attributes\":{},\"id\":\"ae89a93a-175d-4bef-9f88-fa98eec37548\",\"type\":\"LogScale\"},{\"attributes\":{\"axis_label\":\"repressors per cell\",\"formatter\":{\"id\":\"58f31865-7b01-4ea1-8b0a-7c11e68a45a6\",\"type\":\"LogTickFormatter\"},\"plot\":{\"id\":\"0a7dab3b-daa8-499f-8d0c-6eeca90b9639\",\"subtype\":\"Figure\",\"type\":\"Plot\"},\"ticker\":{\"id\":\"531c855b-a2f0-4a52-b6cd-6fb9ae135ad6\",\"type\":\"LogTicker\"}},\"id\":\"6fb504c7-c0cc-4799-ba4f-40fe1853139f\",\"type\":\"LogAxis\"},{\"attributes\":{\"ticker\":null},\"id\":\"77e7d024-afb2-4951-9787-d946f45d4286\",\"type\":\"LogTickFormatter\"},{\"attributes\":{\"line_alpha\":0.1,\"line_color\":\"#1f77b4\",\"line_width\":2,\"x\":{\"field\":\"x\"},\"y\":{\"field\":\"y\"}},\"id\":\"e5ef9f8e-6b27-4a2f-bec4-51c00fb98f4f\",\"type\":\"Line\"},{\"attributes\":{\"fill_alpha\":{\"value\":0.1},\"fill_color\":{\"value\":\"#1f77b4\"},\"line_alpha\":{\"value\":0.1},\"line_color\":{\"value\":\"#1f77b4\"},\"x\":{\"field\":\"x\"},\"y\":{\"field\":\"y\"}},\"id\":\"bbe0e29f-b317-4dde-8474-f4ce39f3a836\",\"type\":\"Circle\"},{\"attributes\":{\"items\":[{\"id\":\"a75e7e76-e61a-475b-899c-70a9d4c05d06\",\"type\":\"LegendItem\"},{\"id\":\"6bf6f3b9-ccfc-4d11-8efa-b91dfa444d71\",\"type\":\"LegendItem\"},{\"id\":\"023bba7f-9848-423d-ab9f-ae2bd52e213d\",\"type\":\"LegendItem\"}],\"plot\":{\"id\":\"0a7dab3b-daa8-499f-8d0c-6eeca90b9639\",\"subtype\":\"Figure\",\"type\":\"Plot\"}},\"id\":\"b09748c9-5ea7-41ed-aa5a-2ced9ed8fe9c\",\"type\":\"Legend\"},{\"attributes\":{\"axis_label\":\"fold-change\",\"formatter\":{\"id\":\"77e7d024-afb2-4951-9787-d946f45d4286\",\"type\":\"LogTickFormatter\"},\"plot\":{\"id\":\"0a7dab3b-daa8-499f-8d0c-6eeca90b9639\",\"subtype\":\"Figure\",\"type\":\"Plot\"},\"ticker\":{\"id\":\"c60a8818-6f76-49cd-b10a-97cd5ad5c385\",\"type\":\"LogTicker\"}},\"id\":\"ccaac7d7-9821-46fe-9af1-a532032c3ffc\",\"type\":\"LogAxis\"},{\"attributes\":{\"line_color\":\"tomato\",\"line_width\":2,\"x\":{\"field\":\"x\"},\"y\":{\"field\":\"y\"}},\"id\":\"789b8a02-9255-4644-a3f6-64788b3fde41\",\"type\":\"Line\"},{\"attributes\":{},\"id\":\"7720db6b-2232-4df0-ac9e-234f6dd0f31c\",\"type\":\"WheelZoomTool\"},{\"attributes\":{},\"id\":\"87e3274c-978e-42a4-ad38-fd97c0e532cd\",\"type\":\"HelpTool\"},{\"attributes\":{\"callback\":null,\"column_names\":[\"x\",\"y\"],\"data\":{\"x\":{\"__ndarray__\":\"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\",\"dtype\":\"float64\",\"shape\":[500]},\"y\":{\"__ndarray__\":\"uM7xf5Zv7z+dvIAo8mzvP+sPaqxBau8/t0UK1oRn7z/Wc+Vuu2TvP92jpD/lYe8/cy0TEAJf7z98EBynEVzvP3BPx8oTWe8/Nko3QAhW7z8eGqbL7lLvPyzvYjDHT+8/Y2/PMJFM7z96GF2OTEnvP16kign5Re8/PHHhYZZC7z+A7fJVJD/vP1sIVqOiO+8/bKekBhE47z88Ink7bzTvPx7Ea/y8MO8/ElUQA/os7z+KqvMHJinvP6FAmcJAJe8/i9x46Ukh7z8ZOfwxQR3vPw2+fFAmGe8/CENB+PgU7z8i33vbuBDvP8rFR6tlDO8/GjKnF/8H7z9lYYHPhAPvPySeoID2/u4/KFyw11P67j8zZzuAnPXuPwMlqiTQ8O4/++tAbu7r7j+Dbx4F9+buP2lDOpDp4e4/ZHdjtcXc7j8NTD8Zi9fuP5oCSF850u4/ucjLKdDM7j/cwesZT8fuP3Yvm8+1we4/jrme6QO87j8y2YsFObbuP1RmyL9UsO4/mEqKs1aq7j/LWtd6PqTuP4ZYha4Lnu4/3x065r2X7j+u9Gu4VJHuP2gbYrrPiu4/Knk1gC6E7j/5gtGccH3uPwpU9aGVdu4/Avs0IJ1v7j8k/vqmhmjuP4sYisRRYe4/TDL/Bf5Z7j/NlVP3ilLuP0BkXyP4Su4/jUvcE0VD7j/Rf2hRcTvuP6L6iWN8M+4/YAKy0GUr7j/i+0AeLSPuP9SIitDRGu4/+vTZalMS7j/p9HZvsQnuP3O4ql/rAO4/OlPFuwD47T/ffSMD8e7tPzGyNLS75e0/3qSBTGDc7T8GH7NI3tLtP1E6mSQ1ye0/0AEzW2S/7T9LerZma7XtP2QUmcBJq+0/+YqY4f6g7T9dMMRBipbtP6ushljri+0/vy+wnCGB7T8pGYGELHbtP38YtYULa+0/SciOFb5f7T/6xeOoQ1TtPwBJKbSbSO0/QjuBq8U87T8N1ccCwTDtP5m+oS2NJO0/AbmKnykY7T+y0OTLlQvtPxgbCCbR/uw/LAFTIdvx7D+pGDsxs+TsP0GNXslY1+w/VBuWXcvJ7D9VnQdiCrzsPwQtOUsVruw/iNkkjuuf7D8S80ygjJHsP+/s0Pf3guw/Q9aCCy107D/0af1SK2XsP761ukbyVew/clgrYIFG7D/4Vs4Z2DbsP7SHSe/1Juw/apOCXdoW7D+6irjihAbsP+QOnv709es/agx0Mirl6z+yBSUBJNTrP5zrYO/hwus/wYG5g2Ox6z+oS79GqJ/rP/X/HsOvjes/Wn6/hXl76z+SROAdBWnrP5heOB1SVus/qM0VGGBD6z93YX2lLjDrP5z+Sl+9HOs/wExS4gsJ6z/dxn/OGfXqP1gn+sbm4Oo/gSlEcnLM6j9ymV56vLfqPySr6ozEouo/05BMW4qN6j+sSM6aDXjqP0iZwgROYuo/5zOoVktM6j8080xSBTbqP8gs8b17H+o/RQtrZK4I6j+L5kkVnfHpPyOP+aRH2uk/dYHl7K3C6T849ZvLz6rpPwC98CStkuk/h+kf4kV66T/uI/DxmWHpP86x1EipSOk/2BUP4XMv6T8jP9C6+RXpP0M5Wdw6/Og/0k4bUjfi6D/4j9cu78foPy2uvYtireg/QR6KiJGS6D+PcaNLfHfoPxvXNgIjXOg/MLVT4IVA6D8FTAYhpSToP+hRcQaBCOg/THnm2Rns5z8y0f3rb8/nP3Dwq5SDsuc/SdxWM1WV5z8im+ku5XfnPwRk5vUzWuc/A1x3/kE85z+90n3GDx7nP3nvn9Od/+Y/rMBUs+zg5j8poO76/MHmP3zeo0fPouY/fKiVPmSD5j+bGtWMvGPmP/F1ZufYQ+Y/pmtCC7oj5j/yc1W9YAPmP4UmfcrN4uU//oqDBwLC5T+nWBhR/qDlP5wdyIvDf+U/Mkbxo1Je5T9t/raNrDzlPxbo8UTSGuU/CKEezcT45D8kFkoxhdbkP4ig+4MUtOQ/WOsc33OR5D/Eod9jpG7kP9HloDqnS+Q/g5HKkn0o5D8/RbKiKAXkPyBHdqep4eM/VzjY5AG+4z+PphWlMprjP7aAvjg9duM/X3eJ9iJS4z9RUiY75S3jP91FDmmFCeM/r1NS6ATl4j/4w2cmZcDiP8jE8pWnm+I/qj6Prs124j967pfs2FHiP3nV69DKLOI/tBGy4KQH4j+eMRylaOLhP+UWJ6sXveE/DX1ag7OX4T+bOYfBPXLhPw1MhPy3TOE/v9TqzSMn4T+FCtHRggHhP2RHhKbW2+A/YEVC7CC24D/RpPFEY5DgPz7W2VOfauA//YFavdZE4D9GiKImCx/gPzhpzWp88t8/JX8wH+Om3z+NdDa2TVvfPz79+Xq/D98/dX9VtzvE3j9Pq1CzxXjeP82+jrRgLd4/E6y9/Q/i3T8TVwbO1pbdP7gefmC4S90/VeWZ67cA3T8Ay6Kg2LXcPyfLLKsda9w/7W2PMIog3D9ivGBPIdbbPzel8h7mi9s/Cf7SrttB2z8GTE4GBfjaP7Z89SNlrto/8LUm/f5k2j97Ypl91RvaP2ee7Ybr0tk/xCQ/8EOK2T/G3buF4UHZP68qPgjH+dg/eArrLPex2D8qMNScdGrYP4EhnvRBI9g/QnIqxGHc1z+PLkaO1pXXP/SDXMiiT9c/7bYt2sgJ1z9NcIodS8TWP51rE94rf9Y/UY39WG061j+2Zdq8EfbVP98iZSkbstU/NfJTr4tu1T/Lzy1QZSvVP8i/JP6p6NQ/Lmz0m1um1D82H8X8e2TUP8AQE+QMI9Q/fvuZBRDi0z+b7EQFh6HTPyg/IndzYdM/3LJb39Yh0z8+jDKysuLSP8uq/1MIpNI/dYA3Gdll0j9b1HFGJijSP5U5dRDx6tE/wCFGnDqu0T/ncTn/A3LRP45/Cj9ONtE/s1r0URr70D/lSM4eacDQP8hUK307htA//tR8NZJM0D+OzDcBbhPQP7EN+hWftc8/9aCH3W5Fzz/WXA50TNbOP77o6tc4aM4/mjZE6zT7zT/6cXN0QY/NPwjzbx5fJM0/G/c+eY66zD864Wb6z1HMPxPFZf0j6ss/o/8qxIqDyz9BoZN3BB7LP4Jt6SeRuco/gTZkzTBWyj+cWa1I4/PJPxIlZWOoksk/7+6p0H8yyT+4pqAtadPIP8ys/gFkdcg/hLuUwG8YyD9ur9rHi7zHP8j9e2K3Ycc/Oankx/EHxz/Xhs4cOq/GP6mmznOPV8Y/kLTizfAAxj8SKP4aXavFP/0alzrTVsU/laAy/FEDxT+CePAf2LDEP2T6FVdkX8Q/gxiYRPUOxD+lWaR9ib/DP9+rKIofccM/f/NZ5bUjwz8QOzn+StfCP81qFzjdi8I/nG8X62pBwj/duq5k8vfBP0QGJOhxr8E/DUgMr+dnwT9wxcXpUSHBP7gy8b+u28A/ndHoUPyWwD/afzW0OFPAP2upAfphEMA/9iUUV+ycvz+U5BiX5hq/P1uXZ62umr4/ZBkFiEAcvj+HunQKmJ+9P0FDgw6xJL0/EVENZYervD8NBMHWFjS8Pzb42iRbvrs/T4feCVBKuz8BUUk68de6P9EJQmU6Z7o/pZFCNSf4uT95Vb1Qs4q5P0cAvlraHrk/DIGF85e0uD/3bCG550u4P/TF/kfF5Lc//y54Oyx/tz+imF8uGBu3PyVxg7uEuLY/qmQvfm1Xtj+puqgSzve1P4BephaimbU/JqLEKeU8tT9NyvTtkuG0PwF06Aenh7Q/auR4Hx0vtD/jUwrg8NezP99F6/gdgrM/u/+vHaAtsz/AMIoGc9qyPy7enHCSiLI/AqZMHvo3sj/8a4zXpeixP/SDJmqRmrE/R20CqrhNsT/WMmdxFwKxP3CDOqGpt7A/XpY8IWtusD/m70DgVyawPyMzyKjXvq8/1cN89kUzrz/wbie08qmuPwtlAfzVIq4/SsJJ+OedrT/x0ZTjIButP2sjFgl5mqw/WZflxOgbrD8Bij+EaJ+rP6lAwMXwJKs/gb6aGXqsqj/EJcsh/TWqP6zIRJJywak/+Q0cMdNOqT+VS6zWF96oP+S5uW05b6g/cKGP8zACqD8G5Bp495anPxsCAR6GLac/LLyzGtbFpj+Wb4G24F+mP9lNokyf+6U/CYxCSwuZpT84qIkzHjilP4vhnpnR2KQ/Tf+qJB97pD+AgteOAB+kP+5cS6VvxKM/9EclSGZroz/D1HNq3hOjPxVPKxLSvaI/qIoZWDtpoj9ws9dnFBaiP2M3un9XxKE/o+C+8P5zoT+3NXkeBSWhP0A1/X5k16A/y4HImheLoD/jEaoMGUCgP6PvUAPH7J8/M6jNceNbnz/jCREHfc2ePzBJJ4mJQZ4/cc+k4f63nT852WYd0zCdP7UWUmz8q5w/MW0PIXEpnD86+MawJ6mbP3Nn2bIWK5s/jtWX4DSvmj+aM/oUeTWaPydjVEzavZk/ihgKpE9ImT/6nUFa0NSYP/mOlc1TY5g/GKPFfNHzlz/FnWYGQYaXP2x4kSiaGpc/TtuRwNSwlj9g+JPK6EiWPzrbUWHO4pU/9j/AvX1+lT9xArs27xuVP2s2sUAbu5Q/l/hQbfpblD/GBzNrhf6TP9s0hgW1opM/h7e6I4JIkz8udS3J5e+SP7hG0xTZmJI/m0nkQFVDkj+7R4eiU++RPzVBfanNnJE/3iLN37xLkT9as2/pGvyQP3XA+4PhrZA/A5ZShgphkD+5xkzgjxWQP/yezjTXlo8/ajniqi8Fjz9c8nGUHXaOP/zad5KV6Y0/7SyodIxfjT/u8c8499eMP7OxNArLUow/QTH1QP3Piz8ATmthg0+LPyb+jhtT0Yo/1X9aSmJVij8Qvy/zptuJP736PkUXZIk/0q/umKnuiD+k0URvVHuIP4lVUXEOCog/sheab86ahz95Hohhiy2HPwpB1mQ8woY/6zUBvdhYhj8vDbnSV/GFPy4aVDOxi4U/zE9DkNwnhT81Eoi+0cWEP52AK7aIZYQ/BDm3kfkGhD/8l6+NHKqDP9Z1DwjqToM/eWLFf1r1gj/QYDKUZp2CP3wiqgQHR4I/KMT0rzTygT+vCtKT6J6BP/wgfswbTYE/WtY3lMf8gD+iXMhC5a2AP62FDE1uYIA//n5/RFwUgD81FY6tUZN/P79ngpqbAH8/g/0mGYpwfj8KIHcoEeN9PxyZQvwkWH0/NNxU/LnPfD9TFp/DxEl8P0QgZR86xns/5U5tDg9Fez9iHDPAOMZ6P82lHJSsSXo/6veyGGDPeT/aJd0KSVd5Pz4kHlVd4Xg/LWPVDpNteD9gIYJ74Pt3P4RyCQo8jHc/0fL+U5wedz/VIfAc+LJ2Pw==\",\"dtype\":\"float64\",\"shape\":[500]}}},\"id\":\"c4f0e1dc-cf36-4630-b5df-42e3f3e2e2a1\",\"type\":\"ColumnDataSource\"},{\"attributes\":{\"bottom_units\":\"screen\",\"fill_alpha\":{\"value\":0.5},\"fill_color\":{\"value\":\"lightgrey\"},\"left_units\":\"screen\",\"level\":\"overlay\",\"line_alpha\":{\"value\":1.0},\"line_color\":{\"value\":\"black\"},\"line_dash\":[4,4],\"line_width\":{\"value\":2},\"plot\":null,\"render_mode\":\"css\",\"right_units\":\"screen\",\"top_units\":\"screen\"},\"id\":\"6db2b4ce-9212-44a6-9095-b30cdb9a67e4\",\"type\":\"BoxAnnotation\"},{\"attributes\":{},\"id\":\"28ac371c-3e7c-4462-b82b-db11af84943f\",\"type\":\"SaveTool\"},{\"attributes\":{\"num_minor_ticks\":10},\"id\":\"c60a8818-6f76-49cd-b10a-97cd5ad5c385\",\"type\":\"LogTicker\"},{\"attributes\":{\"callback\":null,\"column_names\":[\"x\",\"y\"],\"data\":{\"x\":{\"__ndarray__\":\"AAAAAABAcEAAAAAAAEBwQAAAAAAAQHBAAAAAAABAcEAAAAAAAEBwQAAAAAAAQHBA\",\"dtype\":\"float64\",\"shape\":[6]},\"y\":{\"__ndarray__\":\"Ra7gE398yD96FwBonMXDPwAqePDyx8c/uCZLTMn/yT8SicDHHorEP7gG9tUSVcQ/\",\"dtype\":\"float64\",\"shape\":[6]}}},\"id\":\"5d0c172c-6d72-4039-bdb4-fc257ef18a7b\",\"type\":\"ColumnDataSource\"},{\"attributes\":{},\"id\":\"8f426f2c-84e8-4b14-af7d-a5bfe03cf87a\",\"type\":\"ResetTool\"},{\"attributes\":{\"callback\":null},\"id\":\"2f32f81d-461f-47b9-8220-0c162602e53d\",\"type\":\"DataRange1d\"},{\"attributes\":{\"ticker\":null},\"id\":\"58f31865-7b01-4ea1-8b0a-7c11e68a45a6\",\"type\":\"LogTickFormatter\"},{\"attributes\":{\"data_source\":{\"id\":\"5d0c172c-6d72-4039-bdb4-fc257ef18a7b\",\"type\":\"ColumnDataSource\"},\"glyph\":{\"id\":\"72f12ecb-4689-4d3f-a358-ac8947698e80\",\"type\":\"Circle\"},\"hover_glyph\":null,\"muted_glyph\":null,\"nonselection_glyph\":{\"id\":\"bbe0e29f-b317-4dde-8474-f4ce39f3a836\",\"type\":\"Circle\"},\"selection_glyph\":null,\"view\":{\"id\":\"84d181c8-8c41-4dea-a43f-df40769ed4c0\",\"type\":\"CDSView\"}},\"id\":\"cf240b18-b5a4-4215-9ec9-93dbe599aff2\",\"type\":\"GlyphRenderer\"},{\"attributes\":{\"below\":[{\"id\":\"6fb504c7-c0cc-4799-ba4f-40fe1853139f\",\"type\":\"LogAxis\"}],\"left\":[{\"id\":\"ccaac7d7-9821-46fe-9af1-a532032c3ffc\",\"type\":\"LogAxis\"}],\"plot_height\":400,\"renderers\":[{\"id\":\"6fb504c7-c0cc-4799-ba4f-40fe1853139f\",\"type\":\"LogAxis\"},{\"id\":\"3149c8a5-8712-4f77-925c-27a9d7560bba\",\"type\":\"Grid\"},{\"id\":\"ccaac7d7-9821-46fe-9af1-a532032c3ffc\",\"type\":\"LogAxis\"},{\"id\":\"dc24fbec-65e5-4709-81de-d8d484da763b\",\"type\":\"Grid\"},{\"id\":\"6db2b4ce-9212-44a6-9095-b30cdb9a67e4\",\"type\":\"BoxAnnotation\"},{\"id\":\"b09748c9-5ea7-41ed-aa5a-2ced9ed8fe9c\",\"type\":\"Legend\"},{\"id\":\"86270e9e-d25f-466d-8e51-f69b6d84f81f\",\"type\":\"GlyphRenderer\"},{\"id\":\"6fa73d58-4d0a-4466-b46e-d92ff1294f8d\",\"type\":\"GlyphRenderer\"},{\"id\":\"cf240b18-b5a4-4215-9ec9-93dbe599aff2\",\"type\":\"GlyphRenderer\"}],\"title\":{\"id\":\"e6261723-d1f3-427a-a92c-95cda3f793b8\",\"type\":\"Title\"},\"toolbar\":{\"id\":\"b188bd89-833d-4006-aa78-023296e2bd0f\",\"type\":\"Toolbar\"},\"x_range\":{\"id\":\"2f32f81d-461f-47b9-8220-0c162602e53d\",\"type\":\"DataRange1d\"},\"x_scale\":{\"id\":\"ae89a93a-175d-4bef-9f88-fa98eec37548\",\"type\":\"LogScale\"},\"y_range\":{\"id\":\"0bf7a833-a345-472e-b66d-9eaae28b61b3\",\"type\":\"DataRange1d\"},\"y_scale\":{\"id\":\"1ad7d8f4-9203-41fa-b270-2c4ee5714c11\",\"type\":\"LogScale\"}},\"id\":\"0a7dab3b-daa8-499f-8d0c-6eeca90b9639\",\"subtype\":\"Figure\",\"type\":\"Plot\"},{\"attributes\":{},\"id\":\"1ad7d8f4-9203-41fa-b270-2c4ee5714c11\",\"type\":\"LogScale\"},{\"attributes\":{\"label\":{\"value\":\"\\u0394\\u03b5 = +4.5\"},\"renderers\":[{\"id\":\"6fa73d58-4d0a-4466-b46e-d92ff1294f8d\",\"type\":\"GlyphRenderer\"}]},\"id\":\"6bf6f3b9-ccfc-4d11-8efa-b91dfa444d71\",\"type\":\"LegendItem\"},{\"attributes\":{\"plot\":null,\"text\":\"Q294K leakiness\"},\"id\":\"e6261723-d1f3-427a-a92c-95cda3f793b8\",\"type\":\"Title\"},{\"attributes\":{\"source\":{\"id\":\"d65f0859-6a9d-48d4-8ebc-20b04c10c1e9\",\"type\":\"ColumnDataSource\"}},\"id\":\"4c0733ea-91f2-4c05-af58-7c1486476792\",\"type\":\"CDSView\"},{\"attributes\":{\"source\":{\"id\":\"c4f0e1dc-cf36-4630-b5df-42e3f3e2e2a1\",\"type\":\"ColumnDataSource\"}},\"id\":\"4d54923e-1b5d-473a-967b-0884a982b12b\",\"type\":\"CDSView\"},{\"attributes\":{\"plot\":{\"id\":\"0a7dab3b-daa8-499f-8d0c-6eeca90b9639\",\"subtype\":\"Figure\",\"type\":\"Plot\"},\"ticker\":{\"id\":\"531c855b-a2f0-4a52-b6cd-6fb9ae135ad6\",\"type\":\"LogTicker\"}},\"id\":\"3149c8a5-8712-4f77-925c-27a9d7560bba\",\"type\":\"Grid\"},{\"attributes\":{\"dimension\":1,\"plot\":{\"id\":\"0a7dab3b-daa8-499f-8d0c-6eeca90b9639\",\"subtype\":\"Figure\",\"type\":\"Plot\"},\"ticker\":{\"id\":\"c60a8818-6f76-49cd-b10a-97cd5ad5c385\",\"type\":\"LogTicker\"}},\"id\":\"dc24fbec-65e5-4709-81de-d8d484da763b\",\"type\":\"Grid\"},{\"attributes\":{\"data_source\":{\"id\":\"c4f0e1dc-cf36-4630-b5df-42e3f3e2e2a1\",\"type\":\"ColumnDataSource\"},\"glyph\":{\"id\":\"bf88806d-514d-4880-849f-202d24b9a7a9\",\"type\":\"Line\"},\"hover_glyph\":null,\"muted_glyph\":null,\"nonselection_glyph\":{\"id\":\"4c818824-2f71-4ae6-a455-423a53c57191\",\"type\":\"Line\"},\"selection_glyph\":null,\"view\":{\"id\":\"4d54923e-1b5d-473a-967b-0884a982b12b\",\"type\":\"CDSView\"}},\"id\":\"86270e9e-d25f-466d-8e51-f69b6d84f81f\",\"type\":\"GlyphRenderer\"},{\"attributes\":{\"overlay\":{\"id\":\"6db2b4ce-9212-44a6-9095-b30cdb9a67e4\",\"type\":\"BoxAnnotation\"}},\"id\":\"08792cae-3a51-4509-b508-141ae71e0ec3\",\"type\":\"BoxZoomTool\"},{\"attributes\":{\"data_source\":{\"id\":\"d65f0859-6a9d-48d4-8ebc-20b04c10c1e9\",\"type\":\"ColumnDataSource\"},\"glyph\":{\"id\":\"789b8a02-9255-4644-a3f6-64788b3fde41\",\"type\":\"Line\"},\"hover_glyph\":null,\"muted_glyph\":null,\"nonselection_glyph\":{\"id\":\"e5ef9f8e-6b27-4a2f-bec4-51c00fb98f4f\",\"type\":\"Line\"},\"selection_glyph\":null,\"view\":{\"id\":\"4c0733ea-91f2-4c05-af58-7c1486476792\",\"type\":\"CDSView\"}},\"id\":\"6fa73d58-4d0a-4466-b46e-d92ff1294f8d\",\"type\":\"GlyphRenderer\"},{\"attributes\":{\"fill_color\":{\"value\":\"slategray\"},\"line_color\":{\"value\":\"slategray\"},\"x\":{\"field\":\"x\"},\"y\":{\"field\":\"y\"}},\"id\":\"72f12ecb-4689-4d3f-a358-ac8947698e80\",\"type\":\"Circle\"},{\"attributes\":{\"source\":{\"id\":\"5d0c172c-6d72-4039-bdb4-fc257ef18a7b\",\"type\":\"ColumnDataSource\"}},\"id\":\"84d181c8-8c41-4dea-a43f-df40769ed4c0\",\"type\":\"CDSView\"},{\"attributes\":{\"callback\":null},\"id\":\"0bf7a833-a345-472e-b66d-9eaae28b61b3\",\"type\":\"DataRange1d\"},{\"attributes\":{\"label\":{\"value\":\"\\u0394\\u03b5 = -2.5\"},\"renderers\":[{\"id\":\"86270e9e-d25f-466d-8e51-f69b6d84f81f\",\"type\":\"GlyphRenderer\"}]},\"id\":\"a75e7e76-e61a-475b-899c-70a9d4c05d06\",\"type\":\"LegendItem\"},{\"attributes\":{\"num_minor_ticks\":10},\"id\":\"531c855b-a2f0-4a52-b6cd-6fb9ae135ad6\",\"type\":\"LogTicker\"},{\"attributes\":{\"line_alpha\":0.1,\"line_color\":\"#1f77b4\",\"line_width\":2,\"x\":{\"field\":\"x\"},\"y\":{\"field\":\"y\"}},\"id\":\"4c818824-2f71-4ae6-a455-423a53c57191\",\"type\":\"Line\"},{\"attributes\":{\"label\":{\"value\":\"data\"},\"renderers\":[{\"id\":\"cf240b18-b5a4-4215-9ec9-93dbe599aff2\",\"type\":\"GlyphRenderer\"}]},\"id\":\"023bba7f-9848-423d-ab9f-ae2bd52e213d\",\"type\":\"LegendItem\"},{\"attributes\":{\"active_drag\":\"auto\",\"active_inspect\":\"auto\",\"active_scroll\":\"auto\",\"active_tap\":\"auto\",\"tools\":[{\"id\":\"95b3ea95-0251-47cb-a4e2-361f3f881655\",\"type\":\"PanTool\"},{\"id\":\"7720db6b-2232-4df0-ac9e-234f6dd0f31c\",\"type\":\"WheelZoomTool\"},{\"id\":\"08792cae-3a51-4509-b508-141ae71e0ec3\",\"type\":\"BoxZoomTool\"},{\"id\":\"28ac371c-3e7c-4462-b82b-db11af84943f\",\"type\":\"SaveTool\"},{\"id\":\"8f426f2c-84e8-4b14-af7d-a5bfe03cf87a\",\"type\":\"ResetTool\"},{\"id\":\"87e3274c-978e-42a4-ad38-fd97c0e532cd\",\"type\":\"HelpTool\"}]},\"id\":\"b188bd89-833d-4006-aa78-023296e2bd0f\",\"type\":\"Toolbar\"}],\"root_ids\":[\"0a7dab3b-daa8-499f-8d0c-6eeca90b9639\"]},\"title\":\"Bokeh Application\",\"version\":\"0.12.13\"}};\n",
       "  var render_items = [{\"docid\":\"b725d735-33be-43f3-ae1c-a458b67e042e\",\"elementid\":\"24c25cb0-bc7e-4d90-b90a-b91c26900e5a\",\"modelid\":\"0a7dab3b-daa8-499f-8d0c-6eeca90b9639\"}];\n",
       "  root.Bokeh.embed.embed_items_notebook(docs_json, render_items);\n",
       "\n",
       "  }\n",
       "  if (root.Bokeh !== undefined) {\n",
       "    embed_document(root);\n",
       "  } else {\n",
       "    var attempts = 0;\n",
       "    var timer = setInterval(function(root) {\n",
       "      if (root.Bokeh !== undefined) {\n",
       "        embed_document(root);\n",
       "        clearInterval(timer);\n",
       "      }\n",
       "      attempts++;\n",
       "      if (attempts > 100) {\n",
       "        console.log(\"Bokeh: ERROR: Unable to run BokehJS code because BokehJS library is missing\")\n",
       "        clearInterval(timer);\n",
       "      }\n",
       "    }, 10, root)\n",
       "  }\n",
       "})(window);"
      ],
      "application/vnd.bokehjs_exec.v0+json": ""
     },
     "metadata": {
      "application/vnd.bokehjs_exec.v0+json": {
       "id": "0a7dab3b-daa8-499f-8d0c-6eeca90b9639"
      }
     },
     "output_type": "display_data"
    }
   ],
   "source": [
    "p = bokeh.plotting.figure(plot_width=600, height=400, x_axis_type='log',\n",
    "                          y_axis_type='log', x_axis_label='repressors per cell',\n",
    "                          y_axis_label='fold-change')\n",
    "\n",
    "# Compute the theoretical fit. \n",
    "theo = mut.thermo.SimpleRepression(rep_range, -13.9, ep_ai=-2.5, effector_conc=0, n_sites=2,\n",
    "                                  ka=0.1, ki=0.1).fold_change() \n",
    "theo2 = mut.thermo.SimpleRepression(rep_range, -13.9, ep_ai=4.5, effector_conc=0, n_sites=2,\n",
    "                                  ka=0.1, ki=0.1).fold_change() \n",
    "p.line(rep_range, theo, line_width=2, color='dodgerblue', legend = 'Δε = -2.5')\n",
    "p.line(rep_range, theo2, line_width=2, color='tomato', legend = 'Δε = +4.5')\n",
    "p.circle(epAI_data['repressors'], epAI_data['fold_change'], color='slategray', legend='data')\n",
    "p.title.text = 'Q294K leakiness'\n",
    "bokeh.io.show(p)"
   ]
  },
  {
   "cell_type": "markdown",
   "metadata": {},
   "source": [
    "## Fit $K_A/K_I$ with new $\\Delta\\varepsilon_{AI}$ "
   ]
  },
  {
   "cell_type": "code",
   "execution_count": null,
   "metadata": {},
   "outputs": [],
   "source": []
  }
 ],
 "metadata": {
  "kernelspec": {
   "display_name": "Python 3",
   "language": "python",
   "name": "python3"
  },
  "language_info": {
   "codemirror_mode": {
    "name": "ipython",
    "version": 3
   },
   "file_extension": ".py",
   "mimetype": "text/x-python",
   "name": "python",
   "nbconvert_exporter": "python",
   "pygments_lexer": "ipython3",
   "version": "3.6.4"
  },
  "latex_envs": {
   "LaTeX_envs_menu_present": true,
   "autoclose": false,
   "autocomplete": true,
   "bibliofile": "biblio.bib",
   "cite_by": "apalike",
   "current_citInitial": 1,
   "eqLabelWithNumbers": true,
   "eqNumInitial": 1,
   "hotkeys": {
    "equation": "Ctrl-E",
    "itemize": "Ctrl-I"
   },
   "labels_anchors": false,
   "latex_user_defs": false,
   "report_style_numbering": false,
   "user_envs_cfg": false
  }
 },
 "nbformat": 4,
 "nbformat_minor": 2
}
