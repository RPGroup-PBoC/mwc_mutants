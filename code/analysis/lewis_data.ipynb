{
 "cells": [
  {
   "cell_type": "markdown",
   "metadata": {},
   "source": [
    "# Revisiting Mitch Lewis Data"
   ]
  },
  {
   "cell_type": "code",
   "execution_count": 2,
   "metadata": {},
   "outputs": [],
   "source": [
    "import sys\n",
    "import numpy as np\n",
    "import pandas as pd\n",
    "import matplotlib.pyplot as plt\n",
    "import seaborn as sns\n",
    "import pystan\n",
    "sys.path.insert(0, '../../')\n",
    "import mut.thermo\n",
    "import mut.bayes\n",
    "import mut.stats\n",
    "import mut.viz\n",
    "import altair as alt\n",
    "alt.themes.register('pboc', mut.viz.altair_config)\n",
    "alt.data_transformers.enable('json')\n",
    "alt.themes.enable('pboc')\n",
    "constants = mut.thermo.load_constants()\n",
    "colors = mut.viz.color_selector('pboc')\n",
    "mut.viz.plotting_style()\n",
    "%load_ext stanmagic"
   ]
  },
  {
   "cell_type": "code",
   "execution_count": 3,
   "metadata": {},
   "outputs": [],
   "source": [
    "# Load the data\n",
    "data = pd.read_csv('../../data/csv/Daber2011_data.csv')"
   ]
  },
  {
   "cell_type": "markdown",
   "metadata": {},
   "source": [
    "## Testing the wild-type\n",
    "\n",
    "There are some experimental differences between the approach we took and what Daber and Lewis did. They relied on expression of the LacI mutants from a plasmid and had yet another plasmid expressing the reporter. This makes things difficult to deal with as we have some variation in copy-number that is not well understood on our end. We can deal with this by fitting the ratio $R / K_{DNA}$ rather than the repressor copy number and DNA binding energy. I know from our work with the induction paper that this doesn't work with our known $K_A$ and $K_I$ from the induction paper, so these parameters will need to be refit. Below I define a stan model which performs inference on these parameters, using the literature value for $\\Delta\\varepsilon_{AI}$"
   ]
  },
  {
   "cell_type": "code",
   "execution_count": 4,
   "metadata": {},
   "outputs": [],
   "source": [
    "def pact(c, Ka=139, Ki=0.53, ep_AI=4.5, n_sites=2):\n",
    "    \"\"\"Computes the probability of a repressor being active at an inducer concentration c\"\"\"\n",
    "    numer = (1 + c / Ka)**n_sites\n",
    "    denom = numer + np.exp(-ep_AI) * (1 + c / Ki)**n_sites\n",
    "    return numer / denom\n",
    "\n",
    "def fc_rkdna(r_kdna, c, Ka=139, Ki=0.53, ep_AI=4.5, n_sites=2):\n",
    "    p_act = pact(c, Ka, Ki, ep_AI, n_sites)\n",
    "    return (1 + r_kdna * p_act)**-1\n"
   ]
  },
  {
   "cell_type": "code",
   "execution_count": 98,
   "metadata": {},
   "outputs": [
    {
     "name": "stdout",
     "output_type": "stream",
     "text": [
      "Using pystan.stanc compiler..\n",
      "-------------------------------------------------------------------------------\n",
      "Model compiled successfully. Output stored in R_KDNA_model object.\n",
      "Type R_KDNA_model in a cell to see a nicely formatted code output in a notebook\n",
      "     ^^^^^^^^^^^^\n",
      "Access model compile output properties\n",
      "R_KDNA_model.model_file -> Name of stan_file [None]\n",
      "R_KDNA_model.model_name -> Name of stan model [None]\n",
      "R_KDNA_model.model_code -> Model code [data {       // Dime ....]\n"
     ]
    }
   ],
   "source": [
    "%%stan -v R_KDNA_model\n",
    "data {  \n",
    "    // Dimensional parameters\n",
    "    int<lower=1> J; // Number of unique mutants\n",
    "    int<lower=1> N; // Number of unique measurements\n",
    "    int<lower=1, upper=J> idx[N]; // Identification vector for mutants\n",
    "\n",
    "    // Allosteric parameters\n",
    "    vector<lower=0>[N] c; // Inducer concentration in µM\n",
    "    real ep_AI; // Allosteric energy difference in kBT\n",
    "    int n_sites; // Number of unique allosteric sites\n",
    "    \n",
    "    // Observed parameters\n",
    "    vector<lower=-0.2, upper=1.2>[N] fc; // Fold-change in gene expression\n",
    "}\n",
    "\n",
    "parameters {\n",
    "    real r_kdna[J];\n",
    "    real<lower=0> sigma[J];\n",
    "    real<lower=0> Ka;\n",
    "    real<lower=0> Ki;\n",
    "\n",
    "}\n",
    "\n",
    "transformed parameters {\n",
    "    real log_ka;\n",
    "    real log_ki;\n",
    "    log_ka = log(Ka);\n",
    "    log_ki = log(Ki);\n",
    "}\n",
    "\n",
    "model {\n",
    "    vector[N] mu;\n",
    "    vector[N] numer;\n",
    "    vector[N] denom;\n",
    "    \n",
    "    // Define the priors\n",
    "    r_kdna ~ lognormal(0, 10);\n",
    "    sigma ~ normal(0, 1);\n",
    "    log_ka ~ normal(0, 1);\n",
    "    log_ki ~ normal(0, 1);\n",
    "    for (i in 1:N) {\n",
    "        // Compute the pact. \n",
    "        numer[i] = (1 + c[i] * exp(-log_ka))^n_sites;\n",
    "        denom[i] = numer[i] + exp(-ep_AI) * (1 + c[i] * exp(-log_ki))^n_sites;\n",
    "        \n",
    "        // Compute the theoretical fold-change\n",
    "        mu[i] = (1 + (numer[i] / denom[i]) * r_kdna[idx[i]])^-1;\n",
    "        \n",
    "        \n",
    "        // Evaluate the likelihood\n",
    "        fc[i] ~ normal(mu[i], sigma[idx[i]]);\n",
    "    }\n",
    "}"
   ]
  },
  {
   "cell_type": "code",
   "execution_count": 99,
   "metadata": {},
   "outputs": [
    {
     "name": "stderr",
     "output_type": "stream",
     "text": [
      "INFO:pystan:COMPILING THE C++ CODE FOR MODEL anon_model_2f43da10dc76ca5f7bebd481d54a89b6 NOW.\n"
     ]
    }
   ],
   "source": [
    "# Compile the model\n",
    "model = pystan.StanModel(model_code=R_KDNA_model.model_code)"
   ]
  },
  {
   "cell_type": "code",
   "execution_count": 100,
   "metadata": {},
   "outputs": [],
   "source": [
    "# Separate the data and add identifiers. \n",
    "DNA_data = data[(data['class']=='WT') | (data['class']=='DNA')].copy()\n",
    "DNA_idx = {m:i+1 for i, m in enumerate(DNA_data['mutant'].unique())}\n",
    "for m, i in DNA_idx.items():\n",
    "    DNA_data.loc[DNA_data['mutant']==m, 'idx'] = i\n",
    "DNA_data['idx'] = DNA_data['idx'].values.astype(int)\n",
    "\n",
    "# Assemble the data dictionary. \n",
    "data_dict = dict(J=len(DNA_idx), N=len(DNA_data), idx=DNA_data['idx'],\n",
    "                Ka=constants['Ka'], Ki=constants['Ki'], ep_AI=constants['ep_AI'],\n",
    "                n_sites=constants['n_sites'], c=DNA_data['IPTGuM'],\n",
    "                fc=DNA_data['fold_change'])\n",
    "\n",
    "# Sample the model. \n",
    "samples = model.sampling(data_dict, iter=10000, chains=4)"
   ]
  },
  {
   "cell_type": "code",
   "execution_count": 106,
   "metadata": {},
   "outputs": [],
   "source": [
    "samples_df = mut.bayes.chains_to_dataframe(samples)\n",
    "# rename the columns \n",
    "new_names = {'{}.{}'.format(p, i):'{}.{}'.format(p, m) for m, i in DNA_idx.items() for p in ['r_kdna', 'sigma']}\n",
    "samples_df.rename(columns=new_names, inplace=True)\n",
    "\n",
    "# Compute the statistics\n",
    "stats = mut.stats.compute_statistics(samples_df)\n",
    "\n",
    "# Compute the fits. \n",
    "c_range = np.logspace(-2, 7, 200)\n",
    "dfs = []\n",
    "for m, i in DNA_idx.items():\n",
    "    r_kdna = stats[stats['parameter']=='r_kdna.{}'.format(m)].values[0][1]\n",
    "    ka = stats[stats['parameter'] == 'Ka'].values[0][1]\n",
    "    ki = stats[stats['parameter'] == 'Ki'].values[0][1]\n",
    "    fc_mode = fc_rkdna(r_kdna, c_range, Ka=ka, Ki=ki)\n",
    "    cred_region = np.zeros([2, len(c_range)])\n",
    "    for j, c in enumerate(c_range):\n",
    "        _fc = fc_rkdna(samples_df['r_kdna.{}'.format(m)], c, Ka=samples_df['Ka'], Ki=samples_df['Ki'])\n",
    "        cred_region[:, j] = mut.stats.compute_hpd(_fc, 0.95)\n",
    "    # Make the data frame. \n",
    "    _df = pd.DataFrame(np.array([c_range, fc_mode, cred_region[0, :], cred_region[1, :]]).T, \n",
    "                      columns=['IPTGuM', 'mode', 'min', 'max'])\n",
    "    _df['mutant'] = m\n",
    "    dfs.append(_df)\n",
    "fit_df = pd.concat(dfs)"
   ]
  },
  {
   "cell_type": "code",
   "execution_count": 107,
   "metadata": {},
   "outputs": [
    {
     "data": {
      "application/vnd.vegalite.v2+json": {
       "$schema": "https://vega.github.io/schema/vega-lite/v2.6.0.json",
       "config": {
        "axis": {
         "domain": false,
         "gridColor": "#ffffff",
         "gridOpacity": 0.75,
         "gridWidth": 1,
         "labelFont": "Lucida Sans Unicode",
         "tickColor": "#ffffff",
         "titleFont": "Lucida Sans Unicode",
         "titleFontWeight": "normal"
        },
        "legend": {
         "labelFont": "Lucida Sans Unicode",
         "titleFont": "Lucida Sans Unicode",
         "titleFontWeight": "normal"
        },
        "text": {
         "font": "Lucida Sans Unicode",
         "fontWeight": "normal"
        },
        "view": {
         "fill": "#E3DCD1"
        }
       },
       "layer": [
        {
         "data": {
          "format": {
           "type": "json"
          },
          "url": "altair-data-dc8f851c7e6ac42b158353e0f067f3bc.json"
         },
         "encoding": {
          "color": {
           "field": "mutant",
           "type": "nominal"
          },
          "x": {
           "axis": {
            "title": "IPTG [µM]"
           },
           "field": "IPTGuM",
           "scale": {
            "type": "log"
           },
           "type": "quantitative"
          },
          "y": {
           "axis": {
            "title": "fold-change"
           },
           "field": "fold_change",
           "type": "quantitative"
          }
         },
         "height": 350,
         "mark": {
          "filled": true,
          "type": "point"
         },
         "selection": {
          "selector016": {
           "bind": "scales",
           "encodings": [
            "x",
            "y"
           ],
           "mark": {
            "fill": "#333",
            "fillOpacity": 0.125,
            "stroke": "white"
           },
           "on": "[mousedown, window:mouseup] > window:mousemove!",
           "resolve": "global",
           "translate": "[mousedown, window:mouseup] > window:mousemove!",
           "type": "interval",
           "zoom": "wheel!"
          }
         },
         "width": 450
        },
        {
         "data": {
          "format": {
           "type": "json"
          },
          "url": "altair-data-d289efbe26f74d05bdd238ba37abb258.json"
         },
         "encoding": {
          "color": {
           "field": "mutant",
           "type": "nominal"
          },
          "x": {
           "field": "IPTGuM",
           "type": "quantitative"
          },
          "y": {
           "field": "mode",
           "type": "quantitative"
          }
         },
         "mark": "line"
        },
        {
         "data": {
          "format": {
           "type": "json"
          },
          "url": "altair-data-d289efbe26f74d05bdd238ba37abb258.json"
         },
         "encoding": {
          "color": {
           "field": "mutant",
           "type": "nominal"
          },
          "x": {
           "field": "IPTGuM",
           "type": "quantitative"
          },
          "y": {
           "field": "min",
           "type": "quantitative"
          },
          "y2": {
           "field": "max",
           "type": "quantitative"
          }
         },
         "mark": {
          "opacity": 0.4,
          "type": "area"
         }
        }
       ]
      },
      "image/png": "[encoded data removed]",
      "text/plain": [
       "<VegaLite 2 object>\n",
       "\n",
       "If you see this message, it means the renderer has not been properly enabled\n",
       "for the frontend that you are using. For more information, see\n",
       "https://altair-viz.github.io/user_guide/troubleshooting.html\n"
      ]
     },
     "execution_count": 107,
     "metadata": {},
     "output_type": "execute_result"
    }
   ],
   "source": [
    "points = alt.Chart(DNA_data, width=450, height=350).mark_point(filled=True).encode(\n",
    "        x=alt.X('IPTGuM:Q', scale={'type':'log'}, axis={'title':'IPTG [µM]'}),\n",
    "        y=alt.Y('fold_change:Q', axis={'title':'fold-change'}),\n",
    "        color='mutant:N').interactive()\n",
    "\n",
    "modes = alt.Chart(fit_df).mark_line().encode(\n",
    "        x='IPTGuM:Q',\n",
    "        y='mode:Q',\n",
    "        color='mutant:N')\n",
    "\n",
    "creds = alt.Chart(fit_df).mark_area(opacity=0.4).encode(\n",
    "        x='IPTGuM:Q',\n",
    "        y='min:Q', y2='max:Q',\n",
    "        color='mutant:N')\n",
    "\n",
    "points + modes + creds"
   ]
  },
  {
   "cell_type": "code",
   "execution_count": 109,
   "metadata": {},
   "outputs": [
    {
     "data": {
      "text/html": [
       "<div>\n",
       "<style scoped>\n",
       "    .dataframe tbody tr th:only-of-type {\n",
       "        vertical-align: middle;\n",
       "    }\n",
       "\n",
       "    .dataframe tbody tr th {\n",
       "        vertical-align: top;\n",
       "    }\n",
       "\n",
       "    .dataframe thead th {\n",
       "        text-align: right;\n",
       "    }\n",
       "</style>\n",
       "<table border=\"1\" class=\"dataframe\">\n",
       "  <thead>\n",
       "    <tr style=\"text-align: right;\">\n",
       "      <th></th>\n",
       "      <th>parameter</th>\n",
       "      <th>mode</th>\n",
       "      <th>hpd_min</th>\n",
       "      <th>hpd_max</th>\n",
       "    </tr>\n",
       "  </thead>\n",
       "  <tbody>\n",
       "    <tr>\n",
       "      <th>0</th>\n",
       "      <td>r_kdna.wt</td>\n",
       "      <td>17.619581</td>\n",
       "      <td>13.354637</td>\n",
       "      <td>29.413027</td>\n",
       "    </tr>\n",
       "    <tr>\n",
       "      <th>1</th>\n",
       "      <td>r_kdna.Q18A</td>\n",
       "      <td>2.189444</td>\n",
       "      <td>1.832461</td>\n",
       "      <td>2.766189</td>\n",
       "    </tr>\n",
       "    <tr>\n",
       "      <th>2</th>\n",
       "      <td>r_kdna.Q18M</td>\n",
       "      <td>174.843003</td>\n",
       "      <td>130.090306</td>\n",
       "      <td>289.680670</td>\n",
       "    </tr>\n",
       "    <tr>\n",
       "      <th>3</th>\n",
       "      <td>r_kdna.Y17I</td>\n",
       "      <td>1.125737</td>\n",
       "      <td>0.987453</td>\n",
       "      <td>1.540340</td>\n",
       "    </tr>\n",
       "    <tr>\n",
       "      <th>4</th>\n",
       "      <td>sigma.wt</td>\n",
       "      <td>0.040555</td>\n",
       "      <td>0.027503</td>\n",
       "      <td>0.053931</td>\n",
       "    </tr>\n",
       "    <tr>\n",
       "      <th>5</th>\n",
       "      <td>sigma.Q18A</td>\n",
       "      <td>0.049685</td>\n",
       "      <td>0.038191</td>\n",
       "      <td>0.069500</td>\n",
       "    </tr>\n",
       "    <tr>\n",
       "      <th>6</th>\n",
       "      <td>sigma.Q18M</td>\n",
       "      <td>0.015666</td>\n",
       "      <td>0.012029</td>\n",
       "      <td>0.023518</td>\n",
       "    </tr>\n",
       "    <tr>\n",
       "      <th>7</th>\n",
       "      <td>sigma.Y17I</td>\n",
       "      <td>0.069580</td>\n",
       "      <td>0.051970</td>\n",
       "      <td>0.093438</td>\n",
       "    </tr>\n",
       "    <tr>\n",
       "      <th>8</th>\n",
       "      <td>Ka</td>\n",
       "      <td>12.730820</td>\n",
       "      <td>10.655491</td>\n",
       "      <td>15.254040</td>\n",
       "    </tr>\n",
       "    <tr>\n",
       "      <th>9</th>\n",
       "      <td>Ki</td>\n",
       "      <td>0.191805</td>\n",
       "      <td>0.137718</td>\n",
       "      <td>0.229935</td>\n",
       "    </tr>\n",
       "    <tr>\n",
       "      <th>10</th>\n",
       "      <td>log_ka</td>\n",
       "      <td>2.544026</td>\n",
       "      <td>2.378254</td>\n",
       "      <td>2.736754</td>\n",
       "    </tr>\n",
       "    <tr>\n",
       "      <th>11</th>\n",
       "      <td>log_ki</td>\n",
       "      <td>-1.651274</td>\n",
       "      <td>-1.976806</td>\n",
       "      <td>-1.466033</td>\n",
       "    </tr>\n",
       "  </tbody>\n",
       "</table>\n",
       "</div>"
      ],
      "text/plain": [
       "      parameter        mode     hpd_min     hpd_max\n",
       "0     r_kdna.wt   17.619581   13.354637   29.413027\n",
       "1   r_kdna.Q18A    2.189444    1.832461    2.766189\n",
       "2   r_kdna.Q18M  174.843003  130.090306  289.680670\n",
       "3   r_kdna.Y17I    1.125737    0.987453    1.540340\n",
       "4      sigma.wt    0.040555    0.027503    0.053931\n",
       "5    sigma.Q18A    0.049685    0.038191    0.069500\n",
       "6    sigma.Q18M    0.015666    0.012029    0.023518\n",
       "7    sigma.Y17I    0.069580    0.051970    0.093438\n",
       "8            Ka   12.730820   10.655491   15.254040\n",
       "9            Ki    0.191805    0.137718    0.229935\n",
       "10       log_ka    2.544026    2.378254    2.736754\n",
       "11       log_ki   -1.651274   -1.976806   -1.466033"
      ]
     },
     "execution_count": 109,
     "metadata": {},
     "output_type": "execute_result"
    }
   ],
   "source": [
    "stats"
   ]
  },
  {
   "cell_type": "markdown",
   "metadata": {},
   "source": [
    "Okay, this seems to work. Here, I fit a *single* value for $K_A$ and $K_I$ to all of the traces at once and a value of $R \\over K_{DNA}$ to each curve individually. Now, we can try to do the opposite with the inducer mutants. "
   ]
  },
  {
   "cell_type": "code",
   "execution_count": 5,
   "metadata": {},
   "outputs": [
    {
     "name": "stdout",
     "output_type": "stream",
     "text": [
      "Using pystan.stanc compiler..\n",
      "-------------------------------------------------------------------------------\n",
      "Model compiled successfully. Output stored in KAKI_model object.\n",
      "Type KAKI_model in a cell to see a nicely formatted code output in a notebook\n",
      "     ^^^^^^^^^^\n",
      "Access model compile output properties\n",
      "KAKI_model.model_file -> Name of stan_file [None]\n",
      "KAKI_model.model_name -> Name of stan model [None]\n",
      "KAKI_model.model_code -> Model code [data {       // Dime ....]\n"
     ]
    }
   ],
   "source": [
    "%%stan -v KAKI_model\n",
    "data {  \n",
    "    // Dimensional parameters\n",
    "    int<lower=1> J; // Number of unique mutants\n",
    "    int<lower=1> N; // Number of unique measurements\n",
    "    int<lower=1, upper=J> idx[N]; // Identification vector for mutants\n",
    "\n",
    "    // Allosteric parameters\n",
    "    vector<lower=0>[N] c; // Inducer concentration in µM\n",
    "    real ep_AI; // Allosteric energy difference in kBT\n",
    "    int n_sites; // Number of unique allosteric sites\n",
    "    \n",
    "    // Observed parameters\n",
    "    vector[N] fc; // Fold-change in gene expression\n",
    "}\n",
    "\n",
    "parameters {\n",
    "    real<lower=0> r_kdna;\n",
    "    real<lower=0> sigma[J];\n",
    "    real<lower=0, upper=1E6> Ka[J];\n",
    "    real<lower=0, upper=1E6> Ki[J];\n",
    "\n",
    "}\n",
    "\n",
    "transformed parameters {\n",
    "    real log_ka[J];\n",
    "    real log_ki[J];\n",
    "    log_ka = log(Ka);\n",
    "    log_ki = log(Ki);\n",
    "}\n",
    "\n",
    "model {\n",
    "    vector[N] mu;\n",
    "    vector[N] numer;\n",
    "    vector[N] denom;\n",
    "    \n",
    "    // Define the priors\n",
    "    r_kdna ~ lognormal(0, 2);\n",
    "    sigma ~ normal(0, 1);\n",
    "    log_ka ~ normal(0, 1);\n",
    "    log_ki ~ normal(0, 1);\n",
    "    for (i in 1:N) {\n",
    "        // Compute the pact. \n",
    "        numer[i] = (1 + c[i] * exp(-log_ka[idx[i]]))^n_sites;\n",
    "        denom[i] = numer[i] + exp(-ep_AI) * (1 + c[i] * exp(-log_ki[idx[i]]))^n_sites;\n",
    "        \n",
    "        // Compute the theoretical fold-change\n",
    "        mu[i] = (1 + (numer[i] / denom[i]) * r_kdna)^-1;\n",
    "        \n",
    "        \n",
    "        // Evaluate the likelihood\n",
    "        fc[i] ~ normal(mu[i], sigma[idx[i]]);\n",
    "    }\n",
    "}    "
   ]
  },
  {
   "cell_type": "code",
   "execution_count": 6,
   "metadata": {},
   "outputs": [
    {
     "name": "stderr",
     "output_type": "stream",
     "text": [
      "INFO:pystan:COMPILING THE C++ CODE FOR MODEL anon_model_84105540e0e8a023c2b4437ef158e120 NOW.\n"
     ]
    }
   ],
   "source": [
    "# compile the model\n",
    "kaki_model = pystan.StanModel(model_code=KAKI_model.model_code)"
   ]
  },
  {
   "cell_type": "code",
   "execution_count": 15,
   "metadata": {},
   "outputs": [
    {
     "name": "stderr",
     "output_type": "stream",
     "text": [
      "WARNING:pystan:n_eff / iter for parameter Ka[7] is 0.0005932201895290259!\n",
      "WARNING:pystan:n_eff / iter for parameter Ka[11] is 0.0007138274182911972!\n",
      "WARNING:pystan:n_eff / iter for parameter Ki[7] is 0.0006777494460316475!\n",
      "WARNING:pystan:n_eff / iter for parameter Ki[11] is 0.000735401895210909!\n",
      "WARNING:pystan:n_eff / iter for parameter log_ka[7] is 0.0006148069606525736!\n",
      "WARNING:pystan:n_eff / iter for parameter log_ka[11] is 0.0007347331256050025!\n",
      "WARNING:pystan:n_eff / iter for parameter log_ki[7] is 0.0006815011103165691!\n",
      "WARNING:pystan:n_eff / iter for parameter log_ki[11] is 0.0007440211790612478!\n",
      "WARNING:pystan:n_eff / iter below 0.001 indicates that the effective sample size has likely been overestimated\n",
      "WARNING:pystan:Rhat for parameter sigma[5] is 1.1067402681800405!\n",
      "WARNING:pystan:Rhat for parameter Ka[5] is 1.113679059135017!\n",
      "WARNING:pystan:Rhat for parameter Ka[7] is 1.1358052337505475!\n",
      "WARNING:pystan:Rhat for parameter Ki[5] is 1.1133005677070194!\n",
      "WARNING:pystan:Rhat for parameter Ki[7] is 1.111982802124176!\n",
      "WARNING:pystan:Rhat for parameter log_ka[5] is 1.1041096465875122!\n",
      "WARNING:pystan:Rhat for parameter log_ka[7] is 1.127449188322819!\n",
      "WARNING:pystan:Rhat for parameter log_ki[5] is 1.1051969901808094!\n",
      "WARNING:pystan:Rhat for parameter log_ki[7] is 1.1089128093141183!\n",
      "WARNING:pystan:Rhat for parameter lp__ is 1.100864200515145!\n",
      "WARNING:pystan:Rhat above 1.1 or below 0.9 indicates that the chains very likely have not mixed\n",
      "WARNING:pystan:3658 of 20000 iterations ended with a divergence (18.29%).\n",
      "WARNING:pystan:Try running with adapt_delta larger than 0.8 to remove the divergences.\n",
      "WARNING:pystan:9730 of 20000 iterations saturated the maximum tree depth of 10 (48.65%)\n",
      "WARNING:pystan:Run again with max_treedepth larger than 10 to avoid saturation\n"
     ]
    }
   ],
   "source": [
    "# Parse the data and add identifiers.\n",
    "IND_data = data[(data['class']=='WT') | (data['class']=='IND')].copy()\n",
    "IND_idx = {m:i +1 for i, m in enumerate(IND_data['mutant'].unique())}\n",
    "for m, i in IND_idx.items():\n",
    "    IND_data.loc[IND_data['mutant']==m, 'idx'] = i\n",
    "IND_data['idx'] = IND_data['idx'].astype(int)\n",
    "\n",
    "# Assemble the data dictionary and sample.\n",
    "data_dict = dict(J=len(IND_idx), N=len(IND_data), idx=IND_data['idx'],\n",
    "                c=IND_data['IPTGuM'], ep_AI=constants['ep_AI'], n_sites=constants['n_sites'],\n",
    "                fc=IND_data['fold_change'])\n",
    "kaki_samples = kaki_model.sampling(data_dict, iter=10000, chains=4)"
   ]
  },
  {
   "cell_type": "code",
   "execution_count": 16,
   "metadata": {},
   "outputs": [],
   "source": [
    "# Process the dataframe\n",
    "kaki_df = mut.bayes.chains_to_dataframe(kaki_samples)\n",
    "# rename the columns \n",
    "new_names = {'{}.{}'.format(p, i):'{}.{}'.format(p, m) for m, i in IND_idx.items() for p in ['Ka', 'Ki','sigma']}\n",
    "kaki_df.rename(columns=new_names, inplace=True)\n",
    "\n",
    "# Compute the statistics\n",
    "kaki_stats = mut.stats.compute_statistics(kaki_df)\n",
    "\n",
    "# Compute the fits. \n",
    "c_range = np.logspace(-2, 7, 200)\n",
    "dfs = []\n",
    "for m, i in IND_idx.items():\n",
    "    r_kdna = kaki_stats[kaki_stats['parameter']=='r_kdna'].values[0][1]\n",
    "    ka = kaki_stats[kaki_stats['parameter'] == 'Ka.{}'.format(m)].values[0][1]\n",
    "    ki = kaki_stats[kaki_stats['parameter'] == 'Ki.{}'.format(m)].values[0][1]\n",
    "    fc_mode = fc_rkdna(r_kdna, c_range, Ka=ka, Ki=ki)\n",
    "    cred_region = np.zeros([2, len(c_range)])\n",
    "    for j, c in enumerate(c_range):\n",
    "        _fc = fc_rkdna(kaki_df['r_kdna'], c, Ka=kaki_df['Ka.{}'.format(m)], Ki=kaki_df['Ki.{}'.format(m)])\n",
    "        cred_region[:, j] = mut.stats.compute_hpd(_fc, 0.95)\n",
    "    # Make the data frame. \n",
    "    _df = pd.DataFrame(np.array([c_range, fc_mode, cred_region[0, :], cred_region[1, :]]).T, \n",
    "                      columns=['IPTGuM', 'mode', 'min', 'max'])\n",
    "    _df['mutant'] = m\n",
    "    dfs.append(_df)\n",
    "kaki_fit_df = pd.concat(dfs)"
   ]
  },
  {
   "cell_type": "code",
   "execution_count": 17,
   "metadata": {},
   "outputs": [
    {
     "data": {
      "application/vnd.vegalite.v2+json": {
       "$schema": "https://vega.github.io/schema/vega-lite/v2.6.0.json",
       "config": {
        "axis": {
         "domain": false,
         "gridColor": "#ffffff",
         "gridOpacity": 0.75,
         "gridWidth": 1,
         "labelFont": "Lucida Sans Unicode",
         "tickColor": "#ffffff",
         "titleFont": "Lucida Sans Unicode",
         "titleFontWeight": "normal"
        },
        "legend": {
         "labelFont": "Lucida Sans Unicode",
         "titleFont": "Lucida Sans Unicode",
         "titleFontWeight": "normal"
        },
        "text": {
         "font": "Lucida Sans Unicode",
         "fontWeight": "normal"
        },
        "view": {
         "fill": "#E3DCD1"
        }
       },
       "layer": [
        {
         "data": {
          "format": {
           "type": "json"
          },
          "url": "altair-data-a250f39876f757863d6c2eded10ce8d0.json"
         },
         "encoding": {
          "color": {
           "field": "mutant",
           "type": "nominal"
          },
          "x": {
           "axis": {
            "title": "IPTG [µM]"
           },
           "field": "IPTGuM",
           "scale": {
            "type": "log"
           },
           "type": "quantitative"
          },
          "y": {
           "axis": {
            "title": "fold-change"
           },
           "field": "fold_change",
           "type": "quantitative"
          }
         },
         "height": 350,
         "mark": {
          "filled": true,
          "type": "point"
         },
         "selection": {
          "selector003": {
           "bind": "scales",
           "encodings": [
            "x",
            "y"
           ],
           "mark": {
            "fill": "#333",
            "fillOpacity": 0.125,
            "stroke": "white"
           },
           "on": "[mousedown, window:mouseup] > window:mousemove!",
           "resolve": "global",
           "translate": "[mousedown, window:mouseup] > window:mousemove!",
           "type": "interval",
           "zoom": "wheel!"
          }
         },
         "width": 450
        },
        {
         "data": {
          "format": {
           "type": "json"
          },
          "url": "altair-data-f653dd080f2f42f6bcfb6f5094e85ddc.json"
         },
         "encoding": {
          "color": {
           "field": "mutant",
           "type": "nominal"
          },
          "x": {
           "field": "IPTGuM",
           "type": "quantitative"
          },
          "y": {
           "field": "mode",
           "type": "quantitative"
          }
         },
         "mark": "line"
        },
        {
         "data": {
          "format": {
           "type": "json"
          },
          "url": "altair-data-f653dd080f2f42f6bcfb6f5094e85ddc.json"
         },
         "encoding": {
          "color": {
           "field": "mutant",
           "type": "nominal"
          },
          "x": {
           "field": "IPTGuM",
           "type": "quantitative"
          },
          "y": {
           "field": "min",
           "type": "quantitative"
          },
          "y2": {
           "field": "max",
           "type": "quantitative"
          }
         },
         "mark": {
          "opacity": 0.4,
          "type": "area"
         }
        }
       ]
      },
      "image/png": "[encoded data removed]",
      "text/plain": [
       "<VegaLite 2 object>\n",
       "\n",
       "If you see this message, it means the renderer has not been properly enabled\n",
       "for the frontend that you are using. For more information, see\n",
       "https://altair-viz.github.io/user_guide/troubleshooting.html\n"
      ]
     },
     "execution_count": 17,
     "metadata": {},
     "output_type": "execute_result"
    }
   ],
   "source": [
    "points = alt.Chart(IND_data, width=450, height=350).mark_point(filled=True).encode(\n",
    "        x=alt.X('IPTGuM:Q', scale={'type':'log'}, axis={'title':'IPTG [µM]'}),\n",
    "        y=alt.Y('fold_change:Q', axis={'title':'fold-change'}),\n",
    "        color='mutant:N').interactive()\n",
    "\n",
    "modes = alt.Chart(kaki_fit_df).mark_line().encode(\n",
    "        x='IPTGuM:Q',\n",
    "        y='mode:Q',\n",
    "        color='mutant:N')\n",
    "\n",
    "creds = alt.Chart(kaki_fit_df).mark_area(opacity=0.4).encode(\n",
    "        x='IPTGuM:Q',\n",
    "        y='min:Q', y2='max:Q',\n",
    "        color='mutant:N')\n",
    "\n",
    "points + modes + creds"
   ]
  },
  {
   "cell_type": "code",
   "execution_count": 13,
   "metadata": {},
   "outputs": [
    {
     "data": {
      "text/html": [
       "<div>\n",
       "<style scoped>\n",
       "    .dataframe tbody tr th:only-of-type {\n",
       "        vertical-align: middle;\n",
       "    }\n",
       "\n",
       "    .dataframe tbody tr th {\n",
       "        vertical-align: top;\n",
       "    }\n",
       "\n",
       "    .dataframe thead th {\n",
       "        text-align: right;\n",
       "    }\n",
       "</style>\n",
       "<table border=\"1\" class=\"dataframe\">\n",
       "  <thead>\n",
       "    <tr style=\"text-align: right;\">\n",
       "      <th></th>\n",
       "      <th>parameter</th>\n",
       "      <th>mode</th>\n",
       "      <th>hpd_min</th>\n",
       "      <th>hpd_max</th>\n",
       "    </tr>\n",
       "  </thead>\n",
       "  <tbody>\n",
       "    <tr>\n",
       "      <th>0</th>\n",
       "      <td>r_kdna</td>\n",
       "      <td>67.732532</td>\n",
       "      <td>57.104592</td>\n",
       "      <td>69.909513</td>\n",
       "    </tr>\n",
       "    <tr>\n",
       "      <th>1</th>\n",
       "      <td>sigma.wt</td>\n",
       "      <td>0.038568</td>\n",
       "      <td>0.029921</td>\n",
       "      <td>0.057667</td>\n",
       "    </tr>\n",
       "    <tr>\n",
       "      <th>2</th>\n",
       "      <td>sigma.F161N</td>\n",
       "      <td>0.103791</td>\n",
       "      <td>0.079161</td>\n",
       "      <td>0.158205</td>\n",
       "    </tr>\n",
       "    <tr>\n",
       "      <th>3</th>\n",
       "      <td>sigma.F161T</td>\n",
       "      <td>0.040964</td>\n",
       "      <td>0.034410</td>\n",
       "      <td>0.066638</td>\n",
       "    </tr>\n",
       "    <tr>\n",
       "      <th>4</th>\n",
       "      <td>sigma.F161W</td>\n",
       "      <td>0.069637</td>\n",
       "      <td>0.057216</td>\n",
       "      <td>0.114775</td>\n",
       "    </tr>\n",
       "    <tr>\n",
       "      <th>5</th>\n",
       "      <td>sigma.F293R</td>\n",
       "      <td>0.011737</td>\n",
       "      <td>0.008653</td>\n",
       "      <td>0.148102</td>\n",
       "    </tr>\n",
       "    <tr>\n",
       "      <th>6</th>\n",
       "      <td>sigma.L296W</td>\n",
       "      <td>0.084828</td>\n",
       "      <td>0.063563</td>\n",
       "      <td>0.126289</td>\n",
       "    </tr>\n",
       "    <tr>\n",
       "      <th>7</th>\n",
       "      <td>sigma.Q291I</td>\n",
       "      <td>0.058578</td>\n",
       "      <td>0.042654</td>\n",
       "      <td>0.081359</td>\n",
       "    </tr>\n",
       "    <tr>\n",
       "      <th>8</th>\n",
       "      <td>sigma.Q291K</td>\n",
       "      <td>0.073628</td>\n",
       "      <td>0.050998</td>\n",
       "      <td>0.096269</td>\n",
       "    </tr>\n",
       "    <tr>\n",
       "      <th>9</th>\n",
       "      <td>sigma.Q291M</td>\n",
       "      <td>0.061032</td>\n",
       "      <td>0.048760</td>\n",
       "      <td>0.098047</td>\n",
       "    </tr>\n",
       "    <tr>\n",
       "      <th>10</th>\n",
       "      <td>sigma.Q291R</td>\n",
       "      <td>0.001282</td>\n",
       "      <td>0.000895</td>\n",
       "      <td>0.001698</td>\n",
       "    </tr>\n",
       "    <tr>\n",
       "      <th>11</th>\n",
       "      <td>sigma.Q291V</td>\n",
       "      <td>0.022249</td>\n",
       "      <td>0.017860</td>\n",
       "      <td>0.037123</td>\n",
       "    </tr>\n",
       "    <tr>\n",
       "      <th>12</th>\n",
       "      <td>Ka.wt</td>\n",
       "      <td>11.897165</td>\n",
       "      <td>8.599207</td>\n",
       "      <td>14.494261</td>\n",
       "    </tr>\n",
       "    <tr>\n",
       "      <th>13</th>\n",
       "      <td>Ka.F161N</td>\n",
       "      <td>88.371355</td>\n",
       "      <td>23.664802</td>\n",
       "      <td>86.556900</td>\n",
       "    </tr>\n",
       "    <tr>\n",
       "      <th>14</th>\n",
       "      <td>Ka.F161T</td>\n",
       "      <td>13.218643</td>\n",
       "      <td>8.801661</td>\n",
       "      <td>14.867495</td>\n",
       "    </tr>\n",
       "    <tr>\n",
       "      <th>15</th>\n",
       "      <td>Ka.F161W</td>\n",
       "      <td>74.460938</td>\n",
       "      <td>38.916087</td>\n",
       "      <td>95.578961</td>\n",
       "    </tr>\n",
       "    <tr>\n",
       "      <th>16</th>\n",
       "      <td>Ka.F293R</td>\n",
       "      <td>6554.217131</td>\n",
       "      <td>0.208310</td>\n",
       "      <td>8140.723150</td>\n",
       "    </tr>\n",
       "    <tr>\n",
       "      <th>17</th>\n",
       "      <td>Ka.L296W</td>\n",
       "      <td>230.380571</td>\n",
       "      <td>119.125365</td>\n",
       "      <td>386.128870</td>\n",
       "    </tr>\n",
       "    <tr>\n",
       "      <th>18</th>\n",
       "      <td>Ka.Q291I</td>\n",
       "      <td>36.020354</td>\n",
       "      <td>25.999311</td>\n",
       "      <td>50.187429</td>\n",
       "    </tr>\n",
       "    <tr>\n",
       "      <th>19</th>\n",
       "      <td>Ka.Q291K</td>\n",
       "      <td>52.066768</td>\n",
       "      <td>34.533796</td>\n",
       "      <td>84.649771</td>\n",
       "    </tr>\n",
       "    <tr>\n",
       "      <th>20</th>\n",
       "      <td>Ka.Q291M</td>\n",
       "      <td>19.975050</td>\n",
       "      <td>11.919695</td>\n",
       "      <td>27.837310</td>\n",
       "    </tr>\n",
       "    <tr>\n",
       "      <th>21</th>\n",
       "      <td>Ka.Q291R</td>\n",
       "      <td>1.823852</td>\n",
       "      <td>1.119586</td>\n",
       "      <td>11.358382</td>\n",
       "    </tr>\n",
       "    <tr>\n",
       "      <th>22</th>\n",
       "      <td>Ka.Q291V</td>\n",
       "      <td>1908.081975</td>\n",
       "      <td>1213.914628</td>\n",
       "      <td>2034.617524</td>\n",
       "    </tr>\n",
       "    <tr>\n",
       "      <th>23</th>\n",
       "      <td>Ki.wt</td>\n",
       "      <td>0.089268</td>\n",
       "      <td>0.069722</td>\n",
       "      <td>0.112332</td>\n",
       "    </tr>\n",
       "    <tr>\n",
       "      <th>24</th>\n",
       "      <td>Ki.F161N</td>\n",
       "      <td>0.400867</td>\n",
       "      <td>0.163553</td>\n",
       "      <td>0.401319</td>\n",
       "    </tr>\n",
       "    <tr>\n",
       "      <th>25</th>\n",
       "      <td>Ki.F161T</td>\n",
       "      <td>0.072532</td>\n",
       "      <td>0.053643</td>\n",
       "      <td>0.083038</td>\n",
       "    </tr>\n",
       "    <tr>\n",
       "      <th>26</th>\n",
       "      <td>Ki.F161W</td>\n",
       "      <td>0.436702</td>\n",
       "      <td>0.311232</td>\n",
       "      <td>0.584843</td>\n",
       "    </tr>\n",
       "    <tr>\n",
       "      <th>27</th>\n",
       "      <td>Ki.F293R</td>\n",
       "      <td>97.955671</td>\n",
       "      <td>0.128613</td>\n",
       "      <td>120.244382</td>\n",
       "    </tr>\n",
       "    <tr>\n",
       "      <th>28</th>\n",
       "      <td>Ki.L296W</td>\n",
       "      <td>1.847554</td>\n",
       "      <td>1.227212</td>\n",
       "      <td>2.912262</td>\n",
       "    </tr>\n",
       "    <tr>\n",
       "      <th>29</th>\n",
       "      <td>Ki.Q291I</td>\n",
       "      <td>0.296341</td>\n",
       "      <td>0.237975</td>\n",
       "      <td>0.415772</td>\n",
       "    </tr>\n",
       "    <tr>\n",
       "      <th>30</th>\n",
       "      <td>Ki.Q291K</td>\n",
       "      <td>0.444622</td>\n",
       "      <td>0.336636</td>\n",
       "      <td>0.693612</td>\n",
       "    </tr>\n",
       "    <tr>\n",
       "      <th>31</th>\n",
       "      <td>Ki.Q291M</td>\n",
       "      <td>0.078823</td>\n",
       "      <td>0.056461</td>\n",
       "      <td>0.107224</td>\n",
       "    </tr>\n",
       "    <tr>\n",
       "      <th>32</th>\n",
       "      <td>Ki.Q291R</td>\n",
       "      <td>0.325790</td>\n",
       "      <td>0.234268</td>\n",
       "      <td>2.855807</td>\n",
       "    </tr>\n",
       "    <tr>\n",
       "      <th>33</th>\n",
       "      <td>Ki.Q291V</td>\n",
       "      <td>20.260640</td>\n",
       "      <td>14.359668</td>\n",
       "      <td>22.140025</td>\n",
       "    </tr>\n",
       "    <tr>\n",
       "      <th>34</th>\n",
       "      <td>log_ka.1</td>\n",
       "      <td>2.476300</td>\n",
       "      <td>2.154872</td>\n",
       "      <td>2.676034</td>\n",
       "    </tr>\n",
       "    <tr>\n",
       "      <th>35</th>\n",
       "      <td>log_ka.2</td>\n",
       "      <td>4.481548</td>\n",
       "      <td>3.251461</td>\n",
       "      <td>4.503544</td>\n",
       "    </tr>\n",
       "    <tr>\n",
       "      <th>36</th>\n",
       "      <td>log_ka.3</td>\n",
       "      <td>2.581628</td>\n",
       "      <td>2.202827</td>\n",
       "      <td>2.724796</td>\n",
       "    </tr>\n",
       "    <tr>\n",
       "      <th>37</th>\n",
       "      <td>log_ka.4</td>\n",
       "      <td>4.310275</td>\n",
       "      <td>3.707119</td>\n",
       "      <td>4.580700</td>\n",
       "    </tr>\n",
       "    <tr>\n",
       "      <th>38</th>\n",
       "      <td>log_ka.5</td>\n",
       "      <td>8.787864</td>\n",
       "      <td>0.240128</td>\n",
       "      <td>9.118268</td>\n",
       "    </tr>\n",
       "    <tr>\n",
       "      <th>39</th>\n",
       "      <td>log_ka.6</td>\n",
       "      <td>5.439733</td>\n",
       "      <td>4.970799</td>\n",
       "      <td>6.046174</td>\n",
       "    </tr>\n",
       "    <tr>\n",
       "      <th>40</th>\n",
       "      <td>log_ka.7</td>\n",
       "      <td>3.584084</td>\n",
       "      <td>3.309186</td>\n",
       "      <td>3.965149</td>\n",
       "    </tr>\n",
       "    <tr>\n",
       "      <th>41</th>\n",
       "      <td>log_ka.8</td>\n",
       "      <td>3.952527</td>\n",
       "      <td>3.702858</td>\n",
       "      <td>4.574803</td>\n",
       "    </tr>\n",
       "    <tr>\n",
       "      <th>42</th>\n",
       "      <td>log_ka.9</td>\n",
       "      <td>2.994484</td>\n",
       "      <td>2.547741</td>\n",
       "      <td>3.386042</td>\n",
       "    </tr>\n",
       "    <tr>\n",
       "      <th>43</th>\n",
       "      <td>log_ka.10</td>\n",
       "      <td>0.600951</td>\n",
       "      <td>0.477810</td>\n",
       "      <td>2.552218</td>\n",
       "    </tr>\n",
       "    <tr>\n",
       "      <th>44</th>\n",
       "      <td>log_ka.11</td>\n",
       "      <td>7.553854</td>\n",
       "      <td>7.155151</td>\n",
       "      <td>7.670444</td>\n",
       "    </tr>\n",
       "    <tr>\n",
       "      <th>45</th>\n",
       "      <td>log_ki.1</td>\n",
       "      <td>-2.416116</td>\n",
       "      <td>-2.637847</td>\n",
       "      <td>-2.164270</td>\n",
       "    </tr>\n",
       "    <tr>\n",
       "      <th>46</th>\n",
       "      <td>log_ki.2</td>\n",
       "      <td>-0.914127</td>\n",
       "      <td>-1.796372</td>\n",
       "      <td>-0.903777</td>\n",
       "    </tr>\n",
       "    <tr>\n",
       "      <th>47</th>\n",
       "      <td>log_ki.3</td>\n",
       "      <td>-2.623727</td>\n",
       "      <td>-2.925412</td>\n",
       "      <td>-2.488460</td>\n",
       "    </tr>\n",
       "    <tr>\n",
       "      <th>48</th>\n",
       "      <td>log_ki.4</td>\n",
       "      <td>-0.828503</td>\n",
       "      <td>-1.167217</td>\n",
       "      <td>-0.536412</td>\n",
       "    </tr>\n",
       "    <tr>\n",
       "      <th>49</th>\n",
       "      <td>log_ki.5</td>\n",
       "      <td>4.584515</td>\n",
       "      <td>-0.553035</td>\n",
       "      <td>4.892306</td>\n",
       "    </tr>\n",
       "    <tr>\n",
       "      <th>50</th>\n",
       "      <td>log_ki.6</td>\n",
       "      <td>0.613862</td>\n",
       "      <td>0.275021</td>\n",
       "      <td>1.105581</td>\n",
       "    </tr>\n",
       "    <tr>\n",
       "      <th>51</th>\n",
       "      <td>log_ki.7</td>\n",
       "      <td>-1.216246</td>\n",
       "      <td>-1.421096</td>\n",
       "      <td>-0.867571</td>\n",
       "    </tr>\n",
       "    <tr>\n",
       "      <th>52</th>\n",
       "      <td>log_ki.8</td>\n",
       "      <td>-0.810530</td>\n",
       "      <td>-1.061376</td>\n",
       "      <td>-0.348148</td>\n",
       "    </tr>\n",
       "    <tr>\n",
       "      <th>53</th>\n",
       "      <td>log_ki.9</td>\n",
       "      <td>-2.540551</td>\n",
       "      <td>-2.814466</td>\n",
       "      <td>-2.184888</td>\n",
       "    </tr>\n",
       "    <tr>\n",
       "      <th>54</th>\n",
       "      <td>log_ki.10</td>\n",
       "      <td>-1.121501</td>\n",
       "      <td>-1.230129</td>\n",
       "      <td>1.093921</td>\n",
       "    </tr>\n",
       "    <tr>\n",
       "      <th>55</th>\n",
       "      <td>log_ki.11</td>\n",
       "      <td>3.008680</td>\n",
       "      <td>2.699126</td>\n",
       "      <td>3.127762</td>\n",
       "    </tr>\n",
       "  </tbody>\n",
       "</table>\n",
       "</div>"
      ],
      "text/plain": [
       "      parameter         mode      hpd_min      hpd_max\n",
       "0        r_kdna    67.732532    57.104592    69.909513\n",
       "1      sigma.wt     0.038568     0.029921     0.057667\n",
       "2   sigma.F161N     0.103791     0.079161     0.158205\n",
       "3   sigma.F161T     0.040964     0.034410     0.066638\n",
       "4   sigma.F161W     0.069637     0.057216     0.114775\n",
       "5   sigma.F293R     0.011737     0.008653     0.148102\n",
       "6   sigma.L296W     0.084828     0.063563     0.126289\n",
       "7   sigma.Q291I     0.058578     0.042654     0.081359\n",
       "8   sigma.Q291K     0.073628     0.050998     0.096269\n",
       "9   sigma.Q291M     0.061032     0.048760     0.098047\n",
       "10  sigma.Q291R     0.001282     0.000895     0.001698\n",
       "11  sigma.Q291V     0.022249     0.017860     0.037123\n",
       "12        Ka.wt    11.897165     8.599207    14.494261\n",
       "13     Ka.F161N    88.371355    23.664802    86.556900\n",
       "14     Ka.F161T    13.218643     8.801661    14.867495\n",
       "15     Ka.F161W    74.460938    38.916087    95.578961\n",
       "16     Ka.F293R  6554.217131     0.208310  8140.723150\n",
       "17     Ka.L296W   230.380571   119.125365   386.128870\n",
       "18     Ka.Q291I    36.020354    25.999311    50.187429\n",
       "19     Ka.Q291K    52.066768    34.533796    84.649771\n",
       "20     Ka.Q291M    19.975050    11.919695    27.837310\n",
       "21     Ka.Q291R     1.823852     1.119586    11.358382\n",
       "22     Ka.Q291V  1908.081975  1213.914628  2034.617524\n",
       "23        Ki.wt     0.089268     0.069722     0.112332\n",
       "24     Ki.F161N     0.400867     0.163553     0.401319\n",
       "25     Ki.F161T     0.072532     0.053643     0.083038\n",
       "26     Ki.F161W     0.436702     0.311232     0.584843\n",
       "27     Ki.F293R    97.955671     0.128613   120.244382\n",
       "28     Ki.L296W     1.847554     1.227212     2.912262\n",
       "29     Ki.Q291I     0.296341     0.237975     0.415772\n",
       "30     Ki.Q291K     0.444622     0.336636     0.693612\n",
       "31     Ki.Q291M     0.078823     0.056461     0.107224\n",
       "32     Ki.Q291R     0.325790     0.234268     2.855807\n",
       "33     Ki.Q291V    20.260640    14.359668    22.140025\n",
       "34     log_ka.1     2.476300     2.154872     2.676034\n",
       "35     log_ka.2     4.481548     3.251461     4.503544\n",
       "36     log_ka.3     2.581628     2.202827     2.724796\n",
       "37     log_ka.4     4.310275     3.707119     4.580700\n",
       "38     log_ka.5     8.787864     0.240128     9.118268\n",
       "39     log_ka.6     5.439733     4.970799     6.046174\n",
       "40     log_ka.7     3.584084     3.309186     3.965149\n",
       "41     log_ka.8     3.952527     3.702858     4.574803\n",
       "42     log_ka.9     2.994484     2.547741     3.386042\n",
       "43    log_ka.10     0.600951     0.477810     2.552218\n",
       "44    log_ka.11     7.553854     7.155151     7.670444\n",
       "45     log_ki.1    -2.416116    -2.637847    -2.164270\n",
       "46     log_ki.2    -0.914127    -1.796372    -0.903777\n",
       "47     log_ki.3    -2.623727    -2.925412    -2.488460\n",
       "48     log_ki.4    -0.828503    -1.167217    -0.536412\n",
       "49     log_ki.5     4.584515    -0.553035     4.892306\n",
       "50     log_ki.6     0.613862     0.275021     1.105581\n",
       "51     log_ki.7    -1.216246    -1.421096    -0.867571\n",
       "52     log_ki.8    -0.810530    -1.061376    -0.348148\n",
       "53     log_ki.9    -2.540551    -2.814466    -2.184888\n",
       "54    log_ki.10    -1.121501    -1.230129     1.093921\n",
       "55    log_ki.11     3.008680     2.699126     3.127762"
      ]
     },
     "execution_count": 13,
     "metadata": {},
     "output_type": "execute_result"
    }
   ],
   "source": [
    "kaki_stats"
   ]
  },
  {
   "cell_type": "code",
   "execution_count": null,
   "metadata": {},
   "outputs": [],
   "source": []
  }
 ],
 "metadata": {
  "kernelspec": {
   "display_name": "Python 3",
   "language": "python",
   "name": "python3"
  },
  "language_info": {
   "codemirror_mode": {
    "name": "ipython",
    "version": 3
   },
   "file_extension": ".py",
   "mimetype": "text/x-python",
   "name": "python",
   "nbconvert_exporter": "python",
   "pygments_lexer": "ipython3",
   "version": "3.6.6"
  }
 },
 "nbformat": 4,
 "nbformat_minor": 2
}
