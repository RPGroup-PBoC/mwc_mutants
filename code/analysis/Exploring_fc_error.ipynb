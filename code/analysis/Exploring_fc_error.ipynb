{
 "cells": [
  {
   "cell_type": "markdown",
   "metadata": {},
   "source": [
    "# Sensitivity of Fold-Change to $F$\n",
    "\n",
    "© 2019 Griffin Chure. This work is licensed under a [Creative Commons Attribution License CC-BY 4.0](https://creativecommons.org/licenses/by/4.0/). All code contained herein is licensed under an [MIT license](https://opensource.org/licenses/MIT).\n",
    "\n",
    "--- "
   ]
  },
  {
   "cell_type": "code",
   "execution_count": 1,
   "metadata": {},
   "outputs": [],
   "source": [
    "import sys\n",
    "sys.path.insert(0, '../../')\n",
    "import numpy as np\n",
    "import pandas as pd\n",
    "import matplotlib.pyplot as plt\n",
    "import mut.thermo\n",
    "import mut.bayes\n",
    "import mut.viz\n",
    "import tqdm\n",
    "pboc = mut.viz.color_selector('pboc')\n",
    "\n",
    "constants = mut.thermo.load_constants()\n",
    "mut.viz.plotting_style()"
   ]
  },
  {
   "cell_type": "markdown",
   "metadata": {},
   "source": [
    "In my analysis, I have found that at the extremes of fold-change the $\\Delta F$ is poorly resolved and has aninteresting trend towards $\\Delta F = 0$. I think this has something to do with the fact that when you approach the asymptotes of fold-change, the magnitude of the empirical $F$ gets very large. As a reminder, the empirical $F$ can be calculated from the fold-change data as\n",
    "\n",
    "$$\n",
    "F_\\text{empirical} = \\log \\left( {1 \\over \\text{fold-change}} -1\\right)\n",
    "$$"
   ]
  },
  {
   "cell_type": "markdown",
   "metadata": {},
   "source": [
    "# Generating a fake data set\n",
    "We can generate a dataset in which fold-change measurements are normally distributed about a value prescribed by the theory. "
   ]
  },
  {
   "cell_type": "code",
   "execution_count": 295,
   "metadata": {},
   "outputs": [],
   "source": [
    "sigma = 0.05\n",
    "n_reps = 10 \n",
    "c_range = np.array([0, 0.1, 1, 5, 10, 25, 50, 750, 100, 250, 500, 1000, 5000])\n",
    "true_bohr = mut.thermo.SimpleRepression(R=260, ep_r=-13.9, ka=139, ki=0.53, \n",
    "                                        n_sites=2, ep_ai=4.5, \n",
    "                                        effector_conc=c_range).bohr_parameter()\n",
    "mut_bohr = mut.thermo.SimpleRepression(R=260, ep_r=-10.9, ka=139, ki=0.53, \n",
    "                                       n_sites=2, ep_ai=4.5, \n",
    "                                       effector_conc=c_range).bohr_parameter()\n",
    "dataset_fc = []\n",
    "offset = 2\n",
    "fc_mu = (1 + np.exp(-true_bohr))**-1\n",
    "fc_mut = (1 + np.exp(-mut_bohr))**-1\n",
    "for i, b in enumerate(true_bohr):\n",
    "    mu = fc_mut[i]\n",
    "    dataset = np.random.normal(mu, sigma, n_reps)\n",
    "    df = pd.DataFrame(dataset.T, columns=['fold_change'])\n",
    "    df['replicate'] = np.arange(n_reps)\n",
    "    df['true_bohr'] = b\n",
    "    dataset_fc.append(df)\n",
    "dataset = pd.concat(dataset_fc)"
   ]
  },
  {
   "cell_type": "code",
   "execution_count": 296,
   "metadata": {},
   "outputs": [
    {
     "data": {
      "text/plain": [
       "[<matplotlib.lines.Line2D at 0x1c2593dac8>]"
      ]
     },
     "execution_count": 296,
     "metadata": {},
     "output_type": "execute_result"
    },
    {
     "data": {
      "image/png": "[encoded data removed]",
      "text/plain": [
       "<Figure size 432x288 with 1 Axes>"
      ]
     },
     "metadata": {
      "needs_background": "light"
     },
     "output_type": "display_data"
    }
   ],
   "source": [
    "\n",
    "plt.plot(dataset['true_bohr'], dataset['fold_change'], 'r.')\n",
    "# plt.plot(true_bohr, dataset.groupby(['true_bohr'])['fold_change'].mean(),'.')\n",
    "plt.plot(true_bohr, fc_mu, 'k-')\n"
   ]
  },
  {
   "cell_type": "code",
   "execution_count": 297,
   "metadata": {},
   "outputs": [
    {
     "name": "stdout",
     "output_type": "stream",
     "text": [
      "Found precompiled model. Loading...\n",
      "finished!\n"
     ]
    }
   ],
   "source": [
    "# Load the stan model\n",
    "model = mut.bayes.StanModel('../stan/empirical_F.stan')# , force_compile=True)\n",
    "stan_dfs = []\n",
    "for g, d in dataset.groupby('true_bohr'):\n",
    "    data_dict = {'N':len(d), 'ref_bohr':g, 'foldchange':d['fold_change']}\n",
    "    fit, samples = model.sample(data_dict, iter=2000, control=dict(adapt_delta=0.9))\n",
    "    \n",
    "    # Correct past extrema\n",
    "    extrema_idx = (samples['fc_mu'].values < samples['fc_sigma'].values) +\\\n",
    "                    ((1 - samples['fc_mu'].values) < samples['fc_sigma'].values)\n",
    "    # Define the reference to use \n",
    "    lower_err = np.nan_to_num(g + -np.log((1/(samples['fc_sigma'])) - 1))\n",
    "    upper_err = np.nan_to_num(g + -np.log((1/(1 - samples['fc_sigma'])) - 1))\n",
    "    corr = (lower_err + upper_err) * extrema_idx\n",
    "    samples['corr'] = corr\n",
    "    samples['bohr'] =  -np.log((1/samples['fc_mu']) - 1)\n",
    "    samples['delta_bohr'] = g - samples['bohr']\n",
    "    samples['delta_bohr_corrected'] = samples['delta_bohr'] + samples['corr']\n",
    "    stats = mut.stats.compute_statistics(samples, varnames=['fc_mu', 'fc_sigma',\n",
    "                                                           'bohr', 'delta_bohr_corrected',\n",
    "                                                            'delta_bohr', 'corr'],\n",
    "                                        logprob_name='lp__')\n",
    "    stats['true_bohr'] = g\n",
    "    stats['fc_mu_std'] = np.std(samples['fc_mu'])\n",
    "    stan_dfs.append(stats)\n",
    "stats = pd.concat(stan_dfs)"
   ]
  },
  {
   "cell_type": "code",
   "execution_count": 298,
   "metadata": {},
   "outputs": [
    {
     "data": {
      "text/plain": [
       "[<matplotlib.lines.Line2D at 0x1c25a68208>]"
      ]
     },
     "execution_count": 298,
     "metadata": {},
     "output_type": "execute_result"
    },
    {
     "data": {
      "image/png": "[encoded data removed]",
      "text/plain": [
       "<Figure size 432x288 with 1 Axes>"
      ]
     },
     "metadata": {
      "needs_background": "light"
     },
     "output_type": "display_data"
    }
   ],
   "source": [
    "dF = stats[stats['parameter']=='delta_bohr']\n",
    "_fc_mu = stats[stats['parameter']=='fc_mu']['median'].values\n",
    "bohr = stats[stats['parameter']=='bohr']['median'].values\n",
    "fc_sigma = stats[stats['parameter']=='fc_sigma']['median'].values\n",
    "ddF =  stats[stats['parameter']=='delta_bohr_corrected']\n",
    "fc_ref = (1 + np.exp(-true_bohr))**-1\n",
    "\n",
    "# Plot the ground truth. \n",
    "ref1 = np.log(fc_sigma**-1 - 1)\n",
    "# plt.plot(true_bohr, true_bohr - true_bohr + offset, color='dodgerblue')\n",
    "idx = _fc_mu < fc_sigma\n",
    "idx2 = (1 - _fc_mu) < fc_sigma\n",
    "\n",
    "plt.plot(true_bohr, dF['median'], '.', color='k')\n",
    " \n",
    "plt.plot(true_bohr[idx], dF['median'].values[idx], '.', color='dodgerblue')\n",
    "plt.plot(true_bohr[idx2],dF['median'].values[idx2], '.', color='dodgerblue')\n",
    "plt.plot(true_bohr,  true_bohr - mut_bohr)\n"
   ]
  },
  {
   "cell_type": "code",
   "execution_count": 305,
   "metadata": {},
   "outputs": [
    {
     "data": {
      "text/plain": [
       "[<matplotlib.lines.Line2D at 0x1c260e5550>]"
      ]
     },
     "execution_count": 305,
     "metadata": {},
     "output_type": "execute_result"
    },
    {
     "data": {
      "image/png": "[encoded data removed]",
      "text/plain": [
       "<Figure size 432x288 with 1 Axes>"
      ]
     },
     "metadata": {
      "needs_background": "light"
     },
     "output_type": "display_data"
    }
   ],
   "source": [
    "# max_ind =  np.max(np.where(_fc_mu < fc_sigma))\n",
    "# min_ind = np.min(np.where((1 - _fc_mu < fc_sigma)))\n",
    "\n",
    "plt.plot(true_bohr, dF['median'], 'k.')\n",
    "plt.vlines(true_bohr, dF['hpd_min'], dF['hpd_max'], 'k')\n",
    "# plt.plot(true_bohr[idx], dF['median']  - dF['median'][idx] * bohr[idx]/-np.log(fc_sigma[idx]**-1 -1), '.', color='dodgerblue')\n",
    "plt.plot(true_bohr[idx2], dF['median'][idx2] - np.sign(dF['median'][idx2]) * dF['median'][idx2] * bohr[idx2]/np.log(fc_sigma[idx2]**-1 -1), '.', color='dodgerblue')\n",
    "plt.plot(true_bohr, true_bohr - mut_bohr, '-', color='purple')"
   ]
  },
  {
   "cell_type": "code",
   "execution_count": 271,
   "metadata": {},
   "outputs": [
    {
     "data": {
      "text/plain": [
       "array([0.9289829 , 0.82027725, 0.72561607, 0.86845055, 0.6809449 ,\n",
       "       0.69961655, 0.82391761, 0.79737277, 0.58197506, 0.67508424,\n",
       "       0.81597713, 0.74506823, 0.8263788 , 0.64314433, 0.59986579,\n",
       "       0.69705254, 0.58186413, 0.67613163, 0.80015488, 0.60563887,\n",
       "       0.59148736, 0.74535964, 0.90454973, 0.79082517, 0.67793827,\n",
       "       0.59473522, 0.69749607, 0.82542611, 0.79751449, 0.72611041,\n",
       "       0.679598  , 0.55276907, 0.60029071, 0.67648817, 0.74532027,\n",
       "       0.71656213, 0.62082771, 0.72575823, 0.60544679, 0.78774125,\n",
       "       0.73622379, 0.7063955 , 0.6467897 , 0.56965031, 0.57729482,\n",
       "       0.6746306 , 0.71037568, 0.62669628, 0.57861598, 0.60179906,\n",
       "       0.63389757, 0.56440021, 0.64640411, 0.6253096 , 0.77937694,\n",
       "       0.8630839 ])"
      ]
     },
     "execution_count": 271,
     "metadata": {},
     "output_type": "execute_result"
    }
   ],
   "source": [
    "np.log(fc_sigma[idx2]**-1 -1)/bohr[idx2]"
   ]
  },
  {
   "cell_type": "code",
   "execution_count": 252,
   "metadata": {},
   "outputs": [
    {
     "ename": "SyntaxError",
     "evalue": "unexpected EOF while parsing (<ipython-input-252-d45a954c6738>, line 1)",
     "output_type": "error",
     "traceback": [
      "\u001b[0;36m  File \u001b[0;32m\"<ipython-input-252-d45a954c6738>\"\u001b[0;36m, line \u001b[0;32m1\u001b[0m\n\u001b[0;31m    true_bohr[idx2] - true_bohr[min_ind-\u001b[0m\n\u001b[0m                                        ^\u001b[0m\n\u001b[0;31mSyntaxError\u001b[0m\u001b[0;31m:\u001b[0m unexpected EOF while parsing\n"
     ]
    }
   ],
   "source": [
    "true_bohr[idx2] - true_bohr[min_ind-"
   ]
  },
  {
   "cell_type": "code",
   "execution_count": 224,
   "metadata": {},
   "outputs": [
    {
     "data": {
      "text/plain": [
       "1.3180784623079536"
      ]
     },
     "execution_count": 224,
     "metadata": {},
     "output_type": "execute_result"
    }
   ],
   "source": [
    "true_bohr[min_ind]"
   ]
  },
  {
   "cell_type": "code",
   "execution_count": 225,
   "metadata": {},
   "outputs": [
    {
     "data": {
      "text/plain": [
       "array([-6.21430309, -6.21429103, -6.21427543, -6.21425528, -6.21422922,\n",
       "       -6.21419552, -6.21415192, -6.21409548, -6.21402239, -6.21392765,\n",
       "       -6.21380472, -6.213645  , -6.21343715, -6.21316606, -6.21281157,\n",
       "       -6.21234643, -6.21173354, -6.21092177, -6.20983976, -6.20838652,\n",
       "       -6.20641711, -6.20372049, -6.19998508, -6.19474543, -6.18729954,\n",
       "       -6.17658278, -6.16098013, -6.13805938, -6.10422239, -6.05432005,\n",
       "       -5.98138282, -5.87678356, -5.73126231, -5.5370226 , -5.29033985,\n",
       "       -4.99328586, -4.65339641, -4.28155206, -3.88948246, -3.48806198,\n",
       "       -3.08663332, -2.69300389, -2.31368995, -1.95414288, -1.61885345,\n",
       "       -1.31133278, -1.0340216 , -0.78819895, -0.57395571, -0.39027152,\n",
       "       -0.23519702, -0.10611038,  0.        ,  0.08627315,  0.15576518,\n",
       "        0.21130383,  0.2554052 ,  0.29024101,  0.31764156,  0.33912098,\n",
       "        0.35591359,  0.36901423,  0.37921757,  0.38715398,  0.39332081,\n",
       "        0.39810882,  0.40182398,  0.4047053 ,  0.40693909,  0.40867037,\n",
       "        0.41001187,  0.41105118,  0.41185625,  0.41247981,  0.41296275,\n",
       "        0.41333675,  0.41362638,  0.41385065,  0.41402432,  0.41415879,\n",
       "        0.41426292,  0.41434354,  0.41440597,  0.4144543 ,  0.41449173,\n",
       "        0.4145207 ,  0.41454314,  0.41456051,  0.41457396,  0.41458438,\n",
       "        0.41459244,  0.41459868,  0.41460352,  0.41460726,  0.41461016,\n",
       "        0.4146124 ,  0.41461414,  0.41461548,  0.41461653,  0.41461733])"
      ]
     },
     "execution_count": 225,
     "metadata": {},
     "output_type": "execute_result"
    }
   ],
   "source": [
    "true_bohr - true_bohr[max_ind]"
   ]
  },
  {
   "cell_type": "code",
   "execution_count": 226,
   "metadata": {},
   "outputs": [
    {
     "data": {
      "text/plain": [
       "(array([], dtype=int64),)"
      ]
     },
     "execution_count": 226,
     "metadata": {},
     "output_type": "execute_result"
    }
   ],
   "source": [
    "\n",
    "np.where(_fc_mu < fc_sigma)"
   ]
  },
  {
   "cell_type": "code",
   "execution_count": 227,
   "metadata": {},
   "outputs": [
    {
     "data": {
      "text/plain": [
       "[<matplotlib.lines.Line2D at 0x1c2330d390>]"
      ]
     },
     "execution_count": 227,
     "metadata": {},
     "output_type": "execute_result"
    },
    {
     "data": {
      "image/png": "[encoded data removed]",
      "text/plain": [
       "<Figure size 432x288 with 1 Axes>"
      ]
     },
     "metadata": {
      "needs_background": "light"
     },
     "output_type": "display_data"
    }
   ],
   "source": [
    "plt.plot(true_bohr, (1 + np.exp(-true_bohr))**-1, 'k-')\n",
    "plt.plot(bohr, dataset.groupby(['true_bohr'])['fold_change'].mean(), 'r.')\n",
    "plt.plot(bohr[idx], dataset.groupby(['true_bohr'])['fold_change'].mean()[idx], 'w.')\n",
    "plt.vlines(np.log(sigma**-1 -1), 0, 1, color='tomato')\n",
    "plt.vlines(-np.log(sigma**-1 -1), 0, 1, color='tomato')\n",
    "plt.plot(true_bohr - offset, (1 + np.exp(-true_bohr+offset))**-1, 'k.')\n",
    "\n",
    "plt.plot(bohr[idx], _fc_mu[idx], 'c.')\n",
    "plt.plot(bohr[idx2], _fc_mu[idx2], 'c.')"
   ]
  },
  {
   "cell_type": "code",
   "execution_count": 228,
   "metadata": {},
   "outputs": [
    {
     "data": {
      "text/plain": [
       "[<matplotlib.lines.Line2D at 0x1c2326d940>]"
      ]
     },
     "execution_count": 228,
     "metadata": {},
     "output_type": "execute_result"
    },
    {
     "data": {
      "image/png": "[encoded data removed]",
      "text/plain": [
       "<Figure size 432x288 with 1 Axes>"
      ]
     },
     "metadata": {
      "needs_background": "light"
     },
     "output_type": "display_data"
    }
   ],
   "source": [
    "plt.plot(true_bohr, true_bohr)\n",
    "plt.plot(true_bohr, np.log(fc_sigma**-1 -1))\n",
    "plt.plot(true_bohr, -np.log(fc_sigma**-1 -1))\n",
    "plt.plot(true_bohr, dF['median'])\n"
   ]
  },
  {
   "cell_type": "code",
   "execution_count": null,
   "metadata": {},
   "outputs": [],
   "source": []
  },
  {
   "cell_type": "code",
   "execution_count": 60,
   "metadata": {},
   "outputs": [
    {
     "data": {
      "text/plain": [
       "[<matplotlib.lines.Line2D at 0x1c1cde3940>]"
      ]
     },
     "execution_count": 60,
     "metadata": {},
     "output_type": "execute_result"
    },
    {
     "data": {
      "image/png": "[encoded data removed]",
      "text/plain": [
       "<Figure size 432x288 with 1 Axes>"
      ]
     },
     "metadata": {
      "needs_background": "light"
     },
     "output_type": "display_data"
    }
   ],
   "source": [
    "a = (_fc_mu - _fc_mu**2)**-1\n",
    "b = a[:-1] * np.diff(_fc_mu)\n",
    "plt.plot(a[:-1], b, '.')"
   ]
  },
  {
   "cell_type": "code",
   "execution_count": null,
   "metadata": {},
   "outputs": [],
   "source": []
  }
 ],
 "metadata": {
  "kernelspec": {
   "display_name": "Python 3",
   "language": "python",
   "name": "python3"
  },
  "language_info": {
   "codemirror_mode": {
    "name": "ipython",
    "version": 3
   },
   "file_extension": ".py",
   "mimetype": "text/x-python",
   "name": "python",
   "nbconvert_exporter": "python",
   "pygments_lexer": "ipython3",
   "version": "3.6.7"
  }
 },
 "nbformat": 4,
 "nbformat_minor": 2
}
