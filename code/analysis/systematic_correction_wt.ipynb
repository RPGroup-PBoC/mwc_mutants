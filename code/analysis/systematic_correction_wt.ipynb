{
 "cells": [
  {
   "cell_type": "markdown",
   "metadata": {},
   "source": [
    "# Inferring Measurement Error of ∆F From Wild-Type Measurements\n",
    "\n",
    "© 2018 Griffin Chure. This work is licensed under a [Creative Commons Attribution License CC-BY 4.0](https://creativecommons.org/licenses/by/4.0/). All code contained herein is licensed under an [MIT license](https://opensource.org/licenses/MIT).\n",
    "\n",
    "--- "
   ]
  },
  {
   "cell_type": "code",
   "execution_count": 1,
   "metadata": {},
   "outputs": [],
   "source": [
    "import sys\n",
    "sys.path.insert(0, '../../')\n",
    "import numpy as np\n",
    "import pandas as pd\n",
    "import mut.viz\n",
    "import mut.thermo\n",
    "import mut.stats\n",
    "import mut.bayes\n",
    "import matplotlib.pyplot as plt\n",
    "import tqdm \n",
    "import seaborn as sns\n",
    "mut.viz.plotting_style()\n",
    "colors = mut.viz.color_selector('mut')\n",
    "pboc = mut.viz.color_selector('pboc')\n",
    "constants = mut.thermo.load_constants()"
   ]
  },
  {
   "cell_type": "code",
   "execution_count": 2,
   "metadata": {},
   "outputs": [],
   "source": [
    "# Load the induction paper data\n",
    "data = pd.read_csv('../../data/csv/RazoMejia2018_data.csv')\n",
    "data['repressors'] *= 2\n",
    "data.rename(columns={'fold_change_A':'fold_change',\n",
    "                    'IPTG_uM':'IPTGuM'}, inplace=True)\n",
    "data = data[data['repressors'] > 0].copy()"
   ]
  },
  {
   "cell_type": "code",
   "execution_count": 3,
   "metadata": {},
   "outputs": [
    {
     "data": {
      "image/png": "[encoded data removed]",
      "text/plain": [
       "<Figure size 432x288 with 1 Axes>"
      ]
     },
     "metadata": {
      "needs_background": "light"
     },
     "output_type": "display_data"
    }
   ],
   "source": [
    "# repressor_colors = \n",
    "for g, d in data.groupby(['operator', 'repressors']):\n",
    "    _d = d.groupby(['IPTGuM']).agg(('mean', 'sem')).reset_index()\n",
    "    plt.errorbar(_d['IPTGuM'], _d['fold_change']['mean'], _d['fold_change']['sem'],\n",
    "                 lw=1, capsize=0, linestyle='none',fmt='.')\n",
    "plt.xscale('log')\n"
   ]
  },
  {
   "cell_type": "code",
   "execution_count": 27,
   "metadata": {},
   "outputs": [],
   "source": [
    "# Compute the reference bohr for each measurement. \n",
    "ref_bohr = -mut.thermo.SimpleRepression(R=data['repressors'], ep_r=data['binding_energy'],\n",
    "                                      ka=constants['Ka'], ki=constants['Ki'], \n",
    "                                      ep_ai=constants['ep_AI'], effector_conc=data['IPTGuM']).bohr_parameter()\n",
    "data['ref_bohr'] = ref_bohr"
   ]
  },
  {
   "cell_type": "code",
   "execution_count": 38,
   "metadata": {},
   "outputs": [
    {
     "name": "stderr",
     "output_type": "stream",
     "text": [
      "INFO:pystan:COMPILING THE C++ CODE FOR MODEL anon_model_02e2041d093f59ee2ded9e2d0290dd23 NOW.\n"
     ]
    },
    {
     "name": "stdout",
     "output_type": "stream",
     "text": [
      "Precompiled model not found. Compiling model...\n"
     ]
    },
    {
     "name": "stderr",
     "output_type": "stream",
     "text": [
      "/anaconda3/lib/python3.6/site-packages/Cython/Compiler/Main.py:367: FutureWarning: Cython directive 'language_level' not set, using 2 for now (Py2). This will change in a later release! File: /var/folders/2q/lvh2zsws3lxckq8xtkn_84z80000gn/T/tmpmxg84_45/stanfit4anon_model_02e2041d093f59ee2ded9e2d0290dd23_1491360954962193016.pyx\n",
      "  tree = Parsing.p_module(s, pxd, full_module_name)\n"
     ]
    },
    {
     "name": "stdout",
     "output_type": "stream",
     "text": [
      "finished!\n"
     ]
    }
   ],
   "source": [
    "# Load the stan model. \n",
    "model = mut.bayes.StanModel('../stan/empirical_F.stan', force_compile=True)"
   ]
  },
  {
   "cell_type": "code",
   "execution_count": 41,
   "metadata": {},
   "outputs": [
    {
     "name": "stderr",
     "output_type": "stream",
     "text": [
      "100%|██████████| 216/216 [01:45<00:00,  1.93it/s]\n"
     ]
    }
   ],
   "source": [
    "# Loop through each unique repressor, operator, and IPTG and calculate the ∆F. \n",
    "dbohr_stats = []\n",
    "for g, d in tqdm.tqdm(data.groupby(['repressors', 'operator', 'IPTGuM'])):\n",
    "    data_dict = {'N':len(d), 'ref_bohr':d['ref_bohr'].values[0],\n",
    "                'foldchange':d['fold_change']}\n",
    "    fit, samples = model.sample(data_dict, iter=5000, control=dict(adapt_delta=0.9))\n",
    "    \n",
    "    # Compute the stats. \n",
    "    stats = mut.stats.compute_statistics(samples, varnames=['fc_mu', 'empirical_bohr'],\n",
    "                                        logprob_name='lp__')\n",
    "    stats['ref_bohr'] = d['ref_bohr'].values[0]\n",
    "    stats['repressors'] = g[0]\n",
    "    stats['operator'] = g[1]\n",
    "    stats['IPTGuM'] = g[2]    \n",
    "    dbohr_stats.append(stats)\n",
    "dbohr = pd.concat(dbohr_stats)"
   ]
  },
  {
   "cell_type": "code",
   "execution_count": 92,
   "metadata": {},
   "outputs": [
    {
     "name": "stderr",
     "output_type": "stream",
     "text": [
      "/anaconda3/lib/python3.6/site-packages/ipykernel_launcher.py:12: RuntimeWarning: invalid value encountered in log\n",
      "  if sys.path[0] == '':\n"
     ]
    },
    {
     "data": {
      "image/png": "[encoded data removed]",
      "text/plain": [
       "<Figure size 288x432 with 3 Axes>"
      ]
     },
     "metadata": {
      "needs_background": "light"
     },
     "output_type": "display_data"
    }
   ],
   "source": [
    "fig, ax = plt.subplots(3, 1, figsize=(4, 6), sharex=True, sharey=True)\n",
    "axes = {'O1':ax[0], 'O2':ax[1], 'O3':ax[2]}\n",
    "for g, d in dbohr.groupby(['operator', 'repressors']):\n",
    "    _ax = axes[g[0]]\n",
    "    if g[1] == 22:\n",
    "        # Compute the error function. \n",
    "        fc = d[d['parameter']=='fc_mu']\n",
    "        bohr = d[d['parameter']=='empirical_bohr']\n",
    "        upper = np.abs(fc['hpd_max'] - fc['median'])\n",
    "        lower = np.abs(fc['hpd_min'] - fc['median'])\n",
    "        mu = fc['median']\n",
    "        df_max = np.log((1 - (1 / ((mu/upper) - 1)) * (1 / (1 - mu))))\n",
    "        df_min = np.log((1 + (1 / ((mu/upper) + 1)) * (1 / (1 - mu))))\n",
    "        delta_bohr = bohr['ref_bohr'] - bohr['median']\n",
    "        _ax.plot(bohr['IPTGuM'], delta_bohr, 'k.')\n",
    "        _ax.plot(bohr['IPTGuM'], delta_bohr.values + (df_max), 'v', color='tomato')\n",
    "#         _ax.vlines(d['IPTGuM'], d['hpd_min'], d['hpd_max'], color='k')\n",
    "#         _ax.vlines(d['IPTGuM'], d['min_corr'], d['max_corr'], color='orange')\n",
    "\n",
    "   \n",
    "titles = ['O1', 'O2', 'O3']\n",
    "for i, a in enumerate(ax):\n",
    "    a.set_xscale('log')\n",
    "    a.set_title(titles[i])\n",
    "#     a.set_ylim([-10, 3])\n",
    "ax[-1].set_xlabel('IPTG [µM]')\n",
    "    \n",
    "plt.tight_layout()"
   ]
  },
  {
   "cell_type": "code",
   "execution_count": 86,
   "metadata": {},
   "outputs": [
    {
     "data": {
      "text/plain": [
       "[<matplotlib.lines.Line2D at 0x1c1f3d2940>]"
      ]
     },
     "execution_count": 86,
     "metadata": {},
     "output_type": "execute_result"
    },
    {
     "data": {
      "image/png": "[encoded data removed]",
      "text/plain": [
       "<Figure size 432x288 with 1 Axes>"
      ]
     },
     "metadata": {
      "needs_background": "light"
     },
     "output_type": "display_data"
    }
   ],
   "source": [
    "plt.plot(np.arange(12), df_max,'.')\n",
    "plt.plot(np.arange(12), df_min,'.')"
   ]
  },
  {
   "cell_type": "code",
   "execution_count": 84,
   "metadata": {},
   "outputs": [
    {
     "data": {
      "text/plain": [
       "0    -2.767528\n",
       "0    -1.225886\n",
       "0    -2.566545\n",
       "0    -2.758123\n",
       "0    -6.787416\n",
       "0   -14.136701\n",
       "0    -8.253002\n",
       "0    -8.740870\n",
       "0   -12.265255\n",
       "0    -7.090245\n",
       "0    -7.276313\n",
       "0    -5.676197\n",
       "dtype: float64"
      ]
     },
     "execution_count": 84,
     "metadata": {},
     "output_type": "execute_result"
    }
   ],
   "source": [
    "df_min"
   ]
  },
  {
   "cell_type": "code",
   "execution_count": null,
   "metadata": {},
   "outputs": [],
   "source": [
    "plt.plot(samples['fc_mu'], samples['fc_sigma'], ',')\n",
    "plt.xlim([0, 1])\n"
   ]
  },
  {
   "cell_type": "code",
   "execution_count": null,
   "metadata": {},
   "outputs": [],
   "source": [
    "plt.plot(samples['empirical_bohr'], np.log((1/samples['fc_sigma']) - 1), '.')"
   ]
  },
  {
   "cell_type": "code",
   "execution_count": null,
   "metadata": {},
   "outputs": [],
   "source": [
    "dbohr"
   ]
  }
 ],
 "metadata": {
  "kernelspec": {
   "display_name": "Python 3",
   "language": "python",
   "name": "python3"
  },
  "language_info": {
   "codemirror_mode": {
    "name": "ipython",
    "version": 3
   },
   "file_extension": ".py",
   "mimetype": "text/x-python",
   "name": "python",
   "nbconvert_exporter": "python",
   "pygments_lexer": "ipython3",
   "version": "3.6.7"
  }
 },
 "nbformat": 4,
 "nbformat_minor": 2
}
