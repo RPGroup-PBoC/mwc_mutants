{
 "cells": [
  {
   "cell_type": "markdown",
   "metadata": {},
   "source": [
    "# Inferring with Informative Priors \n",
    "\n",
    "© 2019 Griffin Chure. This work is licensed under a [Creative Commons Attribution License CC-BY 4.0](https://creativecommons.org/licenses/by/4.0/). All code contained herein is licensed under an [MIT license](https://opensource.org/licenses/MIT).\n",
    "\n",
    "--- "
   ]
  },
  {
   "cell_type": "code",
   "execution_count": 42,
   "metadata": {},
   "outputs": [],
   "source": [
    "import sys\n",
    "sys.path.insert(0, '../../')\n",
    "import numpy as np\n",
    "import pandas as pd\n",
    "import matplotlib.pyplot as plt\n",
    "import mut.thermo\n",
    "import mut.stats\n",
    "import mut.bayes\n",
    "import mut.viz\n",
    "pboc = mut.viz.color_selector('pboc')\n",
    "mut.viz.plotting_style()\n",
    "constants = mut.thermo.load_constants()\n",
    "prior_bounds = mut.thermo.global_fit_params()"
   ]
  },
  {
   "cell_type": "markdown",
   "metadata": {},
   "source": [
    "In this notebook, we revisit the inference of the DNA binding energy, this time using informative priors for the various model parameters deteremindd for the wild-type LacI repressor in Razo-Mejia et al. 2018. These parameters, as reported, are the mode and bounds of the 95% credible region of the parameter estimates. As it is difficult to directly map the credible region as priors, we approximate them as normal distributions centered at the mode with the standard deviation as the average of the upper and lower bound of the creidble region."
   ]
  },
  {
   "cell_type": "code",
   "execution_count": 13,
   "metadata": {},
   "outputs": [],
   "source": [
    "# Load the data and assign the prior information \n",
    "data = pd.read_csv('../../data/csv/compiled_data.csv')\n",
    "for g, d in data.groupby(['repressors', 'operator']):\n",
    "    r_key = f'R{int(g[0])}'\n",
    "    data.loc[data['repressors']==g[0], 'rep_mu'] = prior_bounds[r_key + '_mu'] \n",
    "    data.loc[data['repressors']==g[0], 'rep_sig'] = prior_bounds[r_key + '_sig'] \n",
    "    data.loc[data['operator']==g[1], 'epRA_mu'] = prior_bounds[g[1] + '_mu']\n",
    "    data.loc[data['operator']==g[1], 'epRA_sig'] = prior_bounds[g[1] + '_mu']"
   ]
  },
  {
   "cell_type": "markdown",
   "metadata": {},
   "source": [
    "# Inferring DNA binding energy"
   ]
  },
  {
   "cell_type": "code",
   "execution_count": 16,
   "metadata": {},
   "outputs": [
    {
     "name": "stderr",
     "output_type": "stream",
     "text": [
      "INFO:pystan:COMPILING THE C++ CODE FOR MODEL anon_model_a9cbfc29225389fa118049fc161a1998 NOW.\n"
     ]
    },
    {
     "name": "stdout",
     "output_type": "stream",
     "text": [
      "Precompiled model not found. Compiling model...\n"
     ]
    },
    {
     "name": "stderr",
     "output_type": "stream",
     "text": [
      "/anaconda3/lib/python3.6/site-packages/Cython/Compiler/Main.py:367: FutureWarning: Cython directive 'language_level' not set, using 2 for now (Py2). This will change in a later release! File: /var/folders/2q/lvh2zsws3lxckq8xtkn_84z80000gn/T/tmppl42f4ox/stanfit4anon_model_a9cbfc29225389fa118049fc161a1998_4971257695459243982.pyx\n",
      "  tree = Parsing.p_module(s, pxd, full_module_name)\n"
     ]
    },
    {
     "name": "stdout",
     "output_type": "stream",
     "text": [
      "finished!\n"
     ]
    }
   ],
   "source": [
    "# Load the stan model\n",
    "model = mut.bayes.StanModel('../stan/DNA_binding_energy_informative_priors.stan')"
   ]
  },
  {
   "cell_type": "markdown",
   "metadata": {},
   "source": [
    "To see if this approach is feasible, we will begin by choosing a single DNA binding mutant and repressor copy number.  "
   ]
  },
  {
   "cell_type": "code",
   "execution_count": 59,
   "metadata": {},
   "outputs": [],
   "source": [
    "DNA_data = data[(data['class']=='DNA') & (data['operator']=='O2')] \n",
    "fit_data = DNA_data[(DNA_data['mutant']=='Y20I') & (DNA_data['repressors']==260)]"
   ]
  },
  {
   "cell_type": "code",
   "execution_count": 60,
   "metadata": {},
   "outputs": [],
   "source": [
    "# Assemble the data dictionary and sample. \n",
    "data_dict = {'N':len(fit_data),\n",
    "            'R_mu':fit_data['rep_mu'].unique()[0],\n",
    "            'R_sig':fit_data['rep_sig'].unique()[0],\n",
    "            'Nns':constants['Nns'],\n",
    "            'ep_ai':constants['ep_AI'],\n",
    "            'n_sites':constants['n_sites'],\n",
    "            'Ka_mu':prior_bounds['Ka_mu'],\n",
    "            'Ka_sig':prior_bounds['Ka_sig'],\n",
    "            'Ki_mu': prior_bounds['Ki_mu'],\n",
    "            'Ki_sig':prior_bounds['Ki_sig'],\n",
    "            'c':fit_data['IPTGuM'],\n",
    "            'fc':fit_data['fold_change']}\n",
    "fit, samples = model.sample(data_dict)\n",
    "\n",
    "# Compute the summary data\n",
    "summary = mut.stats.compute_statistics(samples[['Ka', 'Ki', 'R', 'ep_RA', 'sigma', 'lp__']], logprob_name='lp__')"
   ]
  },
  {
   "cell_type": "markdown",
   "metadata": {},
   "source": [
    "The sampling proceeded without a hitch (no divergences, well-mixed chains, and good effective sample sizes). We can now see how well this fit captures the data.  "
   ]
  },
  {
   "cell_type": "code",
   "execution_count": 61,
   "metadata": {},
   "outputs": [
    {
     "data": {
      "text/plain": [
       "<matplotlib.collections.PolyCollection at 0x1c241fdd30>"
      ]
     },
     "execution_count": 61,
     "metadata": {},
     "output_type": "execute_result"
    },
    {
     "data": {
      "image/png": "[encoded data removed]",
      "text/plain": [
       "<Figure size 660x440 with 1 Axes>"
      ]
     },
     "metadata": {},
     "output_type": "display_data"
    }
   ],
   "source": [
    "# Compute the credible region given the sampling statistics. \n",
    "c_range = np.logspace(-3, 4, 500)\n",
    "c_range[0] = 0\n",
    "cred_region = np.zeros((2, len(c_range)))\n",
    "for i, c in enumerate(c_range):\n",
    "    theo= mut.thermo.SimpleRepression(R=samples['R'], ep_r=samples['ep_RA'],\n",
    "                                      ka=samples['Ka'], ki=samples['Ki'],\n",
    "                                      ep_ai=constants['ep_AI'], \n",
    "                                      n_sites=constants['n_sites'],\n",
    "                                      effector_conc=c).fold_change()\n",
    "    cred_region[:, i] = mut.stats.compute_hpd(theo, 0.95)\n",
    "    \n",
    "    \n",
    "# Set up the figure \n",
    "fig, ax = plt.subplots(1, 1, figsize=(6, 4), dpi=110)\n",
    "ax.set_xscale('symlog')\n",
    "ax.set_xlabel(\"IPTG [µM]\")\n",
    "ax.set_ylabel(\"fold-change\")\n",
    "ax.set_ylim([-0.1, 1.2])\n",
    "\n",
    "# Plot all of the data\n",
    "ax.plot(fit_data['IPTGuM'], fit_data['fold_change'], '.', color=pboc['red'],\n",
    "        alpha=0.5)\n",
    "\n",
    "# Plot the summarized data. \n",
    "summarized = fit_data.groupby(['IPTGuM']).agg(('mean', 'std')).reset_index()\n",
    "ax.errorbar(summarized['IPTGuM'], summarized['fold_change']['mean'], \n",
    "            summarized['fold_change']['std'], fmt='.', markerfacecolor='w',\n",
    "           lw=1, linestyle='none', capsize=1, zorder=1000)\n",
    "\n",
    "# Plot the credible region. \n",
    "ax.fill_between(c_range, cred_region[0, :], cred_region[1, :], \n",
    "                color=pboc['red'], alpha=0.4)\n"
   ]
  },
  {
   "cell_type": "markdown",
   "metadata": {},
   "source": [
    "That looks like a pretty reasonable fit. Let's now try using the parameter estimates *only* from the  "
   ]
  }
 ],
 "metadata": {
  "kernelspec": {
   "display_name": "Python 3",
   "language": "python",
   "name": "python3"
  },
  "language_info": {
   "codemirror_mode": {
    "name": "ipython",
    "version": 3
   },
   "file_extension": ".py",
   "mimetype": "text/x-python",
   "name": "python",
   "nbconvert_exporter": "python",
   "pygments_lexer": "ipython3",
   "version": "3.6.7"
  }
 },
 "nbformat": 4,
 "nbformat_minor": 2
}
