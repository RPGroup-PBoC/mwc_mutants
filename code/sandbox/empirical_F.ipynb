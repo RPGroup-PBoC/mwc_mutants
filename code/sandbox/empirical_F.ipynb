{
 "cells": [
  {
   "cell_type": "markdown",
   "metadata": {},
   "source": [
    "# Inference of the Empirical Bohr Parameter\n",
    "\n",
    "© 2019 Griffin Chure. This work is licensed under a [Creative Commons Attribution License CC-BY 4.0](https://creativecommons.org/licenses/by/4.0/). All code contained herein is licensed under an [MIT license](https://opensource.org/licenses/MIT).\n",
    "\n",
    "--- "
   ]
  },
  {
   "cell_type": "code",
   "execution_count": 1,
   "metadata": {},
   "outputs": [
    {
     "data": {
      "text/html": [
       "\n",
       "    <div class=\"bk-root\">\n",
       "        <a href=\"https://bokeh.pydata.org\" target=\"_blank\" class=\"bk-logo bk-logo-small bk-logo-notebook\"></a>\n",
       "        <span id=\"1001\">Loading BokehJS ...</span>\n",
       "    </div>"
      ]
     },
     "metadata": {},
     "output_type": "display_data"
    },
    {
     "data": {
      "application/javascript": [
       "\n",
       "(function(root) {\n",
       "  function now() {\n",
       "    return new Date();\n",
       "  }\n",
       "\n",
       "  var force = true;\n",
       "\n",
       "  if (typeof (root._bokeh_onload_callbacks) === \"undefined\" || force === true) {\n",
       "    root._bokeh_onload_callbacks = [];\n",
       "    root._bokeh_is_loading = undefined;\n",
       "  }\n",
       "\n",
       "  var JS_MIME_TYPE = 'application/javascript';\n",
       "  var HTML_MIME_TYPE = 'text/html';\n",
       "  var EXEC_MIME_TYPE = 'application/vnd.bokehjs_exec.v0+json';\n",
       "  var CLASS_NAME = 'output_bokeh rendered_html';\n",
       "\n",
       "  /**\n",
       "   * Render data to the DOM node\n",
       "   */\n",
       "  function render(props, node) {\n",
       "    var script = document.createElement(\"script\");\n",
       "    node.appendChild(script);\n",
       "  }\n",
       "\n",
       "  /**\n",
       "   * Handle when an output is cleared or removed\n",
       "   */\n",
       "  function handleClearOutput(event, handle) {\n",
       "    var cell = handle.cell;\n",
       "\n",
       "    var id = cell.output_area._bokeh_element_id;\n",
       "    var server_id = cell.output_area._bokeh_server_id;\n",
       "    // Clean up Bokeh references\n",
       "    if (id != null && id in Bokeh.index) {\n",
       "      Bokeh.index[id].model.document.clear();\n",
       "      delete Bokeh.index[id];\n",
       "    }\n",
       "\n",
       "    if (server_id !== undefined) {\n",
       "      // Clean up Bokeh references\n",
       "      var cmd = \"from bokeh.io.state import curstate; print(curstate().uuid_to_server['\" + server_id + \"'].get_sessions()[0].document.roots[0]._id)\";\n",
       "      cell.notebook.kernel.execute(cmd, {\n",
       "        iopub: {\n",
       "          output: function(msg) {\n",
       "            var id = msg.content.text.trim();\n",
       "            if (id in Bokeh.index) {\n",
       "              Bokeh.index[id].model.document.clear();\n",
       "              delete Bokeh.index[id];\n",
       "            }\n",
       "          }\n",
       "        }\n",
       "      });\n",
       "      // Destroy server and session\n",
       "      var cmd = \"import bokeh.io.notebook as ion; ion.destroy_server('\" + server_id + \"')\";\n",
       "      cell.notebook.kernel.execute(cmd);\n",
       "    }\n",
       "  }\n",
       "\n",
       "  /**\n",
       "   * Handle when a new output is added\n",
       "   */\n",
       "  function handleAddOutput(event, handle) {\n",
       "    var output_area = handle.output_area;\n",
       "    var output = handle.output;\n",
       "\n",
       "    // limit handleAddOutput to display_data with EXEC_MIME_TYPE content only\n",
       "    if ((output.output_type != \"display_data\") || (!output.data.hasOwnProperty(EXEC_MIME_TYPE))) {\n",
       "      return\n",
       "    }\n",
       "\n",
       "    var toinsert = output_area.element.find(\".\" + CLASS_NAME.split(' ')[0]);\n",
       "\n",
       "    if (output.metadata[EXEC_MIME_TYPE][\"id\"] !== undefined) {\n",
       "      toinsert[toinsert.length - 1].firstChild.textContent = output.data[JS_MIME_TYPE];\n",
       "      // store reference to embed id on output_area\n",
       "      output_area._bokeh_element_id = output.metadata[EXEC_MIME_TYPE][\"id\"];\n",
       "    }\n",
       "    if (output.metadata[EXEC_MIME_TYPE][\"server_id\"] !== undefined) {\n",
       "      var bk_div = document.createElement(\"div\");\n",
       "      bk_div.innerHTML = output.data[HTML_MIME_TYPE];\n",
       "      var script_attrs = bk_div.children[0].attributes;\n",
       "      for (var i = 0; i < script_attrs.length; i++) {\n",
       "        toinsert[toinsert.length - 1].firstChild.setAttribute(script_attrs[i].name, script_attrs[i].value);\n",
       "      }\n",
       "      // store reference to server id on output_area\n",
       "      output_area._bokeh_server_id = output.metadata[EXEC_MIME_TYPE][\"server_id\"];\n",
       "    }\n",
       "  }\n",
       "\n",
       "  function register_renderer(events, OutputArea) {\n",
       "\n",
       "    function append_mime(data, metadata, element) {\n",
       "      // create a DOM node to render to\n",
       "      var toinsert = this.create_output_subarea(\n",
       "        metadata,\n",
       "        CLASS_NAME,\n",
       "        EXEC_MIME_TYPE\n",
       "      );\n",
       "      this.keyboard_manager.register_events(toinsert);\n",
       "      // Render to node\n",
       "      var props = {data: data, metadata: metadata[EXEC_MIME_TYPE]};\n",
       "      render(props, toinsert[toinsert.length - 1]);\n",
       "      element.append(toinsert);\n",
       "      return toinsert\n",
       "    }\n",
       "\n",
       "    /* Handle when an output is cleared or removed */\n",
       "    events.on('clear_output.CodeCell', handleClearOutput);\n",
       "    events.on('delete.Cell', handleClearOutput);\n",
       "\n",
       "    /* Handle when a new output is added */\n",
       "    events.on('output_added.OutputArea', handleAddOutput);\n",
       "\n",
       "    /**\n",
       "     * Register the mime type and append_mime function with output_area\n",
       "     */\n",
       "    OutputArea.prototype.register_mime_type(EXEC_MIME_TYPE, append_mime, {\n",
       "      /* Is output safe? */\n",
       "      safe: true,\n",
       "      /* Index of renderer in `output_area.display_order` */\n",
       "      index: 0\n",
       "    });\n",
       "  }\n",
       "\n",
       "  // register the mime type if in Jupyter Notebook environment and previously unregistered\n",
       "  if (root.Jupyter !== undefined) {\n",
       "    var events = require('base/js/events');\n",
       "    var OutputArea = require('notebook/js/outputarea').OutputArea;\n",
       "\n",
       "    if (OutputArea.prototype.mime_types().indexOf(EXEC_MIME_TYPE) == -1) {\n",
       "      register_renderer(events, OutputArea);\n",
       "    }\n",
       "  }\n",
       "\n",
       "  \n",
       "  if (typeof (root._bokeh_timeout) === \"undefined\" || force === true) {\n",
       "    root._bokeh_timeout = Date.now() + 5000;\n",
       "    root._bokeh_failed_load = false;\n",
       "  }\n",
       "\n",
       "  var NB_LOAD_WARNING = {'data': {'text/html':\n",
       "     \"<div style='background-color: #fdd'>\\n\"+\n",
       "     \"<p>\\n\"+\n",
       "     \"BokehJS does not appear to have successfully loaded. If loading BokehJS from CDN, this \\n\"+\n",
       "     \"may be due to a slow or bad network connection. Possible fixes:\\n\"+\n",
       "     \"</p>\\n\"+\n",
       "     \"<ul>\\n\"+\n",
       "     \"<li>re-rerun `output_notebook()` to attempt to load from CDN again, or</li>\\n\"+\n",
       "     \"<li>use INLINE resources instead, as so:</li>\\n\"+\n",
       "     \"</ul>\\n\"+\n",
       "     \"<code>\\n\"+\n",
       "     \"from bokeh.resources import INLINE\\n\"+\n",
       "     \"output_notebook(resources=INLINE)\\n\"+\n",
       "     \"</code>\\n\"+\n",
       "     \"</div>\"}};\n",
       "\n",
       "  function display_loaded() {\n",
       "    var el = document.getElementById(\"1001\");\n",
       "    if (el != null) {\n",
       "      el.textContent = \"BokehJS is loading...\";\n",
       "    }\n",
       "    if (root.Bokeh !== undefined) {\n",
       "      if (el != null) {\n",
       "        el.textContent = \"BokehJS \" + root.Bokeh.version + \" successfully loaded.\";\n",
       "      }\n",
       "    } else if (Date.now() < root._bokeh_timeout) {\n",
       "      setTimeout(display_loaded, 100)\n",
       "    }\n",
       "  }\n",
       "\n",
       "\n",
       "  function run_callbacks() {\n",
       "    try {\n",
       "      root._bokeh_onload_callbacks.forEach(function(callback) { callback() });\n",
       "    }\n",
       "    finally {\n",
       "      delete root._bokeh_onload_callbacks\n",
       "    }\n",
       "    console.info(\"Bokeh: all callbacks have finished\");\n",
       "  }\n",
       "\n",
       "  function load_libs(js_urls, callback) {\n",
       "    root._bokeh_onload_callbacks.push(callback);\n",
       "    if (root._bokeh_is_loading > 0) {\n",
       "      console.log(\"Bokeh: BokehJS is being loaded, scheduling callback at\", now());\n",
       "      return null;\n",
       "    }\n",
       "    if (js_urls == null || js_urls.length === 0) {\n",
       "      run_callbacks();\n",
       "      return null;\n",
       "    }\n",
       "    console.log(\"Bokeh: BokehJS not loaded, scheduling load and callback at\", now());\n",
       "    root._bokeh_is_loading = js_urls.length;\n",
       "    for (var i = 0; i < js_urls.length; i++) {\n",
       "      var url = js_urls[i];\n",
       "      var s = document.createElement('script');\n",
       "      s.src = url;\n",
       "      s.async = false;\n",
       "      s.onreadystatechange = s.onload = function() {\n",
       "        root._bokeh_is_loading--;\n",
       "        if (root._bokeh_is_loading === 0) {\n",
       "          console.log(\"Bokeh: all BokehJS libraries loaded\");\n",
       "          run_callbacks()\n",
       "        }\n",
       "      };\n",
       "      s.onerror = function() {\n",
       "        console.warn(\"failed to load library \" + url);\n",
       "      };\n",
       "      console.log(\"Bokeh: injecting script tag for BokehJS library: \", url);\n",
       "      document.getElementsByTagName(\"head\")[0].appendChild(s);\n",
       "    }\n",
       "  };var element = document.getElementById(\"1001\");\n",
       "  if (element == null) {\n",
       "    console.log(\"Bokeh: ERROR: autoload.js configured with elementid '1001' but no matching script tag was found. \")\n",
       "    return false;\n",
       "  }\n",
       "\n",
       "  var js_urls = [\"https://cdn.pydata.org/bokeh/release/bokeh-1.0.4.min.js\", \"https://cdn.pydata.org/bokeh/release/bokeh-widgets-1.0.4.min.js\", \"https://cdn.pydata.org/bokeh/release/bokeh-tables-1.0.4.min.js\", \"https://cdn.pydata.org/bokeh/release/bokeh-gl-1.0.4.min.js\"];\n",
       "\n",
       "  var inline_js = [\n",
       "    function(Bokeh) {\n",
       "      Bokeh.set_log_level(\"info\");\n",
       "    },\n",
       "    \n",
       "    function(Bokeh) {\n",
       "      \n",
       "    },\n",
       "    function(Bokeh) {\n",
       "      console.log(\"Bokeh: injecting CSS: https://cdn.pydata.org/bokeh/release/bokeh-1.0.4.min.css\");\n",
       "      Bokeh.embed.inject_css(\"https://cdn.pydata.org/bokeh/release/bokeh-1.0.4.min.css\");\n",
       "      console.log(\"Bokeh: injecting CSS: https://cdn.pydata.org/bokeh/release/bokeh-widgets-1.0.4.min.css\");\n",
       "      Bokeh.embed.inject_css(\"https://cdn.pydata.org/bokeh/release/bokeh-widgets-1.0.4.min.css\");\n",
       "      console.log(\"Bokeh: injecting CSS: https://cdn.pydata.org/bokeh/release/bokeh-tables-1.0.4.min.css\");\n",
       "      Bokeh.embed.inject_css(\"https://cdn.pydata.org/bokeh/release/bokeh-tables-1.0.4.min.css\");\n",
       "    }\n",
       "  ];\n",
       "\n",
       "  function run_inline_js() {\n",
       "    \n",
       "    if ((root.Bokeh !== undefined) || (force === true)) {\n",
       "      for (var i = 0; i < inline_js.length; i++) {\n",
       "        inline_js[i].call(root, root.Bokeh);\n",
       "      }if (force === true) {\n",
       "        display_loaded();\n",
       "      }} else if (Date.now() < root._bokeh_timeout) {\n",
       "      setTimeout(run_inline_js, 100);\n",
       "    } else if (!root._bokeh_failed_load) {\n",
       "      console.log(\"Bokeh: BokehJS failed to load within specified timeout.\");\n",
       "      root._bokeh_failed_load = true;\n",
       "    } else if (force !== true) {\n",
       "      var cell = $(document.getElementById(\"1001\")).parents('.cell').data().cell;\n",
       "      cell.output_area.append_execute_result(NB_LOAD_WARNING)\n",
       "    }\n",
       "\n",
       "  }\n",
       "\n",
       "  if (root._bokeh_is_loading === 0) {\n",
       "    console.log(\"Bokeh: BokehJS loaded, going straight to plotting\");\n",
       "    run_inline_js();\n",
       "  } else {\n",
       "    load_libs(js_urls, function() {\n",
       "      console.log(\"Bokeh: BokehJS plotting callback run at\", now());\n",
       "      run_inline_js();\n",
       "    });\n",
       "  }\n",
       "}(window));"
      ],
      "application/vnd.bokehjs_load.v0+json": "\n(function(root) {\n  function now() {\n    return new Date();\n  }\n\n  var force = true;\n\n  if (typeof (root._bokeh_onload_callbacks) === \"undefined\" || force === true) {\n    root._bokeh_onload_callbacks = [];\n    root._bokeh_is_loading = undefined;\n  }\n\n  \n\n  \n  if (typeof (root._bokeh_timeout) === \"undefined\" || force === true) {\n    root._bokeh_timeout = Date.now() + 5000;\n    root._bokeh_failed_load = false;\n  }\n\n  var NB_LOAD_WARNING = {'data': {'text/html':\n     \"<div style='background-color: #fdd'>\\n\"+\n     \"<p>\\n\"+\n     \"BokehJS does not appear to have successfully loaded. If loading BokehJS from CDN, this \\n\"+\n     \"may be due to a slow or bad network connection. Possible fixes:\\n\"+\n     \"</p>\\n\"+\n     \"<ul>\\n\"+\n     \"<li>re-rerun `output_notebook()` to attempt to load from CDN again, or</li>\\n\"+\n     \"<li>use INLINE resources instead, as so:</li>\\n\"+\n     \"</ul>\\n\"+\n     \"<code>\\n\"+\n     \"from bokeh.resources import INLINE\\n\"+\n     \"output_notebook(resources=INLINE)\\n\"+\n     \"</code>\\n\"+\n     \"</div>\"}};\n\n  function display_loaded() {\n    var el = document.getElementById(\"1001\");\n    if (el != null) {\n      el.textContent = \"BokehJS is loading...\";\n    }\n    if (root.Bokeh !== undefined) {\n      if (el != null) {\n        el.textContent = \"BokehJS \" + root.Bokeh.version + \" successfully loaded.\";\n      }\n    } else if (Date.now() < root._bokeh_timeout) {\n      setTimeout(display_loaded, 100)\n    }\n  }\n\n\n  function run_callbacks() {\n    try {\n      root._bokeh_onload_callbacks.forEach(function(callback) { callback() });\n    }\n    finally {\n      delete root._bokeh_onload_callbacks\n    }\n    console.info(\"Bokeh: all callbacks have finished\");\n  }\n\n  function load_libs(js_urls, callback) {\n    root._bokeh_onload_callbacks.push(callback);\n    if (root._bokeh_is_loading > 0) {\n      console.log(\"Bokeh: BokehJS is being loaded, scheduling callback at\", now());\n      return null;\n    }\n    if (js_urls == null || js_urls.length === 0) {\n      run_callbacks();\n      return null;\n    }\n    console.log(\"Bokeh: BokehJS not loaded, scheduling load and callback at\", now());\n    root._bokeh_is_loading = js_urls.length;\n    for (var i = 0; i < js_urls.length; i++) {\n      var url = js_urls[i];\n      var s = document.createElement('script');\n      s.src = url;\n      s.async = false;\n      s.onreadystatechange = s.onload = function() {\n        root._bokeh_is_loading--;\n        if (root._bokeh_is_loading === 0) {\n          console.log(\"Bokeh: all BokehJS libraries loaded\");\n          run_callbacks()\n        }\n      };\n      s.onerror = function() {\n        console.warn(\"failed to load library \" + url);\n      };\n      console.log(\"Bokeh: injecting script tag for BokehJS library: \", url);\n      document.getElementsByTagName(\"head\")[0].appendChild(s);\n    }\n  };var element = document.getElementById(\"1001\");\n  if (element == null) {\n    console.log(\"Bokeh: ERROR: autoload.js configured with elementid '1001' but no matching script tag was found. \")\n    return false;\n  }\n\n  var js_urls = [\"https://cdn.pydata.org/bokeh/release/bokeh-1.0.4.min.js\", \"https://cdn.pydata.org/bokeh/release/bokeh-widgets-1.0.4.min.js\", \"https://cdn.pydata.org/bokeh/release/bokeh-tables-1.0.4.min.js\", \"https://cdn.pydata.org/bokeh/release/bokeh-gl-1.0.4.min.js\"];\n\n  var inline_js = [\n    function(Bokeh) {\n      Bokeh.set_log_level(\"info\");\n    },\n    \n    function(Bokeh) {\n      \n    },\n    function(Bokeh) {\n      console.log(\"Bokeh: injecting CSS: https://cdn.pydata.org/bokeh/release/bokeh-1.0.4.min.css\");\n      Bokeh.embed.inject_css(\"https://cdn.pydata.org/bokeh/release/bokeh-1.0.4.min.css\");\n      console.log(\"Bokeh: injecting CSS: https://cdn.pydata.org/bokeh/release/bokeh-widgets-1.0.4.min.css\");\n      Bokeh.embed.inject_css(\"https://cdn.pydata.org/bokeh/release/bokeh-widgets-1.0.4.min.css\");\n      console.log(\"Bokeh: injecting CSS: https://cdn.pydata.org/bokeh/release/bokeh-tables-1.0.4.min.css\");\n      Bokeh.embed.inject_css(\"https://cdn.pydata.org/bokeh/release/bokeh-tables-1.0.4.min.css\");\n    }\n  ];\n\n  function run_inline_js() {\n    \n    if ((root.Bokeh !== undefined) || (force === true)) {\n      for (var i = 0; i < inline_js.length; i++) {\n        inline_js[i].call(root, root.Bokeh);\n      }if (force === true) {\n        display_loaded();\n      }} else if (Date.now() < root._bokeh_timeout) {\n      setTimeout(run_inline_js, 100);\n    } else if (!root._bokeh_failed_load) {\n      console.log(\"Bokeh: BokehJS failed to load within specified timeout.\");\n      root._bokeh_failed_load = true;\n    } else if (force !== true) {\n      var cell = $(document.getElementById(\"1001\")).parents('.cell').data().cell;\n      cell.output_area.append_execute_result(NB_LOAD_WARNING)\n    }\n\n  }\n\n  if (root._bokeh_is_loading === 0) {\n    console.log(\"Bokeh: BokehJS loaded, going straight to plotting\");\n    run_inline_js();\n  } else {\n    load_libs(js_urls, function() {\n      console.log(\"Bokeh: BokehJS plotting callback run at\", now());\n      run_inline_js();\n    });\n  }\n}(window));"
     },
     "metadata": {},
     "output_type": "display_data"
    }
   ],
   "source": [
    "import sys\n",
    "sys.path.insert(0, '../../')\n",
    "import numpy as np\n",
    "import pandas as pd\n",
    "import matplotlib.pyplot as plt\n",
    "import mut.thermo\n",
    "import mut.viz\n",
    "import altair as alt\n",
    "import pystan\n",
    "import bebi103.viz\n",
    "import bokeh.io\n",
    "bokeh.io.output_notebook()\n",
    "constants = mut.thermo.load_constants()\n",
    "colors = mut.viz.personal_style()\n",
    "%load_ext stanmagic"
   ]
  },
  {
   "cell_type": "markdown",
   "metadata": {},
   "source": [
    "The fold-change in gene expression can be written as\n",
    "\n",
    "$$\n",
    "\\text{fold-change}  = {1 \\over 1 + e^{\\beta F}}.\n",
    "$$\n",
    "\n",
    "Given a measurement of fold-change, the experimentally observed value for the Bohr parameter can be calculated as \n",
    "\n",
    "$$\n",
    "\\text{F_{meas}} = \\log\\left({1 \\over \\text{fold-change}} - 1\\right)\n",
    "$$\n",
    "\n",
    "For theoretical considerations, this formualtion is fine. Experimentally, however, it is possible to have measurements of fold-change $\\geq 1$ or $\\leq 0$ due to measurement noise. This makes inference of the empirical $\\Delta F$ difficult as $F_{meas}$ cannot be calculated directly. \n",
    "\n",
    "The purpose of this notebook is to work out some inferential scheme to determine the best estimate of $F_{meas}$."
   ]
  },
  {
   "cell_type": "code",
   "execution_count": 2,
   "metadata": {},
   "outputs": [
    {
     "data": {
      "application/vnd.vegalite.v2+json": {
       "$schema": "https://vega.github.io/schema/vega-lite/v2.6.0.json",
       "config": {
        "view": {
         "height": 300,
         "width": 400
        }
       },
       "datasets": {
        "data-871ad5bdb03937e5b3f7f4d2c52b921a": [
         {
          "IPTGuM": 0.1,
          "class": "DNA",
          "date": 20180131,
          "fold_change": 0.3024824962885258,
          "mutant": "Y20I",
          "operator": "O2",
          "repressors": 260,
          "username": "sbarnes"
         },
         {
          "IPTGuM": 5,
          "class": "DNA",
          "date": 20180131,
          "fold_change": 0.4182926535145968,
          "mutant": "Y20I",
          "operator": "O2",
          "repressors": 260,
          "username": "sbarnes"
         },
         {
          "IPTGuM": 10,
          "class": "DNA",
          "date": 20180131,
          "fold_change": 0.5532776164954781,
          "mutant": "Y20I",
          "operator": "O2",
          "repressors": 260,
          "username": "sbarnes"
         },
         {
          "IPTGuM": 25,
          "class": "DNA",
          "date": 20180131,
          "fold_change": 0.8674982168367578,
          "mutant": "Y20I",
          "operator": "O2",
          "repressors": 260,
          "username": "sbarnes"
         },
         {
          "IPTGuM": 50,
          "class": "DNA",
          "date": 20180131,
          "fold_change": 0.8695514375851838,
          "mutant": "Y20I",
          "operator": "O2",
          "repressors": 260,
          "username": "sbarnes"
         },
         {
          "IPTGuM": 75,
          "class": "DNA",
          "date": 20180131,
          "fold_change": 0.8975297521311094,
          "mutant": "Y20I",
          "operator": "O2",
          "repressors": 260,
          "username": "sbarnes"
         },
         {
          "IPTGuM": 100,
          "class": "DNA",
          "date": 20180131,
          "fold_change": 0.9978790949744176,
          "mutant": "Y20I",
          "operator": "O2",
          "repressors": 260,
          "username": "sbarnes"
         },
         {
          "IPTGuM": 250,
          "class": "DNA",
          "date": 20180131,
          "fold_change": 0.9828669244838796,
          "mutant": "Y20I",
          "operator": "O2",
          "repressors": 260,
          "username": "sbarnes"
         },
         {
          "IPTGuM": 500,
          "class": "DNA",
          "date": 20180131,
          "fold_change": 0.9936508468534896,
          "mutant": "Y20I",
          "operator": "O2",
          "repressors": 260,
          "username": "sbarnes"
         },
         {
          "IPTGuM": 1000,
          "class": "DNA",
          "date": 20180131,
          "fold_change": 0.9543838904831174,
          "mutant": "Y20I",
          "operator": "O2",
          "repressors": 260,
          "username": "sbarnes"
         },
         {
          "IPTGuM": 5000,
          "class": "DNA",
          "date": 20180131,
          "fold_change": 1.0113677858507195,
          "mutant": "Y20I",
          "operator": "O2",
          "repressors": 260,
          "username": "sbarnes"
         },
         {
          "IPTGuM": 0.1,
          "class": "DNA",
          "date": 20180226,
          "fold_change": 0.4778613933995414,
          "mutant": "Y20I",
          "operator": "O2",
          "repressors": 260,
          "username": "sbarnes"
         },
         {
          "IPTGuM": 5,
          "class": "DNA",
          "date": 20180226,
          "fold_change": 0.640978661699809,
          "mutant": "Y20I",
          "operator": "O2",
          "repressors": 260,
          "username": "sbarnes"
         },
         {
          "IPTGuM": 10,
          "class": "DNA",
          "date": 20180226,
          "fold_change": 0.7890364913101487,
          "mutant": "Y20I",
          "operator": "O2",
          "repressors": 260,
          "username": "sbarnes"
         },
         {
          "IPTGuM": 25,
          "class": "DNA",
          "date": 20180226,
          "fold_change": 0.9215101157246948,
          "mutant": "Y20I",
          "operator": "O2",
          "repressors": 260,
          "username": "sbarnes"
         },
         {
          "IPTGuM": 50,
          "class": "DNA",
          "date": 20180226,
          "fold_change": 0.9553373474849982,
          "mutant": "Y20I",
          "operator": "O2",
          "repressors": 260,
          "username": "sbarnes"
         },
         {
          "IPTGuM": 75,
          "class": "DNA",
          "date": 20180226,
          "fold_change": 0.9906802341449352,
          "mutant": "Y20I",
          "operator": "O2",
          "repressors": 260,
          "username": "sbarnes"
         },
         {
          "IPTGuM": 100,
          "class": "DNA",
          "date": 20180226,
          "fold_change": 0.9801589446997206,
          "mutant": "Y20I",
          "operator": "O2",
          "repressors": 260,
          "username": "sbarnes"
         },
         {
          "IPTGuM": 250,
          "class": "DNA",
          "date": 20180226,
          "fold_change": 0.9948860700628293,
          "mutant": "Y20I",
          "operator": "O2",
          "repressors": 260,
          "username": "sbarnes"
         },
         {
          "IPTGuM": 500,
          "class": "DNA",
          "date": 20180226,
          "fold_change": 1.0055260951163525,
          "mutant": "Y20I",
          "operator": "O2",
          "repressors": 260,
          "username": "sbarnes"
         },
         {
          "IPTGuM": 1000,
          "class": "DNA",
          "date": 20180226,
          "fold_change": 0.9911455457625892,
          "mutant": "Y20I",
          "operator": "O2",
          "repressors": 260,
          "username": "sbarnes"
         },
         {
          "IPTGuM": 5000,
          "class": "DNA",
          "date": 20180226,
          "fold_change": 1.0152934020940056,
          "mutant": "Y20I",
          "operator": "O2",
          "repressors": 260,
          "username": "sbarnes"
         },
         {
          "IPTGuM": 0.1,
          "class": "DNA",
          "date": 20180126,
          "fold_change": 0.4795379518369428,
          "mutant": "Y20I",
          "operator": "O2",
          "repressors": 260,
          "username": "sbarnes"
         },
         {
          "IPTGuM": 5,
          "class": "DNA",
          "date": 20180126,
          "fold_change": 0.7447707591323928,
          "mutant": "Y20I",
          "operator": "O2",
          "repressors": 260,
          "username": "sbarnes"
         },
         {
          "IPTGuM": 10,
          "class": "DNA",
          "date": 20180126,
          "fold_change": 0.8777766064310577,
          "mutant": "Y20I",
          "operator": "O2",
          "repressors": 260,
          "username": "sbarnes"
         },
         {
          "IPTGuM": 25,
          "class": "DNA",
          "date": 20180126,
          "fold_change": 0.916181562950252,
          "mutant": "Y20I",
          "operator": "O2",
          "repressors": 260,
          "username": "sbarnes"
         },
         {
          "IPTGuM": 50,
          "class": "DNA",
          "date": 20180126,
          "fold_change": 1.0024862389743998,
          "mutant": "Y20I",
          "operator": "O2",
          "repressors": 260,
          "username": "sbarnes"
         },
         {
          "IPTGuM": 75,
          "class": "DNA",
          "date": 20180126,
          "fold_change": 1.1128197609730992,
          "mutant": "Y20I",
          "operator": "O2",
          "repressors": 260,
          "username": "sbarnes"
         },
         {
          "IPTGuM": 100,
          "class": "DNA",
          "date": 20180126,
          "fold_change": 0.9675014426458728,
          "mutant": "Y20I",
          "operator": "O2",
          "repressors": 260,
          "username": "sbarnes"
         },
         {
          "IPTGuM": 250,
          "class": "DNA",
          "date": 20180126,
          "fold_change": 1.0069548009629423,
          "mutant": "Y20I",
          "operator": "O2",
          "repressors": 260,
          "username": "sbarnes"
         },
         {
          "IPTGuM": 500,
          "class": "DNA",
          "date": 20180126,
          "fold_change": 0.9980367947138508,
          "mutant": "Y20I",
          "operator": "O2",
          "repressors": 260,
          "username": "sbarnes"
         },
         {
          "IPTGuM": 1000,
          "class": "DNA",
          "date": 20180126,
          "fold_change": 0.9452196258725984,
          "mutant": "Y20I",
          "operator": "O2",
          "repressors": 260,
          "username": "sbarnes"
         },
         {
          "IPTGuM": 5000,
          "class": "DNA",
          "date": 20180126,
          "fold_change": 0.9781424036075442,
          "mutant": "Y20I",
          "operator": "O2",
          "repressors": 260,
          "username": "sbarnes"
         },
         {
          "IPTGuM": 0.1,
          "class": "DNA",
          "date": 20180223,
          "fold_change": 0.4926597070475874,
          "mutant": "Y20I",
          "operator": "O2",
          "repressors": 260,
          "username": "sbarnes"
         },
         {
          "IPTGuM": 5,
          "class": "DNA",
          "date": 20180223,
          "fold_change": 0.7579848832538615,
          "mutant": "Y20I",
          "operator": "O2",
          "repressors": 260,
          "username": "sbarnes"
         },
         {
          "IPTGuM": 10,
          "class": "DNA",
          "date": 20180223,
          "fold_change": 0.807723414518132,
          "mutant": "Y20I",
          "operator": "O2",
          "repressors": 260,
          "username": "sbarnes"
         },
         {
          "IPTGuM": 25,
          "class": "DNA",
          "date": 20180223,
          "fold_change": 0.9934232727201808,
          "mutant": "Y20I",
          "operator": "O2",
          "repressors": 260,
          "username": "sbarnes"
         },
         {
          "IPTGuM": 100,
          "class": "DNA",
          "date": 20180223,
          "fold_change": 1.0036930859161122,
          "mutant": "Y20I",
          "operator": "O2",
          "repressors": 260,
          "username": "sbarnes"
         },
         {
          "IPTGuM": 250,
          "class": "DNA",
          "date": 20180223,
          "fold_change": 1.0497923801233129,
          "mutant": "Y20I",
          "operator": "O2",
          "repressors": 260,
          "username": "sbarnes"
         },
         {
          "IPTGuM": 500,
          "class": "DNA",
          "date": 20180223,
          "fold_change": 1.024073687256648,
          "mutant": "Y20I",
          "operator": "O2",
          "repressors": 260,
          "username": "sbarnes"
         },
         {
          "IPTGuM": 1000,
          "class": "DNA",
          "date": 20180223,
          "fold_change": 1.0389258079665116,
          "mutant": "Y20I",
          "operator": "O2",
          "repressors": 260,
          "username": "sbarnes"
         },
         {
          "IPTGuM": 5000,
          "class": "DNA",
          "date": 20180223,
          "fold_change": 1.0669025065817364,
          "mutant": "Y20I",
          "operator": "O2",
          "repressors": 260,
          "username": "sbarnes"
         }
        ]
       },
       "layer": [
        {
         "data": {
          "name": "data-871ad5bdb03937e5b3f7f4d2c52b921a"
         },
         "encoding": {
          "color": {
           "field": "date",
           "type": "nominal"
          },
          "x": {
           "field": "IPTGuM",
           "scale": {
            "type": "log"
           },
           "type": "quantitative"
          },
          "y": {
           "field": "fold_change",
           "type": "quantitative"
          }
         },
         "mark": {
          "filled": true,
          "type": "point"
         }
        },
        {
         "data": {
          "name": "data-871ad5bdb03937e5b3f7f4d2c52b921a"
         },
         "encoding": {
          "color": {
           "field": "date",
           "type": "nominal"
          },
          "x": {
           "field": "IPTGuM",
           "type": "quantitative"
          },
          "y": {
           "field": "fold_change",
           "type": "quantitative"
          }
         },
         "mark": "line"
        }
       ]
      },
      "image/png": "[encoded data removed]",
      "text/plain": [
       "<VegaLite 2 object>\n",
       "\n",
       "If you see this message, it means the renderer has not been properly enabled\n",
       "for the frontend that you are using. For more information, see\n",
       "https://altair-viz.github.io/user_guide/troubleshooting.html\n"
      ]
     },
     "execution_count": 2,
     "metadata": {},
     "output_type": "execute_result"
    }
   ],
   "source": [
    "# Load the data and isolate a representative mutant. \n",
    "data = pd.read_csv('../../data/csv/compiled_data.csv')\n",
    "Y20I = data[(data['mutant']=='Y20I') & (data['repressors'] == 260) & (data['operator']=='O2')]\n",
    "\n",
    "# Plot the data set to see if it makes sense. \n",
    "Y20I_chart = alt.Chart(data=Y20I[Y20I['IPTGuM'] > 0])\n",
    "Y20I_points = Y20I_chart.mark_point(filled=True).encode( \n",
    "    x=alt.X('IPTGuM:Q', scale={'type':'log'}), \n",
    "    y='fold_change:Q', color='date:N')\n",
    "\n",
    "Y20I_lines = Y20I_chart.mark_line().encode(\n",
    "    x='IPTGuM:Q', y='fold_change:Q', color='date:N')\n",
    "\n",
    "Y20I_points + Y20I_lines"
   ]
  },
  {
   "cell_type": "code",
   "execution_count": 3,
   "metadata": {},
   "outputs": [
    {
     "name": "stdout",
     "output_type": "stream",
     "text": [
      "Using pystan.stanc compiler..\n",
      "-------------------------------------------------------------------------------\n",
      "Model compiled successfully. Output stored in empirical_F object.\n",
      "Type empirical_F in a cell to see a nicely formatted code output in a notebook\n",
      "     ^^^^^^^^^^^\n",
      "Access model compile output properties\n",
      "empirical_F.model_file -> Name of stan_file [None]\n",
      "empirical_F.model_name -> Name of stan model [None]\n",
      "empirical_F.model_code -> Model code [data {     int<lower ....]\n"
     ]
    }
   ],
   "source": [
    "%%stan -v empirical_F\n",
    "data {\n",
    "    int<lower=1> N; // Number of measurements\n",
    "    int<lower=1> J; // Number of IPTG concentrations\n",
    "    int<lower=1, upper=J> idx[N]; // ID vector for IPTG concentration\n",
    "    vector[N] fc;\n",
    "}\n",
    "\n",
    "parameters {\n",
    "    vector<lower=0, upper=1>[J] fc_mu;\n",
    "    real<lower=0> sigma; \n",
    "}\n",
    "\n",
    "model { \n",
    "    // Set the priors. \n",
    "    fc_mu ~ uniform(0, 1);\n",
    "    sigma ~ normal(0, 0.1);    \n",
    "    fc[idx] ~ normal(fc_mu[idx], sigma);\n",
    "}\n",
    "\n",
    "generated quantities {\n",
    "    real F[J];\n",
    "    for (i in 1:J) {\n",
    "        F[i] = log((1/fc_mu[i]) - 1);\n",
    "    }\n",
    "}"
   ]
  },
  {
   "cell_type": "code",
   "execution_count": null,
   "metadata": {},
   "outputs": [],
   "source": [
    "model = pystan.StanModel(model_code=empirical_F.model_code)"
   ]
  },
  {
   "cell_type": "code",
   "execution_count": 5,
   "metadata": {},
   "outputs": [
    {
     "name": "stderr",
     "output_type": "stream",
     "text": [
      "/anaconda3/lib/python3.6/site-packages/ipykernel_launcher.py:1: SettingWithCopyWarning: \n",
      "A value is trying to be set on a copy of a slice from a DataFrame.\n",
      "Try using .loc[row_indexer,col_indexer] = value instead\n",
      "\n",
      "See the caveats in the documentation: http://pandas.pydata.org/pandas-docs/stable/indexing.html#indexing-view-versus-copy\n",
      "  \"\"\"Entry point for launching an IPython kernel.\n"
     ]
    }
   ],
   "source": [
    "Y20I['idx'] = Y20I.groupby(['IPTGuM']).ngroup() + 1\n",
    "data_dict = {'N':len(Y20I), 'J':Y20I['idx'].max(), 'idx':Y20I['idx'], 'fc':Y20I['fold_change']}\n",
    "sampling = model.sampling(data_dict)"
   ]
  },
  {
   "cell_type": "code",
   "execution_count": 6,
   "metadata": {},
   "outputs": [],
   "source": [
    "# Define the reference architecture. \n",
    "c_0 = 50\n",
    "ref = mut.thermo.SimpleRepression(R= Y20I['repressors'],\n",
    "                                      ep_r=constants['O2'],\n",
    "                                      ka=constants['Ka'],\n",
    "                                      ki = constants['Ki'],\n",
    "                                      ep_ai = constants['ep_AI'],\n",
    "                                      effector_conc=c_0)"
   ]
  },
  {
   "cell_type": "code",
   "execution_count": 8,
   "metadata": {},
   "outputs": [
    {
     "data": {
      "text/plain": [
       "Inference for Stan model: anon_model_fe7ef79eb64095cf1f50ae9b90d2b161.\n",
       "4 chains, each with iter=2000; warmup=1000; thin=1; \n",
       "post-warmup draws per chain=1000, total post-warmup draws=4000.\n",
       "\n",
       "            mean se_mean     sd   2.5%    25%    50%    75%  97.5%  n_eff   Rhat\n",
       "fc_mu[1]     0.5  3.1e-5 2.1e-3    0.5    0.5    0.5   0.51   0.51   4490    1.0\n",
       "fc_mu[2]     0.3  3.2e-5 2.1e-3    0.3    0.3    0.3    0.3   0.31   4333    1.0\n",
       "fc_mu[3]    0.42  3.0e-5 2.0e-3   0.41   0.42   0.42   0.42   0.42   4583    1.0\n",
       "fc_mu[4]    0.55  3.0e-5 2.1e-3   0.55   0.55   0.55   0.55   0.56   4724    1.0\n",
       "fc_mu[5]    0.87  3.3e-5 2.1e-3   0.86   0.87   0.87   0.87   0.87   4018    1.0\n",
       "fc_mu[6]    0.87  4.0e-5 2.4e-3   0.86   0.87   0.87   0.87   0.87   3728    1.0\n",
       "fc_mu[7]     0.9  3.5e-5 2.3e-3   0.89    0.9    0.9    0.9    0.9   4476    1.0\n",
       "fc_mu[8]     1.0  2.5e-5 1.6e-3   0.99    1.0    1.0    1.0    1.0   4236    1.0\n",
       "fc_mu[9]    0.98  3.5e-5 2.0e-3   0.98   0.98   0.98   0.98   0.99   3454    1.0\n",
       "fc_mu[10]   0.99  4.0e-5 2.0e-3   0.99   0.99   0.99   0.99    1.0   2476    1.0\n",
       "fc_mu[11]   0.95  3.3e-5 2.1e-3   0.95   0.95   0.95   0.96   0.96   3988    1.0\n",
       "fc_mu[12]    1.0  5.1e-6 3.7e-4    1.0    1.0    1.0    1.0    1.0   5177    1.0\n",
       "sigma     4.1e-3  1.1e-5 5.3e-4 3.2e-3 3.7e-3 4.0e-3 4.4e-3 5.3e-3   2519    1.0\n",
       "F[1]       -0.02  1.2e-4 8.4e-3  -0.03  -0.02  -0.02  -0.01-1.3e-3   4490    1.0\n",
       "F[2]        0.84  1.5e-4 9.9e-3   0.82   0.83   0.84   0.84   0.85   4331    1.0\n",
       "F[3]        0.33  1.2e-4 8.4e-3   0.31   0.32   0.33   0.34   0.35   4581    1.0\n",
       "F[4]       -0.21  1.2e-4 8.4e-3  -0.23  -0.22  -0.21  -0.21   -0.2   4723    1.0\n",
       "F[5]       -1.88  2.8e-4   0.02  -1.92  -1.89  -1.88  -1.87  -1.84   3991    1.0\n",
       "F[6]        -1.9  3.5e-4   0.02  -1.94  -1.91   -1.9  -1.88  -1.86   3722    1.0\n",
       "F[7]       -2.17  3.8e-4   0.03  -2.22  -2.19  -2.17  -2.15  -2.12   4477    1.0\n",
       "F[8]       -6.17    0.02   0.84  -8.34  -6.54  -5.99  -5.58  -5.07   2321    1.0\n",
       "F[9]       -4.06  2.2e-3   0.12  -4.33  -4.13  -4.05  -3.97  -3.84   3093    1.0\n",
       "F[10]      -5.11    0.01   0.39  -5.97  -5.28  -5.06  -4.86  -4.57    956    1.0\n",
       "F[11]      -3.04  7.5e-4   0.05  -3.14  -3.07  -3.04  -3.01  -2.95   3965    1.0\n",
       "F[12]      -8.56    0.03   1.34 -11.78  -9.24  -8.35  -7.63  -6.58   2366    1.0\n",
       "lp__      185.72    0.09   3.03 178.88 184.01 186.07  187.9 190.45   1198    1.0\n",
       "\n",
       "Samples were drawn using NUTS at Mon Feb 25 09:53:06 2019.\n",
       "For each parameter, n_eff is a crude measure of effective sample size,\n",
       "and Rhat is the potential scale reduction factor on split chains (at \n",
       "convergence, Rhat=1)."
      ]
     },
     "execution_count": 8,
     "metadata": {},
     "output_type": "execute_result"
    }
   ],
   "source": [
    "sampling"
   ]
  },
  {
   "cell_type": "code",
   "execution_count": null,
   "metadata": {},
   "outputs": [],
   "source": [
    "# Generate the dataframe\n",
    "df = sampling.to_dataframe()\n",
    "\n",
    "# map IDX to IPTG concentration\n",
    "idx_key = {idx:iptg for idx, iptg in zip(Y20I['idx'].unique(), Y20I['IPTGuM'].unique())}\n",
    "\n",
    "# Plot the ECDFs for each measured F and fc_mu\n",
    "fig, ax = plt.subplots(2, 1, figsize=(6, 4))\n",
    "ax[0].set_xlabel('$\\mu_\\mathrm{fc}$')\n",
    "ax[0].set_ylabel('cumulative distribution')\n",
    "ax[1].set_xlabel('$F_\\mathrm{measured}$ [$k_BT$]')\n",
    "ax[1].set_ylabel('cumulative distribution')\n",
    "for i in range(1, 12):\n",
    "    fc = np.sort(df[f'fc_mu[{i}]'])\n",
    "    F = np.sort(df[f'F[{i}]'])\n",
    "    y = np.arange(0, len(df), 1) / len(df)    \n",
    "    ax[0].step(fc, y, label=idx_key[i])\n",
    "    ax[1].step(F, y, label=idx_key[i])\n",
    "plt.tight_layout() \n",
    "plt.savefig('ecdfs.png', bbox_inches='tight')"
   ]
  },
  {
   "cell_type": "code",
   "execution_count": null,
   "metadata": {},
   "outputs": [],
   "source": [
    "# Define the reference architecture. \n",
    "c_0 = 50\n",
    "ref = mut.thermo.SimpleRepression(R= Y20I['repressors'],\n",
    "                                      ep_r=constants['O2'],\n",
    "                                      ka=constants['Ka'],\n",
    "                                      ki = constants['Ki'],\n",
    "                                      ep_ai = constants['ep_AI'],\n",
    "                                      effector_conc=c_0)\n",
    "\n",
    "wt = mut.thermo.SimpleRepression(R= Y20I['repressors'].unique(),\n",
    "                                      ep_r=constants['O2'],\n",
    "                                      ka=constants['Ka'],\n",
    "                                      ki = constants['Ki'],\n",
    "                                      ep_ai = constants['ep_AI'],\n",
    "                                      effector_conc=Y20I['IPTGuM'].unique())\n",
    "# Compute the empirical ddf. \n",
    "mean_df = df.mean()\n",
    "empirical_df = -ref.bohr_parameter().unique() - mean_df\n",
    "f_vars = [f'F[{i+1}]' for i in range(12)]\n",
    "\n",
    "# Generate the data frame. \n",
    "summ_df = pd.DataFrame([], columns=['empirical_df', 'ddf', 'IPTGuM'])\n",
    "summ_df['empirical_df'] = mean_df[f_vars]\n",
    "summ_df['IPTGuM'] = Y20I['IPTGuM'].unique()\n",
    "summ_df['ddf'] = summ_df['empirical_df'] - (-wt.bohr_parameter())"
   ]
  },
  {
   "cell_type": "code",
   "execution_count": null,
   "metadata": {},
   "outputs": [],
   "source": [
    "plt.semilogx(summ_df['IPTGuM'], summ_df['ddf'], '-o')\n",
    "plt.ylim([-8, 8])"
   ]
  },
  {
   "cell_type": "markdown",
   "metadata": {},
   "source": [
    "Applying this to other mutants suggests this won't work. Can we infer $F$? "
   ]
  },
  {
   "cell_type": "code",
   "execution_count": null,
   "metadata": {},
   "outputs": [],
   "source": []
  }
 ],
 "metadata": {
  "kernelspec": {
   "display_name": "Python 3",
   "language": "python",
   "name": "python3"
  },
  "language_info": {
   "codemirror_mode": {
    "name": "ipython",
    "version": 3
   },
   "file_extension": ".py",
   "mimetype": "text/x-python",
   "name": "python",
   "nbconvert_exporter": "python",
   "pygments_lexer": "ipython3",
   "version": "3.6.7"
  }
 },
 "nbformat": 4,
 "nbformat_minor": 2
}
