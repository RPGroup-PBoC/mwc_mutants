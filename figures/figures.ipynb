{
 "cells": [
  {
   "cell_type": "markdown",
   "metadata": {},
   "source": [
    "# Figures"
   ]
  },
  {
   "cell_type": "code",
   "execution_count": 2,
   "metadata": {},
   "outputs": [],
   "source": [
    "import sys\n",
    "import numpy as np\n",
    "import pandas as pd\n",
    "import matplotlib.pyplot as plt\n",
    "sys.path.insert(0, '../')\n",
    "import mut.stats\n",
    "import mut.thermo\n",
    "import mut.viz\n",
    "pboc_colors = mut.viz.color_selector('pboc')\n",
    "mut_colors = mut.viz.color_selector('mut')\n",
    "mut.viz.plotting_style()\n",
    "%matplotlib inline"
   ]
  },
  {
   "cell_type": "markdown",
   "metadata": {},
   "source": [
    "## Parsing and cleaning of data"
   ]
  },
  {
   "cell_type": "code",
   "execution_count": 8,
   "metadata": {},
   "outputs": [],
   "source": [
    "data = pd.read_csv('../data/csv/compiled_data.csv')"
   ]
  },
  {
   "cell_type": "markdown",
   "metadata": {},
   "source": [
    "##  Figure 2 - DNA Binding Energy via Leakiness Measurements"
   ]
  },
  {
   "cell_type": "code",
   "execution_count": 11,
   "metadata": {},
   "outputs": [],
   "source": [
    "# Isolate \n",
    "DNA_data = data[(data['class'] != 'IND') & (data['operator'] == 'O2') &\n",
    "                (data['class'] != 'DBL')]\n",
    "\n",
    "# Compute the mean and error for points. \n",
    "DNA_mean_sem = pd.DataFrame(DNA_data.groupby(['mutant', 'repressors', \n",
    "                          'IPTGuM']).apply(mut.stats.compute_mean_sem)).reset_index()\n",
    "\n",
    "# Load sampling data\n",
    "samples = pd.read_csv('../data/csv/DNA_binding_energy_samples.csv')"
   ]
  },
  {
   "cell_type": "code",
   "execution_count": 24,
   "metadata": {},
   "outputs": [
    {
     "name": "stderr",
     "output_type": "stream",
     "text": [
      "/anaconda3/lib/python3.6/site-packages/matplotlib/ticker.py:2198: UserWarning: Data has no positive values, and therefore cannot be log-scaled.\n",
      "  \"Data has no positive values, and therefore cannot be \"\n",
      "/anaconda3/lib/python3.6/site-packages/matplotlib/ticker.py:2198: UserWarning: Data has no positive values, and therefore cannot be log-scaled.\n",
      "  \"Data has no positive values, and therefore cannot be \"\n",
      "/anaconda3/lib/python3.6/site-packages/matplotlib/axes/_base.py:3124: UserWarning: Attempting to set identical left==right results\n",
      "in singular transformations; automatically expanding.\n",
      "left=1e-07, right=1e-07\n",
      "  'left=%s, right=%s') % (left, right))\n",
      "/anaconda3/lib/python3.6/site-packages/matplotlib/axes/_base.py:3124: UserWarning: Attempting to set identical left==right results\n",
      "in singular transformations; automatically expanding.\n",
      "left=1e-07, right=1e-07\n",
      "  'left=%s, right=%s') % (left, right))\n"
     ]
    },
    {
     "data": {
      "image/png": "[encoded data removed]",
      "text/plain": [
       "<Figure size 324x324 with 4 Axes>"
      ]
     },
     "metadata": {},
     "output_type": "display_data"
    }
   ],
   "source": [
    "# Instantiate the figure canvas. \n",
    "fig, ax = plt.subplots(2, 2, figsize=(4.5, 4.5))\n",
    "\n",
    "# Format the appropriate axes. \n",
    "ax[0,0].set_axis_off()\n",
    "ax[0, 1].set_yscale('log')\n",
    "\n",
    "for a in ax.ravel():\n",
    "    a.set_xscale('log')\n",
    "    a.set_yscale('log')\n",
    "    a.xaxis.set_tick_params(labelsize=8)\n",
    "    a.yaxis.set_tick_params(labelsize=8)\n",
    "\n",
    "#\n",
    "\n",
    "# Compute the most-likely parameter values for DNA binding energy\n",
    "muts = DNA_data['mutant'].unique()\n",
    "mode = samples.iloc[np.argmax(samples['logp'].values)]\n",
    "\n",
    "# Define the repressor copy number range for plotting \n",
    "rep_range = np.logspace(0, 4, 500)\n",
    "for i, m in enumerate(muts):\n",
    "    if m == 'wt':\n",
    "        ep_RA = -13.9\n",
    "        color='k'\n",
    "    else:\n",
    "        ep_RA = mode['ep_RA.{}'.format(m)]\n",
    "        color=mut_colors[m]\n",
    "\n",
    "        \n",
    "    # Compute the best fit line\n",
    "    best_fit = mut.thermo.SimpleRepression(rep_range, ep_r=ep_RA, effector_conc=0, ep_ai=4.5, \n",
    "                n_sites=2, ka=1, ki=1).fold_change()\n",
    "    ax[0,1].plot(rep_range, best_fit,  color=color)   \n",
    "        \n",
    "    # Compute the credible regions.\n",
    "    if m != 'wt':\n",
    "        cred_region = np.zeros((2, len(rep_range)))\n",
    "        for j, r in enumerate(rep_range):\n",
    "            cred = mut.thermo.SimpleRepression(r, ep_r=samples['ep_RA.{}'.format(m)], effector_conc=0,\n",
    "                                              ep_ai=4.5, n_sites=2, ka=1, ki=1).fold_change()\n",
    "            cred_region[:, j] = mut.stats.compute_hpd(cred, mass_frac=0.95)\n",
    "        \n",
    "        # Plot the shaded credible regions.\n",
    "        _ = ax[0, 1].fill_between(rep_range, cred_region[0, :], cred_region[1, :], \n",
    "                                  color=mut_colors[m], alpha=0.3)\n",
    "\n",
    "# Plot the leakiness, and titration data. \n",
    "grouped = DNA_mean_sem[DNA_mean_sem['IPTGuM']==0].groupby('mutant')\n",
    "for g, d in grouped:\n",
    "    if g== 'wt':\n",
    "        label='WT'\n",
    "        color='k'\n",
    "    else:\n",
    "        label=g\n",
    "        color=mut_colors[g]\n",
    "    _ = ax[0, 1].errorbar(d['repressors'], d['mean'], d['sem'], fmt='.', linestyle='none',\n",
    "                     lw=1, color=color, label=label)\n",
    "_ = ax[0, 1].legend(fontsize=8, ncol=1, loc='lower left')\n",
    "plt.tight_layout()\n",
    "\n",
    "\n",
    "# Plot the IPTG induction curves. \n",
    "c_range = np.logspace(-8, -2, 500)\n",
    "\n",
    "for g, d in DNA_mean_sem[DNA_mean_sem['repressors']==260].groupby(['mutant', 'IPTGuM']):\n",
    "    if g[0] == 'wt':\n",
    "        label = 'WT'\n",
    "        color = 'k'\n",
    "    else:\n",
    "        label = g[0]\n",
    "        color = mut_colors[g[0]]\n",
    "    ax[1, 0].errorbar(d['IPTGuM'] / 1E6, d['mean'], d['sem'], lw=1, linestyle='none',\n",
    "                     fmt='.', color=color, label=label, ms=4)\n",
    "   \n",
    "for i, m in enumerate(muts):\n",
    "    if m == 'wt':\n",
    "        ep_RA=-13.9\n",
    "        color='k'\n",
    "    else:\n",
    "        ep_RA = mode['ep_RA.{}'.format(m)]\n",
    "        color = mut_colors[m]\n",
    "    \n",
    "    best_fit = mut.thermo.SimpleRepression(R=260, ep_r=ep_RA, ka=139E-6, ki=0.53E-6, effector_conc=c_range,\n",
    "                                          ep_ai=4.5, n_sites=2).fold_change()\n",
    "    \n",
    "    if m!='wt': \n",
    "        # Compute the credible regions. \n",
    "        cred_region = np.zeros((2, len(c_range)))\n",
    "        for j, c in enumerate(c_range):\n",
    "            cred = mut.thermo.SimpleRepression(R=260, ep_r=samples['ep_RA.{}'.format(m)], effector_conc=c,\n",
    "                                              ka=139E-6, ki=0.53E-6, n_sites=2, ep_ai=4.5).fold_change()\n",
    "            cred_region[:, j] = mut.stats.compute_hpd(cred, 0.95)\n",
    "        ax[1, 0].fill_between(c_range, cred_region[0, :], cred_region[1, :], alpha=0.3, color=mut_colors[m]) \n",
    "        \n",
    "    ax[1, 0].plot(c_range, best_fit, lw=1, color=color)\n",
    "    "
   ]
  },
  {
   "cell_type": "code",
   "execution_count": null,
   "metadata": {},
   "outputs": [],
   "source": [
    "\n"
   ]
  }
 ],
 "metadata": {
  "kernelspec": {
   "display_name": "Python 3",
   "language": "python",
   "name": "python3"
  },
  "language_info": {
   "codemirror_mode": {
    "name": "ipython",
    "version": 3
   },
   "file_extension": ".py",
   "mimetype": "text/x-python",
   "name": "python",
   "nbconvert_exporter": "python",
   "pygments_lexer": "ipython3",
   "version": "3.6.6"
  }
 },
 "nbformat": 4,
 "nbformat_minor": 2
}
